{
 "cells": [
  {
   "cell_type": "code",
   "execution_count": 1,
   "metadata": {},
   "outputs": [
    {
     "data": {
      "text/html": [
       "        <script type=\"text/javascript\">\n",
       "        window.PlotlyConfig = {MathJaxConfig: 'local'};\n",
       "        if (window.MathJax) {MathJax.Hub.Config({SVG: {font: \"STIX-Web\"}});}\n",
       "        if (typeof require !== 'undefined') {\n",
       "        require.undef(\"plotly\");\n",
       "        requirejs.config({\n",
       "            paths: {\n",
       "                'plotly': ['https://cdn.plot.ly/plotly-latest.min']\n",
       "            }\n",
       "        });\n",
       "        require(['plotly'], function(Plotly) {\n",
       "            window._Plotly = Plotly;\n",
       "        });\n",
       "        }\n",
       "        </script>\n",
       "        "
      ]
     },
     "metadata": {},
     "output_type": "display_data"
    }
   ],
   "source": [
    "import pandas_profiling\n",
    "import numpy as np\n",
    "import pandas as pd\n",
    "import seaborn as sns\n",
    "\n",
    "import matplotlib.pyplot as plt\n",
    "import plotly.offline as py\n",
    "py.init_notebook_mode(connected=True)\n",
    "import plotly.graph_objs as go\n",
    "import plotly.subplots as sbl\n",
    "\n",
    "from sklearn.ensemble import RandomForestClassifier, GradientBoostingClassifier\n",
    "from sklearn.metrics import (accuracy_score, log_loss, classification_report, confusion_matrix, \n",
    "precision_score, roc_auc_score, recall_score, roc_curve, precision_recall_curve)\n"
   ]
  },
  {
   "cell_type": "code",
   "execution_count": 2,
   "metadata": {},
   "outputs": [
    {
     "data": {
      "text/plain": [
       "(2466, 21)"
      ]
     },
     "execution_count": 2,
     "metadata": {},
     "output_type": "execute_result"
    }
   ],
   "source": [
    "employees = pd.read_csv('HR-Attrition-upsampled-cleaned.csv')\n",
    "employees.shape"
   ]
  },
  {
   "cell_type": "code",
   "execution_count": 3,
   "metadata": {},
   "outputs": [
    {
     "data": {
      "text/html": [
       "<div>\n",
       "<style scoped>\n",
       "    .dataframe tbody tr th:only-of-type {\n",
       "        vertical-align: middle;\n",
       "    }\n",
       "\n",
       "    .dataframe tbody tr th {\n",
       "        vertical-align: top;\n",
       "    }\n",
       "\n",
       "    .dataframe thead th {\n",
       "        text-align: right;\n",
       "    }\n",
       "</style>\n",
       "<table border=\"1\" class=\"dataframe\">\n",
       "  <thead>\n",
       "    <tr style=\"text-align: right;\">\n",
       "      <th></th>\n",
       "      <th>Age</th>\n",
       "      <th>Attrition</th>\n",
       "      <th>BusinessTravel</th>\n",
       "      <th>Department</th>\n",
       "      <th>DistanceFromHome</th>\n",
       "      <th>Education</th>\n",
       "      <th>EducationField</th>\n",
       "      <th>EnvironmentSatisfaction</th>\n",
       "      <th>Gender</th>\n",
       "      <th>JobInvolvement</th>\n",
       "      <th>...</th>\n",
       "      <th>MaritalStatus</th>\n",
       "      <th>MonthlyIncome</th>\n",
       "      <th>NumCompaniesWorked</th>\n",
       "      <th>OverTime</th>\n",
       "      <th>PercentSalaryHike</th>\n",
       "      <th>RelationshipSatisfaction</th>\n",
       "      <th>StockOptionLevel</th>\n",
       "      <th>TrainingTimesLastYear</th>\n",
       "      <th>WorkLifeBalance</th>\n",
       "      <th>YearsAtCompany</th>\n",
       "    </tr>\n",
       "  </thead>\n",
       "  <tbody>\n",
       "    <tr>\n",
       "      <td>0</td>\n",
       "      <td>49</td>\n",
       "      <td>No</td>\n",
       "      <td>Travel_Frequently</td>\n",
       "      <td>Research &amp; Development</td>\n",
       "      <td>8</td>\n",
       "      <td>1</td>\n",
       "      <td>Life Sciences</td>\n",
       "      <td>3</td>\n",
       "      <td>Male</td>\n",
       "      <td>2</td>\n",
       "      <td>...</td>\n",
       "      <td>Married</td>\n",
       "      <td>5130</td>\n",
       "      <td>1</td>\n",
       "      <td>No</td>\n",
       "      <td>23</td>\n",
       "      <td>4</td>\n",
       "      <td>1</td>\n",
       "      <td>3</td>\n",
       "      <td>3</td>\n",
       "      <td>10</td>\n",
       "    </tr>\n",
       "    <tr>\n",
       "      <td>1</td>\n",
       "      <td>33</td>\n",
       "      <td>No</td>\n",
       "      <td>Travel_Frequently</td>\n",
       "      <td>Research &amp; Development</td>\n",
       "      <td>3</td>\n",
       "      <td>4</td>\n",
       "      <td>Life Sciences</td>\n",
       "      <td>4</td>\n",
       "      <td>Female</td>\n",
       "      <td>3</td>\n",
       "      <td>...</td>\n",
       "      <td>Married</td>\n",
       "      <td>2909</td>\n",
       "      <td>1</td>\n",
       "      <td>Yes</td>\n",
       "      <td>11</td>\n",
       "      <td>3</td>\n",
       "      <td>0</td>\n",
       "      <td>3</td>\n",
       "      <td>3</td>\n",
       "      <td>8</td>\n",
       "    </tr>\n",
       "    <tr>\n",
       "      <td>2</td>\n",
       "      <td>27</td>\n",
       "      <td>No</td>\n",
       "      <td>Travel_Rarely</td>\n",
       "      <td>Research &amp; Development</td>\n",
       "      <td>2</td>\n",
       "      <td>1</td>\n",
       "      <td>Medical</td>\n",
       "      <td>1</td>\n",
       "      <td>Male</td>\n",
       "      <td>3</td>\n",
       "      <td>...</td>\n",
       "      <td>Married</td>\n",
       "      <td>3468</td>\n",
       "      <td>9</td>\n",
       "      <td>No</td>\n",
       "      <td>12</td>\n",
       "      <td>4</td>\n",
       "      <td>1</td>\n",
       "      <td>3</td>\n",
       "      <td>3</td>\n",
       "      <td>2</td>\n",
       "    </tr>\n",
       "    <tr>\n",
       "      <td>3</td>\n",
       "      <td>32</td>\n",
       "      <td>No</td>\n",
       "      <td>Travel_Frequently</td>\n",
       "      <td>Research &amp; Development</td>\n",
       "      <td>2</td>\n",
       "      <td>2</td>\n",
       "      <td>Life Sciences</td>\n",
       "      <td>4</td>\n",
       "      <td>Male</td>\n",
       "      <td>3</td>\n",
       "      <td>...</td>\n",
       "      <td>Single</td>\n",
       "      <td>3068</td>\n",
       "      <td>0</td>\n",
       "      <td>No</td>\n",
       "      <td>13</td>\n",
       "      <td>3</td>\n",
       "      <td>0</td>\n",
       "      <td>2</td>\n",
       "      <td>2</td>\n",
       "      <td>7</td>\n",
       "    </tr>\n",
       "    <tr>\n",
       "      <td>4</td>\n",
       "      <td>59</td>\n",
       "      <td>No</td>\n",
       "      <td>Travel_Rarely</td>\n",
       "      <td>Research &amp; Development</td>\n",
       "      <td>3</td>\n",
       "      <td>3</td>\n",
       "      <td>Medical</td>\n",
       "      <td>3</td>\n",
       "      <td>Female</td>\n",
       "      <td>4</td>\n",
       "      <td>...</td>\n",
       "      <td>Married</td>\n",
       "      <td>2670</td>\n",
       "      <td>4</td>\n",
       "      <td>Yes</td>\n",
       "      <td>20</td>\n",
       "      <td>1</td>\n",
       "      <td>3</td>\n",
       "      <td>3</td>\n",
       "      <td>2</td>\n",
       "      <td>1</td>\n",
       "    </tr>\n",
       "  </tbody>\n",
       "</table>\n",
       "<p>5 rows × 21 columns</p>\n",
       "</div>"
      ],
      "text/plain": [
       "   Age Attrition     BusinessTravel              Department  DistanceFromHome  \\\n",
       "0   49        No  Travel_Frequently  Research & Development                 8   \n",
       "1   33        No  Travel_Frequently  Research & Development                 3   \n",
       "2   27        No      Travel_Rarely  Research & Development                 2   \n",
       "3   32        No  Travel_Frequently  Research & Development                 2   \n",
       "4   59        No      Travel_Rarely  Research & Development                 3   \n",
       "\n",
       "   Education EducationField  EnvironmentSatisfaction  Gender  JobInvolvement  \\\n",
       "0          1  Life Sciences                        3    Male               2   \n",
       "1          4  Life Sciences                        4  Female               3   \n",
       "2          1        Medical                        1    Male               3   \n",
       "3          2  Life Sciences                        4    Male               3   \n",
       "4          3        Medical                        3  Female               4   \n",
       "\n",
       "   ...  MaritalStatus MonthlyIncome  NumCompaniesWorked  OverTime  \\\n",
       "0  ...        Married          5130                   1        No   \n",
       "1  ...        Married          2909                   1       Yes   \n",
       "2  ...        Married          3468                   9        No   \n",
       "3  ...         Single          3068                   0        No   \n",
       "4  ...        Married          2670                   4       Yes   \n",
       "\n",
       "  PercentSalaryHike  RelationshipSatisfaction  StockOptionLevel  \\\n",
       "0                23                         4                 1   \n",
       "1                11                         3                 0   \n",
       "2                12                         4                 1   \n",
       "3                13                         3                 0   \n",
       "4                20                         1                 3   \n",
       "\n",
       "   TrainingTimesLastYear  WorkLifeBalance  YearsAtCompany  \n",
       "0                      3                3              10  \n",
       "1                      3                3               8  \n",
       "2                      3                3               2  \n",
       "3                      2                2               7  \n",
       "4                      3                2               1  \n",
       "\n",
       "[5 rows x 21 columns]"
      ]
     },
     "execution_count": 3,
     "metadata": {},
     "output_type": "execute_result"
    }
   ],
   "source": [
    "employees.head()"
   ]
  },
  {
   "cell_type": "code",
   "execution_count": 4,
   "metadata": {},
   "outputs": [
    {
     "data": {
      "text/plain": [
       "RelationshipSatisfaction  Attrition\n",
       "1                         No           219\n",
       "                          Yes          293\n",
       "2                         No           258\n",
       "                          Yes          240\n",
       "3                         No           388\n",
       "                          Yes          357\n",
       "4                         No           368\n",
       "                          Yes          343\n",
       "Name: Attrition, dtype: int64"
      ]
     },
     "execution_count": 4,
     "metadata": {},
     "output_type": "execute_result"
    }
   ],
   "source": [
    "employees.groupby(['RelationshipSatisfaction', 'Attrition'])['Attrition'].agg('count')"
   ]
  },
  {
   "cell_type": "code",
   "execution_count": 5,
   "metadata": {},
   "outputs": [],
   "source": [
    "def transform(row):\n",
    "    if row['PercentSalaryHike'] < 15:\n",
    "        val = 'Yes'\n",
    "    else:\n",
    "        val = 'No'\n",
    "    return val\n",
    "\n",
    "employees['low_percentage_hike'] = employees.apply(transform, axis=1)\n",
    "employees = employees.drop('PercentSalaryHike', axis=1)"
   ]
  },
  {
   "cell_type": "code",
   "execution_count": 6,
   "metadata": {},
   "outputs": [],
   "source": [
    "def transform_relation_sat(row):\n",
    "    if row['RelationshipSatisfaction'] == 1:\n",
    "        val = 'Yes'\n",
    "    else:\n",
    "        val = 'No'\n",
    "    return val\n",
    "\n",
    "employees['low_relationship_satisfaction'] = employees.apply(transform_relation_sat, axis=1)\n",
    "employees = employees.drop('RelationshipSatisfaction', axis=1)"
   ]
  },
  {
   "cell_type": "code",
   "execution_count": 7,
   "metadata": {},
   "outputs": [
    {
     "data": {
      "text/plain": [
       "BusinessTravel     Attrition\n",
       "Non-Travel         No           138\n",
       "                   Yes           52\n",
       "Travel_Frequently  No           208\n",
       "                   Yes          338\n",
       "Travel_Rarely      No           887\n",
       "                   Yes          843\n",
       "Name: Attrition, dtype: int64"
      ]
     },
     "execution_count": 7,
     "metadata": {},
     "output_type": "execute_result"
    }
   ],
   "source": [
    "employees.groupby(['BusinessTravel', 'Attrition'])['Attrition'].agg('count')"
   ]
  },
  {
   "cell_type": "code",
   "execution_count": 8,
   "metadata": {},
   "outputs": [],
   "source": [
    "def transform_business_travel(row):\n",
    "    if row['BusinessTravel'] == 'Travel_Frequently':\n",
    "        val = 'Yes'\n",
    "    else:\n",
    "        val = 'No'\n",
    "    return val\n",
    "\n",
    "employees['frequent_travel'] = employees.apply(transform_business_travel, axis=1)\n",
    "employees = employees.drop('BusinessTravel', axis=1)"
   ]
  },
  {
   "cell_type": "code",
   "execution_count": 9,
   "metadata": {},
   "outputs": [
    {
     "data": {
      "text/plain": [
       "JobInvolvement  Attrition\n",
       "1               No            55\n",
       "                Yes          131\n",
       "2               No           304\n",
       "                Yes          392\n",
       "3               No           743\n",
       "                Yes          641\n",
       "4               No           131\n",
       "                Yes           69\n",
       "Name: Attrition, dtype: int64"
      ]
     },
     "execution_count": 9,
     "metadata": {},
     "output_type": "execute_result"
    }
   ],
   "source": [
    "employees.groupby(['JobInvolvement', 'Attrition'])['Attrition'].agg('count')"
   ]
  },
  {
   "cell_type": "code",
   "execution_count": 10,
   "metadata": {},
   "outputs": [],
   "source": [
    "def transform_job_involve(row):\n",
    "    if row['JobInvolvement'] == 1:\n",
    "        val = 'Yes'\n",
    "    else:\n",
    "        val = 'No'\n",
    "    return val\n",
    "\n",
    "employees['low_job_involvement'] = employees.apply(transform_job_involve, axis=1)\n",
    "employees = employees.drop('JobInvolvement', axis=1)"
   ]
  },
  {
   "cell_type": "code",
   "execution_count": 11,
   "metadata": {},
   "outputs": [
    {
     "data": {
      "text/plain": [
       "WorkLifeBalance  Attrition\n",
       "1                No            55\n",
       "                 Yes          132\n",
       "2                No           286\n",
       "                 Yes          288\n",
       "3                No           766\n",
       "                 Yes          680\n",
       "4                No           126\n",
       "                 Yes          133\n",
       "Name: Attrition, dtype: int64"
      ]
     },
     "execution_count": 11,
     "metadata": {},
     "output_type": "execute_result"
    }
   ],
   "source": [
    "employees.groupby(['WorkLifeBalance', 'Attrition'])['Attrition'].agg('count')"
   ]
  },
  {
   "cell_type": "code",
   "execution_count": 12,
   "metadata": {},
   "outputs": [],
   "source": [
    "def transform_wl_balance(row):\n",
    "    if row['WorkLifeBalance'] == 1:\n",
    "        val = 'Yes'\n",
    "    else:\n",
    "        val = 'No'\n",
    "    return val\n",
    "\n",
    "employees['low_worklife_balance'] = employees.apply(transform_wl_balance, axis=1)\n",
    "employees = employees.drop('WorkLifeBalance', axis=1)"
   ]
  },
  {
   "cell_type": "code",
   "execution_count": 13,
   "metadata": {},
   "outputs": [
    {
     "name": "stdout",
     "output_type": "stream",
     "text": [
      "<class 'pandas.core.frame.DataFrame'>\n",
      "RangeIndex: 2466 entries, 0 to 2465\n",
      "Data columns (total 21 columns):\n",
      "Age                              2466 non-null int64\n",
      "Attrition                        2466 non-null object\n",
      "Department                       2466 non-null object\n",
      "DistanceFromHome                 2466 non-null int64\n",
      "Education                        2466 non-null int64\n",
      "EducationField                   2466 non-null object\n",
      "EnvironmentSatisfaction          2466 non-null int64\n",
      "Gender                           2466 non-null object\n",
      "JobSatisfaction                  2466 non-null int64\n",
      "MaritalStatus                    2466 non-null object\n",
      "MonthlyIncome                    2466 non-null int64\n",
      "NumCompaniesWorked               2466 non-null int64\n",
      "OverTime                         2466 non-null object\n",
      "StockOptionLevel                 2466 non-null int64\n",
      "TrainingTimesLastYear            2466 non-null int64\n",
      "YearsAtCompany                   2466 non-null int64\n",
      "low_percentage_hike              2466 non-null object\n",
      "low_relationship_satisfaction    2466 non-null object\n",
      "frequent_travel                  2466 non-null object\n",
      "low_job_involvement              2466 non-null object\n",
      "low_worklife_balance             2466 non-null object\n",
      "dtypes: int64(10), object(11)\n",
      "memory usage: 404.7+ KB\n"
     ]
    }
   ],
   "source": [
    "employees.info()"
   ]
  },
  {
   "cell_type": "code",
   "execution_count": 14,
   "metadata": {},
   "outputs": [
    {
     "data": {
      "text/plain": [
       "Index(['Age', 'DistanceFromHome', 'MonthlyIncome', 'NumCompaniesWorked',\n",
       "       'TrainingTimesLastYear', 'YearsAtCompany'],\n",
       "      dtype='object')"
      ]
     },
     "execution_count": 14,
     "metadata": {},
     "output_type": "execute_result"
    }
   ],
   "source": [
    "df_num = employees[['Age', 'DistanceFromHome', 'MonthlyIncome', 'NumCompaniesWorked', \n",
    "                    'TrainingTimesLastYear', 'YearsAtCompany']]\n",
    "df_num.columns"
   ]
  },
  {
   "cell_type": "code",
   "execution_count": 15,
   "metadata": {},
   "outputs": [
    {
     "data": {
      "text/html": [
       "<div>\n",
       "<style scoped>\n",
       "    .dataframe tbody tr th:only-of-type {\n",
       "        vertical-align: middle;\n",
       "    }\n",
       "\n",
       "    .dataframe tbody tr th {\n",
       "        vertical-align: top;\n",
       "    }\n",
       "\n",
       "    .dataframe thead th {\n",
       "        text-align: right;\n",
       "    }\n",
       "</style>\n",
       "<table border=\"1\" class=\"dataframe\">\n",
       "  <thead>\n",
       "    <tr style=\"text-align: right;\">\n",
       "      <th></th>\n",
       "      <th>Department</th>\n",
       "      <th>Education</th>\n",
       "      <th>EducationField</th>\n",
       "      <th>EnvironmentSatisfaction</th>\n",
       "      <th>Gender</th>\n",
       "      <th>JobSatisfaction</th>\n",
       "      <th>MaritalStatus</th>\n",
       "      <th>OverTime</th>\n",
       "      <th>StockOptionLevel</th>\n",
       "      <th>low_percentage_hike</th>\n",
       "      <th>low_relationship_satisfaction</th>\n",
       "      <th>frequent_travel</th>\n",
       "      <th>low_job_involvement</th>\n",
       "      <th>low_worklife_balance</th>\n",
       "    </tr>\n",
       "  </thead>\n",
       "  <tbody>\n",
       "    <tr>\n",
       "      <td>0</td>\n",
       "      <td>Research &amp; Development</td>\n",
       "      <td>1</td>\n",
       "      <td>Life Sciences</td>\n",
       "      <td>3</td>\n",
       "      <td>Male</td>\n",
       "      <td>2</td>\n",
       "      <td>Married</td>\n",
       "      <td>No</td>\n",
       "      <td>1</td>\n",
       "      <td>No</td>\n",
       "      <td>No</td>\n",
       "      <td>Yes</td>\n",
       "      <td>No</td>\n",
       "      <td>No</td>\n",
       "    </tr>\n",
       "    <tr>\n",
       "      <td>1</td>\n",
       "      <td>Research &amp; Development</td>\n",
       "      <td>4</td>\n",
       "      <td>Life Sciences</td>\n",
       "      <td>4</td>\n",
       "      <td>Female</td>\n",
       "      <td>3</td>\n",
       "      <td>Married</td>\n",
       "      <td>Yes</td>\n",
       "      <td>0</td>\n",
       "      <td>Yes</td>\n",
       "      <td>No</td>\n",
       "      <td>Yes</td>\n",
       "      <td>No</td>\n",
       "      <td>No</td>\n",
       "    </tr>\n",
       "    <tr>\n",
       "      <td>2</td>\n",
       "      <td>Research &amp; Development</td>\n",
       "      <td>1</td>\n",
       "      <td>Medical</td>\n",
       "      <td>1</td>\n",
       "      <td>Male</td>\n",
       "      <td>2</td>\n",
       "      <td>Married</td>\n",
       "      <td>No</td>\n",
       "      <td>1</td>\n",
       "      <td>Yes</td>\n",
       "      <td>No</td>\n",
       "      <td>No</td>\n",
       "      <td>No</td>\n",
       "      <td>No</td>\n",
       "    </tr>\n",
       "    <tr>\n",
       "      <td>3</td>\n",
       "      <td>Research &amp; Development</td>\n",
       "      <td>2</td>\n",
       "      <td>Life Sciences</td>\n",
       "      <td>4</td>\n",
       "      <td>Male</td>\n",
       "      <td>4</td>\n",
       "      <td>Single</td>\n",
       "      <td>No</td>\n",
       "      <td>0</td>\n",
       "      <td>Yes</td>\n",
       "      <td>No</td>\n",
       "      <td>Yes</td>\n",
       "      <td>No</td>\n",
       "      <td>No</td>\n",
       "    </tr>\n",
       "    <tr>\n",
       "      <td>4</td>\n",
       "      <td>Research &amp; Development</td>\n",
       "      <td>3</td>\n",
       "      <td>Medical</td>\n",
       "      <td>3</td>\n",
       "      <td>Female</td>\n",
       "      <td>1</td>\n",
       "      <td>Married</td>\n",
       "      <td>Yes</td>\n",
       "      <td>3</td>\n",
       "      <td>No</td>\n",
       "      <td>Yes</td>\n",
       "      <td>No</td>\n",
       "      <td>No</td>\n",
       "      <td>No</td>\n",
       "    </tr>\n",
       "  </tbody>\n",
       "</table>\n",
       "</div>"
      ],
      "text/plain": [
       "               Department  Education EducationField  EnvironmentSatisfaction  \\\n",
       "0  Research & Development          1  Life Sciences                        3   \n",
       "1  Research & Development          4  Life Sciences                        4   \n",
       "2  Research & Development          1        Medical                        1   \n",
       "3  Research & Development          2  Life Sciences                        4   \n",
       "4  Research & Development          3        Medical                        3   \n",
       "\n",
       "   Gender  JobSatisfaction MaritalStatus OverTime  StockOptionLevel  \\\n",
       "0    Male                2       Married       No                 1   \n",
       "1  Female                3       Married      Yes                 0   \n",
       "2    Male                2       Married       No                 1   \n",
       "3    Male                4        Single       No                 0   \n",
       "4  Female                1       Married      Yes                 3   \n",
       "\n",
       "  low_percentage_hike low_relationship_satisfaction frequent_travel  \\\n",
       "0                  No                            No             Yes   \n",
       "1                 Yes                            No             Yes   \n",
       "2                 Yes                            No              No   \n",
       "3                 Yes                            No             Yes   \n",
       "4                  No                           Yes              No   \n",
       "\n",
       "  low_job_involvement low_worklife_balance  \n",
       "0                  No                   No  \n",
       "1                  No                   No  \n",
       "2                  No                   No  \n",
       "3                  No                   No  \n",
       "4                  No                   No  "
      ]
     },
     "execution_count": 15,
     "metadata": {},
     "output_type": "execute_result"
    }
   ],
   "source": [
    "categorical = [col for col in employees.columns if col not in df_num.columns]\n",
    "\n",
    "attrition_cat = employees[categorical]\n",
    "attrition_cat = attrition_cat.drop(['Attrition'], axis=1)\n",
    "attrition_cat.head()"
   ]
  },
  {
   "cell_type": "code",
   "execution_count": 16,
   "metadata": {},
   "outputs": [
    {
     "data": {
      "text/html": [
       "<div>\n",
       "<style scoped>\n",
       "    .dataframe tbody tr th:only-of-type {\n",
       "        vertical-align: middle;\n",
       "    }\n",
       "\n",
       "    .dataframe tbody tr th {\n",
       "        vertical-align: top;\n",
       "    }\n",
       "\n",
       "    .dataframe thead th {\n",
       "        text-align: right;\n",
       "    }\n",
       "</style>\n",
       "<table border=\"1\" class=\"dataframe\">\n",
       "  <thead>\n",
       "    <tr style=\"text-align: right;\">\n",
       "      <th></th>\n",
       "      <th>Department</th>\n",
       "      <th>Education</th>\n",
       "      <th>EducationField</th>\n",
       "      <th>EnvironmentSatisfaction</th>\n",
       "      <th>Gender</th>\n",
       "      <th>JobSatisfaction</th>\n",
       "      <th>MaritalStatus</th>\n",
       "      <th>OverTime</th>\n",
       "      <th>StockOptionLevel</th>\n",
       "      <th>low_percentage_hike</th>\n",
       "      <th>low_relationship_satisfaction</th>\n",
       "      <th>frequent_travel</th>\n",
       "      <th>low_job_involvement</th>\n",
       "      <th>low_worklife_balance</th>\n",
       "    </tr>\n",
       "  </thead>\n",
       "  <tbody>\n",
       "    <tr>\n",
       "      <td>0</td>\n",
       "      <td>1</td>\n",
       "      <td>1</td>\n",
       "      <td>1</td>\n",
       "      <td>3</td>\n",
       "      <td>1</td>\n",
       "      <td>2</td>\n",
       "      <td>1</td>\n",
       "      <td>0</td>\n",
       "      <td>1</td>\n",
       "      <td>0</td>\n",
       "      <td>0</td>\n",
       "      <td>1</td>\n",
       "      <td>0</td>\n",
       "      <td>0</td>\n",
       "    </tr>\n",
       "    <tr>\n",
       "      <td>1</td>\n",
       "      <td>1</td>\n",
       "      <td>4</td>\n",
       "      <td>1</td>\n",
       "      <td>4</td>\n",
       "      <td>0</td>\n",
       "      <td>3</td>\n",
       "      <td>1</td>\n",
       "      <td>1</td>\n",
       "      <td>0</td>\n",
       "      <td>1</td>\n",
       "      <td>0</td>\n",
       "      <td>1</td>\n",
       "      <td>0</td>\n",
       "      <td>0</td>\n",
       "    </tr>\n",
       "    <tr>\n",
       "      <td>2</td>\n",
       "      <td>1</td>\n",
       "      <td>1</td>\n",
       "      <td>3</td>\n",
       "      <td>1</td>\n",
       "      <td>1</td>\n",
       "      <td>2</td>\n",
       "      <td>1</td>\n",
       "      <td>0</td>\n",
       "      <td>1</td>\n",
       "      <td>1</td>\n",
       "      <td>0</td>\n",
       "      <td>0</td>\n",
       "      <td>0</td>\n",
       "      <td>0</td>\n",
       "    </tr>\n",
       "    <tr>\n",
       "      <td>3</td>\n",
       "      <td>1</td>\n",
       "      <td>2</td>\n",
       "      <td>1</td>\n",
       "      <td>4</td>\n",
       "      <td>1</td>\n",
       "      <td>4</td>\n",
       "      <td>2</td>\n",
       "      <td>0</td>\n",
       "      <td>0</td>\n",
       "      <td>1</td>\n",
       "      <td>0</td>\n",
       "      <td>1</td>\n",
       "      <td>0</td>\n",
       "      <td>0</td>\n",
       "    </tr>\n",
       "    <tr>\n",
       "      <td>4</td>\n",
       "      <td>1</td>\n",
       "      <td>3</td>\n",
       "      <td>3</td>\n",
       "      <td>3</td>\n",
       "      <td>0</td>\n",
       "      <td>1</td>\n",
       "      <td>1</td>\n",
       "      <td>1</td>\n",
       "      <td>3</td>\n",
       "      <td>0</td>\n",
       "      <td>1</td>\n",
       "      <td>0</td>\n",
       "      <td>0</td>\n",
       "      <td>0</td>\n",
       "    </tr>\n",
       "  </tbody>\n",
       "</table>\n",
       "</div>"
      ],
      "text/plain": [
       "   Department  Education  EducationField  EnvironmentSatisfaction  Gender  \\\n",
       "0           1          1               1                        3       1   \n",
       "1           1          4               1                        4       0   \n",
       "2           1          1               3                        1       1   \n",
       "3           1          2               1                        4       1   \n",
       "4           1          3               3                        3       0   \n",
       "\n",
       "   JobSatisfaction  MaritalStatus  OverTime  StockOptionLevel  \\\n",
       "0                2              1         0                 1   \n",
       "1                3              1         1                 0   \n",
       "2                2              1         0                 1   \n",
       "3                4              2         0                 0   \n",
       "4                1              1         1                 3   \n",
       "\n",
       "   low_percentage_hike  low_relationship_satisfaction  frequent_travel  \\\n",
       "0                    0                              0                1   \n",
       "1                    1                              0                1   \n",
       "2                    1                              0                0   \n",
       "3                    1                              0                1   \n",
       "4                    0                              1                0   \n",
       "\n",
       "   low_job_involvement  low_worklife_balance  \n",
       "0                    0                     0  \n",
       "1                    0                     0  \n",
       "2                    0                     0  \n",
       "3                    0                     0  \n",
       "4                    0                     0  "
      ]
     },
     "execution_count": 16,
     "metadata": {},
     "output_type": "execute_result"
    }
   ],
   "source": [
    "from sklearn.preprocessing import LabelEncoder\n",
    "labelencoder = LabelEncoder()\n",
    "\n",
    "attrition_cat['Department'] = labelencoder.fit_transform(attrition_cat['Department'])\n",
    "attrition_cat['EducationField'] = labelencoder.fit_transform(attrition_cat['EducationField'])\n",
    "attrition_cat['Gender'] = labelencoder.fit_transform(attrition_cat['Gender'])\n",
    "attrition_cat['MaritalStatus'] = labelencoder.fit_transform(attrition_cat['MaritalStatus'])\n",
    "attrition_cat['OverTime'] = labelencoder.fit_transform(attrition_cat['OverTime'])\n",
    "attrition_cat['low_percentage_hike'] = labelencoder.fit_transform(attrition_cat['low_percentage_hike'])\n",
    "attrition_cat['low_relationship_satisfaction'] = labelencoder.fit_transform(attrition_cat['low_relationship_satisfaction'])\n",
    "attrition_cat['frequent_travel'] = labelencoder.fit_transform(attrition_cat['frequent_travel'])\n",
    "attrition_cat['low_job_involvement'] = labelencoder.fit_transform(attrition_cat['low_job_involvement'])\n",
    "attrition_cat['low_worklife_balance'] = labelencoder.fit_transform(attrition_cat['low_worklife_balance'])\n",
    "\n",
    "attrition_cat.head()"
   ]
  },
  {
   "cell_type": "code",
   "execution_count": 17,
   "metadata": {},
   "outputs": [
    {
     "name": "stdout",
     "output_type": "stream",
     "text": [
      "Department: category\n",
      "Education: category\n",
      "EducationField: category\n",
      "EnvironmentSatisfaction: category\n",
      "Gender: category\n",
      "JobSatisfaction: category\n",
      "MaritalStatus: category\n",
      "OverTime: category\n",
      "StockOptionLevel: category\n",
      "low_percentage_hike: category\n",
      "low_relationship_satisfaction: category\n",
      "frequent_travel: category\n",
      "low_job_involvement: category\n",
      "low_worklife_balance: category\n"
     ]
    }
   ],
   "source": [
    "for col in attrition_cat.columns:\n",
    "    \n",
    "    if attrition_cat[col].dtypes==int:\n",
    "        attrition_cat[col] = attrition_cat[col].astype('category')\n",
    "    print(str(col)+ \": \" + str(attrition_cat[col].dtypes))"
   ]
  },
  {
   "cell_type": "code",
   "execution_count": 18,
   "metadata": {},
   "outputs": [
    {
     "name": "stdout",
     "output_type": "stream",
     "text": [
      "<class 'pandas.core.frame.DataFrame'>\n",
      "RangeIndex: 2466 entries, 0 to 2465\n",
      "Data columns (total 43 columns):\n",
      "Department_0                       2466 non-null uint8\n",
      "Department_1                       2466 non-null uint8\n",
      "Department_2                       2466 non-null uint8\n",
      "Education_1                        2466 non-null uint8\n",
      "Education_2                        2466 non-null uint8\n",
      "Education_3                        2466 non-null uint8\n",
      "Education_4                        2466 non-null uint8\n",
      "Education_5                        2466 non-null uint8\n",
      "EducationField_0                   2466 non-null uint8\n",
      "EducationField_1                   2466 non-null uint8\n",
      "EducationField_2                   2466 non-null uint8\n",
      "EducationField_3                   2466 non-null uint8\n",
      "EducationField_4                   2466 non-null uint8\n",
      "EducationField_5                   2466 non-null uint8\n",
      "EnvironmentSatisfaction_1          2466 non-null uint8\n",
      "EnvironmentSatisfaction_2          2466 non-null uint8\n",
      "EnvironmentSatisfaction_3          2466 non-null uint8\n",
      "EnvironmentSatisfaction_4          2466 non-null uint8\n",
      "Gender_0                           2466 non-null uint8\n",
      "Gender_1                           2466 non-null uint8\n",
      "JobSatisfaction_1                  2466 non-null uint8\n",
      "JobSatisfaction_2                  2466 non-null uint8\n",
      "JobSatisfaction_3                  2466 non-null uint8\n",
      "JobSatisfaction_4                  2466 non-null uint8\n",
      "MaritalStatus_0                    2466 non-null uint8\n",
      "MaritalStatus_1                    2466 non-null uint8\n",
      "MaritalStatus_2                    2466 non-null uint8\n",
      "OverTime_0                         2466 non-null uint8\n",
      "OverTime_1                         2466 non-null uint8\n",
      "StockOptionLevel_0                 2466 non-null uint8\n",
      "StockOptionLevel_1                 2466 non-null uint8\n",
      "StockOptionLevel_2                 2466 non-null uint8\n",
      "StockOptionLevel_3                 2466 non-null uint8\n",
      "low_percentage_hike_0              2466 non-null uint8\n",
      "low_percentage_hike_1              2466 non-null uint8\n",
      "low_relationship_satisfaction_0    2466 non-null uint8\n",
      "low_relationship_satisfaction_1    2466 non-null uint8\n",
      "frequent_travel_0                  2466 non-null uint8\n",
      "frequent_travel_1                  2466 non-null uint8\n",
      "low_job_involvement_0              2466 non-null uint8\n",
      "low_job_involvement_1              2466 non-null uint8\n",
      "low_worklife_balance_0             2466 non-null uint8\n",
      "low_worklife_balance_1             2466 non-null uint8\n",
      "dtypes: uint8(43)\n",
      "memory usage: 103.7 KB\n"
     ]
    }
   ],
   "source": [
    "attrition_cat_dummy = pd.get_dummies(attrition_cat)\n",
    "attrition_cat_dummy.info()"
   ]
  },
  {
   "cell_type": "code",
   "execution_count": 19,
   "metadata": {},
   "outputs": [
    {
     "data": {
      "text/plain": [
       "array([[ 1.42370004, -0.20901457, -0.16131462, -0.68976239,  0.19849996,\n",
       "         0.58668886],\n",
       "       [-0.2588468 , -0.8124212 , -0.66234239, -0.68976239,  0.19849996,\n",
       "         0.26822645],\n",
       "       [-0.88980187, -0.93310252, -0.5362395 ,  2.37778323,  0.19849996,\n",
       "        -0.68716078],\n",
       "       ...,\n",
       "       [-0.99496104,  0.87711735, -0.70024093, -1.07320559, -0.59101762,\n",
       "         0.10899524],\n",
       "       [-0.04852844,  0.51507338, -0.47420319, -0.68976239, -0.59101762,\n",
       "        -0.36869837],\n",
       "       [-1.83623447, -0.8124212 , -0.96462839, -0.68976239, -0.59101762,\n",
       "        -1.00562318]])"
      ]
     },
     "execution_count": 19,
     "metadata": {},
     "output_type": "execute_result"
    }
   ],
   "source": [
    "from sklearn.preprocessing import StandardScaler\n",
    "scaled_features = StandardScaler().fit_transform(df_num.values)\n",
    "scaled_features"
   ]
  },
  {
   "cell_type": "code",
   "execution_count": 20,
   "metadata": {},
   "outputs": [
    {
     "data": {
      "text/html": [
       "<div>\n",
       "<style scoped>\n",
       "    .dataframe tbody tr th:only-of-type {\n",
       "        vertical-align: middle;\n",
       "    }\n",
       "\n",
       "    .dataframe tbody tr th {\n",
       "        vertical-align: top;\n",
       "    }\n",
       "\n",
       "    .dataframe thead th {\n",
       "        text-align: right;\n",
       "    }\n",
       "</style>\n",
       "<table border=\"1\" class=\"dataframe\">\n",
       "  <thead>\n",
       "    <tr style=\"text-align: right;\">\n",
       "      <th></th>\n",
       "      <th>Age</th>\n",
       "      <th>DistanceFromHome</th>\n",
       "      <th>MonthlyIncome</th>\n",
       "      <th>NumCompaniesWorked</th>\n",
       "      <th>TrainingTimesLastYear</th>\n",
       "      <th>YearsAtCompany</th>\n",
       "    </tr>\n",
       "  </thead>\n",
       "  <tbody>\n",
       "    <tr>\n",
       "      <td>0</td>\n",
       "      <td>1.423700</td>\n",
       "      <td>-0.209015</td>\n",
       "      <td>-0.161315</td>\n",
       "      <td>-0.689762</td>\n",
       "      <td>0.198500</td>\n",
       "      <td>0.586689</td>\n",
       "    </tr>\n",
       "    <tr>\n",
       "      <td>1</td>\n",
       "      <td>-0.258847</td>\n",
       "      <td>-0.812421</td>\n",
       "      <td>-0.662342</td>\n",
       "      <td>-0.689762</td>\n",
       "      <td>0.198500</td>\n",
       "      <td>0.268226</td>\n",
       "    </tr>\n",
       "    <tr>\n",
       "      <td>2</td>\n",
       "      <td>-0.889802</td>\n",
       "      <td>-0.933103</td>\n",
       "      <td>-0.536239</td>\n",
       "      <td>2.377783</td>\n",
       "      <td>0.198500</td>\n",
       "      <td>-0.687161</td>\n",
       "    </tr>\n",
       "    <tr>\n",
       "      <td>3</td>\n",
       "      <td>-0.364006</td>\n",
       "      <td>-0.933103</td>\n",
       "      <td>-0.626474</td>\n",
       "      <td>-1.073206</td>\n",
       "      <td>-0.591018</td>\n",
       "      <td>0.108995</td>\n",
       "    </tr>\n",
       "    <tr>\n",
       "      <td>4</td>\n",
       "      <td>2.475292</td>\n",
       "      <td>-0.812421</td>\n",
       "      <td>-0.716258</td>\n",
       "      <td>0.460567</td>\n",
       "      <td>0.198500</td>\n",
       "      <td>-0.846392</td>\n",
       "    </tr>\n",
       "  </tbody>\n",
       "</table>\n",
       "</div>"
      ],
      "text/plain": [
       "        Age  DistanceFromHome  MonthlyIncome  NumCompaniesWorked  \\\n",
       "0  1.423700         -0.209015      -0.161315           -0.689762   \n",
       "1 -0.258847         -0.812421      -0.662342           -0.689762   \n",
       "2 -0.889802         -0.933103      -0.536239            2.377783   \n",
       "3 -0.364006         -0.933103      -0.626474           -1.073206   \n",
       "4  2.475292         -0.812421      -0.716258            0.460567   \n",
       "\n",
       "   TrainingTimesLastYear  YearsAtCompany  \n",
       "0               0.198500        0.586689  \n",
       "1               0.198500        0.268226  \n",
       "2               0.198500       -0.687161  \n",
       "3              -0.591018        0.108995  \n",
       "4               0.198500       -0.846392  "
      ]
     },
     "execution_count": 20,
     "metadata": {},
     "output_type": "execute_result"
    }
   ],
   "source": [
    "scaled_features_df_num = pd.DataFrame(scaled_features, index=df_num.index, columns=df_num.columns)\n",
    "scaled_features_df_num.head()"
   ]
  },
  {
   "cell_type": "code",
   "execution_count": 21,
   "metadata": {},
   "outputs": [
    {
     "name": "stdout",
     "output_type": "stream",
     "text": [
      "Shape of final dataset attrition_final: (2466, 49)\n"
     ]
    },
    {
     "data": {
      "text/html": [
       "<div>\n",
       "<style scoped>\n",
       "    .dataframe tbody tr th:only-of-type {\n",
       "        vertical-align: middle;\n",
       "    }\n",
       "\n",
       "    .dataframe tbody tr th {\n",
       "        vertical-align: top;\n",
       "    }\n",
       "\n",
       "    .dataframe thead th {\n",
       "        text-align: right;\n",
       "    }\n",
       "</style>\n",
       "<table border=\"1\" class=\"dataframe\">\n",
       "  <thead>\n",
       "    <tr style=\"text-align: right;\">\n",
       "      <th></th>\n",
       "      <th>Age</th>\n",
       "      <th>DistanceFromHome</th>\n",
       "      <th>MonthlyIncome</th>\n",
       "      <th>NumCompaniesWorked</th>\n",
       "      <th>TrainingTimesLastYear</th>\n",
       "      <th>YearsAtCompany</th>\n",
       "      <th>Department_0</th>\n",
       "      <th>Department_1</th>\n",
       "      <th>Department_2</th>\n",
       "      <th>Education_1</th>\n",
       "      <th>...</th>\n",
       "      <th>low_percentage_hike_0</th>\n",
       "      <th>low_percentage_hike_1</th>\n",
       "      <th>low_relationship_satisfaction_0</th>\n",
       "      <th>low_relationship_satisfaction_1</th>\n",
       "      <th>frequent_travel_0</th>\n",
       "      <th>frequent_travel_1</th>\n",
       "      <th>low_job_involvement_0</th>\n",
       "      <th>low_job_involvement_1</th>\n",
       "      <th>low_worklife_balance_0</th>\n",
       "      <th>low_worklife_balance_1</th>\n",
       "    </tr>\n",
       "  </thead>\n",
       "  <tbody>\n",
       "    <tr>\n",
       "      <td>0</td>\n",
       "      <td>1.423700</td>\n",
       "      <td>-0.209015</td>\n",
       "      <td>-0.161315</td>\n",
       "      <td>-0.689762</td>\n",
       "      <td>0.198500</td>\n",
       "      <td>0.586689</td>\n",
       "      <td>0</td>\n",
       "      <td>1</td>\n",
       "      <td>0</td>\n",
       "      <td>1</td>\n",
       "      <td>...</td>\n",
       "      <td>1</td>\n",
       "      <td>0</td>\n",
       "      <td>1</td>\n",
       "      <td>0</td>\n",
       "      <td>0</td>\n",
       "      <td>1</td>\n",
       "      <td>1</td>\n",
       "      <td>0</td>\n",
       "      <td>1</td>\n",
       "      <td>0</td>\n",
       "    </tr>\n",
       "    <tr>\n",
       "      <td>1</td>\n",
       "      <td>-0.258847</td>\n",
       "      <td>-0.812421</td>\n",
       "      <td>-0.662342</td>\n",
       "      <td>-0.689762</td>\n",
       "      <td>0.198500</td>\n",
       "      <td>0.268226</td>\n",
       "      <td>0</td>\n",
       "      <td>1</td>\n",
       "      <td>0</td>\n",
       "      <td>0</td>\n",
       "      <td>...</td>\n",
       "      <td>0</td>\n",
       "      <td>1</td>\n",
       "      <td>1</td>\n",
       "      <td>0</td>\n",
       "      <td>0</td>\n",
       "      <td>1</td>\n",
       "      <td>1</td>\n",
       "      <td>0</td>\n",
       "      <td>1</td>\n",
       "      <td>0</td>\n",
       "    </tr>\n",
       "    <tr>\n",
       "      <td>2</td>\n",
       "      <td>-0.889802</td>\n",
       "      <td>-0.933103</td>\n",
       "      <td>-0.536239</td>\n",
       "      <td>2.377783</td>\n",
       "      <td>0.198500</td>\n",
       "      <td>-0.687161</td>\n",
       "      <td>0</td>\n",
       "      <td>1</td>\n",
       "      <td>0</td>\n",
       "      <td>1</td>\n",
       "      <td>...</td>\n",
       "      <td>0</td>\n",
       "      <td>1</td>\n",
       "      <td>1</td>\n",
       "      <td>0</td>\n",
       "      <td>1</td>\n",
       "      <td>0</td>\n",
       "      <td>1</td>\n",
       "      <td>0</td>\n",
       "      <td>1</td>\n",
       "      <td>0</td>\n",
       "    </tr>\n",
       "    <tr>\n",
       "      <td>3</td>\n",
       "      <td>-0.364006</td>\n",
       "      <td>-0.933103</td>\n",
       "      <td>-0.626474</td>\n",
       "      <td>-1.073206</td>\n",
       "      <td>-0.591018</td>\n",
       "      <td>0.108995</td>\n",
       "      <td>0</td>\n",
       "      <td>1</td>\n",
       "      <td>0</td>\n",
       "      <td>0</td>\n",
       "      <td>...</td>\n",
       "      <td>0</td>\n",
       "      <td>1</td>\n",
       "      <td>1</td>\n",
       "      <td>0</td>\n",
       "      <td>0</td>\n",
       "      <td>1</td>\n",
       "      <td>1</td>\n",
       "      <td>0</td>\n",
       "      <td>1</td>\n",
       "      <td>0</td>\n",
       "    </tr>\n",
       "    <tr>\n",
       "      <td>4</td>\n",
       "      <td>2.475292</td>\n",
       "      <td>-0.812421</td>\n",
       "      <td>-0.716258</td>\n",
       "      <td>0.460567</td>\n",
       "      <td>0.198500</td>\n",
       "      <td>-0.846392</td>\n",
       "      <td>0</td>\n",
       "      <td>1</td>\n",
       "      <td>0</td>\n",
       "      <td>0</td>\n",
       "      <td>...</td>\n",
       "      <td>1</td>\n",
       "      <td>0</td>\n",
       "      <td>0</td>\n",
       "      <td>1</td>\n",
       "      <td>1</td>\n",
       "      <td>0</td>\n",
       "      <td>1</td>\n",
       "      <td>0</td>\n",
       "      <td>1</td>\n",
       "      <td>0</td>\n",
       "    </tr>\n",
       "  </tbody>\n",
       "</table>\n",
       "<p>5 rows × 49 columns</p>\n",
       "</div>"
      ],
      "text/plain": [
       "        Age  DistanceFromHome  MonthlyIncome  NumCompaniesWorked  \\\n",
       "0  1.423700         -0.209015      -0.161315           -0.689762   \n",
       "1 -0.258847         -0.812421      -0.662342           -0.689762   \n",
       "2 -0.889802         -0.933103      -0.536239            2.377783   \n",
       "3 -0.364006         -0.933103      -0.626474           -1.073206   \n",
       "4  2.475292         -0.812421      -0.716258            0.460567   \n",
       "\n",
       "   TrainingTimesLastYear  YearsAtCompany  Department_0  Department_1  \\\n",
       "0               0.198500        0.586689             0             1   \n",
       "1               0.198500        0.268226             0             1   \n",
       "2               0.198500       -0.687161             0             1   \n",
       "3              -0.591018        0.108995             0             1   \n",
       "4               0.198500       -0.846392             0             1   \n",
       "\n",
       "   Department_2  Education_1  ...  low_percentage_hike_0  \\\n",
       "0             0            1  ...                      1   \n",
       "1             0            0  ...                      0   \n",
       "2             0            1  ...                      0   \n",
       "3             0            0  ...                      0   \n",
       "4             0            0  ...                      1   \n",
       "\n",
       "   low_percentage_hike_1  low_relationship_satisfaction_0  \\\n",
       "0                      0                                1   \n",
       "1                      1                                1   \n",
       "2                      1                                1   \n",
       "3                      1                                1   \n",
       "4                      0                                0   \n",
       "\n",
       "   low_relationship_satisfaction_1  frequent_travel_0  frequent_travel_1  \\\n",
       "0                                0                  0                  1   \n",
       "1                                0                  0                  1   \n",
       "2                                0                  1                  0   \n",
       "3                                0                  0                  1   \n",
       "4                                1                  1                  0   \n",
       "\n",
       "   low_job_involvement_0  low_job_involvement_1  low_worklife_balance_0  \\\n",
       "0                      1                      0                       1   \n",
       "1                      1                      0                       1   \n",
       "2                      1                      0                       1   \n",
       "3                      1                      0                       1   \n",
       "4                      1                      0                       1   \n",
       "\n",
       "   low_worklife_balance_1  \n",
       "0                       0  \n",
       "1                       0  \n",
       "2                       0  \n",
       "3                       0  \n",
       "4                       0  \n",
       "\n",
       "[5 rows x 49 columns]"
      ]
     },
     "execution_count": 21,
     "metadata": {},
     "output_type": "execute_result"
    }
   ],
   "source": [
    "attrition_final = pd.concat([scaled_features_df_num, attrition_cat_dummy], axis=1)\n",
    "print(\"Shape of final dataset attrition_final: \" + str(attrition_final.shape))\n",
    "attrition_final.head()"
   ]
  },
  {
   "cell_type": "code",
   "execution_count": 22,
   "metadata": {},
   "outputs": [
    {
     "data": {
      "text/plain": [
       "1    1233\n",
       "0    1233\n",
       "Name: Attrition, dtype: int64"
      ]
     },
     "execution_count": 22,
     "metadata": {},
     "output_type": "execute_result"
    }
   ],
   "source": [
    "# Define a dictionary for the target mapping\n",
    "target_map = {'Yes':1, 'No':0}\n",
    "# Use the pandas apply method to numerically encode our attrition target variable\n",
    "target = employees[\"Attrition\"].apply(lambda x: target_map[x])\n",
    "target.value_counts()"
   ]
  },
  {
   "cell_type": "code",
   "execution_count": 23,
   "metadata": {},
   "outputs": [],
   "source": [
    "import plotly.figure_factory as ff\n",
    "\n",
    "def model_performance_plot(model) : \n",
    "    #conf matrix\n",
    "    conf_matrix = confusion_matrix(target_val, y_pred)\n",
    "#     trace1 = go.Heatmap(z=conf_matrix  ,x = [\"No (pred)\",\"Yes (pred)\"],\n",
    "#                         y = [\"No (Actual)\",\"Yes (Actual)\"], xgap=2, ygap=2,\n",
    "#                         colorscale = 'Viridis', \n",
    "#                         showscale=False, text=conf_matrix)\n",
    "#     trace1 = ff.create_annotated_heatmap(conf_matrix, annotation_text=conf_matrix, \n",
    "#                                          colorscale=colorscale, hoverinfo='z')\n",
    "#     for i in range(len(trace1.layout.annotations)):\n",
    "#         trace1.layout.annotations[i].font.size = 9\n",
    "\n",
    "    #show metrics\n",
    "    tp = conf_matrix[1,1]\n",
    "    fn = conf_matrix[1,0]\n",
    "    fp = conf_matrix[0,1]\n",
    "    tn = conf_matrix[0,0]\n",
    "    Accuracy  =  ((tp+tn)/(tp+tn+fp+fn))\n",
    "    Precision =  (tp/(tp+fp))\n",
    "    Recall    =  (tp/(tp+fn))\n",
    "    F1_score  =  (2*(((tp/(tp+fp))*(tp/(tp+fn)))/((tp/(tp+fp))+(tp/(tp+fn)))))\n",
    "\n",
    "    show_metrics = pd.DataFrame(data=[[Accuracy , Precision, Recall, F1_score]])\n",
    "    show_metrics = show_metrics.T\n",
    "\n",
    "    colors = ['gold', 'lightgreen', 'lightcoral', 'lightskyblue']\n",
    "    trace2 = go.Bar(x = (show_metrics[0].values), \n",
    "                   y = ['Accuracy', 'Precision', 'Recall', 'F1_score'], text = np.round_(show_metrics[0].values,4),\n",
    "                    textposition = 'auto',\n",
    "                   orientation = 'h', opacity = 0.8,marker=dict(\n",
    "            color=colors,\n",
    "            line=dict(color='#000000',width=1.5)))\n",
    "    \n",
    "    #plot roc curve\n",
    "    model_roc_auc = round(roc_auc_score(target_val, y_score) , 3)\n",
    "    fpr, tpr, t = roc_curve(target_val, y_score)\n",
    "    trace3 = go.Scatter(x = fpr,y = tpr,\n",
    "                        name = \"Roc : \",\n",
    "                        line = dict(color = ('rgb(22, 96, 167)'),width = 2), fill='tozeroy')\n",
    "    trace4 = go.Scatter(x = [0,1],y = [0,1],\n",
    "                        line = dict(color = ('black'),width = 1.5,\n",
    "                        dash = 'dot'))\n",
    "    \n",
    "    # Precision-recall curve\n",
    "    precision, recall, thresholds = precision_recall_curve(target_val, y_score)\n",
    "    trace5 = go.Scatter(x = recall, y = precision,\n",
    "                        name = \"Precision\" + str(precision),\n",
    "                        line = dict(color = ('lightcoral'),width = 2), fill='tozeroy')\n",
    "    \n",
    "    #subplots\n",
    "    fig = sbl.make_subplots(rows=3, cols=1, print_grid=False, \n",
    "                        subplot_titles=('Metrics',\n",
    "                                        'ROC curve'+\" \"+ '('+ str(model_roc_auc)+')',\n",
    "                                        'Precision - Recall curve'))\n",
    "    \n",
    "\n",
    "    fig.append_trace(trace2,1,1)\n",
    "    fig.append_trace(trace3,2,1)\n",
    "    fig.append_trace(trace4,2,1)\n",
    "    fig.append_trace(trace5,3,1)\n",
    "    \n",
    "    fig['layout'].update(showlegend = False, title = '<b>Model performance</b><br>'+str(model),\n",
    "                        autosize = False, height = 900,width = 450,\n",
    "                        plot_bgcolor = 'rgba(240,240,240, 0.95)',\n",
    "                        paper_bgcolor = 'rgba(240,240,240, 0.95)',\n",
    "                        margin = dict(b = 195))\n",
    "#     fig[\"layout\"][\"xaxis2\"].update((dict(range=[0, 1])))\n",
    "    fig[\"layout\"][\"xaxis2\"].update(dict(title = \"false positive rate\"))\n",
    "    fig[\"layout\"][\"yaxis2\"].update(dict(title = \"true positive rate\"))\n",
    "    fig[\"layout\"][\"xaxis3\"].update(dict(title = \"recall\"), range = [0,1.05])\n",
    "    fig[\"layout\"][\"yaxis3\"].update(dict(title = \"precision\"), range = [0,1.05])\n",
    "    fig.layout.titlefont.size = 14\n",
    "    \n",
    "    py.iplot(fig)"
   ]
  },
  {
   "cell_type": "code",
   "execution_count": 90,
   "metadata": {},
   "outputs": [],
   "source": [
    "def plot_feature_importance(model):\n",
    "    tmp = pd.DataFrame({'Feature': list(attrition_final_tree), 'Feature importance': model.feature_importances_})\n",
    "    tmp = tmp.sort_values(by='Feature importance',ascending=False).head(12)\n",
    "    plt.figure(figsize = (10,12))\n",
    "    plt.title('Top 30 - Features importance - {0}'.format(model),fontsize=14)\n",
    "    s = sns.barplot(y='Feature',x='Feature importance',data=tmp, orient='h')\n",
    "    s.set_xticklabels(s.get_xticklabels(),rotation=90)\n",
    "    plt.show()"
   ]
  },
  {
   "cell_type": "code",
   "execution_count": 25,
   "metadata": {},
   "outputs": [],
   "source": [
    "def plot_confusion_matrix(model):\n",
    "    conf_matrix = confusion_matrix(target_val, y_pred)\n",
    "    trace1 = go.Heatmap(z=conf_matrix  ,x = [\"No (pred)\",\"Yes (pred)\"],\n",
    "                        y = [\"No (Actual)\",\"Yes (Actual)\"], xgap=2, ygap=2,\n",
    "                        colorscale = 'Viridis', \n",
    "                        showscale=False, text=conf_matrix)\n",
    "    trace1 = ff.create_annotated_heatmap(conf_matrix, x = [\"No (pred)\",\"Yes (pred)\"],\n",
    "                        y = [\"No (Actual)\",\"Yes (Actual)\"], xgap=2, ygap=2,\n",
    "                        colorscale = 'Viridis', \n",
    "                        showscale=False, annotation_text=conf_matrix, \n",
    "                                         hoverinfo='z')\n",
    "    trace1['layout'].update(showlegend = False, title = '<b>Model Confusion matrix</b><br>'+str(model).split('(')[0],\n",
    "                        autosize = True, height = 900,width = 830,\n",
    "                        plot_bgcolor = 'rgba(240,240,240, 0.95)',\n",
    "                        paper_bgcolor = 'rgba(240,240,240, 0.95)',\n",
    "                        margin = dict(b = 195))\n",
    "    # for i in range(len(trace1.layout.annotations)):\n",
    "    #     trace1.layout.annotations[i].font.size = 9\n",
    "\n",
    "    trace1.show()"
   ]
  },
  {
   "cell_type": "code",
   "execution_count": 26,
   "metadata": {},
   "outputs": [],
   "source": [
    "# from sklearn.ensemble import RandomForestClassifier\n",
    "\n",
    "# seed = 345\n",
    "# # Random Forest parameters\n",
    "# rf_params = {\n",
    "#     'n_jobs': -1,\n",
    "#     'n_estimators': 100,\n",
    "# #     'warm_start': True, \n",
    "#     'max_features': 0.3,\n",
    "#     'max_depth': 5,\n",
    "#     'min_samples_leaf': 2,\n",
    "#     'max_features' : 'sqrt',\n",
    "#     'random_state' : seed,\n",
    "#     'verbose': 0\n",
    "# }\n",
    "\n",
    "# rf = RandomForestClassifier(**rf_params)\n",
    "# # rf = RandomForestClassifier()\n",
    "# rf.fit(train, target_train)\n",
    "# print(\"Fitting of Random Forest finished\")"
   ]
  },
  {
   "cell_type": "code",
   "execution_count": 27,
   "metadata": {},
   "outputs": [],
   "source": [
    "# rf_predictions = rf.predict(test)\n",
    "# print(\"Predictions finished\")"
   ]
  },
  {
   "cell_type": "code",
   "execution_count": 28,
   "metadata": {},
   "outputs": [],
   "source": [
    "# print(\"Accuracy score: {}\".format(accuracy_score(target_val, rf_predictions)))\n",
    "# print(\"=\"*80)\n",
    "# print(classification_report(target_val, rf_predictions))"
   ]
  },
  {
   "cell_type": "code",
   "execution_count": 29,
   "metadata": {},
   "outputs": [
    {
     "data": {
      "text/plain": [
       "(2466, 20)"
      ]
     },
     "execution_count": 29,
     "metadata": {},
     "output_type": "execute_result"
    }
   ],
   "source": [
    "attrition_wo_scaled = pd.concat([df_num, attrition_cat], axis=1)\n",
    "attrition_wo_scaled.shape"
   ]
  },
  {
   "cell_type": "code",
   "execution_count": null,
   "metadata": {},
   "outputs": [],
   "source": []
  },
  {
   "cell_type": "code",
   "execution_count": 30,
   "metadata": {},
   "outputs": [
    {
     "name": "stdout",
     "output_type": "stream",
     "text": [
      "                            Specs          Score\n",
      "2                   MonthlyIncome  411536.225257\n",
      "5                  YearsAtCompany     433.389238\n",
      "0                             Age     306.601455\n",
      "1                DistanceFromHome     168.847410\n",
      "13                       OverTime     145.667368\n",
      "14               StockOptionLevel      90.301831\n",
      "12                  MaritalStatus      52.232840\n",
      "19           low_worklife_balance      31.705882\n",
      "18            low_job_involvement      31.053763\n",
      "17                frequent_travel      30.952381\n",
      "9         EnvironmentSatisfaction      22.861395\n",
      "3              NumCompaniesWorked      20.701826\n",
      "11                JobSatisfaction      17.644864\n",
      "16  low_relationship_satisfaction      10.695312\n",
      "4           TrainingTimesLastYear       6.383004\n",
      "6                      Department       4.292568\n",
      "10                         Gender       1.063830\n",
      "8                  EducationField       0.805780\n",
      "7                       Education       0.453708\n",
      "15            low_percentage_hike       0.326425\n",
      "0                      Age\n",
      "1         DistanceFromHome\n",
      "2            MonthlyIncome\n",
      "5           YearsAtCompany\n",
      "12           MaritalStatus\n",
      "13                OverTime\n",
      "14        StockOptionLevel\n",
      "17         frequent_travel\n",
      "18     low_job_involvement\n",
      "19    low_worklife_balance\n",
      "Name: Specs, dtype: object\n"
     ]
    }
   ],
   "source": [
    "import pandas as pd\n",
    "import numpy as np\n",
    "from sklearn.feature_selection import SelectKBest\n",
    "from sklearn.feature_selection import chi2\n",
    "\n",
    "X = attrition_wo_scaled  #independent columns\n",
    "y = target   #target column i.e price range\n",
    "#apply SelectKBest class to extract top 10 best features\n",
    "bestfeatures = SelectKBest(score_func=chi2, k=20)\n",
    "fit = bestfeatures.fit(X,y)\n",
    "dfscores = pd.DataFrame(fit.scores_)\n",
    "dfcolumns = pd.DataFrame(X.columns)\n",
    "#concat two dataframes for better visualization \n",
    "featureScores = pd.concat([dfcolumns, dfscores],axis=1)\n",
    "featureScores.columns = ['Specs','Score']  #naming the dataframe columns\n",
    "print(featureScores.nlargest(20,'Score'))  #print 10 best features\n",
    "top_features = featureScores[featureScores['Score']>25]\n",
    "print(top_features['Specs'])"
   ]
  },
  {
   "cell_type": "code",
   "execution_count": 31,
   "metadata": {},
   "outputs": [
    {
     "data": {
      "text/plain": [
       "Research & Development    1509\n",
       "Sales                      840\n",
       "Human Resources            117\n",
       "Name: Department, dtype: int64"
      ]
     },
     "execution_count": 31,
     "metadata": {},
     "output_type": "execute_result"
    }
   ],
   "source": [
    "employees['Department'].value_counts()"
   ]
  },
  {
   "cell_type": "code",
   "execution_count": 32,
   "metadata": {},
   "outputs": [
    {
     "name": "stdout",
     "output_type": "stream",
     "text": [
      "Before: (0, 21)\n",
      "Department: object\n",
      "Education: category\n",
      "EducationField: object\n",
      "EnvironmentSatisfaction: category\n",
      "Gender: object\n",
      "JobSatisfaction: category\n",
      "MaritalStatus: object\n",
      "OverTime: object\n",
      "StockOptionLevel: category\n",
      "low_percentage_hike: object\n",
      "low_relationship_satisfaction: object\n",
      "frequent_travel: object\n",
      "low_job_involvement: object\n",
      "low_worklife_balance: object\n",
      "<class 'pandas.core.frame.DataFrame'>\n",
      "Int64Index: 0 entries\n",
      "Empty DataFrameShape of final dataset attrition_final: (0, 6)\n",
      "Index(['Age', 'DistanceFromHome', 'MonthlyIncome', 'NumCompaniesWorked',\n",
      "       'TrainingTimesLastYear', 'YearsAtCompany'],\n",
      "      dtype='object')\n"
     ]
    },
    {
     "data": {
      "text/plain": [
       "Series([], Name: Attrition, dtype: int64)"
      ]
     },
     "execution_count": 32,
     "metadata": {},
     "output_type": "execute_result"
    }
   ],
   "source": [
    "employee_rnd = employees[employees['Department']=='\\'Research & Development\\'']\n",
    "print(\"Before: \" + str(employee_rnd.shape))\n",
    "\n",
    "df_rnd_num = employee_rnd[['Age', 'DistanceFromHome', 'MonthlyIncome', 'NumCompaniesWorked', \n",
    "                    'TrainingTimesLastYear', 'YearsAtCompany']]\n",
    "# df_rnd_num.columns\n",
    "\n",
    "categorical = [col for col in employee_rnd.columns if col not in df_rnd_num.columns]\n",
    "\n",
    "attrition_cat_rnd = employee_rnd[categorical]\n",
    "attrition_cat_rnd = attrition_cat_rnd.drop(['Attrition'], axis=1)\n",
    "\n",
    "for col in attrition_cat_rnd.columns:\n",
    "    \n",
    "    if attrition_cat_rnd[col].dtypes==int:\n",
    "        attrition_cat_rnd[col] = attrition_cat_rnd[col].astype('category')\n",
    "    print(str(col)+ \": \" + str(attrition_cat_rnd[col].dtypes))\n",
    "\n",
    "    \n",
    "attrition_cat_rnd = pd.get_dummies(attrition_cat_rnd)\n",
    "attrition_cat_rnd.info()\n",
    "\n",
    "attrition_final_rnd = pd.concat([df_rnd_num, attrition_cat_rnd], axis=1)\n",
    "print(\"Shape of final dataset attrition_final: \" + str(attrition_final_rnd.shape))\n",
    "print(attrition_final_rnd.columns)\n",
    "\n",
    "target_map = {'Yes':1, 'No':0}\n",
    "# Use the pandas apply method to numerically encode our attrition target variable\n",
    "target_rnd = employee_rnd[\"Attrition\"].apply(lambda x: target_map[x])\n",
    "target_rnd.value_counts()"
   ]
  },
  {
   "cell_type": "code",
   "execution_count": 33,
   "metadata": {},
   "outputs": [
    {
     "data": {
      "text/plain": [
       "Index(['Age', 'Attrition', 'Department', 'DistanceFromHome', 'Education',\n",
       "       'EducationField', 'EnvironmentSatisfaction', 'Gender',\n",
       "       'JobSatisfaction', 'MaritalStatus', 'MonthlyIncome',\n",
       "       'NumCompaniesWorked', 'OverTime', 'StockOptionLevel',\n",
       "       'TrainingTimesLastYear', 'YearsAtCompany', 'low_percentage_hike',\n",
       "       'low_relationship_satisfaction', 'frequent_travel',\n",
       "       'low_job_involvement', 'low_worklife_balance'],\n",
       "      dtype='object')"
      ]
     },
     "execution_count": 33,
     "metadata": {},
     "output_type": "execute_result"
    }
   ],
   "source": [
    "employee_rnd.columns"
   ]
  },
  {
   "cell_type": "code",
   "execution_count": 34,
   "metadata": {},
   "outputs": [
    {
     "ename": "ValueError",
     "evalue": "Found array with 0 sample(s) (shape=(0, 6)) while a minimum of 1 is required.",
     "output_type": "error",
     "traceback": [
      "\u001b[0;31m---------------------------------------------------------------------------\u001b[0m",
      "\u001b[0;31mValueError\u001b[0m                                Traceback (most recent call last)",
      "\u001b[0;32m<ipython-input-34-e43c39712683>\u001b[0m in \u001b[0;36m<module>\u001b[0;34m\u001b[0m\n\u001b[1;32m      3\u001b[0m \u001b[0;31m#apply SelectKBest class to extract top 10 best features\u001b[0m\u001b[0;34m\u001b[0m\u001b[0;34m\u001b[0m\u001b[0;34m\u001b[0m\u001b[0m\n\u001b[1;32m      4\u001b[0m \u001b[0mbestfeatures_rnd\u001b[0m \u001b[0;34m=\u001b[0m \u001b[0mSelectKBest\u001b[0m\u001b[0;34m(\u001b[0m\u001b[0mscore_func\u001b[0m\u001b[0;34m=\u001b[0m\u001b[0mchi2\u001b[0m\u001b[0;34m,\u001b[0m \u001b[0mk\u001b[0m\u001b[0;34m=\u001b[0m\u001b[0;36m20\u001b[0m\u001b[0;34m)\u001b[0m\u001b[0;34m\u001b[0m\u001b[0;34m\u001b[0m\u001b[0m\n\u001b[0;32m----> 5\u001b[0;31m \u001b[0mfit_rnd\u001b[0m \u001b[0;34m=\u001b[0m \u001b[0mbestfeatures_rnd\u001b[0m\u001b[0;34m.\u001b[0m\u001b[0mfit\u001b[0m\u001b[0;34m(\u001b[0m\u001b[0mX_rnd\u001b[0m\u001b[0;34m,\u001b[0m\u001b[0my_rnd\u001b[0m\u001b[0;34m)\u001b[0m\u001b[0;34m\u001b[0m\u001b[0;34m\u001b[0m\u001b[0m\n\u001b[0m\u001b[1;32m      6\u001b[0m \u001b[0mdfscores_rnd\u001b[0m \u001b[0;34m=\u001b[0m \u001b[0mpd\u001b[0m\u001b[0;34m.\u001b[0m\u001b[0mDataFrame\u001b[0m\u001b[0;34m(\u001b[0m\u001b[0mfit_rnd\u001b[0m\u001b[0;34m.\u001b[0m\u001b[0mscores_\u001b[0m\u001b[0;34m)\u001b[0m\u001b[0;34m\u001b[0m\u001b[0;34m\u001b[0m\u001b[0m\n\u001b[1;32m      7\u001b[0m \u001b[0mdfcolumns_rnd\u001b[0m \u001b[0;34m=\u001b[0m \u001b[0mpd\u001b[0m\u001b[0;34m.\u001b[0m\u001b[0mDataFrame\u001b[0m\u001b[0;34m(\u001b[0m\u001b[0mX_rnd\u001b[0m\u001b[0;34m.\u001b[0m\u001b[0mcolumns\u001b[0m\u001b[0;34m)\u001b[0m\u001b[0;34m\u001b[0m\u001b[0;34m\u001b[0m\u001b[0m\n",
      "\u001b[0;32m~/Documents/Foundations of Business Analytics/final_bana200/lib/python3.7/site-packages/sklearn/feature_selection/univariate_selection.py\u001b[0m in \u001b[0;36mfit\u001b[0;34m(self, X, y)\u001b[0m\n\u001b[1;32m    339\u001b[0m         \u001b[0mself\u001b[0m \u001b[0;34m:\u001b[0m \u001b[0mobject\u001b[0m\u001b[0;34m\u001b[0m\u001b[0;34m\u001b[0m\u001b[0m\n\u001b[1;32m    340\u001b[0m         \"\"\"\n\u001b[0;32m--> 341\u001b[0;31m         \u001b[0mX\u001b[0m\u001b[0;34m,\u001b[0m \u001b[0my\u001b[0m \u001b[0;34m=\u001b[0m \u001b[0mcheck_X_y\u001b[0m\u001b[0;34m(\u001b[0m\u001b[0mX\u001b[0m\u001b[0;34m,\u001b[0m \u001b[0my\u001b[0m\u001b[0;34m,\u001b[0m \u001b[0;34m[\u001b[0m\u001b[0;34m'csr'\u001b[0m\u001b[0;34m,\u001b[0m \u001b[0;34m'csc'\u001b[0m\u001b[0;34m]\u001b[0m\u001b[0;34m,\u001b[0m \u001b[0mmulti_output\u001b[0m\u001b[0;34m=\u001b[0m\u001b[0;32mTrue\u001b[0m\u001b[0;34m)\u001b[0m\u001b[0;34m\u001b[0m\u001b[0;34m\u001b[0m\u001b[0m\n\u001b[0m\u001b[1;32m    342\u001b[0m \u001b[0;34m\u001b[0m\u001b[0m\n\u001b[1;32m    343\u001b[0m         \u001b[0;32mif\u001b[0m \u001b[0;32mnot\u001b[0m \u001b[0mcallable\u001b[0m\u001b[0;34m(\u001b[0m\u001b[0mself\u001b[0m\u001b[0;34m.\u001b[0m\u001b[0mscore_func\u001b[0m\u001b[0;34m)\u001b[0m\u001b[0;34m:\u001b[0m\u001b[0;34m\u001b[0m\u001b[0;34m\u001b[0m\u001b[0m\n",
      "\u001b[0;32m~/Documents/Foundations of Business Analytics/final_bana200/lib/python3.7/site-packages/sklearn/utils/validation.py\u001b[0m in \u001b[0;36mcheck_X_y\u001b[0;34m(X, y, accept_sparse, accept_large_sparse, dtype, order, copy, force_all_finite, ensure_2d, allow_nd, multi_output, ensure_min_samples, ensure_min_features, y_numeric, warn_on_dtype, estimator)\u001b[0m\n\u001b[1;32m    717\u001b[0m                     \u001b[0mensure_min_features\u001b[0m\u001b[0;34m=\u001b[0m\u001b[0mensure_min_features\u001b[0m\u001b[0;34m,\u001b[0m\u001b[0;34m\u001b[0m\u001b[0;34m\u001b[0m\u001b[0m\n\u001b[1;32m    718\u001b[0m                     \u001b[0mwarn_on_dtype\u001b[0m\u001b[0;34m=\u001b[0m\u001b[0mwarn_on_dtype\u001b[0m\u001b[0;34m,\u001b[0m\u001b[0;34m\u001b[0m\u001b[0;34m\u001b[0m\u001b[0m\n\u001b[0;32m--> 719\u001b[0;31m                     estimator=estimator)\n\u001b[0m\u001b[1;32m    720\u001b[0m     \u001b[0;32mif\u001b[0m \u001b[0mmulti_output\u001b[0m\u001b[0;34m:\u001b[0m\u001b[0;34m\u001b[0m\u001b[0;34m\u001b[0m\u001b[0m\n\u001b[1;32m    721\u001b[0m         y = check_array(y, 'csr', force_all_finite=True, ensure_2d=False,\n",
      "\u001b[0;32m~/Documents/Foundations of Business Analytics/final_bana200/lib/python3.7/site-packages/sklearn/utils/validation.py\u001b[0m in \u001b[0;36mcheck_array\u001b[0;34m(array, accept_sparse, accept_large_sparse, dtype, order, copy, force_all_finite, ensure_2d, allow_nd, ensure_min_samples, ensure_min_features, warn_on_dtype, estimator)\u001b[0m\n\u001b[1;32m    548\u001b[0m                              \u001b[0;34m\" minimum of %d is required%s.\"\u001b[0m\u001b[0;34m\u001b[0m\u001b[0;34m\u001b[0m\u001b[0m\n\u001b[1;32m    549\u001b[0m                              % (n_samples, array.shape, ensure_min_samples,\n\u001b[0;32m--> 550\u001b[0;31m                                 context))\n\u001b[0m\u001b[1;32m    551\u001b[0m \u001b[0;34m\u001b[0m\u001b[0m\n\u001b[1;32m    552\u001b[0m     \u001b[0;32mif\u001b[0m \u001b[0mensure_min_features\u001b[0m \u001b[0;34m>\u001b[0m \u001b[0;36m0\u001b[0m \u001b[0;32mand\u001b[0m \u001b[0marray\u001b[0m\u001b[0;34m.\u001b[0m\u001b[0mndim\u001b[0m \u001b[0;34m==\u001b[0m \u001b[0;36m2\u001b[0m\u001b[0;34m:\u001b[0m\u001b[0;34m\u001b[0m\u001b[0;34m\u001b[0m\u001b[0m\n",
      "\u001b[0;31mValueError\u001b[0m: Found array with 0 sample(s) (shape=(0, 6)) while a minimum of 1 is required."
     ]
    }
   ],
   "source": [
    "X_rnd = attrition_final_rnd  #independent columns\n",
    "y_rnd = target_rnd   #target column i.e price range\n",
    "#apply SelectKBest class to extract top 10 best features\n",
    "bestfeatures_rnd = SelectKBest(score_func=chi2, k=20)\n",
    "fit_rnd = bestfeatures_rnd.fit(X_rnd,y_rnd)\n",
    "dfscores_rnd = pd.DataFrame(fit_rnd.scores_)\n",
    "dfcolumns_rnd = pd.DataFrame(X_rnd.columns)\n",
    "#concat two dataframes for better visualization \n",
    "featureScores_rnd = pd.concat([dfcolumns_rnd, dfscores_rnd],axis=1)\n",
    "featureScores_rnd.columns = ['Specs','Score']  #naming the dataframe columns\n",
    "print(featureScores_rnd.nlargest(20,'Score'))"
   ]
  },
  {
   "cell_type": "code",
   "execution_count": null,
   "metadata": {},
   "outputs": [],
   "source": [
    "employee_sales = employees[employees['Department']=='Sales']\n",
    "\n",
    "print(\"Before: \" + str(employee_sales.shape))\n",
    "\n",
    "df_sales_num = employee_sales[['Age', 'DistanceFromHome', 'MonthlyIncome', 'NumCompaniesWorked', \n",
    "                    'TrainingTimesLastYear', 'YearsAtCompany']]\n",
    "# df_rnd_num.columns\n",
    "\n",
    "categorical_sales = [col for col in employee_sales.columns if col not in df_sales_num.columns]\n",
    "\n",
    "attrition_cat_sales = employee_sales[categorical_sales]\n",
    "attrition_cat_sales = attrition_cat_sales.drop(['Attrition'], axis=1)\n",
    "\n",
    "for col in attrition_cat_sales.columns:\n",
    "    \n",
    "    if attrition_cat_sales[col].dtypes==int:\n",
    "        attrition_cat_sales[col] = attrition_cat_sales[col].astype('category')\n",
    "    print(str(col)+ \": \" + str(attrition_cat_sales[col].dtypes))\n",
    "\n",
    "    \n",
    "attrition_cat_sales = pd.get_dummies(attrition_cat_sales)\n",
    "attrition_cat_sales.info()\n",
    "\n",
    "attrition_final_sales = pd.concat([df_sales_num, attrition_cat_sales], axis=1)\n",
    "print(\"Shape of final dataset attrition_final: \" + str(attrition_final_sales.shape))\n",
    "print(attrition_final_sales.columns)\n",
    "\n",
    "target_map = {'Yes':1, 'No':0}\n",
    "# Use the pandas apply method to numerically encode our attrition target variable\n",
    "target_sales = employee_sales[\"Attrition\"].apply(lambda x: target_map[x])\n",
    "target_sales.value_counts()"
   ]
  },
  {
   "cell_type": "code",
   "execution_count": null,
   "metadata": {},
   "outputs": [],
   "source": [
    "X_sales = attrition_final_sales  #independent columns\n",
    "y_sales = target_sales   #target column i.e price range\n",
    "#apply SelectKBest class to extract top 10 best features\n",
    "bestfeatures_sales = SelectKBest(score_func=chi2, k=20)\n",
    "fit_sales = bestfeatures_sales.fit(X_sales,y_sales)\n",
    "dfscores_sales = pd.DataFrame(fit_sales.scores_)\n",
    "dfcolumns_sales = pd.DataFrame(X_sales.columns)\n",
    "#concat two dataframes for better visualization \n",
    "featureScores_sales = pd.concat([dfcolumns_sales, dfscores_sales],axis=1)\n",
    "featureScores_sales.columns = ['Specs','Score']  #naming the dataframe columns\n",
    "print(featureScores_sales.nlargest(20,'Score'))"
   ]
  },
  {
   "cell_type": "code",
   "execution_count": null,
   "metadata": {},
   "outputs": [],
   "source": [
    "employee_hr = employees[employees['Department']=='\\'Human Resources\\'']\n",
    "\n",
    "print(\"Before: \" + str(employee_hr.shape))\n",
    "\n",
    "df_num_hr = employee_hr[['Age', 'DistanceFromHome', 'MonthlyIncome', 'NumCompaniesWorked', \n",
    "                    'TrainingTimesLastYear', 'YearsAtCompany']]\n",
    "# df_rnd_num.columns\n",
    "\n",
    "categorical_hr = [col for col in employee_hr.columns if col not in df_num_hr.columns]\n",
    "\n",
    "attrition_cat_hr = employee_hr[categorical_hr]\n",
    "attrition_cat_hr = attrition_cat_hr.drop(['Attrition'], axis=1)\n",
    "\n",
    "for col in attrition_cat_hr.columns:\n",
    "    \n",
    "    if attrition_cat_hr[col].dtypes==int:\n",
    "        attrition_cat_hr[col] = attrition_cat_hr[col].astype('category')\n",
    "    print(str(col)+ \": \" + str(attrition_cat_hr[col].dtypes))\n",
    "\n",
    "    \n",
    "attrition_cat_hr = pd.get_dummies(attrition_cat_hr)\n",
    "attrition_cat_hr.info()\n",
    "\n",
    "attrition_final_hr = pd.concat([df_num_hr, attrition_cat_hr], axis=1)\n",
    "print(\"Shape of final dataset attrition_final: \" + str(attrition_final_sales.shape))\n",
    "print(attrition_final_hr.columns)\n",
    "\n",
    "target_map = {'Yes':1, 'No':0}\n",
    "# Use the pandas apply method to numerically encode our attrition target variable\n",
    "target_hr = employee_hr[\"Attrition\"].apply(lambda x: target_map[x])\n",
    "target_hr.value_counts()"
   ]
  },
  {
   "cell_type": "code",
   "execution_count": null,
   "metadata": {},
   "outputs": [],
   "source": [
    "employee_hr.columns"
   ]
  },
  {
   "cell_type": "code",
   "execution_count": null,
   "metadata": {},
   "outputs": [],
   "source": [
    "X_hr = attrition_final_hr  #independent columns\n",
    "y_hr = target_hr   #target column i.e price range\n",
    "#apply SelectKBest class to extract top 10 best features\n",
    "bestfeatures_hr = SelectKBest(score_func=chi2, k=20)\n",
    "fit_hr = bestfeatures_hr.fit(X_hr,y_hr)\n",
    "dfscores_hr = pd.DataFrame(fit_hr.scores_)\n",
    "dfcolumns_hr = pd.DataFrame(X_hr.columns)\n",
    "#concat two dataframes for better visualization \n",
    "featureScores_hr = pd.concat([dfcolumns_hr, dfscores_hr],axis=1)\n",
    "featureScores_hr.columns = ['Specs','Score']  #naming the dataframe columns\n",
    "print(featureScores_hr.nlargest(20,'Score'))"
   ]
  },
  {
   "cell_type": "code",
   "execution_count": null,
   "metadata": {},
   "outputs": [],
   "source": [
    "employee_hr.to_csv('Employee-HR.csv', index=False)"
   ]
  },
  {
   "cell_type": "code",
   "execution_count": 35,
   "metadata": {},
   "outputs": [],
   "source": [
    "from sklearn.model_selection import train_test_split\n",
    "from sklearn.model_selection import StratifiedShuffleSplit\n",
    "\n",
    "attrition_final_tree = pd.concat([scaled_features_df_num, attrition_cat], axis=1)\n",
    "# Split data into train and test sets as well as for validation and testing\n",
    "train, test, target_train, target_val = train_test_split(attrition_final_tree, \n",
    "                                                         target, \n",
    "                                                         train_size= 0.80, random_state=0)"
   ]
  },
  {
   "cell_type": "code",
   "execution_count": 36,
   "metadata": {},
   "outputs": [
    {
     "name": "stdout",
     "output_type": "stream",
     "text": [
      "Fitting of Random Forest finished\n"
     ]
    }
   ],
   "source": [
    "from sklearn.ensemble import RandomForestClassifier\n",
    "\n",
    "seed = 345\n",
    "# Random Forest parameters\n",
    "rf_params = {\n",
    "    'criterion': 'entropy',\n",
    "    'n_jobs': -1,\n",
    "    'n_estimators': 100,\n",
    "#     'warm_start': True, \n",
    "    'max_features': 0.3,\n",
    "    'max_depth': 4,\n",
    "    'min_samples_leaf': 2,\n",
    "    'max_features' : 'sqrt',\n",
    "    'random_state' : seed,\n",
    "    'verbose': 0\n",
    "}\n",
    "\n",
    "rf = RandomForestClassifier(**rf_params)\n",
    "# rf = RandomForestClassifier()\n",
    "rf.fit(train, target_train)\n",
    "print(\"Fitting of Random Forest finished\")"
   ]
  },
  {
   "cell_type": "code",
   "execution_count": 37,
   "metadata": {},
   "outputs": [
    {
     "name": "stdout",
     "output_type": "stream",
     "text": [
      "Predictions finished\n"
     ]
    }
   ],
   "source": [
    "rf_predictions = rf.predict(test)\n",
    "print(\"Predictions finished\")"
   ]
  },
  {
   "cell_type": "code",
   "execution_count": 38,
   "metadata": {},
   "outputs": [
    {
     "name": "stdout",
     "output_type": "stream",
     "text": [
      "Accuracy score: 0.7813765182186235\n",
      "================================================================================\n",
      "              precision    recall  f1-score   support\n",
      "\n",
      "           0       0.77      0.80      0.79       250\n",
      "           1       0.79      0.76      0.77       244\n",
      "\n",
      "    accuracy                           0.78       494\n",
      "   macro avg       0.78      0.78      0.78       494\n",
      "weighted avg       0.78      0.78      0.78       494\n",
      "\n"
     ]
    }
   ],
   "source": [
    "print(\"Accuracy score: {}\".format(accuracy_score(target_val, rf_predictions)))\n",
    "print(\"=\"*80)\n",
    "print(classification_report(target_val, rf_predictions))"
   ]
  },
  {
   "cell_type": "code",
   "execution_count": 39,
   "metadata": {},
   "outputs": [
    {
     "data": {
      "application/vnd.plotly.v1+json": {
       "config": {
        "linkText": "Export to plot.ly",
        "plotlyServerURL": "https://plot.ly",
        "showLink": false
       },
       "data": [
        {
         "marker": {
          "color": [
           "gold",
           "lightgreen",
           "lightcoral",
           "lightskyblue"
          ],
          "line": {
           "color": "#000000",
           "width": 1.5
          }
         },
         "opacity": 0.8,
         "orientation": "h",
         "text": [
          0.7814,
          0.7906,
          0.7582,
          0.7741
         ],
         "textposition": "auto",
         "type": "bar",
         "x": [
          0.7813765182186235,
          0.7905982905982906,
          0.7581967213114754,
          0.7740585774058577
         ],
         "xaxis": "x",
         "y": [
          "Accuracy",
          "Precision",
          "Recall",
          "F1_score"
         ],
         "yaxis": "y"
        },
        {
         "fill": "tozeroy",
         "line": {
          "color": "rgb(22, 96, 167)",
          "width": 2
         },
         "name": "Roc : ",
         "type": "scatter",
         "x": [
          0,
          0,
          0,
          0,
          0,
          0,
          0,
          0,
          0,
          0,
          0,
          0,
          0,
          0,
          0,
          0,
          0,
          0,
          0.004,
          0.004,
          0.004,
          0.004,
          0.004,
          0.004,
          0.004,
          0.004,
          0.004,
          0.004,
          0.008,
          0.008,
          0.008,
          0.008,
          0.02,
          0.02,
          0.02,
          0.02,
          0.02,
          0.02,
          0.024,
          0.024,
          0.028,
          0.028,
          0.028,
          0.032,
          0.032,
          0.036,
          0.036,
          0.04,
          0.04,
          0.04,
          0.04,
          0.048,
          0.048,
          0.048,
          0.048,
          0.048,
          0.048,
          0.048,
          0.056,
          0.056,
          0.06,
          0.06,
          0.06,
          0.06,
          0.06,
          0.064,
          0.064,
          0.072,
          0.072,
          0.072,
          0.072,
          0.072,
          0.072,
          0.072,
          0.072,
          0.072,
          0.072,
          0.072,
          0.072,
          0.088,
          0.088,
          0.096,
          0.096,
          0.1,
          0.1,
          0.1,
          0.104,
          0.104,
          0.108,
          0.108,
          0.112,
          0.112,
          0.132,
          0.132,
          0.132,
          0.144,
          0.144,
          0.16,
          0.16,
          0.172,
          0.172,
          0.176,
          0.176,
          0.18,
          0.18,
          0.196,
          0.196,
          0.2,
          0.2,
          0.2,
          0.2,
          0.2,
          0.212,
          0.212,
          0.212,
          0.212,
          0.216,
          0.216,
          0.236,
          0.236,
          0.248,
          0.248,
          0.272,
          0.272,
          0.276,
          0.276,
          0.3,
          0.3,
          0.308,
          0.308,
          0.316,
          0.316,
          0.332,
          0.332,
          0.34,
          0.34,
          0.34,
          0.352,
          0.352,
          0.38,
          0.38,
          0.472,
          0.472,
          0.54,
          0.54,
          0.568,
          0.568,
          0.584,
          0.584,
          0.592,
          0.592,
          0.612,
          0.612,
          0.684,
          0.684,
          0.684,
          0.688,
          0.688,
          0.7,
          0.7,
          0.756,
          0.756,
          0.764,
          0.764,
          0.764,
          0.768,
          0.768,
          0.88,
          0.88,
          1
         ],
         "xaxis": "x2",
         "y": [
          0,
          0.004098360655737705,
          0.012295081967213115,
          0.020491803278688523,
          0.036885245901639344,
          0.045081967213114756,
          0.05327868852459016,
          0.05737704918032787,
          0.06557377049180328,
          0.06967213114754098,
          0.0778688524590164,
          0.09836065573770492,
          0.10655737704918032,
          0.12704918032786885,
          0.13934426229508196,
          0.14344262295081966,
          0.15163934426229508,
          0.1680327868852459,
          0.1680327868852459,
          0.18032786885245902,
          0.18442622950819673,
          0.19262295081967212,
          0.19672131147540983,
          0.20491803278688525,
          0.21311475409836064,
          0.22131147540983606,
          0.2336065573770492,
          0.25,
          0.25,
          0.2540983606557377,
          0.2786885245901639,
          0.2827868852459016,
          0.2827868852459016,
          0.28688524590163933,
          0.29508196721311475,
          0.29918032786885246,
          0.3073770491803279,
          0.3114754098360656,
          0.3114754098360656,
          0.319672131147541,
          0.319672131147541,
          0.3442622950819672,
          0.3483606557377049,
          0.3483606557377049,
          0.3524590163934426,
          0.3524590163934426,
          0.36065573770491804,
          0.36065573770491804,
          0.3729508196721312,
          0.38114754098360654,
          0.38934426229508196,
          0.38934426229508196,
          0.39344262295081966,
          0.4098360655737705,
          0.42213114754098363,
          0.4262295081967213,
          0.4344262295081967,
          0.45491803278688525,
          0.45491803278688525,
          0.46311475409836067,
          0.46311475409836067,
          0.4672131147540984,
          0.48360655737704916,
          0.4959016393442623,
          0.5,
          0.5,
          0.5122950819672131,
          0.5122950819672131,
          0.5286885245901639,
          0.5409836065573771,
          0.5450819672131147,
          0.5532786885245902,
          0.5573770491803278,
          0.5655737704918032,
          0.5778688524590164,
          0.5819672131147541,
          0.5983606557377049,
          0.6024590163934426,
          0.6188524590163934,
          0.6188524590163934,
          0.6229508196721312,
          0.6229508196721312,
          0.6270491803278688,
          0.6270491803278688,
          0.6475409836065574,
          0.6557377049180327,
          0.6557377049180327,
          0.6598360655737705,
          0.6598360655737705,
          0.6680327868852459,
          0.6680327868852459,
          0.6762295081967213,
          0.6762295081967213,
          0.7090163934426229,
          0.7131147540983607,
          0.7131147540983607,
          0.7213114754098361,
          0.7213114754098361,
          0.7295081967213115,
          0.7295081967213115,
          0.7459016393442623,
          0.7459016393442623,
          0.75,
          0.75,
          0.7540983606557377,
          0.7540983606557377,
          0.7622950819672131,
          0.7622950819672131,
          0.7663934426229508,
          0.7745901639344263,
          0.7786885245901639,
          0.7950819672131147,
          0.7950819672131147,
          0.7991803278688525,
          0.8114754098360656,
          0.8155737704918032,
          0.8155737704918032,
          0.819672131147541,
          0.819672131147541,
          0.8237704918032787,
          0.8237704918032787,
          0.8319672131147541,
          0.8319672131147541,
          0.8360655737704918,
          0.8360655737704918,
          0.8401639344262295,
          0.8401639344262295,
          0.8442622950819673,
          0.8442622950819673,
          0.8483606557377049,
          0.8483606557377049,
          0.8524590163934426,
          0.8524590163934426,
          0.8688524590163934,
          0.8688524590163934,
          0.8729508196721312,
          0.8852459016393442,
          0.8852459016393442,
          0.889344262295082,
          0.889344262295082,
          0.8934426229508197,
          0.8934426229508197,
          0.9057377049180327,
          0.9057377049180327,
          0.9139344262295082,
          0.9139344262295082,
          0.9221311475409836,
          0.9221311475409836,
          0.9262295081967213,
          0.9262295081967213,
          0.9344262295081968,
          0.9344262295081968,
          0.9385245901639344,
          0.9385245901639344,
          0.9590163934426229,
          0.9631147540983607,
          0.9631147540983607,
          0.9672131147540983,
          0.9672131147540983,
          0.9713114754098361,
          0.9713114754098361,
          0.9754098360655737,
          0.9754098360655737,
          0.9795081967213115,
          0.9877049180327869,
          0.9877049180327869,
          0.9959016393442623,
          0.9959016393442623,
          1,
          1
         ],
         "yaxis": "y2"
        },
        {
         "line": {
          "color": "black",
          "dash": "dot",
          "width": 1.5
         },
         "type": "scatter",
         "x": [
          0,
          1
         ],
         "xaxis": "x2",
         "y": [
          0,
          1
         ],
         "yaxis": "y2"
        },
        {
         "fill": "tozeroy",
         "line": {
          "color": "lightcoral",
          "width": 2
         },
         "name": "Precision[0.52586207 0.52483801 0.52597403 0.52711497 0.52826087 0.52941176\n 0.53056769 0.53172867 0.53289474 0.53406593 0.53524229 0.53642384\n 0.53761062 0.53880266 0.54       0.54120267 0.54241071 0.54362416\n 0.54484305 0.54606742 0.5472973  0.54853273 0.54977376 0.55102041\n 0.55227273 0.55353075 0.55479452 0.55606407 0.55733945 0.55862069\n 0.55658199 0.55787037 0.55581395 0.55477855 0.55607477 0.55737705\n 0.55633803 0.55764706 0.55896226 0.56028369 0.56161137 0.56294537\n 0.56428571 0.56563246 0.56698565 0.56834532 0.56971154 0.57108434\n 0.57246377 0.57384988 0.57524272 0.57420925 0.57560976 0.57701711\n 0.57843137 0.57739558 0.57881773 0.57777778 0.5725     0.57393484\n 0.57537688 0.5768262  0.57828283 0.57974684 0.58121827 0.5826972\n 0.58418367 0.58567775 0.58717949 0.58868895 0.59020619 0.59173127\n 0.59326425 0.59480519 0.59635417 0.59791123 0.59947644 0.5984252\n 0.6        0.60158311 0.6031746  0.60477454 0.60638298 0.60427807\n 0.60589812 0.60752688 0.606469   0.60810811 0.6097561  0.61141304\n 0.61307902 0.6109589  0.61263736 0.61432507 0.6160221  0.61772853\n 0.61944444 0.62116992 0.62290503 0.62078652 0.62253521 0.62429379\n 0.62606232 0.62784091 0.62962963 0.63142857 0.63323782 0.63505747\n 0.63688761 0.63872832 0.64057971 0.64244186 0.64431487 0.64619883\n 0.64809384 0.65       0.6519174  0.65088757 0.64985163 0.64880952\n 0.65074627 0.65269461 0.65465465 0.65662651 0.65861027 0.66060606\n 0.66261398 0.66463415 0.66666667 0.66871166 0.67076923 0.67283951\n 0.6749226  0.67701863 0.67912773 0.68125    0.68338558 0.68553459\n 0.68769716 0.68987342 0.69206349 0.69426752 0.69648562 0.69551282\n 0.6977492  0.7        0.70226537 0.70454545 0.70684039 0.70915033\n 0.71147541 0.71052632 0.71287129 0.71523179 0.71760797 0.7147651\n 0.71380471 0.71621622 0.71864407 0.71477663 0.71724138 0.71972318\n 0.72222222 0.72473868 0.72377622 0.72631579 0.72887324 0.72791519\n 0.73049645 0.73309609 0.73214286 0.73476703 0.73741007 0.7400722\n 0.74275362 0.74545455 0.74817518 0.74725275 0.75       0.74907749\n 0.75185185 0.75464684 0.75746269 0.76029963 0.76315789 0.76603774\n 0.76425856 0.76717557 0.77011494 0.77307692 0.77220077 0.7751938\n 0.77821012 0.78125    0.78431373 0.78740157 0.78656126 0.78968254\n 0.78884462 0.78629032 0.7854251  0.78861789 0.79183673 0.79508197\n 0.79166667 0.79079498 0.78902954 0.78813559 0.79148936 0.79059829\n 0.78969957 0.79310345 0.7965368  0.8        0.80349345 0.80263158\n 0.8061674  0.80530973 0.80888889 0.80803571 0.80717489 0.80630631\n 0.80542986 0.80909091 0.81278539 0.81651376 0.81481481 0.81860465\n 0.82242991 0.82629108 0.83018868 0.82857143 0.83253589 0.83653846\n 0.84057971 0.83980583 0.83823529 0.83663366 0.835      0.83333333\n 0.83756345 0.84183673 0.84615385 0.85051546 0.85492228 0.85340314\n 0.85789474 0.85638298 0.86096257 0.86021505 0.86486486 0.86338798\n 0.86263736 0.86187845 0.86111111 0.8603352  0.85955056 0.86440678\n 0.86363636 0.86857143 0.87356322 0.87283237 0.87790698 0.88304094\n 0.88823529 0.89349112 0.89221557 0.89090909 0.8902439  0.88888889\n 0.8875     0.88679245 0.88461538 0.88311688 0.88235294 0.8807947\n 0.88       0.87755102 0.87586207 0.87412587 0.88028169 0.88652482\n 0.88405797 0.89051095 0.88970588 0.88721805 0.88549618 0.88372093\n 0.8828125  0.88976378 0.888      0.89516129 0.90243902 0.89830508\n 0.89655172 0.89565217 0.89285714 0.88888889 0.88785047 0.89622642\n 0.9047619  0.90384615 0.90291262 0.9009901  0.89795918 0.90721649\n 0.90625    0.90526316 0.91489362 0.91397849 0.92391304 0.92307692\n 0.92134831 0.91954023 0.91764706 0.92857143 0.92682927 0.9382716\n 0.9375     0.93589744 0.93506494 0.93333333 0.93243243 0.94520548\n 0.95833333 0.97183099 0.97142857 0.97058824 0.96969697 0.96875\n 0.96825397 0.98387097 0.98333333 0.98275862 0.98245614 0.98214286\n 0.98181818 0.98113208 0.98076923 0.98039216 0.97959184 0.97916667\n 0.97826087 0.97777778 0.97619048 1.         1.         1.\n 1.         1.         1.         1.         1.         1.\n 1.         1.         1.         1.         1.         1.\n 1.         1.         1.         1.         1.         1.\n 1.         1.         1.         1.         1.         1.\n 1.         1.        ]",
         "type": "scatter",
         "x": [
          1,
          0.9959016393442623,
          0.9959016393442623,
          0.9959016393442623,
          0.9959016393442623,
          0.9959016393442623,
          0.9959016393442623,
          0.9959016393442623,
          0.9959016393442623,
          0.9959016393442623,
          0.9959016393442623,
          0.9959016393442623,
          0.9959016393442623,
          0.9959016393442623,
          0.9959016393442623,
          0.9959016393442623,
          0.9959016393442623,
          0.9959016393442623,
          0.9959016393442623,
          0.9959016393442623,
          0.9959016393442623,
          0.9959016393442623,
          0.9959016393442623,
          0.9959016393442623,
          0.9959016393442623,
          0.9959016393442623,
          0.9959016393442623,
          0.9959016393442623,
          0.9959016393442623,
          0.9959016393442623,
          0.9877049180327869,
          0.9877049180327869,
          0.9795081967213115,
          0.9754098360655737,
          0.9754098360655737,
          0.9754098360655737,
          0.9713114754098361,
          0.9713114754098361,
          0.9713114754098361,
          0.9713114754098361,
          0.9713114754098361,
          0.9713114754098361,
          0.9713114754098361,
          0.9713114754098361,
          0.9713114754098361,
          0.9713114754098361,
          0.9713114754098361,
          0.9713114754098361,
          0.9713114754098361,
          0.9713114754098361,
          0.9713114754098361,
          0.9672131147540983,
          0.9672131147540983,
          0.9672131147540983,
          0.9672131147540983,
          0.9631147540983607,
          0.9631147540983607,
          0.9590163934426229,
          0.9385245901639344,
          0.9385245901639344,
          0.9385245901639344,
          0.9385245901639344,
          0.9385245901639344,
          0.9385245901639344,
          0.9385245901639344,
          0.9385245901639344,
          0.9385245901639344,
          0.9385245901639344,
          0.9385245901639344,
          0.9385245901639344,
          0.9385245901639344,
          0.9385245901639344,
          0.9385245901639344,
          0.9385245901639344,
          0.9385245901639344,
          0.9385245901639344,
          0.9385245901639344,
          0.9344262295081968,
          0.9344262295081968,
          0.9344262295081968,
          0.9344262295081968,
          0.9344262295081968,
          0.9344262295081968,
          0.9262295081967213,
          0.9262295081967213,
          0.9262295081967213,
          0.9221311475409836,
          0.9221311475409836,
          0.9221311475409836,
          0.9221311475409836,
          0.9221311475409836,
          0.9139344262295082,
          0.9139344262295082,
          0.9139344262295082,
          0.9139344262295082,
          0.9139344262295082,
          0.9139344262295082,
          0.9139344262295082,
          0.9139344262295082,
          0.9057377049180327,
          0.9057377049180327,
          0.9057377049180327,
          0.9057377049180327,
          0.9057377049180327,
          0.9057377049180327,
          0.9057377049180327,
          0.9057377049180327,
          0.9057377049180327,
          0.9057377049180327,
          0.9057377049180327,
          0.9057377049180327,
          0.9057377049180327,
          0.9057377049180327,
          0.9057377049180327,
          0.9057377049180327,
          0.9057377049180327,
          0.9057377049180327,
          0.9016393442622951,
          0.8975409836065574,
          0.8934426229508197,
          0.8934426229508197,
          0.8934426229508197,
          0.8934426229508197,
          0.8934426229508197,
          0.8934426229508197,
          0.8934426229508197,
          0.8934426229508197,
          0.8934426229508197,
          0.8934426229508197,
          0.8934426229508197,
          0.8934426229508197,
          0.8934426229508197,
          0.8934426229508197,
          0.8934426229508197,
          0.8934426229508197,
          0.8934426229508197,
          0.8934426229508197,
          0.8934426229508197,
          0.8934426229508197,
          0.8934426229508197,
          0.8934426229508197,
          0.8934426229508197,
          0.8934426229508197,
          0.889344262295082,
          0.889344262295082,
          0.889344262295082,
          0.889344262295082,
          0.889344262295082,
          0.889344262295082,
          0.889344262295082,
          0.889344262295082,
          0.8852459016393442,
          0.8852459016393442,
          0.8852459016393442,
          0.8852459016393442,
          0.8729508196721312,
          0.8688524590163934,
          0.8688524590163934,
          0.8688524590163934,
          0.8524590163934426,
          0.8524590163934426,
          0.8524590163934426,
          0.8524590163934426,
          0.8524590163934426,
          0.8483606557377049,
          0.8483606557377049,
          0.8483606557377049,
          0.8442622950819673,
          0.8442622950819673,
          0.8442622950819673,
          0.8401639344262295,
          0.8401639344262295,
          0.8401639344262295,
          0.8401639344262295,
          0.8401639344262295,
          0.8401639344262295,
          0.8401639344262295,
          0.8360655737704918,
          0.8360655737704918,
          0.8319672131147541,
          0.8319672131147541,
          0.8319672131147541,
          0.8319672131147541,
          0.8319672131147541,
          0.8319672131147541,
          0.8319672131147541,
          0.8237704918032787,
          0.8237704918032787,
          0.8237704918032787,
          0.8237704918032787,
          0.819672131147541,
          0.819672131147541,
          0.819672131147541,
          0.819672131147541,
          0.819672131147541,
          0.819672131147541,
          0.8155737704918032,
          0.8155737704918032,
          0.8114754098360656,
          0.7991803278688525,
          0.7950819672131147,
          0.7950819672131147,
          0.7950819672131147,
          0.7950819672131147,
          0.7786885245901639,
          0.7745901639344263,
          0.7663934426229508,
          0.7622950819672131,
          0.7622950819672131,
          0.7581967213114754,
          0.7540983606557377,
          0.7540983606557377,
          0.7540983606557377,
          0.7540983606557377,
          0.7540983606557377,
          0.75,
          0.75,
          0.7459016393442623,
          0.7459016393442623,
          0.7418032786885246,
          0.7377049180327869,
          0.7336065573770492,
          0.7295081967213115,
          0.7295081967213115,
          0.7295081967213115,
          0.7295081967213115,
          0.7213114754098361,
          0.7213114754098361,
          0.7213114754098361,
          0.7213114754098361,
          0.7213114754098361,
          0.7131147540983607,
          0.7131147540983607,
          0.7131147540983607,
          0.7131147540983607,
          0.7090163934426229,
          0.7008196721311475,
          0.6926229508196722,
          0.6844262295081968,
          0.6762295081967213,
          0.6762295081967213,
          0.6762295081967213,
          0.6762295081967213,
          0.6762295081967213,
          0.6762295081967213,
          0.6680327868852459,
          0.6680327868852459,
          0.6598360655737705,
          0.6598360655737705,
          0.6557377049180327,
          0.6557377049180327,
          0.6475409836065574,
          0.6434426229508197,
          0.639344262295082,
          0.6352459016393442,
          0.6311475409836066,
          0.6270491803278688,
          0.6270491803278688,
          0.6229508196721312,
          0.6229508196721312,
          0.6229508196721312,
          0.6188524590163934,
          0.6188524590163934,
          0.6188524590163934,
          0.6188524590163934,
          0.6188524590163934,
          0.610655737704918,
          0.6024590163934426,
          0.5983606557377049,
          0.5901639344262295,
          0.5819672131147541,
          0.5778688524590164,
          0.5655737704918032,
          0.5573770491803278,
          0.5532786885245902,
          0.5450819672131147,
          0.5409836065573771,
          0.5286885245901639,
          0.5204918032786885,
          0.5122950819672131,
          0.5122950819672131,
          0.5122950819672131,
          0.5,
          0.5,
          0.4959016393442623,
          0.48360655737704916,
          0.47540983606557374,
          0.4672131147540984,
          0.46311475409836067,
          0.46311475409836067,
          0.45491803278688525,
          0.45491803278688525,
          0.45491803278688525,
          0.4344262295081967,
          0.4262295081967213,
          0.42213114754098363,
          0.4098360655737705,
          0.39344262295081966,
          0.38934426229508196,
          0.38934426229508196,
          0.38934426229508196,
          0.38524590163934425,
          0.38114754098360654,
          0.3729508196721312,
          0.36065573770491804,
          0.36065573770491804,
          0.35655737704918034,
          0.3524590163934426,
          0.3524590163934426,
          0.3483606557377049,
          0.3483606557377049,
          0.3442622950819672,
          0.3360655737704918,
          0.32786885245901637,
          0.319672131147541,
          0.319672131147541,
          0.3114754098360656,
          0.3114754098360656,
          0.3073770491803279,
          0.29918032786885246,
          0.29508196721311475,
          0.28688524590163933,
          0.2827868852459016,
          0.2827868852459016,
          0.2827868852459016,
          0.2827868852459016,
          0.2786885245901639,
          0.27049180327868855,
          0.26229508196721313,
          0.2540983606557377,
          0.25,
          0.25,
          0.24180327868852458,
          0.2336065573770492,
          0.22950819672131148,
          0.22540983606557377,
          0.22131147540983606,
          0.21311475409836064,
          0.20901639344262296,
          0.20491803278688525,
          0.19672131147540983,
          0.19262295081967212,
          0.18442622950819673,
          0.18032786885245902,
          0.1680327868852459,
          0.1680327868852459,
          0.15163934426229508,
          0.14344262295081966,
          0.13934426229508196,
          0.12704918032786885,
          0.12295081967213115,
          0.11885245901639344,
          0.11475409836065574,
          0.11065573770491803,
          0.10655737704918032,
          0.09836065573770492,
          0.0942622950819672,
          0.09016393442622951,
          0.0860655737704918,
          0.08196721311475409,
          0.0778688524590164,
          0.06967213114754098,
          0.06557377049180328,
          0.05737704918032787,
          0.05327868852459016,
          0.045081967213114756,
          0.040983606557377046,
          0.036885245901639344,
          0.028688524590163935,
          0.020491803278688523,
          0.01639344262295082,
          0.012295081967213115,
          0.004098360655737705,
          0
         ],
         "xaxis": "x3",
         "y": [
          0.5258620689655172,
          0.5248380129589633,
          0.525974025974026,
          0.527114967462039,
          0.5282608695652173,
          0.5294117647058824,
          0.5305676855895196,
          0.5317286652078774,
          0.5328947368421053,
          0.5340659340659341,
          0.5352422907488987,
          0.5364238410596026,
          0.5376106194690266,
          0.5388026607538803,
          0.54,
          0.5412026726057907,
          0.5424107142857143,
          0.5436241610738255,
          0.5448430493273543,
          0.5460674157303371,
          0.5472972972972973,
          0.5485327313769752,
          0.5497737556561086,
          0.5510204081632653,
          0.5522727272727272,
          0.5535307517084282,
          0.5547945205479452,
          0.5560640732265446,
          0.5573394495412844,
          0.5586206896551724,
          0.5565819861431871,
          0.5578703703703703,
          0.5558139534883721,
          0.5547785547785548,
          0.5560747663551402,
          0.5573770491803278,
          0.5563380281690141,
          0.5576470588235294,
          0.5589622641509434,
          0.5602836879432624,
          0.5616113744075829,
          0.5629453681710214,
          0.5642857142857143,
          0.5656324582338902,
          0.5669856459330144,
          0.5683453237410072,
          0.5697115384615384,
          0.5710843373493976,
          0.572463768115942,
          0.5738498789346247,
          0.5752427184466019,
          0.5742092457420924,
          0.5756097560975609,
          0.5770171149144254,
          0.5784313725490197,
          0.5773955773955773,
          0.5788177339901478,
          0.5777777777777777,
          0.5725,
          0.5739348370927319,
          0.5753768844221105,
          0.5768261964735516,
          0.5782828282828283,
          0.579746835443038,
          0.5812182741116751,
          0.5826972010178118,
          0.5841836734693877,
          0.5856777493606138,
          0.5871794871794872,
          0.5886889460154242,
          0.5902061855670103,
          0.5917312661498708,
          0.5932642487046632,
          0.5948051948051948,
          0.5963541666666666,
          0.597911227154047,
          0.599476439790576,
          0.5984251968503937,
          0.6,
          0.6015831134564644,
          0.6031746031746031,
          0.6047745358090185,
          0.6063829787234043,
          0.6042780748663101,
          0.6058981233243967,
          0.6075268817204301,
          0.6064690026954178,
          0.6081081081081081,
          0.6097560975609756,
          0.6114130434782609,
          0.6130790190735694,
          0.6109589041095891,
          0.6126373626373627,
          0.6143250688705234,
          0.6160220994475138,
          0.6177285318559557,
          0.6194444444444445,
          0.6211699164345403,
          0.6229050279329609,
          0.6207865168539326,
          0.6225352112676056,
          0.6242937853107344,
          0.6260623229461756,
          0.6278409090909091,
          0.6296296296296297,
          0.6314285714285715,
          0.6332378223495702,
          0.6350574712643678,
          0.6368876080691642,
          0.638728323699422,
          0.6405797101449275,
          0.6424418604651163,
          0.6443148688046647,
          0.6461988304093568,
          0.6480938416422287,
          0.65,
          0.6519174041297935,
          0.650887573964497,
          0.6498516320474778,
          0.6488095238095238,
          0.6507462686567164,
          0.6526946107784432,
          0.6546546546546547,
          0.6566265060240963,
          0.6586102719033232,
          0.6606060606060606,
          0.662613981762918,
          0.6646341463414634,
          0.6666666666666666,
          0.6687116564417178,
          0.6707692307692308,
          0.6728395061728395,
          0.6749226006191951,
          0.6770186335403726,
          0.6791277258566978,
          0.68125,
          0.6833855799373041,
          0.6855345911949685,
          0.6876971608832808,
          0.689873417721519,
          0.692063492063492,
          0.6942675159235668,
          0.6964856230031949,
          0.6955128205128205,
          0.6977491961414791,
          0.7,
          0.7022653721682848,
          0.7045454545454546,
          0.7068403908794788,
          0.7091503267973857,
          0.7114754098360656,
          0.7105263157894737,
          0.7128712871287128,
          0.7152317880794702,
          0.717607973421927,
          0.714765100671141,
          0.7138047138047138,
          0.7162162162162162,
          0.7186440677966102,
          0.7147766323024055,
          0.7172413793103448,
          0.7197231833910035,
          0.7222222222222222,
          0.7247386759581882,
          0.7237762237762237,
          0.7263157894736842,
          0.7288732394366197,
          0.7279151943462897,
          0.7304964539007093,
          0.7330960854092526,
          0.7321428571428571,
          0.7347670250896058,
          0.737410071942446,
          0.740072202166065,
          0.7427536231884058,
          0.7454545454545455,
          0.7481751824817519,
          0.7472527472527473,
          0.75,
          0.7490774907749077,
          0.7518518518518519,
          0.7546468401486989,
          0.7574626865671642,
          0.7602996254681648,
          0.7631578947368421,
          0.7660377358490567,
          0.7642585551330798,
          0.767175572519084,
          0.7701149425287356,
          0.7730769230769231,
          0.7722007722007722,
          0.7751937984496124,
          0.7782101167315175,
          0.78125,
          0.7843137254901961,
          0.7874015748031497,
          0.7865612648221344,
          0.7896825396825397,
          0.7888446215139442,
          0.7862903225806451,
          0.7854251012145749,
          0.7886178861788617,
          0.7918367346938775,
          0.7950819672131147,
          0.7916666666666666,
          0.7907949790794979,
          0.7890295358649789,
          0.788135593220339,
          0.7914893617021277,
          0.7905982905982906,
          0.7896995708154506,
          0.7931034482758621,
          0.7965367965367965,
          0.8,
          0.8034934497816594,
          0.8026315789473685,
          0.8061674008810573,
          0.8053097345132744,
          0.8088888888888889,
          0.8080357142857143,
          0.8071748878923767,
          0.8063063063063063,
          0.8054298642533937,
          0.8090909090909091,
          0.8127853881278538,
          0.8165137614678899,
          0.8148148148148148,
          0.8186046511627907,
          0.822429906542056,
          0.8262910798122066,
          0.8301886792452831,
          0.8285714285714286,
          0.8325358851674641,
          0.8365384615384616,
          0.8405797101449275,
          0.8398058252427184,
          0.8382352941176471,
          0.8366336633663366,
          0.835,
          0.8333333333333334,
          0.8375634517766497,
          0.8418367346938775,
          0.8461538461538461,
          0.8505154639175257,
          0.8549222797927462,
          0.8534031413612565,
          0.8578947368421053,
          0.8563829787234043,
          0.8609625668449198,
          0.8602150537634409,
          0.8648648648648649,
          0.8633879781420765,
          0.8626373626373627,
          0.861878453038674,
          0.8611111111111112,
          0.8603351955307262,
          0.8595505617977528,
          0.864406779661017,
          0.8636363636363636,
          0.8685714285714285,
          0.8735632183908046,
          0.8728323699421965,
          0.877906976744186,
          0.8830409356725146,
          0.888235294117647,
          0.893491124260355,
          0.8922155688622755,
          0.8909090909090909,
          0.8902439024390244,
          0.8888888888888888,
          0.8875,
          0.8867924528301887,
          0.8846153846153846,
          0.8831168831168831,
          0.8823529411764706,
          0.8807947019867549,
          0.88,
          0.8775510204081632,
          0.8758620689655172,
          0.8741258741258742,
          0.8802816901408451,
          0.8865248226950354,
          0.8840579710144928,
          0.8905109489051095,
          0.8897058823529411,
          0.8872180451127819,
          0.8854961832061069,
          0.8837209302325582,
          0.8828125,
          0.889763779527559,
          0.888,
          0.8951612903225806,
          0.9024390243902439,
          0.8983050847457628,
          0.896551724137931,
          0.8956521739130435,
          0.8928571428571429,
          0.8888888888888888,
          0.8878504672897196,
          0.8962264150943396,
          0.9047619047619048,
          0.9038461538461539,
          0.9029126213592233,
          0.900990099009901,
          0.8979591836734694,
          0.9072164948453608,
          0.90625,
          0.9052631578947369,
          0.9148936170212766,
          0.9139784946236559,
          0.9239130434782609,
          0.9230769230769231,
          0.9213483146067416,
          0.9195402298850575,
          0.9176470588235294,
          0.9285714285714286,
          0.926829268292683,
          0.9382716049382716,
          0.9375,
          0.9358974358974359,
          0.935064935064935,
          0.9333333333333333,
          0.9324324324324325,
          0.9452054794520548,
          0.9583333333333334,
          0.971830985915493,
          0.9714285714285714,
          0.9705882352941176,
          0.9696969696969697,
          0.96875,
          0.9682539682539683,
          0.9838709677419355,
          0.9833333333333333,
          0.9827586206896551,
          0.9824561403508771,
          0.9821428571428571,
          0.9818181818181818,
          0.9811320754716981,
          0.9807692307692307,
          0.9803921568627451,
          0.9795918367346939,
          0.9791666666666666,
          0.9782608695652174,
          0.9777777777777777,
          0.9761904761904762,
          1,
          1,
          1,
          1,
          1,
          1,
          1,
          1,
          1,
          1,
          1,
          1,
          1,
          1,
          1,
          1,
          1,
          1,
          1,
          1,
          1,
          1,
          1,
          1,
          1,
          1,
          1,
          1,
          1
         ],
         "yaxis": "y3"
        }
       ],
       "layout": {
        "annotations": [
         {
          "font": {
           "size": 16
          },
          "showarrow": false,
          "text": "Metrics",
          "x": 0.5,
          "xanchor": "center",
          "xref": "paper",
          "y": 1,
          "yanchor": "bottom",
          "yref": "paper"
         },
         {
          "font": {
           "size": 16
          },
          "showarrow": false,
          "text": "ROC curve (0.859)",
          "x": 0.5,
          "xanchor": "center",
          "xref": "paper",
          "y": 0.6111111111111112,
          "yanchor": "bottom",
          "yref": "paper"
         },
         {
          "font": {
           "size": 16
          },
          "showarrow": false,
          "text": "Precision - Recall curve",
          "x": 0.5,
          "xanchor": "center",
          "xref": "paper",
          "y": 0.22222222222222224,
          "yanchor": "bottom",
          "yref": "paper"
         }
        ],
        "autosize": false,
        "height": 900,
        "margin": {
         "b": 195
        },
        "paper_bgcolor": "rgba(240,240,240, 0.95)",
        "plot_bgcolor": "rgba(240,240,240, 0.95)",
        "showlegend": false,
        "template": {
         "data": {
          "bar": [
           {
            "error_x": {
             "color": "#2a3f5f"
            },
            "error_y": {
             "color": "#2a3f5f"
            },
            "marker": {
             "line": {
              "color": "#E5ECF6",
              "width": 0.5
             }
            },
            "type": "bar"
           }
          ],
          "barpolar": [
           {
            "marker": {
             "line": {
              "color": "#E5ECF6",
              "width": 0.5
             }
            },
            "type": "barpolar"
           }
          ],
          "carpet": [
           {
            "aaxis": {
             "endlinecolor": "#2a3f5f",
             "gridcolor": "white",
             "linecolor": "white",
             "minorgridcolor": "white",
             "startlinecolor": "#2a3f5f"
            },
            "baxis": {
             "endlinecolor": "#2a3f5f",
             "gridcolor": "white",
             "linecolor": "white",
             "minorgridcolor": "white",
             "startlinecolor": "#2a3f5f"
            },
            "type": "carpet"
           }
          ],
          "choropleth": [
           {
            "colorbar": {
             "outlinewidth": 0,
             "ticks": ""
            },
            "type": "choropleth"
           }
          ],
          "contour": [
           {
            "colorbar": {
             "outlinewidth": 0,
             "ticks": ""
            },
            "colorscale": [
             [
              0,
              "#0d0887"
             ],
             [
              0.1111111111111111,
              "#46039f"
             ],
             [
              0.2222222222222222,
              "#7201a8"
             ],
             [
              0.3333333333333333,
              "#9c179e"
             ],
             [
              0.4444444444444444,
              "#bd3786"
             ],
             [
              0.5555555555555556,
              "#d8576b"
             ],
             [
              0.6666666666666666,
              "#ed7953"
             ],
             [
              0.7777777777777778,
              "#fb9f3a"
             ],
             [
              0.8888888888888888,
              "#fdca26"
             ],
             [
              1,
              "#f0f921"
             ]
            ],
            "type": "contour"
           }
          ],
          "contourcarpet": [
           {
            "colorbar": {
             "outlinewidth": 0,
             "ticks": ""
            },
            "type": "contourcarpet"
           }
          ],
          "heatmap": [
           {
            "colorbar": {
             "outlinewidth": 0,
             "ticks": ""
            },
            "colorscale": [
             [
              0,
              "#0d0887"
             ],
             [
              0.1111111111111111,
              "#46039f"
             ],
             [
              0.2222222222222222,
              "#7201a8"
             ],
             [
              0.3333333333333333,
              "#9c179e"
             ],
             [
              0.4444444444444444,
              "#bd3786"
             ],
             [
              0.5555555555555556,
              "#d8576b"
             ],
             [
              0.6666666666666666,
              "#ed7953"
             ],
             [
              0.7777777777777778,
              "#fb9f3a"
             ],
             [
              0.8888888888888888,
              "#fdca26"
             ],
             [
              1,
              "#f0f921"
             ]
            ],
            "type": "heatmap"
           }
          ],
          "heatmapgl": [
           {
            "colorbar": {
             "outlinewidth": 0,
             "ticks": ""
            },
            "colorscale": [
             [
              0,
              "#0d0887"
             ],
             [
              0.1111111111111111,
              "#46039f"
             ],
             [
              0.2222222222222222,
              "#7201a8"
             ],
             [
              0.3333333333333333,
              "#9c179e"
             ],
             [
              0.4444444444444444,
              "#bd3786"
             ],
             [
              0.5555555555555556,
              "#d8576b"
             ],
             [
              0.6666666666666666,
              "#ed7953"
             ],
             [
              0.7777777777777778,
              "#fb9f3a"
             ],
             [
              0.8888888888888888,
              "#fdca26"
             ],
             [
              1,
              "#f0f921"
             ]
            ],
            "type": "heatmapgl"
           }
          ],
          "histogram": [
           {
            "marker": {
             "colorbar": {
              "outlinewidth": 0,
              "ticks": ""
             }
            },
            "type": "histogram"
           }
          ],
          "histogram2d": [
           {
            "colorbar": {
             "outlinewidth": 0,
             "ticks": ""
            },
            "colorscale": [
             [
              0,
              "#0d0887"
             ],
             [
              0.1111111111111111,
              "#46039f"
             ],
             [
              0.2222222222222222,
              "#7201a8"
             ],
             [
              0.3333333333333333,
              "#9c179e"
             ],
             [
              0.4444444444444444,
              "#bd3786"
             ],
             [
              0.5555555555555556,
              "#d8576b"
             ],
             [
              0.6666666666666666,
              "#ed7953"
             ],
             [
              0.7777777777777778,
              "#fb9f3a"
             ],
             [
              0.8888888888888888,
              "#fdca26"
             ],
             [
              1,
              "#f0f921"
             ]
            ],
            "type": "histogram2d"
           }
          ],
          "histogram2dcontour": [
           {
            "colorbar": {
             "outlinewidth": 0,
             "ticks": ""
            },
            "colorscale": [
             [
              0,
              "#0d0887"
             ],
             [
              0.1111111111111111,
              "#46039f"
             ],
             [
              0.2222222222222222,
              "#7201a8"
             ],
             [
              0.3333333333333333,
              "#9c179e"
             ],
             [
              0.4444444444444444,
              "#bd3786"
             ],
             [
              0.5555555555555556,
              "#d8576b"
             ],
             [
              0.6666666666666666,
              "#ed7953"
             ],
             [
              0.7777777777777778,
              "#fb9f3a"
             ],
             [
              0.8888888888888888,
              "#fdca26"
             ],
             [
              1,
              "#f0f921"
             ]
            ],
            "type": "histogram2dcontour"
           }
          ],
          "mesh3d": [
           {
            "colorbar": {
             "outlinewidth": 0,
             "ticks": ""
            },
            "type": "mesh3d"
           }
          ],
          "parcoords": [
           {
            "line": {
             "colorbar": {
              "outlinewidth": 0,
              "ticks": ""
             }
            },
            "type": "parcoords"
           }
          ],
          "pie": [
           {
            "automargin": true,
            "type": "pie"
           }
          ],
          "scatter": [
           {
            "marker": {
             "colorbar": {
              "outlinewidth": 0,
              "ticks": ""
             }
            },
            "type": "scatter"
           }
          ],
          "scatter3d": [
           {
            "line": {
             "colorbar": {
              "outlinewidth": 0,
              "ticks": ""
             }
            },
            "marker": {
             "colorbar": {
              "outlinewidth": 0,
              "ticks": ""
             }
            },
            "type": "scatter3d"
           }
          ],
          "scattercarpet": [
           {
            "marker": {
             "colorbar": {
              "outlinewidth": 0,
              "ticks": ""
             }
            },
            "type": "scattercarpet"
           }
          ],
          "scattergeo": [
           {
            "marker": {
             "colorbar": {
              "outlinewidth": 0,
              "ticks": ""
             }
            },
            "type": "scattergeo"
           }
          ],
          "scattergl": [
           {
            "marker": {
             "colorbar": {
              "outlinewidth": 0,
              "ticks": ""
             }
            },
            "type": "scattergl"
           }
          ],
          "scattermapbox": [
           {
            "marker": {
             "colorbar": {
              "outlinewidth": 0,
              "ticks": ""
             }
            },
            "type": "scattermapbox"
           }
          ],
          "scatterpolar": [
           {
            "marker": {
             "colorbar": {
              "outlinewidth": 0,
              "ticks": ""
             }
            },
            "type": "scatterpolar"
           }
          ],
          "scatterpolargl": [
           {
            "marker": {
             "colorbar": {
              "outlinewidth": 0,
              "ticks": ""
             }
            },
            "type": "scatterpolargl"
           }
          ],
          "scatterternary": [
           {
            "marker": {
             "colorbar": {
              "outlinewidth": 0,
              "ticks": ""
             }
            },
            "type": "scatterternary"
           }
          ],
          "surface": [
           {
            "colorbar": {
             "outlinewidth": 0,
             "ticks": ""
            },
            "colorscale": [
             [
              0,
              "#0d0887"
             ],
             [
              0.1111111111111111,
              "#46039f"
             ],
             [
              0.2222222222222222,
              "#7201a8"
             ],
             [
              0.3333333333333333,
              "#9c179e"
             ],
             [
              0.4444444444444444,
              "#bd3786"
             ],
             [
              0.5555555555555556,
              "#d8576b"
             ],
             [
              0.6666666666666666,
              "#ed7953"
             ],
             [
              0.7777777777777778,
              "#fb9f3a"
             ],
             [
              0.8888888888888888,
              "#fdca26"
             ],
             [
              1,
              "#f0f921"
             ]
            ],
            "type": "surface"
           }
          ],
          "table": [
           {
            "cells": {
             "fill": {
              "color": "#EBF0F8"
             },
             "line": {
              "color": "white"
             }
            },
            "header": {
             "fill": {
              "color": "#C8D4E3"
             },
             "line": {
              "color": "white"
             }
            },
            "type": "table"
           }
          ]
         },
         "layout": {
          "annotationdefaults": {
           "arrowcolor": "#2a3f5f",
           "arrowhead": 0,
           "arrowwidth": 1
          },
          "coloraxis": {
           "colorbar": {
            "outlinewidth": 0,
            "ticks": ""
           }
          },
          "colorscale": {
           "diverging": [
            [
             0,
             "#8e0152"
            ],
            [
             0.1,
             "#c51b7d"
            ],
            [
             0.2,
             "#de77ae"
            ],
            [
             0.3,
             "#f1b6da"
            ],
            [
             0.4,
             "#fde0ef"
            ],
            [
             0.5,
             "#f7f7f7"
            ],
            [
             0.6,
             "#e6f5d0"
            ],
            [
             0.7,
             "#b8e186"
            ],
            [
             0.8,
             "#7fbc41"
            ],
            [
             0.9,
             "#4d9221"
            ],
            [
             1,
             "#276419"
            ]
           ],
           "sequential": [
            [
             0,
             "#0d0887"
            ],
            [
             0.1111111111111111,
             "#46039f"
            ],
            [
             0.2222222222222222,
             "#7201a8"
            ],
            [
             0.3333333333333333,
             "#9c179e"
            ],
            [
             0.4444444444444444,
             "#bd3786"
            ],
            [
             0.5555555555555556,
             "#d8576b"
            ],
            [
             0.6666666666666666,
             "#ed7953"
            ],
            [
             0.7777777777777778,
             "#fb9f3a"
            ],
            [
             0.8888888888888888,
             "#fdca26"
            ],
            [
             1,
             "#f0f921"
            ]
           ],
           "sequentialminus": [
            [
             0,
             "#0d0887"
            ],
            [
             0.1111111111111111,
             "#46039f"
            ],
            [
             0.2222222222222222,
             "#7201a8"
            ],
            [
             0.3333333333333333,
             "#9c179e"
            ],
            [
             0.4444444444444444,
             "#bd3786"
            ],
            [
             0.5555555555555556,
             "#d8576b"
            ],
            [
             0.6666666666666666,
             "#ed7953"
            ],
            [
             0.7777777777777778,
             "#fb9f3a"
            ],
            [
             0.8888888888888888,
             "#fdca26"
            ],
            [
             1,
             "#f0f921"
            ]
           ]
          },
          "colorway": [
           "#636efa",
           "#EF553B",
           "#00cc96",
           "#ab63fa",
           "#FFA15A",
           "#19d3f3",
           "#FF6692",
           "#B6E880",
           "#FF97FF",
           "#FECB52"
          ],
          "font": {
           "color": "#2a3f5f"
          },
          "geo": {
           "bgcolor": "white",
           "lakecolor": "white",
           "landcolor": "#E5ECF6",
           "showlakes": true,
           "showland": true,
           "subunitcolor": "white"
          },
          "hoverlabel": {
           "align": "left"
          },
          "hovermode": "closest",
          "mapbox": {
           "style": "light"
          },
          "paper_bgcolor": "white",
          "plot_bgcolor": "#E5ECF6",
          "polar": {
           "angularaxis": {
            "gridcolor": "white",
            "linecolor": "white",
            "ticks": ""
           },
           "bgcolor": "#E5ECF6",
           "radialaxis": {
            "gridcolor": "white",
            "linecolor": "white",
            "ticks": ""
           }
          },
          "scene": {
           "xaxis": {
            "backgroundcolor": "#E5ECF6",
            "gridcolor": "white",
            "gridwidth": 2,
            "linecolor": "white",
            "showbackground": true,
            "ticks": "",
            "zerolinecolor": "white"
           },
           "yaxis": {
            "backgroundcolor": "#E5ECF6",
            "gridcolor": "white",
            "gridwidth": 2,
            "linecolor": "white",
            "showbackground": true,
            "ticks": "",
            "zerolinecolor": "white"
           },
           "zaxis": {
            "backgroundcolor": "#E5ECF6",
            "gridcolor": "white",
            "gridwidth": 2,
            "linecolor": "white",
            "showbackground": true,
            "ticks": "",
            "zerolinecolor": "white"
           }
          },
          "shapedefaults": {
           "line": {
            "color": "#2a3f5f"
           }
          },
          "ternary": {
           "aaxis": {
            "gridcolor": "white",
            "linecolor": "white",
            "ticks": ""
           },
           "baxis": {
            "gridcolor": "white",
            "linecolor": "white",
            "ticks": ""
           },
           "bgcolor": "#E5ECF6",
           "caxis": {
            "gridcolor": "white",
            "linecolor": "white",
            "ticks": ""
           }
          },
          "title": {
           "x": 0.05
          },
          "xaxis": {
           "automargin": true,
           "gridcolor": "white",
           "linecolor": "white",
           "ticks": "",
           "title": {
            "standoff": 15
           },
           "zerolinecolor": "white",
           "zerolinewidth": 2
          },
          "yaxis": {
           "automargin": true,
           "gridcolor": "white",
           "linecolor": "white",
           "ticks": "",
           "title": {
            "standoff": 15
           },
           "zerolinecolor": "white",
           "zerolinewidth": 2
          }
         }
        },
        "title": {
         "font": {
          "size": 14
         },
         "text": "<b>Model performance</b><br>rf"
        },
        "width": 450,
        "xaxis": {
         "anchor": "y",
         "domain": [
          0,
          1
         ]
        },
        "xaxis2": {
         "anchor": "y2",
         "domain": [
          0,
          1
         ],
         "title": {
          "text": "false positive rate"
         }
        },
        "xaxis3": {
         "anchor": "y3",
         "domain": [
          0,
          1
         ],
         "range": [
          0,
          1.05
         ],
         "title": {
          "text": "recall"
         }
        },
        "yaxis": {
         "anchor": "x",
         "domain": [
          0.7777777777777778,
          1
         ]
        },
        "yaxis2": {
         "anchor": "x2",
         "domain": [
          0.3888888888888889,
          0.6111111111111112
         ],
         "title": {
          "text": "true positive rate"
         }
        },
        "yaxis3": {
         "anchor": "x3",
         "domain": [
          0,
          0.22222222222222224
         ],
         "range": [
          0,
          1.05
         ],
         "title": {
          "text": "precision"
         }
        }
       }
      },
      "text/html": [
       "<div>\n",
       "        \n",
       "        \n",
       "            <div id=\"721907dc-a528-4bd8-805a-5fc2e4a6cd91\" class=\"plotly-graph-div\" style=\"height:900px; width:450px;\"></div>\n",
       "            <script type=\"text/javascript\">\n",
       "                require([\"plotly\"], function(Plotly) {\n",
       "                    window.PLOTLYENV=window.PLOTLYENV || {};\n",
       "                    \n",
       "                if (document.getElementById(\"721907dc-a528-4bd8-805a-5fc2e4a6cd91\")) {\n",
       "                    Plotly.newPlot(\n",
       "                        '721907dc-a528-4bd8-805a-5fc2e4a6cd91',\n",
       "                        [{\"marker\": {\"color\": [\"gold\", \"lightgreen\", \"lightcoral\", \"lightskyblue\"], \"line\": {\"color\": \"#000000\", \"width\": 1.5}}, \"opacity\": 0.8, \"orientation\": \"h\", \"text\": [0.7814, 0.7906, 0.7582, 0.7741], \"textposition\": \"auto\", \"type\": \"bar\", \"x\": [0.7813765182186235, 0.7905982905982906, 0.7581967213114754, 0.7740585774058577], \"xaxis\": \"x\", \"y\": [\"Accuracy\", \"Precision\", \"Recall\", \"F1_score\"], \"yaxis\": \"y\"}, {\"fill\": \"tozeroy\", \"line\": {\"color\": \"rgb(22, 96, 167)\", \"width\": 2}, \"name\": \"Roc : \", \"type\": \"scatter\", \"x\": [0.0, 0.0, 0.0, 0.0, 0.0, 0.0, 0.0, 0.0, 0.0, 0.0, 0.0, 0.0, 0.0, 0.0, 0.0, 0.0, 0.0, 0.0, 0.004, 0.004, 0.004, 0.004, 0.004, 0.004, 0.004, 0.004, 0.004, 0.004, 0.008, 0.008, 0.008, 0.008, 0.02, 0.02, 0.02, 0.02, 0.02, 0.02, 0.024, 0.024, 0.028, 0.028, 0.028, 0.032, 0.032, 0.036, 0.036, 0.04, 0.04, 0.04, 0.04, 0.048, 0.048, 0.048, 0.048, 0.048, 0.048, 0.048, 0.056, 0.056, 0.06, 0.06, 0.06, 0.06, 0.06, 0.064, 0.064, 0.072, 0.072, 0.072, 0.072, 0.072, 0.072, 0.072, 0.072, 0.072, 0.072, 0.072, 0.072, 0.088, 0.088, 0.096, 0.096, 0.1, 0.1, 0.1, 0.104, 0.104, 0.108, 0.108, 0.112, 0.112, 0.132, 0.132, 0.132, 0.144, 0.144, 0.16, 0.16, 0.172, 0.172, 0.176, 0.176, 0.18, 0.18, 0.196, 0.196, 0.2, 0.2, 0.2, 0.2, 0.2, 0.212, 0.212, 0.212, 0.212, 0.216, 0.216, 0.236, 0.236, 0.248, 0.248, 0.272, 0.272, 0.276, 0.276, 0.3, 0.3, 0.308, 0.308, 0.316, 0.316, 0.332, 0.332, 0.34, 0.34, 0.34, 0.352, 0.352, 0.38, 0.38, 0.472, 0.472, 0.54, 0.54, 0.568, 0.568, 0.584, 0.584, 0.592, 0.592, 0.612, 0.612, 0.684, 0.684, 0.684, 0.688, 0.688, 0.7, 0.7, 0.756, 0.756, 0.764, 0.764, 0.764, 0.768, 0.768, 0.88, 0.88, 1.0], \"xaxis\": \"x2\", \"y\": [0.0, 0.004098360655737705, 0.012295081967213115, 0.020491803278688523, 0.036885245901639344, 0.045081967213114756, 0.05327868852459016, 0.05737704918032787, 0.06557377049180328, 0.06967213114754098, 0.0778688524590164, 0.09836065573770492, 0.10655737704918032, 0.12704918032786885, 0.13934426229508196, 0.14344262295081966, 0.15163934426229508, 0.1680327868852459, 0.1680327868852459, 0.18032786885245902, 0.18442622950819673, 0.19262295081967212, 0.19672131147540983, 0.20491803278688525, 0.21311475409836064, 0.22131147540983606, 0.2336065573770492, 0.25, 0.25, 0.2540983606557377, 0.2786885245901639, 0.2827868852459016, 0.2827868852459016, 0.28688524590163933, 0.29508196721311475, 0.29918032786885246, 0.3073770491803279, 0.3114754098360656, 0.3114754098360656, 0.319672131147541, 0.319672131147541, 0.3442622950819672, 0.3483606557377049, 0.3483606557377049, 0.3524590163934426, 0.3524590163934426, 0.36065573770491804, 0.36065573770491804, 0.3729508196721312, 0.38114754098360654, 0.38934426229508196, 0.38934426229508196, 0.39344262295081966, 0.4098360655737705, 0.42213114754098363, 0.4262295081967213, 0.4344262295081967, 0.45491803278688525, 0.45491803278688525, 0.46311475409836067, 0.46311475409836067, 0.4672131147540984, 0.48360655737704916, 0.4959016393442623, 0.5, 0.5, 0.5122950819672131, 0.5122950819672131, 0.5286885245901639, 0.5409836065573771, 0.5450819672131147, 0.5532786885245902, 0.5573770491803278, 0.5655737704918032, 0.5778688524590164, 0.5819672131147541, 0.5983606557377049, 0.6024590163934426, 0.6188524590163934, 0.6188524590163934, 0.6229508196721312, 0.6229508196721312, 0.6270491803278688, 0.6270491803278688, 0.6475409836065574, 0.6557377049180327, 0.6557377049180327, 0.6598360655737705, 0.6598360655737705, 0.6680327868852459, 0.6680327868852459, 0.6762295081967213, 0.6762295081967213, 0.7090163934426229, 0.7131147540983607, 0.7131147540983607, 0.7213114754098361, 0.7213114754098361, 0.7295081967213115, 0.7295081967213115, 0.7459016393442623, 0.7459016393442623, 0.75, 0.75, 0.7540983606557377, 0.7540983606557377, 0.7622950819672131, 0.7622950819672131, 0.7663934426229508, 0.7745901639344263, 0.7786885245901639, 0.7950819672131147, 0.7950819672131147, 0.7991803278688525, 0.8114754098360656, 0.8155737704918032, 0.8155737704918032, 0.819672131147541, 0.819672131147541, 0.8237704918032787, 0.8237704918032787, 0.8319672131147541, 0.8319672131147541, 0.8360655737704918, 0.8360655737704918, 0.8401639344262295, 0.8401639344262295, 0.8442622950819673, 0.8442622950819673, 0.8483606557377049, 0.8483606557377049, 0.8524590163934426, 0.8524590163934426, 0.8688524590163934, 0.8688524590163934, 0.8729508196721312, 0.8852459016393442, 0.8852459016393442, 0.889344262295082, 0.889344262295082, 0.8934426229508197, 0.8934426229508197, 0.9057377049180327, 0.9057377049180327, 0.9139344262295082, 0.9139344262295082, 0.9221311475409836, 0.9221311475409836, 0.9262295081967213, 0.9262295081967213, 0.9344262295081968, 0.9344262295081968, 0.9385245901639344, 0.9385245901639344, 0.9590163934426229, 0.9631147540983607, 0.9631147540983607, 0.9672131147540983, 0.9672131147540983, 0.9713114754098361, 0.9713114754098361, 0.9754098360655737, 0.9754098360655737, 0.9795081967213115, 0.9877049180327869, 0.9877049180327869, 0.9959016393442623, 0.9959016393442623, 1.0, 1.0], \"yaxis\": \"y2\"}, {\"line\": {\"color\": \"black\", \"dash\": \"dot\", \"width\": 1.5}, \"type\": \"scatter\", \"x\": [0, 1], \"xaxis\": \"x2\", \"y\": [0, 1], \"yaxis\": \"y2\"}, {\"fill\": \"tozeroy\", \"line\": {\"color\": \"lightcoral\", \"width\": 2}, \"name\": \"Precision[0.52586207 0.52483801 0.52597403 0.52711497 0.52826087 0.52941176\\n 0.53056769 0.53172867 0.53289474 0.53406593 0.53524229 0.53642384\\n 0.53761062 0.53880266 0.54       0.54120267 0.54241071 0.54362416\\n 0.54484305 0.54606742 0.5472973  0.54853273 0.54977376 0.55102041\\n 0.55227273 0.55353075 0.55479452 0.55606407 0.55733945 0.55862069\\n 0.55658199 0.55787037 0.55581395 0.55477855 0.55607477 0.55737705\\n 0.55633803 0.55764706 0.55896226 0.56028369 0.56161137 0.56294537\\n 0.56428571 0.56563246 0.56698565 0.56834532 0.56971154 0.57108434\\n 0.57246377 0.57384988 0.57524272 0.57420925 0.57560976 0.57701711\\n 0.57843137 0.57739558 0.57881773 0.57777778 0.5725     0.57393484\\n 0.57537688 0.5768262  0.57828283 0.57974684 0.58121827 0.5826972\\n 0.58418367 0.58567775 0.58717949 0.58868895 0.59020619 0.59173127\\n 0.59326425 0.59480519 0.59635417 0.59791123 0.59947644 0.5984252\\n 0.6        0.60158311 0.6031746  0.60477454 0.60638298 0.60427807\\n 0.60589812 0.60752688 0.606469   0.60810811 0.6097561  0.61141304\\n 0.61307902 0.6109589  0.61263736 0.61432507 0.6160221  0.61772853\\n 0.61944444 0.62116992 0.62290503 0.62078652 0.62253521 0.62429379\\n 0.62606232 0.62784091 0.62962963 0.63142857 0.63323782 0.63505747\\n 0.63688761 0.63872832 0.64057971 0.64244186 0.64431487 0.64619883\\n 0.64809384 0.65       0.6519174  0.65088757 0.64985163 0.64880952\\n 0.65074627 0.65269461 0.65465465 0.65662651 0.65861027 0.66060606\\n 0.66261398 0.66463415 0.66666667 0.66871166 0.67076923 0.67283951\\n 0.6749226  0.67701863 0.67912773 0.68125    0.68338558 0.68553459\\n 0.68769716 0.68987342 0.69206349 0.69426752 0.69648562 0.69551282\\n 0.6977492  0.7        0.70226537 0.70454545 0.70684039 0.70915033\\n 0.71147541 0.71052632 0.71287129 0.71523179 0.71760797 0.7147651\\n 0.71380471 0.71621622 0.71864407 0.71477663 0.71724138 0.71972318\\n 0.72222222 0.72473868 0.72377622 0.72631579 0.72887324 0.72791519\\n 0.73049645 0.73309609 0.73214286 0.73476703 0.73741007 0.7400722\\n 0.74275362 0.74545455 0.74817518 0.74725275 0.75       0.74907749\\n 0.75185185 0.75464684 0.75746269 0.76029963 0.76315789 0.76603774\\n 0.76425856 0.76717557 0.77011494 0.77307692 0.77220077 0.7751938\\n 0.77821012 0.78125    0.78431373 0.78740157 0.78656126 0.78968254\\n 0.78884462 0.78629032 0.7854251  0.78861789 0.79183673 0.79508197\\n 0.79166667 0.79079498 0.78902954 0.78813559 0.79148936 0.79059829\\n 0.78969957 0.79310345 0.7965368  0.8        0.80349345 0.80263158\\n 0.8061674  0.80530973 0.80888889 0.80803571 0.80717489 0.80630631\\n 0.80542986 0.80909091 0.81278539 0.81651376 0.81481481 0.81860465\\n 0.82242991 0.82629108 0.83018868 0.82857143 0.83253589 0.83653846\\n 0.84057971 0.83980583 0.83823529 0.83663366 0.835      0.83333333\\n 0.83756345 0.84183673 0.84615385 0.85051546 0.85492228 0.85340314\\n 0.85789474 0.85638298 0.86096257 0.86021505 0.86486486 0.86338798\\n 0.86263736 0.86187845 0.86111111 0.8603352  0.85955056 0.86440678\\n 0.86363636 0.86857143 0.87356322 0.87283237 0.87790698 0.88304094\\n 0.88823529 0.89349112 0.89221557 0.89090909 0.8902439  0.88888889\\n 0.8875     0.88679245 0.88461538 0.88311688 0.88235294 0.8807947\\n 0.88       0.87755102 0.87586207 0.87412587 0.88028169 0.88652482\\n 0.88405797 0.89051095 0.88970588 0.88721805 0.88549618 0.88372093\\n 0.8828125  0.88976378 0.888      0.89516129 0.90243902 0.89830508\\n 0.89655172 0.89565217 0.89285714 0.88888889 0.88785047 0.89622642\\n 0.9047619  0.90384615 0.90291262 0.9009901  0.89795918 0.90721649\\n 0.90625    0.90526316 0.91489362 0.91397849 0.92391304 0.92307692\\n 0.92134831 0.91954023 0.91764706 0.92857143 0.92682927 0.9382716\\n 0.9375     0.93589744 0.93506494 0.93333333 0.93243243 0.94520548\\n 0.95833333 0.97183099 0.97142857 0.97058824 0.96969697 0.96875\\n 0.96825397 0.98387097 0.98333333 0.98275862 0.98245614 0.98214286\\n 0.98181818 0.98113208 0.98076923 0.98039216 0.97959184 0.97916667\\n 0.97826087 0.97777778 0.97619048 1.         1.         1.\\n 1.         1.         1.         1.         1.         1.\\n 1.         1.         1.         1.         1.         1.\\n 1.         1.         1.         1.         1.         1.\\n 1.         1.         1.         1.         1.         1.\\n 1.         1.        ]\", \"type\": \"scatter\", \"x\": [1.0, 0.9959016393442623, 0.9959016393442623, 0.9959016393442623, 0.9959016393442623, 0.9959016393442623, 0.9959016393442623, 0.9959016393442623, 0.9959016393442623, 0.9959016393442623, 0.9959016393442623, 0.9959016393442623, 0.9959016393442623, 0.9959016393442623, 0.9959016393442623, 0.9959016393442623, 0.9959016393442623, 0.9959016393442623, 0.9959016393442623, 0.9959016393442623, 0.9959016393442623, 0.9959016393442623, 0.9959016393442623, 0.9959016393442623, 0.9959016393442623, 0.9959016393442623, 0.9959016393442623, 0.9959016393442623, 0.9959016393442623, 0.9959016393442623, 0.9877049180327869, 0.9877049180327869, 0.9795081967213115, 0.9754098360655737, 0.9754098360655737, 0.9754098360655737, 0.9713114754098361, 0.9713114754098361, 0.9713114754098361, 0.9713114754098361, 0.9713114754098361, 0.9713114754098361, 0.9713114754098361, 0.9713114754098361, 0.9713114754098361, 0.9713114754098361, 0.9713114754098361, 0.9713114754098361, 0.9713114754098361, 0.9713114754098361, 0.9713114754098361, 0.9672131147540983, 0.9672131147540983, 0.9672131147540983, 0.9672131147540983, 0.9631147540983607, 0.9631147540983607, 0.9590163934426229, 0.9385245901639344, 0.9385245901639344, 0.9385245901639344, 0.9385245901639344, 0.9385245901639344, 0.9385245901639344, 0.9385245901639344, 0.9385245901639344, 0.9385245901639344, 0.9385245901639344, 0.9385245901639344, 0.9385245901639344, 0.9385245901639344, 0.9385245901639344, 0.9385245901639344, 0.9385245901639344, 0.9385245901639344, 0.9385245901639344, 0.9385245901639344, 0.9344262295081968, 0.9344262295081968, 0.9344262295081968, 0.9344262295081968, 0.9344262295081968, 0.9344262295081968, 0.9262295081967213, 0.9262295081967213, 0.9262295081967213, 0.9221311475409836, 0.9221311475409836, 0.9221311475409836, 0.9221311475409836, 0.9221311475409836, 0.9139344262295082, 0.9139344262295082, 0.9139344262295082, 0.9139344262295082, 0.9139344262295082, 0.9139344262295082, 0.9139344262295082, 0.9139344262295082, 0.9057377049180327, 0.9057377049180327, 0.9057377049180327, 0.9057377049180327, 0.9057377049180327, 0.9057377049180327, 0.9057377049180327, 0.9057377049180327, 0.9057377049180327, 0.9057377049180327, 0.9057377049180327, 0.9057377049180327, 0.9057377049180327, 0.9057377049180327, 0.9057377049180327, 0.9057377049180327, 0.9057377049180327, 0.9057377049180327, 0.9016393442622951, 0.8975409836065574, 0.8934426229508197, 0.8934426229508197, 0.8934426229508197, 0.8934426229508197, 0.8934426229508197, 0.8934426229508197, 0.8934426229508197, 0.8934426229508197, 0.8934426229508197, 0.8934426229508197, 0.8934426229508197, 0.8934426229508197, 0.8934426229508197, 0.8934426229508197, 0.8934426229508197, 0.8934426229508197, 0.8934426229508197, 0.8934426229508197, 0.8934426229508197, 0.8934426229508197, 0.8934426229508197, 0.8934426229508197, 0.8934426229508197, 0.8934426229508197, 0.889344262295082, 0.889344262295082, 0.889344262295082, 0.889344262295082, 0.889344262295082, 0.889344262295082, 0.889344262295082, 0.889344262295082, 0.8852459016393442, 0.8852459016393442, 0.8852459016393442, 0.8852459016393442, 0.8729508196721312, 0.8688524590163934, 0.8688524590163934, 0.8688524590163934, 0.8524590163934426, 0.8524590163934426, 0.8524590163934426, 0.8524590163934426, 0.8524590163934426, 0.8483606557377049, 0.8483606557377049, 0.8483606557377049, 0.8442622950819673, 0.8442622950819673, 0.8442622950819673, 0.8401639344262295, 0.8401639344262295, 0.8401639344262295, 0.8401639344262295, 0.8401639344262295, 0.8401639344262295, 0.8401639344262295, 0.8360655737704918, 0.8360655737704918, 0.8319672131147541, 0.8319672131147541, 0.8319672131147541, 0.8319672131147541, 0.8319672131147541, 0.8319672131147541, 0.8319672131147541, 0.8237704918032787, 0.8237704918032787, 0.8237704918032787, 0.8237704918032787, 0.819672131147541, 0.819672131147541, 0.819672131147541, 0.819672131147541, 0.819672131147541, 0.819672131147541, 0.8155737704918032, 0.8155737704918032, 0.8114754098360656, 0.7991803278688525, 0.7950819672131147, 0.7950819672131147, 0.7950819672131147, 0.7950819672131147, 0.7786885245901639, 0.7745901639344263, 0.7663934426229508, 0.7622950819672131, 0.7622950819672131, 0.7581967213114754, 0.7540983606557377, 0.7540983606557377, 0.7540983606557377, 0.7540983606557377, 0.7540983606557377, 0.75, 0.75, 0.7459016393442623, 0.7459016393442623, 0.7418032786885246, 0.7377049180327869, 0.7336065573770492, 0.7295081967213115, 0.7295081967213115, 0.7295081967213115, 0.7295081967213115, 0.7213114754098361, 0.7213114754098361, 0.7213114754098361, 0.7213114754098361, 0.7213114754098361, 0.7131147540983607, 0.7131147540983607, 0.7131147540983607, 0.7131147540983607, 0.7090163934426229, 0.7008196721311475, 0.6926229508196722, 0.6844262295081968, 0.6762295081967213, 0.6762295081967213, 0.6762295081967213, 0.6762295081967213, 0.6762295081967213, 0.6762295081967213, 0.6680327868852459, 0.6680327868852459, 0.6598360655737705, 0.6598360655737705, 0.6557377049180327, 0.6557377049180327, 0.6475409836065574, 0.6434426229508197, 0.639344262295082, 0.6352459016393442, 0.6311475409836066, 0.6270491803278688, 0.6270491803278688, 0.6229508196721312, 0.6229508196721312, 0.6229508196721312, 0.6188524590163934, 0.6188524590163934, 0.6188524590163934, 0.6188524590163934, 0.6188524590163934, 0.610655737704918, 0.6024590163934426, 0.5983606557377049, 0.5901639344262295, 0.5819672131147541, 0.5778688524590164, 0.5655737704918032, 0.5573770491803278, 0.5532786885245902, 0.5450819672131147, 0.5409836065573771, 0.5286885245901639, 0.5204918032786885, 0.5122950819672131, 0.5122950819672131, 0.5122950819672131, 0.5, 0.5, 0.4959016393442623, 0.48360655737704916, 0.47540983606557374, 0.4672131147540984, 0.46311475409836067, 0.46311475409836067, 0.45491803278688525, 0.45491803278688525, 0.45491803278688525, 0.4344262295081967, 0.4262295081967213, 0.42213114754098363, 0.4098360655737705, 0.39344262295081966, 0.38934426229508196, 0.38934426229508196, 0.38934426229508196, 0.38524590163934425, 0.38114754098360654, 0.3729508196721312, 0.36065573770491804, 0.36065573770491804, 0.35655737704918034, 0.3524590163934426, 0.3524590163934426, 0.3483606557377049, 0.3483606557377049, 0.3442622950819672, 0.3360655737704918, 0.32786885245901637, 0.319672131147541, 0.319672131147541, 0.3114754098360656, 0.3114754098360656, 0.3073770491803279, 0.29918032786885246, 0.29508196721311475, 0.28688524590163933, 0.2827868852459016, 0.2827868852459016, 0.2827868852459016, 0.2827868852459016, 0.2786885245901639, 0.27049180327868855, 0.26229508196721313, 0.2540983606557377, 0.25, 0.25, 0.24180327868852458, 0.2336065573770492, 0.22950819672131148, 0.22540983606557377, 0.22131147540983606, 0.21311475409836064, 0.20901639344262296, 0.20491803278688525, 0.19672131147540983, 0.19262295081967212, 0.18442622950819673, 0.18032786885245902, 0.1680327868852459, 0.1680327868852459, 0.15163934426229508, 0.14344262295081966, 0.13934426229508196, 0.12704918032786885, 0.12295081967213115, 0.11885245901639344, 0.11475409836065574, 0.11065573770491803, 0.10655737704918032, 0.09836065573770492, 0.0942622950819672, 0.09016393442622951, 0.0860655737704918, 0.08196721311475409, 0.0778688524590164, 0.06967213114754098, 0.06557377049180328, 0.05737704918032787, 0.05327868852459016, 0.045081967213114756, 0.040983606557377046, 0.036885245901639344, 0.028688524590163935, 0.020491803278688523, 0.01639344262295082, 0.012295081967213115, 0.004098360655737705, 0.0], \"xaxis\": \"x3\", \"y\": [0.5258620689655172, 0.5248380129589633, 0.525974025974026, 0.527114967462039, 0.5282608695652173, 0.5294117647058824, 0.5305676855895196, 0.5317286652078774, 0.5328947368421053, 0.5340659340659341, 0.5352422907488987, 0.5364238410596026, 0.5376106194690266, 0.5388026607538803, 0.54, 0.5412026726057907, 0.5424107142857143, 0.5436241610738255, 0.5448430493273543, 0.5460674157303371, 0.5472972972972973, 0.5485327313769752, 0.5497737556561086, 0.5510204081632653, 0.5522727272727272, 0.5535307517084282, 0.5547945205479452, 0.5560640732265446, 0.5573394495412844, 0.5586206896551724, 0.5565819861431871, 0.5578703703703703, 0.5558139534883721, 0.5547785547785548, 0.5560747663551402, 0.5573770491803278, 0.5563380281690141, 0.5576470588235294, 0.5589622641509434, 0.5602836879432624, 0.5616113744075829, 0.5629453681710214, 0.5642857142857143, 0.5656324582338902, 0.5669856459330144, 0.5683453237410072, 0.5697115384615384, 0.5710843373493976, 0.572463768115942, 0.5738498789346247, 0.5752427184466019, 0.5742092457420924, 0.5756097560975609, 0.5770171149144254, 0.5784313725490197, 0.5773955773955773, 0.5788177339901478, 0.5777777777777777, 0.5725, 0.5739348370927319, 0.5753768844221105, 0.5768261964735516, 0.5782828282828283, 0.579746835443038, 0.5812182741116751, 0.5826972010178118, 0.5841836734693877, 0.5856777493606138, 0.5871794871794872, 0.5886889460154242, 0.5902061855670103, 0.5917312661498708, 0.5932642487046632, 0.5948051948051948, 0.5963541666666666, 0.597911227154047, 0.599476439790576, 0.5984251968503937, 0.6, 0.6015831134564644, 0.6031746031746031, 0.6047745358090185, 0.6063829787234043, 0.6042780748663101, 0.6058981233243967, 0.6075268817204301, 0.6064690026954178, 0.6081081081081081, 0.6097560975609756, 0.6114130434782609, 0.6130790190735694, 0.6109589041095891, 0.6126373626373627, 0.6143250688705234, 0.6160220994475138, 0.6177285318559557, 0.6194444444444445, 0.6211699164345403, 0.6229050279329609, 0.6207865168539326, 0.6225352112676056, 0.6242937853107344, 0.6260623229461756, 0.6278409090909091, 0.6296296296296297, 0.6314285714285715, 0.6332378223495702, 0.6350574712643678, 0.6368876080691642, 0.638728323699422, 0.6405797101449275, 0.6424418604651163, 0.6443148688046647, 0.6461988304093568, 0.6480938416422287, 0.65, 0.6519174041297935, 0.650887573964497, 0.6498516320474778, 0.6488095238095238, 0.6507462686567164, 0.6526946107784432, 0.6546546546546547, 0.6566265060240963, 0.6586102719033232, 0.6606060606060606, 0.662613981762918, 0.6646341463414634, 0.6666666666666666, 0.6687116564417178, 0.6707692307692308, 0.6728395061728395, 0.6749226006191951, 0.6770186335403726, 0.6791277258566978, 0.68125, 0.6833855799373041, 0.6855345911949685, 0.6876971608832808, 0.689873417721519, 0.692063492063492, 0.6942675159235668, 0.6964856230031949, 0.6955128205128205, 0.6977491961414791, 0.7, 0.7022653721682848, 0.7045454545454546, 0.7068403908794788, 0.7091503267973857, 0.7114754098360656, 0.7105263157894737, 0.7128712871287128, 0.7152317880794702, 0.717607973421927, 0.714765100671141, 0.7138047138047138, 0.7162162162162162, 0.7186440677966102, 0.7147766323024055, 0.7172413793103448, 0.7197231833910035, 0.7222222222222222, 0.7247386759581882, 0.7237762237762237, 0.7263157894736842, 0.7288732394366197, 0.7279151943462897, 0.7304964539007093, 0.7330960854092526, 0.7321428571428571, 0.7347670250896058, 0.737410071942446, 0.740072202166065, 0.7427536231884058, 0.7454545454545455, 0.7481751824817519, 0.7472527472527473, 0.75, 0.7490774907749077, 0.7518518518518519, 0.7546468401486989, 0.7574626865671642, 0.7602996254681648, 0.7631578947368421, 0.7660377358490567, 0.7642585551330798, 0.767175572519084, 0.7701149425287356, 0.7730769230769231, 0.7722007722007722, 0.7751937984496124, 0.7782101167315175, 0.78125, 0.7843137254901961, 0.7874015748031497, 0.7865612648221344, 0.7896825396825397, 0.7888446215139442, 0.7862903225806451, 0.7854251012145749, 0.7886178861788617, 0.7918367346938775, 0.7950819672131147, 0.7916666666666666, 0.7907949790794979, 0.7890295358649789, 0.788135593220339, 0.7914893617021277, 0.7905982905982906, 0.7896995708154506, 0.7931034482758621, 0.7965367965367965, 0.8, 0.8034934497816594, 0.8026315789473685, 0.8061674008810573, 0.8053097345132744, 0.8088888888888889, 0.8080357142857143, 0.8071748878923767, 0.8063063063063063, 0.8054298642533937, 0.8090909090909091, 0.8127853881278538, 0.8165137614678899, 0.8148148148148148, 0.8186046511627907, 0.822429906542056, 0.8262910798122066, 0.8301886792452831, 0.8285714285714286, 0.8325358851674641, 0.8365384615384616, 0.8405797101449275, 0.8398058252427184, 0.8382352941176471, 0.8366336633663366, 0.835, 0.8333333333333334, 0.8375634517766497, 0.8418367346938775, 0.8461538461538461, 0.8505154639175257, 0.8549222797927462, 0.8534031413612565, 0.8578947368421053, 0.8563829787234043, 0.8609625668449198, 0.8602150537634409, 0.8648648648648649, 0.8633879781420765, 0.8626373626373627, 0.861878453038674, 0.8611111111111112, 0.8603351955307262, 0.8595505617977528, 0.864406779661017, 0.8636363636363636, 0.8685714285714285, 0.8735632183908046, 0.8728323699421965, 0.877906976744186, 0.8830409356725146, 0.888235294117647, 0.893491124260355, 0.8922155688622755, 0.8909090909090909, 0.8902439024390244, 0.8888888888888888, 0.8875, 0.8867924528301887, 0.8846153846153846, 0.8831168831168831, 0.8823529411764706, 0.8807947019867549, 0.88, 0.8775510204081632, 0.8758620689655172, 0.8741258741258742, 0.8802816901408451, 0.8865248226950354, 0.8840579710144928, 0.8905109489051095, 0.8897058823529411, 0.8872180451127819, 0.8854961832061069, 0.8837209302325582, 0.8828125, 0.889763779527559, 0.888, 0.8951612903225806, 0.9024390243902439, 0.8983050847457628, 0.896551724137931, 0.8956521739130435, 0.8928571428571429, 0.8888888888888888, 0.8878504672897196, 0.8962264150943396, 0.9047619047619048, 0.9038461538461539, 0.9029126213592233, 0.900990099009901, 0.8979591836734694, 0.9072164948453608, 0.90625, 0.9052631578947369, 0.9148936170212766, 0.9139784946236559, 0.9239130434782609, 0.9230769230769231, 0.9213483146067416, 0.9195402298850575, 0.9176470588235294, 0.9285714285714286, 0.926829268292683, 0.9382716049382716, 0.9375, 0.9358974358974359, 0.935064935064935, 0.9333333333333333, 0.9324324324324325, 0.9452054794520548, 0.9583333333333334, 0.971830985915493, 0.9714285714285714, 0.9705882352941176, 0.9696969696969697, 0.96875, 0.9682539682539683, 0.9838709677419355, 0.9833333333333333, 0.9827586206896551, 0.9824561403508771, 0.9821428571428571, 0.9818181818181818, 0.9811320754716981, 0.9807692307692307, 0.9803921568627451, 0.9795918367346939, 0.9791666666666666, 0.9782608695652174, 0.9777777777777777, 0.9761904761904762, 1.0, 1.0, 1.0, 1.0, 1.0, 1.0, 1.0, 1.0, 1.0, 1.0, 1.0, 1.0, 1.0, 1.0, 1.0, 1.0, 1.0, 1.0, 1.0, 1.0, 1.0, 1.0, 1.0, 1.0, 1.0, 1.0, 1.0, 1.0, 1.0], \"yaxis\": \"y3\"}],\n",
       "                        {\"annotations\": [{\"font\": {\"size\": 16}, \"showarrow\": false, \"text\": \"Metrics\", \"x\": 0.5, \"xanchor\": \"center\", \"xref\": \"paper\", \"y\": 1.0, \"yanchor\": \"bottom\", \"yref\": \"paper\"}, {\"font\": {\"size\": 16}, \"showarrow\": false, \"text\": \"ROC curve (0.859)\", \"x\": 0.5, \"xanchor\": \"center\", \"xref\": \"paper\", \"y\": 0.6111111111111112, \"yanchor\": \"bottom\", \"yref\": \"paper\"}, {\"font\": {\"size\": 16}, \"showarrow\": false, \"text\": \"Precision - Recall curve\", \"x\": 0.5, \"xanchor\": \"center\", \"xref\": \"paper\", \"y\": 0.22222222222222224, \"yanchor\": \"bottom\", \"yref\": \"paper\"}], \"autosize\": false, \"height\": 900, \"margin\": {\"b\": 195}, \"paper_bgcolor\": \"rgba(240,240,240, 0.95)\", \"plot_bgcolor\": \"rgba(240,240,240, 0.95)\", \"showlegend\": false, \"template\": {\"data\": {\"bar\": [{\"error_x\": {\"color\": \"#2a3f5f\"}, \"error_y\": {\"color\": \"#2a3f5f\"}, \"marker\": {\"line\": {\"color\": \"#E5ECF6\", \"width\": 0.5}}, \"type\": \"bar\"}], \"barpolar\": [{\"marker\": {\"line\": {\"color\": \"#E5ECF6\", \"width\": 0.5}}, \"type\": \"barpolar\"}], \"carpet\": [{\"aaxis\": {\"endlinecolor\": \"#2a3f5f\", \"gridcolor\": \"white\", \"linecolor\": \"white\", \"minorgridcolor\": \"white\", \"startlinecolor\": \"#2a3f5f\"}, \"baxis\": {\"endlinecolor\": \"#2a3f5f\", \"gridcolor\": \"white\", \"linecolor\": \"white\", \"minorgridcolor\": \"white\", \"startlinecolor\": \"#2a3f5f\"}, \"type\": \"carpet\"}], \"choropleth\": [{\"colorbar\": {\"outlinewidth\": 0, \"ticks\": \"\"}, \"type\": \"choropleth\"}], \"contour\": [{\"colorbar\": {\"outlinewidth\": 0, \"ticks\": \"\"}, \"colorscale\": [[0.0, \"#0d0887\"], [0.1111111111111111, \"#46039f\"], [0.2222222222222222, \"#7201a8\"], [0.3333333333333333, \"#9c179e\"], [0.4444444444444444, \"#bd3786\"], [0.5555555555555556, \"#d8576b\"], [0.6666666666666666, \"#ed7953\"], [0.7777777777777778, \"#fb9f3a\"], [0.8888888888888888, \"#fdca26\"], [1.0, \"#f0f921\"]], \"type\": \"contour\"}], \"contourcarpet\": [{\"colorbar\": {\"outlinewidth\": 0, \"ticks\": \"\"}, \"type\": \"contourcarpet\"}], \"heatmap\": [{\"colorbar\": {\"outlinewidth\": 0, \"ticks\": \"\"}, \"colorscale\": [[0.0, \"#0d0887\"], [0.1111111111111111, \"#46039f\"], [0.2222222222222222, \"#7201a8\"], [0.3333333333333333, \"#9c179e\"], [0.4444444444444444, \"#bd3786\"], [0.5555555555555556, \"#d8576b\"], [0.6666666666666666, \"#ed7953\"], [0.7777777777777778, \"#fb9f3a\"], [0.8888888888888888, \"#fdca26\"], [1.0, \"#f0f921\"]], \"type\": \"heatmap\"}], \"heatmapgl\": [{\"colorbar\": {\"outlinewidth\": 0, \"ticks\": \"\"}, \"colorscale\": [[0.0, \"#0d0887\"], [0.1111111111111111, \"#46039f\"], [0.2222222222222222, \"#7201a8\"], [0.3333333333333333, \"#9c179e\"], [0.4444444444444444, \"#bd3786\"], [0.5555555555555556, \"#d8576b\"], [0.6666666666666666, \"#ed7953\"], [0.7777777777777778, \"#fb9f3a\"], [0.8888888888888888, \"#fdca26\"], [1.0, \"#f0f921\"]], \"type\": \"heatmapgl\"}], \"histogram\": [{\"marker\": {\"colorbar\": {\"outlinewidth\": 0, \"ticks\": \"\"}}, \"type\": \"histogram\"}], \"histogram2d\": [{\"colorbar\": {\"outlinewidth\": 0, \"ticks\": \"\"}, \"colorscale\": [[0.0, \"#0d0887\"], [0.1111111111111111, \"#46039f\"], [0.2222222222222222, \"#7201a8\"], [0.3333333333333333, \"#9c179e\"], [0.4444444444444444, \"#bd3786\"], [0.5555555555555556, \"#d8576b\"], [0.6666666666666666, \"#ed7953\"], [0.7777777777777778, \"#fb9f3a\"], [0.8888888888888888, \"#fdca26\"], [1.0, \"#f0f921\"]], \"type\": \"histogram2d\"}], \"histogram2dcontour\": [{\"colorbar\": {\"outlinewidth\": 0, \"ticks\": \"\"}, \"colorscale\": [[0.0, \"#0d0887\"], [0.1111111111111111, \"#46039f\"], [0.2222222222222222, \"#7201a8\"], [0.3333333333333333, \"#9c179e\"], [0.4444444444444444, \"#bd3786\"], [0.5555555555555556, \"#d8576b\"], [0.6666666666666666, \"#ed7953\"], [0.7777777777777778, \"#fb9f3a\"], [0.8888888888888888, \"#fdca26\"], [1.0, \"#f0f921\"]], \"type\": \"histogram2dcontour\"}], \"mesh3d\": [{\"colorbar\": {\"outlinewidth\": 0, \"ticks\": \"\"}, \"type\": \"mesh3d\"}], \"parcoords\": [{\"line\": {\"colorbar\": {\"outlinewidth\": 0, \"ticks\": \"\"}}, \"type\": \"parcoords\"}], \"pie\": [{\"automargin\": true, \"type\": \"pie\"}], \"scatter\": [{\"marker\": {\"colorbar\": {\"outlinewidth\": 0, \"ticks\": \"\"}}, \"type\": \"scatter\"}], \"scatter3d\": [{\"line\": {\"colorbar\": {\"outlinewidth\": 0, \"ticks\": \"\"}}, \"marker\": {\"colorbar\": {\"outlinewidth\": 0, \"ticks\": \"\"}}, \"type\": \"scatter3d\"}], \"scattercarpet\": [{\"marker\": {\"colorbar\": {\"outlinewidth\": 0, \"ticks\": \"\"}}, \"type\": \"scattercarpet\"}], \"scattergeo\": [{\"marker\": {\"colorbar\": {\"outlinewidth\": 0, \"ticks\": \"\"}}, \"type\": \"scattergeo\"}], \"scattergl\": [{\"marker\": {\"colorbar\": {\"outlinewidth\": 0, \"ticks\": \"\"}}, \"type\": \"scattergl\"}], \"scattermapbox\": [{\"marker\": {\"colorbar\": {\"outlinewidth\": 0, \"ticks\": \"\"}}, \"type\": \"scattermapbox\"}], \"scatterpolar\": [{\"marker\": {\"colorbar\": {\"outlinewidth\": 0, \"ticks\": \"\"}}, \"type\": \"scatterpolar\"}], \"scatterpolargl\": [{\"marker\": {\"colorbar\": {\"outlinewidth\": 0, \"ticks\": \"\"}}, \"type\": \"scatterpolargl\"}], \"scatterternary\": [{\"marker\": {\"colorbar\": {\"outlinewidth\": 0, \"ticks\": \"\"}}, \"type\": \"scatterternary\"}], \"surface\": [{\"colorbar\": {\"outlinewidth\": 0, \"ticks\": \"\"}, \"colorscale\": [[0.0, \"#0d0887\"], [0.1111111111111111, \"#46039f\"], [0.2222222222222222, \"#7201a8\"], [0.3333333333333333, \"#9c179e\"], [0.4444444444444444, \"#bd3786\"], [0.5555555555555556, \"#d8576b\"], [0.6666666666666666, \"#ed7953\"], [0.7777777777777778, \"#fb9f3a\"], [0.8888888888888888, \"#fdca26\"], [1.0, \"#f0f921\"]], \"type\": \"surface\"}], \"table\": [{\"cells\": {\"fill\": {\"color\": \"#EBF0F8\"}, \"line\": {\"color\": \"white\"}}, \"header\": {\"fill\": {\"color\": \"#C8D4E3\"}, \"line\": {\"color\": \"white\"}}, \"type\": \"table\"}]}, \"layout\": {\"annotationdefaults\": {\"arrowcolor\": \"#2a3f5f\", \"arrowhead\": 0, \"arrowwidth\": 1}, \"coloraxis\": {\"colorbar\": {\"outlinewidth\": 0, \"ticks\": \"\"}}, \"colorscale\": {\"diverging\": [[0, \"#8e0152\"], [0.1, \"#c51b7d\"], [0.2, \"#de77ae\"], [0.3, \"#f1b6da\"], [0.4, \"#fde0ef\"], [0.5, \"#f7f7f7\"], [0.6, \"#e6f5d0\"], [0.7, \"#b8e186\"], [0.8, \"#7fbc41\"], [0.9, \"#4d9221\"], [1, \"#276419\"]], \"sequential\": [[0.0, \"#0d0887\"], [0.1111111111111111, \"#46039f\"], [0.2222222222222222, \"#7201a8\"], [0.3333333333333333, \"#9c179e\"], [0.4444444444444444, \"#bd3786\"], [0.5555555555555556, \"#d8576b\"], [0.6666666666666666, \"#ed7953\"], [0.7777777777777778, \"#fb9f3a\"], [0.8888888888888888, \"#fdca26\"], [1.0, \"#f0f921\"]], \"sequentialminus\": [[0.0, \"#0d0887\"], [0.1111111111111111, \"#46039f\"], [0.2222222222222222, \"#7201a8\"], [0.3333333333333333, \"#9c179e\"], [0.4444444444444444, \"#bd3786\"], [0.5555555555555556, \"#d8576b\"], [0.6666666666666666, \"#ed7953\"], [0.7777777777777778, \"#fb9f3a\"], [0.8888888888888888, \"#fdca26\"], [1.0, \"#f0f921\"]]}, \"colorway\": [\"#636efa\", \"#EF553B\", \"#00cc96\", \"#ab63fa\", \"#FFA15A\", \"#19d3f3\", \"#FF6692\", \"#B6E880\", \"#FF97FF\", \"#FECB52\"], \"font\": {\"color\": \"#2a3f5f\"}, \"geo\": {\"bgcolor\": \"white\", \"lakecolor\": \"white\", \"landcolor\": \"#E5ECF6\", \"showlakes\": true, \"showland\": true, \"subunitcolor\": \"white\"}, \"hoverlabel\": {\"align\": \"left\"}, \"hovermode\": \"closest\", \"mapbox\": {\"style\": \"light\"}, \"paper_bgcolor\": \"white\", \"plot_bgcolor\": \"#E5ECF6\", \"polar\": {\"angularaxis\": {\"gridcolor\": \"white\", \"linecolor\": \"white\", \"ticks\": \"\"}, \"bgcolor\": \"#E5ECF6\", \"radialaxis\": {\"gridcolor\": \"white\", \"linecolor\": \"white\", \"ticks\": \"\"}}, \"scene\": {\"xaxis\": {\"backgroundcolor\": \"#E5ECF6\", \"gridcolor\": \"white\", \"gridwidth\": 2, \"linecolor\": \"white\", \"showbackground\": true, \"ticks\": \"\", \"zerolinecolor\": \"white\"}, \"yaxis\": {\"backgroundcolor\": \"#E5ECF6\", \"gridcolor\": \"white\", \"gridwidth\": 2, \"linecolor\": \"white\", \"showbackground\": true, \"ticks\": \"\", \"zerolinecolor\": \"white\"}, \"zaxis\": {\"backgroundcolor\": \"#E5ECF6\", \"gridcolor\": \"white\", \"gridwidth\": 2, \"linecolor\": \"white\", \"showbackground\": true, \"ticks\": \"\", \"zerolinecolor\": \"white\"}}, \"shapedefaults\": {\"line\": {\"color\": \"#2a3f5f\"}}, \"ternary\": {\"aaxis\": {\"gridcolor\": \"white\", \"linecolor\": \"white\", \"ticks\": \"\"}, \"baxis\": {\"gridcolor\": \"white\", \"linecolor\": \"white\", \"ticks\": \"\"}, \"bgcolor\": \"#E5ECF6\", \"caxis\": {\"gridcolor\": \"white\", \"linecolor\": \"white\", \"ticks\": \"\"}}, \"title\": {\"x\": 0.05}, \"xaxis\": {\"automargin\": true, \"gridcolor\": \"white\", \"linecolor\": \"white\", \"ticks\": \"\", \"title\": {\"standoff\": 15}, \"zerolinecolor\": \"white\", \"zerolinewidth\": 2}, \"yaxis\": {\"automargin\": true, \"gridcolor\": \"white\", \"linecolor\": \"white\", \"ticks\": \"\", \"title\": {\"standoff\": 15}, \"zerolinecolor\": \"white\", \"zerolinewidth\": 2}}}, \"title\": {\"font\": {\"size\": 14}, \"text\": \"<b>Model performance</b><br>rf\"}, \"width\": 450, \"xaxis\": {\"anchor\": \"y\", \"domain\": [0.0, 1.0]}, \"xaxis2\": {\"anchor\": \"y2\", \"domain\": [0.0, 1.0], \"title\": {\"text\": \"false positive rate\"}}, \"xaxis3\": {\"anchor\": \"y3\", \"domain\": [0.0, 1.0], \"range\": [0, 1.05], \"title\": {\"text\": \"recall\"}}, \"yaxis\": {\"anchor\": \"x\", \"domain\": [0.7777777777777778, 1.0]}, \"yaxis2\": {\"anchor\": \"x2\", \"domain\": [0.3888888888888889, 0.6111111111111112], \"title\": {\"text\": \"true positive rate\"}}, \"yaxis3\": {\"anchor\": \"x3\", \"domain\": [0.0, 0.22222222222222224], \"range\": [0, 1.05], \"title\": {\"text\": \"precision\"}}},\n",
       "                        {\"responsive\": true}\n",
       "                    ).then(function(){\n",
       "                            \n",
       "var gd = document.getElementById('721907dc-a528-4bd8-805a-5fc2e4a6cd91');\n",
       "var x = new MutationObserver(function (mutations, observer) {{\n",
       "        var display = window.getComputedStyle(gd).display;\n",
       "        if (!display || display === 'none') {{\n",
       "            console.log([gd, 'removed!']);\n",
       "            Plotly.purge(gd);\n",
       "            observer.disconnect();\n",
       "        }}\n",
       "}});\n",
       "\n",
       "// Listen for the removal of the full notebook cells\n",
       "var notebookContainer = gd.closest('#notebook-container');\n",
       "if (notebookContainer) {{\n",
       "    x.observe(notebookContainer, {childList: true});\n",
       "}}\n",
       "\n",
       "// Listen for the clearing of the current output cell\n",
       "var outputEl = gd.closest('.output');\n",
       "if (outputEl) {{\n",
       "    x.observe(outputEl, {childList: true});\n",
       "}}\n",
       "\n",
       "                        })\n",
       "                };\n",
       "                });\n",
       "            </script>\n",
       "        </div>"
      ]
     },
     "metadata": {},
     "output_type": "display_data"
    }
   ],
   "source": [
    "y_pred = rf.predict(test)\n",
    "y_score = rf.predict_proba(test)[:,1]\n",
    "\n",
    "model_performance_plot('rf')"
   ]
  },
  {
   "cell_type": "code",
   "execution_count": 72,
   "metadata": {},
   "outputs": [
    {
     "data": {
      "text/plain": [
       "array([0.13552371, 0.04326368, 0.19204697, 0.13798145, 0.05231601,\n",
       "       0.22203977, 0.0870097 , 0.01202134, 0.02638303, 0.01149322,\n",
       "       0.04299553, 0.03692559])"
      ]
     },
     "execution_count": 72,
     "metadata": {},
     "output_type": "execute_result"
    }
   ],
   "source": [
    "rf.feature_importances_"
   ]
  },
  {
   "cell_type": "code",
   "execution_count": 40,
   "metadata": {},
   "outputs": [
    {
     "data": {
      "image/png": "[encoded data removed]",
      "text/plain": [
       "<Figure size 720x864 with 1 Axes>"
      ]
     },
     "metadata": {
      "needs_background": "light"
     },
     "output_type": "display_data"
    },
    {
     "data": {
      "application/vnd.plotly.v1+json": {
       "config": {
        "plotlyServerURL": "https://plot.ly"
       },
       "data": [
        {
         "colorscale": [
          [
           0,
           "#440154"
          ],
          [
           0.1111111111111111,
           "#482878"
          ],
          [
           0.2222222222222222,
           "#3e4989"
          ],
          [
           0.3333333333333333,
           "#31688e"
          ],
          [
           0.4444444444444444,
           "#26828e"
          ],
          [
           0.5555555555555556,
           "#1f9e89"
          ],
          [
           0.6666666666666666,
           "#35b779"
          ],
          [
           0.7777777777777778,
           "#6ece58"
          ],
          [
           0.8888888888888888,
           "#b5de2b"
          ],
          [
           1,
           "#fde725"
          ]
         ],
         "hoverinfo": "z",
         "reversescale": false,
         "showscale": false,
         "type": "heatmap",
         "x": [
          "No (pred)",
          "Yes (pred)"
         ],
         "xgap": 2,
         "y": [
          "No (Actual)",
          "Yes (Actual)"
         ],
         "ygap": 2,
         "z": [
          [
           201,
           49
          ],
          [
           59,
           185
          ]
         ]
        }
       ],
       "layout": {
        "annotations": [
         {
          "font": {
           "color": "#000000"
          },
          "showarrow": false,
          "text": "201",
          "x": "No (pred)",
          "xref": "x",
          "y": "No (Actual)",
          "yref": "y"
         },
         {
          "font": {
           "color": "#FFFFFF"
          },
          "showarrow": false,
          "text": "49",
          "x": "Yes (pred)",
          "xref": "x",
          "y": "No (Actual)",
          "yref": "y"
         },
         {
          "font": {
           "color": "#FFFFFF"
          },
          "showarrow": false,
          "text": "59",
          "x": "No (pred)",
          "xref": "x",
          "y": "Yes (Actual)",
          "yref": "y"
         },
         {
          "font": {
           "color": "#000000"
          },
          "showarrow": false,
          "text": "185",
          "x": "Yes (pred)",
          "xref": "x",
          "y": "Yes (Actual)",
          "yref": "y"
         }
        ],
        "autosize": true,
        "height": 900,
        "margin": {
         "b": 195
        },
        "paper_bgcolor": "rgba(240,240,240, 0.95)",
        "plot_bgcolor": "rgba(240,240,240, 0.95)",
        "showlegend": false,
        "template": {
         "data": {
          "bar": [
           {
            "error_x": {
             "color": "#2a3f5f"
            },
            "error_y": {
             "color": "#2a3f5f"
            },
            "marker": {
             "line": {
              "color": "#E5ECF6",
              "width": 0.5
             }
            },
            "type": "bar"
           }
          ],
          "barpolar": [
           {
            "marker": {
             "line": {
              "color": "#E5ECF6",
              "width": 0.5
             }
            },
            "type": "barpolar"
           }
          ],
          "carpet": [
           {
            "aaxis": {
             "endlinecolor": "#2a3f5f",
             "gridcolor": "white",
             "linecolor": "white",
             "minorgridcolor": "white",
             "startlinecolor": "#2a3f5f"
            },
            "baxis": {
             "endlinecolor": "#2a3f5f",
             "gridcolor": "white",
             "linecolor": "white",
             "minorgridcolor": "white",
             "startlinecolor": "#2a3f5f"
            },
            "type": "carpet"
           }
          ],
          "choropleth": [
           {
            "colorbar": {
             "outlinewidth": 0,
             "ticks": ""
            },
            "type": "choropleth"
           }
          ],
          "contour": [
           {
            "colorbar": {
             "outlinewidth": 0,
             "ticks": ""
            },
            "colorscale": [
             [
              0,
              "#0d0887"
             ],
             [
              0.1111111111111111,
              "#46039f"
             ],
             [
              0.2222222222222222,
              "#7201a8"
             ],
             [
              0.3333333333333333,
              "#9c179e"
             ],
             [
              0.4444444444444444,
              "#bd3786"
             ],
             [
              0.5555555555555556,
              "#d8576b"
             ],
             [
              0.6666666666666666,
              "#ed7953"
             ],
             [
              0.7777777777777778,
              "#fb9f3a"
             ],
             [
              0.8888888888888888,
              "#fdca26"
             ],
             [
              1,
              "#f0f921"
             ]
            ],
            "type": "contour"
           }
          ],
          "contourcarpet": [
           {
            "colorbar": {
             "outlinewidth": 0,
             "ticks": ""
            },
            "type": "contourcarpet"
           }
          ],
          "heatmap": [
           {
            "colorbar": {
             "outlinewidth": 0,
             "ticks": ""
            },
            "colorscale": [
             [
              0,
              "#0d0887"
             ],
             [
              0.1111111111111111,
              "#46039f"
             ],
             [
              0.2222222222222222,
              "#7201a8"
             ],
             [
              0.3333333333333333,
              "#9c179e"
             ],
             [
              0.4444444444444444,
              "#bd3786"
             ],
             [
              0.5555555555555556,
              "#d8576b"
             ],
             [
              0.6666666666666666,
              "#ed7953"
             ],
             [
              0.7777777777777778,
              "#fb9f3a"
             ],
             [
              0.8888888888888888,
              "#fdca26"
             ],
             [
              1,
              "#f0f921"
             ]
            ],
            "type": "heatmap"
           }
          ],
          "heatmapgl": [
           {
            "colorbar": {
             "outlinewidth": 0,
             "ticks": ""
            },
            "colorscale": [
             [
              0,
              "#0d0887"
             ],
             [
              0.1111111111111111,
              "#46039f"
             ],
             [
              0.2222222222222222,
              "#7201a8"
             ],
             [
              0.3333333333333333,
              "#9c179e"
             ],
             [
              0.4444444444444444,
              "#bd3786"
             ],
             [
              0.5555555555555556,
              "#d8576b"
             ],
             [
              0.6666666666666666,
              "#ed7953"
             ],
             [
              0.7777777777777778,
              "#fb9f3a"
             ],
             [
              0.8888888888888888,
              "#fdca26"
             ],
             [
              1,
              "#f0f921"
             ]
            ],
            "type": "heatmapgl"
           }
          ],
          "histogram": [
           {
            "marker": {
             "colorbar": {
              "outlinewidth": 0,
              "ticks": ""
             }
            },
            "type": "histogram"
           }
          ],
          "histogram2d": [
           {
            "colorbar": {
             "outlinewidth": 0,
             "ticks": ""
            },
            "colorscale": [
             [
              0,
              "#0d0887"
             ],
             [
              0.1111111111111111,
              "#46039f"
             ],
             [
              0.2222222222222222,
              "#7201a8"
             ],
             [
              0.3333333333333333,
              "#9c179e"
             ],
             [
              0.4444444444444444,
              "#bd3786"
             ],
             [
              0.5555555555555556,
              "#d8576b"
             ],
             [
              0.6666666666666666,
              "#ed7953"
             ],
             [
              0.7777777777777778,
              "#fb9f3a"
             ],
             [
              0.8888888888888888,
              "#fdca26"
             ],
             [
              1,
              "#f0f921"
             ]
            ],
            "type": "histogram2d"
           }
          ],
          "histogram2dcontour": [
           {
            "colorbar": {
             "outlinewidth": 0,
             "ticks": ""
            },
            "colorscale": [
             [
              0,
              "#0d0887"
             ],
             [
              0.1111111111111111,
              "#46039f"
             ],
             [
              0.2222222222222222,
              "#7201a8"
             ],
             [
              0.3333333333333333,
              "#9c179e"
             ],
             [
              0.4444444444444444,
              "#bd3786"
             ],
             [
              0.5555555555555556,
              "#d8576b"
             ],
             [
              0.6666666666666666,
              "#ed7953"
             ],
             [
              0.7777777777777778,
              "#fb9f3a"
             ],
             [
              0.8888888888888888,
              "#fdca26"
             ],
             [
              1,
              "#f0f921"
             ]
            ],
            "type": "histogram2dcontour"
           }
          ],
          "mesh3d": [
           {
            "colorbar": {
             "outlinewidth": 0,
             "ticks": ""
            },
            "type": "mesh3d"
           }
          ],
          "parcoords": [
           {
            "line": {
             "colorbar": {
              "outlinewidth": 0,
              "ticks": ""
             }
            },
            "type": "parcoords"
           }
          ],
          "pie": [
           {
            "automargin": true,
            "type": "pie"
           }
          ],
          "scatter": [
           {
            "marker": {
             "colorbar": {
              "outlinewidth": 0,
              "ticks": ""
             }
            },
            "type": "scatter"
           }
          ],
          "scatter3d": [
           {
            "line": {
             "colorbar": {
              "outlinewidth": 0,
              "ticks": ""
             }
            },
            "marker": {
             "colorbar": {
              "outlinewidth": 0,
              "ticks": ""
             }
            },
            "type": "scatter3d"
           }
          ],
          "scattercarpet": [
           {
            "marker": {
             "colorbar": {
              "outlinewidth": 0,
              "ticks": ""
             }
            },
            "type": "scattercarpet"
           }
          ],
          "scattergeo": [
           {
            "marker": {
             "colorbar": {
              "outlinewidth": 0,
              "ticks": ""
             }
            },
            "type": "scattergeo"
           }
          ],
          "scattergl": [
           {
            "marker": {
             "colorbar": {
              "outlinewidth": 0,
              "ticks": ""
             }
            },
            "type": "scattergl"
           }
          ],
          "scattermapbox": [
           {
            "marker": {
             "colorbar": {
              "outlinewidth": 0,
              "ticks": ""
             }
            },
            "type": "scattermapbox"
           }
          ],
          "scatterpolar": [
           {
            "marker": {
             "colorbar": {
              "outlinewidth": 0,
              "ticks": ""
             }
            },
            "type": "scatterpolar"
           }
          ],
          "scatterpolargl": [
           {
            "marker": {
             "colorbar": {
              "outlinewidth": 0,
              "ticks": ""
             }
            },
            "type": "scatterpolargl"
           }
          ],
          "scatterternary": [
           {
            "marker": {
             "colorbar": {
              "outlinewidth": 0,
              "ticks": ""
             }
            },
            "type": "scatterternary"
           }
          ],
          "surface": [
           {
            "colorbar": {
             "outlinewidth": 0,
             "ticks": ""
            },
            "colorscale": [
             [
              0,
              "#0d0887"
             ],
             [
              0.1111111111111111,
              "#46039f"
             ],
             [
              0.2222222222222222,
              "#7201a8"
             ],
             [
              0.3333333333333333,
              "#9c179e"
             ],
             [
              0.4444444444444444,
              "#bd3786"
             ],
             [
              0.5555555555555556,
              "#d8576b"
             ],
             [
              0.6666666666666666,
              "#ed7953"
             ],
             [
              0.7777777777777778,
              "#fb9f3a"
             ],
             [
              0.8888888888888888,
              "#fdca26"
             ],
             [
              1,
              "#f0f921"
             ]
            ],
            "type": "surface"
           }
          ],
          "table": [
           {
            "cells": {
             "fill": {
              "color": "#EBF0F8"
             },
             "line": {
              "color": "white"
             }
            },
            "header": {
             "fill": {
              "color": "#C8D4E3"
             },
             "line": {
              "color": "white"
             }
            },
            "type": "table"
           }
          ]
         },
         "layout": {
          "annotationdefaults": {
           "arrowcolor": "#2a3f5f",
           "arrowhead": 0,
           "arrowwidth": 1
          },
          "coloraxis": {
           "colorbar": {
            "outlinewidth": 0,
            "ticks": ""
           }
          },
          "colorscale": {
           "diverging": [
            [
             0,
             "#8e0152"
            ],
            [
             0.1,
             "#c51b7d"
            ],
            [
             0.2,
             "#de77ae"
            ],
            [
             0.3,
             "#f1b6da"
            ],
            [
             0.4,
             "#fde0ef"
            ],
            [
             0.5,
             "#f7f7f7"
            ],
            [
             0.6,
             "#e6f5d0"
            ],
            [
             0.7,
             "#b8e186"
            ],
            [
             0.8,
             "#7fbc41"
            ],
            [
             0.9,
             "#4d9221"
            ],
            [
             1,
             "#276419"
            ]
           ],
           "sequential": [
            [
             0,
             "#0d0887"
            ],
            [
             0.1111111111111111,
             "#46039f"
            ],
            [
             0.2222222222222222,
             "#7201a8"
            ],
            [
             0.3333333333333333,
             "#9c179e"
            ],
            [
             0.4444444444444444,
             "#bd3786"
            ],
            [
             0.5555555555555556,
             "#d8576b"
            ],
            [
             0.6666666666666666,
             "#ed7953"
            ],
            [
             0.7777777777777778,
             "#fb9f3a"
            ],
            [
             0.8888888888888888,
             "#fdca26"
            ],
            [
             1,
             "#f0f921"
            ]
           ],
           "sequentialminus": [
            [
             0,
             "#0d0887"
            ],
            [
             0.1111111111111111,
             "#46039f"
            ],
            [
             0.2222222222222222,
             "#7201a8"
            ],
            [
             0.3333333333333333,
             "#9c179e"
            ],
            [
             0.4444444444444444,
             "#bd3786"
            ],
            [
             0.5555555555555556,
             "#d8576b"
            ],
            [
             0.6666666666666666,
             "#ed7953"
            ],
            [
             0.7777777777777778,
             "#fb9f3a"
            ],
            [
             0.8888888888888888,
             "#fdca26"
            ],
            [
             1,
             "#f0f921"
            ]
           ]
          },
          "colorway": [
           "#636efa",
           "#EF553B",
           "#00cc96",
           "#ab63fa",
           "#FFA15A",
           "#19d3f3",
           "#FF6692",
           "#B6E880",
           "#FF97FF",
           "#FECB52"
          ],
          "font": {
           "color": "#2a3f5f"
          },
          "geo": {
           "bgcolor": "white",
           "lakecolor": "white",
           "landcolor": "#E5ECF6",
           "showlakes": true,
           "showland": true,
           "subunitcolor": "white"
          },
          "hoverlabel": {
           "align": "left"
          },
          "hovermode": "closest",
          "mapbox": {
           "style": "light"
          },
          "paper_bgcolor": "white",
          "plot_bgcolor": "#E5ECF6",
          "polar": {
           "angularaxis": {
            "gridcolor": "white",
            "linecolor": "white",
            "ticks": ""
           },
           "bgcolor": "#E5ECF6",
           "radialaxis": {
            "gridcolor": "white",
            "linecolor": "white",
            "ticks": ""
           }
          },
          "scene": {
           "xaxis": {
            "backgroundcolor": "#E5ECF6",
            "gridcolor": "white",
            "gridwidth": 2,
            "linecolor": "white",
            "showbackground": true,
            "ticks": "",
            "zerolinecolor": "white"
           },
           "yaxis": {
            "backgroundcolor": "#E5ECF6",
            "gridcolor": "white",
            "gridwidth": 2,
            "linecolor": "white",
            "showbackground": true,
            "ticks": "",
            "zerolinecolor": "white"
           },
           "zaxis": {
            "backgroundcolor": "#E5ECF6",
            "gridcolor": "white",
            "gridwidth": 2,
            "linecolor": "white",
            "showbackground": true,
            "ticks": "",
            "zerolinecolor": "white"
           }
          },
          "shapedefaults": {
           "line": {
            "color": "#2a3f5f"
           }
          },
          "ternary": {
           "aaxis": {
            "gridcolor": "white",
            "linecolor": "white",
            "ticks": ""
           },
           "baxis": {
            "gridcolor": "white",
            "linecolor": "white",
            "ticks": ""
           },
           "bgcolor": "#E5ECF6",
           "caxis": {
            "gridcolor": "white",
            "linecolor": "white",
            "ticks": ""
           }
          },
          "title": {
           "x": 0.05
          },
          "xaxis": {
           "automargin": true,
           "gridcolor": "white",
           "linecolor": "white",
           "ticks": "",
           "title": {
            "standoff": 15
           },
           "zerolinecolor": "white",
           "zerolinewidth": 2
          },
          "yaxis": {
           "automargin": true,
           "gridcolor": "white",
           "linecolor": "white",
           "ticks": "",
           "title": {
            "standoff": 15
           },
           "zerolinecolor": "white",
           "zerolinewidth": 2
          }
         }
        },
        "title": {
         "text": "<b>Model Confusion matrix</b><br>RandomForestClassifier"
        },
        "width": 830,
        "xaxis": {
         "dtick": 1,
         "gridcolor": "rgb(0, 0, 0)",
         "side": "top",
         "ticks": ""
        },
        "yaxis": {
         "dtick": 1,
         "ticks": "",
         "ticksuffix": "  "
        }
       }
      },
      "text/html": [
       "<div>\n",
       "        \n",
       "        \n",
       "            <div id=\"ada9b5f1-f2f3-47f9-bf38-e17c2fb303c3\" class=\"plotly-graph-div\" style=\"height:900px; width:830px;\"></div>\n",
       "            <script type=\"text/javascript\">\n",
       "                require([\"plotly\"], function(Plotly) {\n",
       "                    window.PLOTLYENV=window.PLOTLYENV || {};\n",
       "                    \n",
       "                if (document.getElementById(\"ada9b5f1-f2f3-47f9-bf38-e17c2fb303c3\")) {\n",
       "                    Plotly.newPlot(\n",
       "                        'ada9b5f1-f2f3-47f9-bf38-e17c2fb303c3',\n",
       "                        [{\"colorscale\": [[0.0, \"#440154\"], [0.1111111111111111, \"#482878\"], [0.2222222222222222, \"#3e4989\"], [0.3333333333333333, \"#31688e\"], [0.4444444444444444, \"#26828e\"], [0.5555555555555556, \"#1f9e89\"], [0.6666666666666666, \"#35b779\"], [0.7777777777777778, \"#6ece58\"], [0.8888888888888888, \"#b5de2b\"], [1.0, \"#fde725\"]], \"hoverinfo\": \"z\", \"reversescale\": false, \"showscale\": false, \"type\": \"heatmap\", \"x\": [\"No (pred)\", \"Yes (pred)\"], \"xgap\": 2, \"y\": [\"No (Actual)\", \"Yes (Actual)\"], \"ygap\": 2, \"z\": [[201, 49], [59, 185]]}],\n",
       "                        {\"annotations\": [{\"font\": {\"color\": \"#000000\"}, \"showarrow\": false, \"text\": \"201\", \"x\": \"No (pred)\", \"xref\": \"x\", \"y\": \"No (Actual)\", \"yref\": \"y\"}, {\"font\": {\"color\": \"#FFFFFF\"}, \"showarrow\": false, \"text\": \"49\", \"x\": \"Yes (pred)\", \"xref\": \"x\", \"y\": \"No (Actual)\", \"yref\": \"y\"}, {\"font\": {\"color\": \"#FFFFFF\"}, \"showarrow\": false, \"text\": \"59\", \"x\": \"No (pred)\", \"xref\": \"x\", \"y\": \"Yes (Actual)\", \"yref\": \"y\"}, {\"font\": {\"color\": \"#000000\"}, \"showarrow\": false, \"text\": \"185\", \"x\": \"Yes (pred)\", \"xref\": \"x\", \"y\": \"Yes (Actual)\", \"yref\": \"y\"}], \"autosize\": true, \"height\": 900, \"margin\": {\"b\": 195}, \"paper_bgcolor\": \"rgba(240,240,240, 0.95)\", \"plot_bgcolor\": \"rgba(240,240,240, 0.95)\", \"showlegend\": false, \"template\": {\"data\": {\"bar\": [{\"error_x\": {\"color\": \"#2a3f5f\"}, \"error_y\": {\"color\": \"#2a3f5f\"}, \"marker\": {\"line\": {\"color\": \"#E5ECF6\", \"width\": 0.5}}, \"type\": \"bar\"}], \"barpolar\": [{\"marker\": {\"line\": {\"color\": \"#E5ECF6\", \"width\": 0.5}}, \"type\": \"barpolar\"}], \"carpet\": [{\"aaxis\": {\"endlinecolor\": \"#2a3f5f\", \"gridcolor\": \"white\", \"linecolor\": \"white\", \"minorgridcolor\": \"white\", \"startlinecolor\": \"#2a3f5f\"}, \"baxis\": {\"endlinecolor\": \"#2a3f5f\", \"gridcolor\": \"white\", \"linecolor\": \"white\", \"minorgridcolor\": \"white\", \"startlinecolor\": \"#2a3f5f\"}, \"type\": \"carpet\"}], \"choropleth\": [{\"colorbar\": {\"outlinewidth\": 0, \"ticks\": \"\"}, \"type\": \"choropleth\"}], \"contour\": [{\"colorbar\": {\"outlinewidth\": 0, \"ticks\": \"\"}, \"colorscale\": [[0.0, \"#0d0887\"], [0.1111111111111111, \"#46039f\"], [0.2222222222222222, \"#7201a8\"], [0.3333333333333333, \"#9c179e\"], [0.4444444444444444, \"#bd3786\"], [0.5555555555555556, \"#d8576b\"], [0.6666666666666666, \"#ed7953\"], [0.7777777777777778, \"#fb9f3a\"], [0.8888888888888888, \"#fdca26\"], [1.0, \"#f0f921\"]], \"type\": \"contour\"}], \"contourcarpet\": [{\"colorbar\": {\"outlinewidth\": 0, \"ticks\": \"\"}, \"type\": \"contourcarpet\"}], \"heatmap\": [{\"colorbar\": {\"outlinewidth\": 0, \"ticks\": \"\"}, \"colorscale\": [[0.0, \"#0d0887\"], [0.1111111111111111, \"#46039f\"], [0.2222222222222222, \"#7201a8\"], [0.3333333333333333, \"#9c179e\"], [0.4444444444444444, \"#bd3786\"], [0.5555555555555556, \"#d8576b\"], [0.6666666666666666, \"#ed7953\"], [0.7777777777777778, \"#fb9f3a\"], [0.8888888888888888, \"#fdca26\"], [1.0, \"#f0f921\"]], \"type\": \"heatmap\"}], \"heatmapgl\": [{\"colorbar\": {\"outlinewidth\": 0, \"ticks\": \"\"}, \"colorscale\": [[0.0, \"#0d0887\"], [0.1111111111111111, \"#46039f\"], [0.2222222222222222, \"#7201a8\"], [0.3333333333333333, \"#9c179e\"], [0.4444444444444444, \"#bd3786\"], [0.5555555555555556, \"#d8576b\"], [0.6666666666666666, \"#ed7953\"], [0.7777777777777778, \"#fb9f3a\"], [0.8888888888888888, \"#fdca26\"], [1.0, \"#f0f921\"]], \"type\": \"heatmapgl\"}], \"histogram\": [{\"marker\": {\"colorbar\": {\"outlinewidth\": 0, \"ticks\": \"\"}}, \"type\": \"histogram\"}], \"histogram2d\": [{\"colorbar\": {\"outlinewidth\": 0, \"ticks\": \"\"}, \"colorscale\": [[0.0, \"#0d0887\"], [0.1111111111111111, \"#46039f\"], [0.2222222222222222, \"#7201a8\"], [0.3333333333333333, \"#9c179e\"], [0.4444444444444444, \"#bd3786\"], [0.5555555555555556, \"#d8576b\"], [0.6666666666666666, \"#ed7953\"], [0.7777777777777778, \"#fb9f3a\"], [0.8888888888888888, \"#fdca26\"], [1.0, \"#f0f921\"]], \"type\": \"histogram2d\"}], \"histogram2dcontour\": [{\"colorbar\": {\"outlinewidth\": 0, \"ticks\": \"\"}, \"colorscale\": [[0.0, \"#0d0887\"], [0.1111111111111111, \"#46039f\"], [0.2222222222222222, \"#7201a8\"], [0.3333333333333333, \"#9c179e\"], [0.4444444444444444, \"#bd3786\"], [0.5555555555555556, \"#d8576b\"], [0.6666666666666666, \"#ed7953\"], [0.7777777777777778, \"#fb9f3a\"], [0.8888888888888888, \"#fdca26\"], [1.0, \"#f0f921\"]], \"type\": \"histogram2dcontour\"}], \"mesh3d\": [{\"colorbar\": {\"outlinewidth\": 0, \"ticks\": \"\"}, \"type\": \"mesh3d\"}], \"parcoords\": [{\"line\": {\"colorbar\": {\"outlinewidth\": 0, \"ticks\": \"\"}}, \"type\": \"parcoords\"}], \"pie\": [{\"automargin\": true, \"type\": \"pie\"}], \"scatter\": [{\"marker\": {\"colorbar\": {\"outlinewidth\": 0, \"ticks\": \"\"}}, \"type\": \"scatter\"}], \"scatter3d\": [{\"line\": {\"colorbar\": {\"outlinewidth\": 0, \"ticks\": \"\"}}, \"marker\": {\"colorbar\": {\"outlinewidth\": 0, \"ticks\": \"\"}}, \"type\": \"scatter3d\"}], \"scattercarpet\": [{\"marker\": {\"colorbar\": {\"outlinewidth\": 0, \"ticks\": \"\"}}, \"type\": \"scattercarpet\"}], \"scattergeo\": [{\"marker\": {\"colorbar\": {\"outlinewidth\": 0, \"ticks\": \"\"}}, \"type\": \"scattergeo\"}], \"scattergl\": [{\"marker\": {\"colorbar\": {\"outlinewidth\": 0, \"ticks\": \"\"}}, \"type\": \"scattergl\"}], \"scattermapbox\": [{\"marker\": {\"colorbar\": {\"outlinewidth\": 0, \"ticks\": \"\"}}, \"type\": \"scattermapbox\"}], \"scatterpolar\": [{\"marker\": {\"colorbar\": {\"outlinewidth\": 0, \"ticks\": \"\"}}, \"type\": \"scatterpolar\"}], \"scatterpolargl\": [{\"marker\": {\"colorbar\": {\"outlinewidth\": 0, \"ticks\": \"\"}}, \"type\": \"scatterpolargl\"}], \"scatterternary\": [{\"marker\": {\"colorbar\": {\"outlinewidth\": 0, \"ticks\": \"\"}}, \"type\": \"scatterternary\"}], \"surface\": [{\"colorbar\": {\"outlinewidth\": 0, \"ticks\": \"\"}, \"colorscale\": [[0.0, \"#0d0887\"], [0.1111111111111111, \"#46039f\"], [0.2222222222222222, \"#7201a8\"], [0.3333333333333333, \"#9c179e\"], [0.4444444444444444, \"#bd3786\"], [0.5555555555555556, \"#d8576b\"], [0.6666666666666666, \"#ed7953\"], [0.7777777777777778, \"#fb9f3a\"], [0.8888888888888888, \"#fdca26\"], [1.0, \"#f0f921\"]], \"type\": \"surface\"}], \"table\": [{\"cells\": {\"fill\": {\"color\": \"#EBF0F8\"}, \"line\": {\"color\": \"white\"}}, \"header\": {\"fill\": {\"color\": \"#C8D4E3\"}, \"line\": {\"color\": \"white\"}}, \"type\": \"table\"}]}, \"layout\": {\"annotationdefaults\": {\"arrowcolor\": \"#2a3f5f\", \"arrowhead\": 0, \"arrowwidth\": 1}, \"coloraxis\": {\"colorbar\": {\"outlinewidth\": 0, \"ticks\": \"\"}}, \"colorscale\": {\"diverging\": [[0, \"#8e0152\"], [0.1, \"#c51b7d\"], [0.2, \"#de77ae\"], [0.3, \"#f1b6da\"], [0.4, \"#fde0ef\"], [0.5, \"#f7f7f7\"], [0.6, \"#e6f5d0\"], [0.7, \"#b8e186\"], [0.8, \"#7fbc41\"], [0.9, \"#4d9221\"], [1, \"#276419\"]], \"sequential\": [[0.0, \"#0d0887\"], [0.1111111111111111, \"#46039f\"], [0.2222222222222222, \"#7201a8\"], [0.3333333333333333, \"#9c179e\"], [0.4444444444444444, \"#bd3786\"], [0.5555555555555556, \"#d8576b\"], [0.6666666666666666, \"#ed7953\"], [0.7777777777777778, \"#fb9f3a\"], [0.8888888888888888, \"#fdca26\"], [1.0, \"#f0f921\"]], \"sequentialminus\": [[0.0, \"#0d0887\"], [0.1111111111111111, \"#46039f\"], [0.2222222222222222, \"#7201a8\"], [0.3333333333333333, \"#9c179e\"], [0.4444444444444444, \"#bd3786\"], [0.5555555555555556, \"#d8576b\"], [0.6666666666666666, \"#ed7953\"], [0.7777777777777778, \"#fb9f3a\"], [0.8888888888888888, \"#fdca26\"], [1.0, \"#f0f921\"]]}, \"colorway\": [\"#636efa\", \"#EF553B\", \"#00cc96\", \"#ab63fa\", \"#FFA15A\", \"#19d3f3\", \"#FF6692\", \"#B6E880\", \"#FF97FF\", \"#FECB52\"], \"font\": {\"color\": \"#2a3f5f\"}, \"geo\": {\"bgcolor\": \"white\", \"lakecolor\": \"white\", \"landcolor\": \"#E5ECF6\", \"showlakes\": true, \"showland\": true, \"subunitcolor\": \"white\"}, \"hoverlabel\": {\"align\": \"left\"}, \"hovermode\": \"closest\", \"mapbox\": {\"style\": \"light\"}, \"paper_bgcolor\": \"white\", \"plot_bgcolor\": \"#E5ECF6\", \"polar\": {\"angularaxis\": {\"gridcolor\": \"white\", \"linecolor\": \"white\", \"ticks\": \"\"}, \"bgcolor\": \"#E5ECF6\", \"radialaxis\": {\"gridcolor\": \"white\", \"linecolor\": \"white\", \"ticks\": \"\"}}, \"scene\": {\"xaxis\": {\"backgroundcolor\": \"#E5ECF6\", \"gridcolor\": \"white\", \"gridwidth\": 2, \"linecolor\": \"white\", \"showbackground\": true, \"ticks\": \"\", \"zerolinecolor\": \"white\"}, \"yaxis\": {\"backgroundcolor\": \"#E5ECF6\", \"gridcolor\": \"white\", \"gridwidth\": 2, \"linecolor\": \"white\", \"showbackground\": true, \"ticks\": \"\", \"zerolinecolor\": \"white\"}, \"zaxis\": {\"backgroundcolor\": \"#E5ECF6\", \"gridcolor\": \"white\", \"gridwidth\": 2, \"linecolor\": \"white\", \"showbackground\": true, \"ticks\": \"\", \"zerolinecolor\": \"white\"}}, \"shapedefaults\": {\"line\": {\"color\": \"#2a3f5f\"}}, \"ternary\": {\"aaxis\": {\"gridcolor\": \"white\", \"linecolor\": \"white\", \"ticks\": \"\"}, \"baxis\": {\"gridcolor\": \"white\", \"linecolor\": \"white\", \"ticks\": \"\"}, \"bgcolor\": \"#E5ECF6\", \"caxis\": {\"gridcolor\": \"white\", \"linecolor\": \"white\", \"ticks\": \"\"}}, \"title\": {\"x\": 0.05}, \"xaxis\": {\"automargin\": true, \"gridcolor\": \"white\", \"linecolor\": \"white\", \"ticks\": \"\", \"title\": {\"standoff\": 15}, \"zerolinecolor\": \"white\", \"zerolinewidth\": 2}, \"yaxis\": {\"automargin\": true, \"gridcolor\": \"white\", \"linecolor\": \"white\", \"ticks\": \"\", \"title\": {\"standoff\": 15}, \"zerolinecolor\": \"white\", \"zerolinewidth\": 2}}}, \"title\": {\"text\": \"<b>Model Confusion matrix</b><br>RandomForestClassifier\"}, \"width\": 830, \"xaxis\": {\"dtick\": 1, \"gridcolor\": \"rgb(0, 0, 0)\", \"side\": \"top\", \"ticks\": \"\"}, \"yaxis\": {\"dtick\": 1, \"ticks\": \"\", \"ticksuffix\": \"  \"}},\n",
       "                        {\"responsive\": true}\n",
       "                    ).then(function(){\n",
       "                            \n",
       "var gd = document.getElementById('ada9b5f1-f2f3-47f9-bf38-e17c2fb303c3');\n",
       "var x = new MutationObserver(function (mutations, observer) {{\n",
       "        var display = window.getComputedStyle(gd).display;\n",
       "        if (!display || display === 'none') {{\n",
       "            console.log([gd, 'removed!']);\n",
       "            Plotly.purge(gd);\n",
       "            observer.disconnect();\n",
       "        }}\n",
       "}});\n",
       "\n",
       "// Listen for the removal of the full notebook cells\n",
       "var notebookContainer = gd.closest('#notebook-container');\n",
       "if (notebookContainer) {{\n",
       "    x.observe(notebookContainer, {childList: true});\n",
       "}}\n",
       "\n",
       "// Listen for the clearing of the current output cell\n",
       "var outputEl = gd.closest('.output');\n",
       "if (outputEl) {{\n",
       "    x.observe(outputEl, {childList: true});\n",
       "}}\n",
       "\n",
       "                        })\n",
       "                };\n",
       "                });\n",
       "            </script>\n",
       "        </div>"
      ]
     },
     "metadata": {},
     "output_type": "display_data"
    }
   ],
   "source": [
    "plot_feature_importance(rf)\n",
    "plot_confusion_matrix(rf)"
   ]
  },
  {
   "cell_type": "code",
   "execution_count": 41,
   "metadata": {},
   "outputs": [],
   "source": [
    "from sklearn.tree import export_graphviz\n",
    "\n",
    "export_graphviz(rf.estimators_[0], out_file=\"rf_tree_after_fs.dot\", max_depth=4,feature_names=train.columns, class_names=['0','1'], impurity=False, filled=True)"
   ]
  },
  {
   "cell_type": "code",
   "execution_count": 42,
   "metadata": {},
   "outputs": [
    {
     "data": {
      "image/svg+xml": [
       "<?xml version=\"1.0\" encoding=\"UTF-8\" standalone=\"no\"?>\n",
       "<!DOCTYPE svg PUBLIC \"-//W3C//DTD SVG 1.1//EN\"\n",
       " \"http://www.w3.org/Graphics/SVG/1.1/DTD/svg11.dtd\">\n",
       "<!-- Generated by graphviz version 2.43.0 (0)\n",
       " -->\n",
       "<!-- Title: Tree Pages: 1 -->\n",
       "<svg width=\"1976pt\" height=\"458pt\"\n",
       " viewBox=\"0.00 0.00 1976.04 458.00\" xmlns=\"http://www.w3.org/2000/svg\" xmlns:xlink=\"http://www.w3.org/1999/xlink\">\n",
       "<g id=\"graph0\" class=\"graph\" transform=\"scale(1 1) rotate(0) translate(4 454)\">\n",
       "<title>Tree</title>\n",
       "<polygon fill=\"white\" stroke=\"transparent\" points=\"-4,4 -4,-454 1972.04,-454 1972.04,4 -4,4\"/>\n",
       "<!-- 0 -->\n",
       "<g id=\"node1\" class=\"node\">\n",
       "<title>0</title>\n",
       "<polygon fill=\"#fef9f6\" stroke=\"black\" points=\"1025.71,-450 866.83,-450 866.83,-386 1025.71,-386 1025.71,-450\"/>\n",
       "<text text-anchor=\"middle\" x=\"946.27\" y=\"-434.8\" font-family=\"Times,serif\" font-size=\"14.00\">StockOptionLevel &lt;= 0.5</text>\n",
       "<text text-anchor=\"middle\" x=\"946.27\" y=\"-420.8\" font-family=\"Times,serif\" font-size=\"14.00\">samples = 1238</text>\n",
       "<text text-anchor=\"middle\" x=\"946.27\" y=\"-406.8\" font-family=\"Times,serif\" font-size=\"14.00\">value = [1009, 963]</text>\n",
       "<text text-anchor=\"middle\" x=\"946.27\" y=\"-392.8\" font-family=\"Times,serif\" font-size=\"14.00\">class = 0</text>\n",
       "</g>\n",
       "<!-- 1 -->\n",
       "<g id=\"node2\" class=\"node\">\n",
       "<title>1</title>\n",
       "<polygon fill=\"#bcdef6\" stroke=\"black\" points=\"792.81,-350 673.73,-350 673.73,-286 792.81,-286 792.81,-350\"/>\n",
       "<text text-anchor=\"middle\" x=\"733.27\" y=\"-334.8\" font-family=\"Times,serif\" font-size=\"14.00\">OverTime &lt;= 0.5</text>\n",
       "<text text-anchor=\"middle\" x=\"733.27\" y=\"-320.8\" font-family=\"Times,serif\" font-size=\"14.00\">samples = 638</text>\n",
       "<text text-anchor=\"middle\" x=\"733.27\" y=\"-306.8\" font-family=\"Times,serif\" font-size=\"14.00\">value = [404, 609]</text>\n",
       "<text text-anchor=\"middle\" x=\"733.27\" y=\"-292.8\" font-family=\"Times,serif\" font-size=\"14.00\">class = 1</text>\n",
       "</g>\n",
       "<!-- 0&#45;&gt;1 -->\n",
       "<g id=\"edge1\" class=\"edge\">\n",
       "<title>0&#45;&gt;1</title>\n",
       "<path fill=\"none\" stroke=\"black\" d=\"M878.87,-385.99C854.45,-374.75 826.84,-362.05 802.28,-350.75\"/>\n",
       "<polygon fill=\"black\" stroke=\"black\" points=\"803.57,-347.49 793.03,-346.49 800.65,-353.85 803.57,-347.49\"/>\n",
       "<text text-anchor=\"middle\" x=\"801.7\" y=\"-365.74\" font-family=\"Times,serif\" font-size=\"14.00\">True</text>\n",
       "</g>\n",
       "<!-- 16 -->\n",
       "<g id=\"node17\" class=\"node\">\n",
       "<title>16</title>\n",
       "<polygon fill=\"#f4cbad\" stroke=\"black\" points=\"1309.25,-350 1113.28,-350 1113.28,-286 1309.25,-286 1309.25,-350\"/>\n",
       "<text text-anchor=\"middle\" x=\"1211.27\" y=\"-334.8\" font-family=\"Times,serif\" font-size=\"14.00\">EnvironmentSatisfaction &lt;= 2.5</text>\n",
       "<text text-anchor=\"middle\" x=\"1211.27\" y=\"-320.8\" font-family=\"Times,serif\" font-size=\"14.00\">samples = 600</text>\n",
       "<text text-anchor=\"middle\" x=\"1211.27\" y=\"-306.8\" font-family=\"Times,serif\" font-size=\"14.00\">value = [605, 354]</text>\n",
       "<text text-anchor=\"middle\" x=\"1211.27\" y=\"-292.8\" font-family=\"Times,serif\" font-size=\"14.00\">class = 0</text>\n",
       "</g>\n",
       "<!-- 0&#45;&gt;16 -->\n",
       "<g id=\"edge16\" class=\"edge\">\n",
       "<title>0&#45;&gt;16</title>\n",
       "<path fill=\"none\" stroke=\"black\" d=\"M1025.78,-387.6C1054.67,-376.91 1087.58,-364.74 1117.58,-353.65\"/>\n",
       "<polygon fill=\"black\" stroke=\"black\" points=\"1119.05,-356.84 1127.21,-350.09 1116.62,-350.27 1119.05,-356.84\"/>\n",
       "<text text-anchor=\"middle\" x=\"1116.76\" y=\"-368.6\" font-family=\"Times,serif\" font-size=\"14.00\">False</text>\n",
       "</g>\n",
       "<!-- 2 -->\n",
       "<g id=\"node3\" class=\"node\">\n",
       "<title>2</title>\n",
       "<polygon fill=\"#fdf6f0\" stroke=\"black\" points=\"467.43,-250 309.11,-250 309.11,-186 467.43,-186 467.43,-250\"/>\n",
       "<text text-anchor=\"middle\" x=\"388.27\" y=\"-234.8\" font-family=\"Times,serif\" font-size=\"14.00\">MonthlyIncome &lt;= &#45;0.65</text>\n",
       "<text text-anchor=\"middle\" x=\"388.27\" y=\"-220.8\" font-family=\"Times,serif\" font-size=\"14.00\">samples = 374</text>\n",
       "<text text-anchor=\"middle\" x=\"388.27\" y=\"-206.8\" font-family=\"Times,serif\" font-size=\"14.00\">value = [311, 288]</text>\n",
       "<text text-anchor=\"middle\" x=\"388.27\" y=\"-192.8\" font-family=\"Times,serif\" font-size=\"14.00\">class = 0</text>\n",
       "</g>\n",
       "<!-- 1&#45;&gt;2 -->\n",
       "<g id=\"edge2\" class=\"edge\">\n",
       "<title>1&#45;&gt;2</title>\n",
       "<path fill=\"none\" stroke=\"black\" d=\"M673.57,-300.04C619.47,-284.68 539.02,-261.82 477.33,-244.3\"/>\n",
       "<polygon fill=\"black\" stroke=\"black\" points=\"478.17,-240.9 467.59,-241.53 476.26,-247.63 478.17,-240.9\"/>\n",
       "</g>\n",
       "<!-- 9 -->\n",
       "<g id=\"node10\" class=\"node\">\n",
       "<title>9</title>\n",
       "<polygon fill=\"#72b9ed\" stroke=\"black\" points=\"804.1,-250 662.43,-250 662.43,-186 804.1,-186 804.1,-250\"/>\n",
       "<text text-anchor=\"middle\" x=\"733.27\" y=\"-234.8\" font-family=\"Times,serif\" font-size=\"14.00\">JobSatisfaction &lt;= 3.5</text>\n",
       "<text text-anchor=\"middle\" x=\"733.27\" y=\"-220.8\" font-family=\"Times,serif\" font-size=\"14.00\">samples = 264</text>\n",
       "<text text-anchor=\"middle\" x=\"733.27\" y=\"-206.8\" font-family=\"Times,serif\" font-size=\"14.00\">value = [93, 321]</text>\n",
       "<text text-anchor=\"middle\" x=\"733.27\" y=\"-192.8\" font-family=\"Times,serif\" font-size=\"14.00\">class = 1</text>\n",
       "</g>\n",
       "<!-- 1&#45;&gt;9 -->\n",
       "<g id=\"edge9\" class=\"edge\">\n",
       "<title>1&#45;&gt;9</title>\n",
       "<path fill=\"none\" stroke=\"black\" d=\"M733.27,-285.99C733.27,-277.86 733.27,-268.96 733.27,-260.38\"/>\n",
       "<polygon fill=\"black\" stroke=\"black\" points=\"736.77,-260.14 733.27,-250.14 729.77,-260.14 736.77,-260.14\"/>\n",
       "</g>\n",
       "<!-- 3 -->\n",
       "<g id=\"node4\" class=\"node\">\n",
       "<title>3</title>\n",
       "<polygon fill=\"#95cbf1\" stroke=\"black\" points=\"271.23,-150 89.3,-150 89.3,-86 271.23,-86 271.23,-150\"/>\n",
       "<text text-anchor=\"middle\" x=\"180.27\" y=\"-134.8\" font-family=\"Times,serif\" font-size=\"14.00\">low_worklife_balance &lt;= 0.5</text>\n",
       "<text text-anchor=\"middle\" x=\"180.27\" y=\"-120.8\" font-family=\"Times,serif\" font-size=\"14.00\">samples = 129</text>\n",
       "<text text-anchor=\"middle\" x=\"180.27\" y=\"-106.8\" font-family=\"Times,serif\" font-size=\"14.00\">value = [72, 155]</text>\n",
       "<text text-anchor=\"middle\" x=\"180.27\" y=\"-92.8\" font-family=\"Times,serif\" font-size=\"14.00\">class = 1</text>\n",
       "</g>\n",
       "<!-- 2&#45;&gt;3 -->\n",
       "<g id=\"edge3\" class=\"edge\">\n",
       "<title>2&#45;&gt;3</title>\n",
       "<path fill=\"none\" stroke=\"black\" d=\"M322.46,-185.99C301.21,-175.98 277.5,-164.81 255.62,-154.5\"/>\n",
       "<polygon fill=\"black\" stroke=\"black\" points=\"256.9,-151.24 246.37,-150.14 253.92,-157.57 256.9,-151.24\"/>\n",
       "</g>\n",
       "<!-- 6 -->\n",
       "<g id=\"node7\" class=\"node\">\n",
       "<title>6</title>\n",
       "<polygon fill=\"#f3c7a7\" stroke=\"black\" points=\"447.81,-150 328.73,-150 328.73,-86 447.81,-86 447.81,-150\"/>\n",
       "<text text-anchor=\"middle\" x=\"388.27\" y=\"-134.8\" font-family=\"Times,serif\" font-size=\"14.00\">Age &lt;= &#45;0.311</text>\n",
       "<text text-anchor=\"middle\" x=\"388.27\" y=\"-120.8\" font-family=\"Times,serif\" font-size=\"14.00\">samples = 245</text>\n",
       "<text text-anchor=\"middle\" x=\"388.27\" y=\"-106.8\" font-family=\"Times,serif\" font-size=\"14.00\">value = [239, 133]</text>\n",
       "<text text-anchor=\"middle\" x=\"388.27\" y=\"-92.8\" font-family=\"Times,serif\" font-size=\"14.00\">class = 0</text>\n",
       "</g>\n",
       "<!-- 2&#45;&gt;6 -->\n",
       "<g id=\"edge6\" class=\"edge\">\n",
       "<title>2&#45;&gt;6</title>\n",
       "<path fill=\"none\" stroke=\"black\" d=\"M388.27,-185.99C388.27,-177.86 388.27,-168.96 388.27,-160.38\"/>\n",
       "<polygon fill=\"black\" stroke=\"black\" points=\"391.77,-160.14 388.27,-150.14 384.77,-160.14 391.77,-160.14\"/>\n",
       "</g>\n",
       "<!-- 4 -->\n",
       "<g id=\"node5\" class=\"node\">\n",
       "<title>4</title>\n",
       "<polygon fill=\"#a5d2f3\" stroke=\"black\" points=\"112.31,-50 0.23,-50 0.23,0 112.31,0 112.31,-50\"/>\n",
       "<text text-anchor=\"middle\" x=\"56.27\" y=\"-34.8\" font-family=\"Times,serif\" font-size=\"14.00\">samples = 118</text>\n",
       "<text text-anchor=\"middle\" x=\"56.27\" y=\"-20.8\" font-family=\"Times,serif\" font-size=\"14.00\">value = [72, 132]</text>\n",
       "<text text-anchor=\"middle\" x=\"56.27\" y=\"-6.8\" font-family=\"Times,serif\" font-size=\"14.00\">class = 1</text>\n",
       "</g>\n",
       "<!-- 3&#45;&gt;4 -->\n",
       "<g id=\"edge4\" class=\"edge\">\n",
       "<title>3&#45;&gt;4</title>\n",
       "<path fill=\"none\" stroke=\"black\" d=\"M137.94,-85.94C124.82,-76.31 110.39,-65.72 97.35,-56.15\"/>\n",
       "<polygon fill=\"black\" stroke=\"black\" points=\"99.15,-53.12 89.01,-50.03 95,-58.77 99.15,-53.12\"/>\n",
       "</g>\n",
       "<!-- 5 -->\n",
       "<g id=\"node6\" class=\"node\">\n",
       "<title>5</title>\n",
       "<polygon fill=\"#399de5\" stroke=\"black\" points=\"229.31,-50 131.23,-50 131.23,0 229.31,0 229.31,-50\"/>\n",
       "<text text-anchor=\"middle\" x=\"180.27\" y=\"-34.8\" font-family=\"Times,serif\" font-size=\"14.00\">samples = 11</text>\n",
       "<text text-anchor=\"middle\" x=\"180.27\" y=\"-20.8\" font-family=\"Times,serif\" font-size=\"14.00\">value = [0, 23]</text>\n",
       "<text text-anchor=\"middle\" x=\"180.27\" y=\"-6.8\" font-family=\"Times,serif\" font-size=\"14.00\">class = 1</text>\n",
       "</g>\n",
       "<!-- 3&#45;&gt;5 -->\n",
       "<g id=\"edge5\" class=\"edge\">\n",
       "<title>3&#45;&gt;5</title>\n",
       "<path fill=\"none\" stroke=\"black\" d=\"M180.27,-85.94C180.27,-77.68 180.27,-68.72 180.27,-60.31\"/>\n",
       "<polygon fill=\"black\" stroke=\"black\" points=\"183.77,-60.03 180.27,-50.03 176.77,-60.03 183.77,-60.03\"/>\n",
       "</g>\n",
       "<!-- 7 -->\n",
       "<g id=\"node8\" class=\"node\">\n",
       "<title>7</title>\n",
       "<polygon fill=\"#fcfeff\" stroke=\"black\" points=\"352.81,-50 247.73,-50 247.73,0 352.81,0 352.81,-50\"/>\n",
       "<text text-anchor=\"middle\" x=\"300.27\" y=\"-34.8\" font-family=\"Times,serif\" font-size=\"14.00\">samples = 95</text>\n",
       "<text text-anchor=\"middle\" x=\"300.27\" y=\"-20.8\" font-family=\"Times,serif\" font-size=\"14.00\">value = [75, 76]</text>\n",
       "<text text-anchor=\"middle\" x=\"300.27\" y=\"-6.8\" font-family=\"Times,serif\" font-size=\"14.00\">class = 1</text>\n",
       "</g>\n",
       "<!-- 6&#45;&gt;7 -->\n",
       "<g id=\"edge7\" class=\"edge\">\n",
       "<title>6&#45;&gt;7</title>\n",
       "<path fill=\"none\" stroke=\"black\" d=\"M358.23,-85.94C349.27,-76.67 339.45,-66.52 330.48,-57.25\"/>\n",
       "<polygon fill=\"black\" stroke=\"black\" points=\"332.97,-54.79 323.51,-50.03 327.94,-59.65 332.97,-54.79\"/>\n",
       "</g>\n",
       "<!-- 8 -->\n",
       "<g id=\"node9\" class=\"node\">\n",
       "<title>8</title>\n",
       "<polygon fill=\"#eead7e\" stroke=\"black\" points=\"483.31,-50 371.23,-50 371.23,0 483.31,0 483.31,-50\"/>\n",
       "<text text-anchor=\"middle\" x=\"427.27\" y=\"-34.8\" font-family=\"Times,serif\" font-size=\"14.00\">samples = 150</text>\n",
       "<text text-anchor=\"middle\" x=\"427.27\" y=\"-20.8\" font-family=\"Times,serif\" font-size=\"14.00\">value = [164, 57]</text>\n",
       "<text text-anchor=\"middle\" x=\"427.27\" y=\"-6.8\" font-family=\"Times,serif\" font-size=\"14.00\">class = 0</text>\n",
       "</g>\n",
       "<!-- 6&#45;&gt;8 -->\n",
       "<g id=\"edge8\" class=\"edge\">\n",
       "<title>6&#45;&gt;8</title>\n",
       "<path fill=\"none\" stroke=\"black\" d=\"M401.58,-85.94C405.24,-77.41 409.22,-68.12 412.93,-59.47\"/>\n",
       "<polygon fill=\"black\" stroke=\"black\" points=\"416.25,-60.6 416.97,-50.03 409.81,-57.84 416.25,-60.6\"/>\n",
       "</g>\n",
       "<!-- 10 -->\n",
       "<g id=\"node11\" class=\"node\">\n",
       "<title>10</title>\n",
       "<polygon fill=\"#60b0ea\" stroke=\"black\" points=\"728.7,-150 525.84,-150 525.84,-86 728.7,-86 728.7,-150\"/>\n",
       "<text text-anchor=\"middle\" x=\"627.27\" y=\"-134.8\" font-family=\"Times,serif\" font-size=\"14.00\">TrainingTimesLastYear &lt;= 2.172</text>\n",
       "<text text-anchor=\"middle\" x=\"627.27\" y=\"-120.8\" font-family=\"Times,serif\" font-size=\"14.00\">samples = 193</text>\n",
       "<text text-anchor=\"middle\" x=\"627.27\" y=\"-106.8\" font-family=\"Times,serif\" font-size=\"14.00\">value = [49, 247]</text>\n",
       "<text text-anchor=\"middle\" x=\"627.27\" y=\"-92.8\" font-family=\"Times,serif\" font-size=\"14.00\">class = 1</text>\n",
       "</g>\n",
       "<!-- 9&#45;&gt;10 -->\n",
       "<g id=\"edge10\" class=\"edge\">\n",
       "<title>9&#45;&gt;10</title>\n",
       "<path fill=\"none\" stroke=\"black\" d=\"M699.73,-185.99C689.77,-176.79 678.75,-166.6 668.37,-157\"/>\n",
       "<polygon fill=\"black\" stroke=\"black\" points=\"670.67,-154.36 660.95,-150.14 665.92,-159.5 670.67,-154.36\"/>\n",
       "</g>\n",
       "<!-- 13 -->\n",
       "<g id=\"node14\" class=\"node\">\n",
       "<title>13</title>\n",
       "<polygon fill=\"#afd7f4\" stroke=\"black\" points=\"948.7,-150 745.84,-150 745.84,-86 948.7,-86 948.7,-150\"/>\n",
       "<text text-anchor=\"middle\" x=\"847.27\" y=\"-134.8\" font-family=\"Times,serif\" font-size=\"14.00\">TrainingTimesLastYear &lt;= 0.593</text>\n",
       "<text text-anchor=\"middle\" x=\"847.27\" y=\"-120.8\" font-family=\"Times,serif\" font-size=\"14.00\">samples = 71</text>\n",
       "<text text-anchor=\"middle\" x=\"847.27\" y=\"-106.8\" font-family=\"Times,serif\" font-size=\"14.00\">value = [44, 74]</text>\n",
       "<text text-anchor=\"middle\" x=\"847.27\" y=\"-92.8\" font-family=\"Times,serif\" font-size=\"14.00\">class = 1</text>\n",
       "</g>\n",
       "<!-- 9&#45;&gt;13 -->\n",
       "<g id=\"edge13\" class=\"edge\">\n",
       "<title>9&#45;&gt;13</title>\n",
       "<path fill=\"none\" stroke=\"black\" d=\"M769.34,-185.99C780.15,-176.7 792.13,-166.4 803.39,-156.72\"/>\n",
       "<polygon fill=\"black\" stroke=\"black\" points=\"805.74,-159.32 811.04,-150.14 801.18,-154.01 805.74,-159.32\"/>\n",
       "</g>\n",
       "<!-- 11 -->\n",
       "<g id=\"node12\" class=\"node\">\n",
       "<title>11</title>\n",
       "<polygon fill=\"#5eafea\" stroke=\"black\" points=\"614.31,-50 502.23,-50 502.23,0 614.31,0 614.31,-50\"/>\n",
       "<text text-anchor=\"middle\" x=\"558.27\" y=\"-34.8\" font-family=\"Times,serif\" font-size=\"14.00\">samples = 189</text>\n",
       "<text text-anchor=\"middle\" x=\"558.27\" y=\"-20.8\" font-family=\"Times,serif\" font-size=\"14.00\">value = [46, 245]</text>\n",
       "<text text-anchor=\"middle\" x=\"558.27\" y=\"-6.8\" font-family=\"Times,serif\" font-size=\"14.00\">class = 1</text>\n",
       "</g>\n",
       "<!-- 10&#45;&gt;11 -->\n",
       "<g id=\"edge11\" class=\"edge\">\n",
       "<title>10&#45;&gt;11</title>\n",
       "<path fill=\"none\" stroke=\"black\" d=\"M603.72,-85.94C596.9,-76.95 589.45,-67.12 582.59,-58.07\"/>\n",
       "<polygon fill=\"black\" stroke=\"black\" points=\"585.32,-55.88 576.49,-50.03 579.74,-60.11 585.32,-55.88\"/>\n",
       "</g>\n",
       "<!-- 12 -->\n",
       "<g id=\"node13\" class=\"node\">\n",
       "<title>12</title>\n",
       "<polygon fill=\"#f6d5bd\" stroke=\"black\" points=\"723.81,-50 632.73,-50 632.73,0 723.81,0 723.81,-50\"/>\n",
       "<text text-anchor=\"middle\" x=\"678.27\" y=\"-34.8\" font-family=\"Times,serif\" font-size=\"14.00\">samples = 4</text>\n",
       "<text text-anchor=\"middle\" x=\"678.27\" y=\"-20.8\" font-family=\"Times,serif\" font-size=\"14.00\">value = [3, 2]</text>\n",
       "<text text-anchor=\"middle\" x=\"678.27\" y=\"-6.8\" font-family=\"Times,serif\" font-size=\"14.00\">class = 0</text>\n",
       "</g>\n",
       "<!-- 10&#45;&gt;12 -->\n",
       "<g id=\"edge12\" class=\"edge\">\n",
       "<title>10&#45;&gt;12</title>\n",
       "<path fill=\"none\" stroke=\"black\" d=\"M644.68,-85.94C649.56,-77.22 654.88,-67.72 659.83,-58.91\"/>\n",
       "<polygon fill=\"black\" stroke=\"black\" points=\"662.97,-60.46 664.8,-50.03 656.86,-57.04 662.97,-60.46\"/>\n",
       "</g>\n",
       "<!-- 14 -->\n",
       "<g id=\"node15\" class=\"node\">\n",
       "<title>14</title>\n",
       "<polygon fill=\"#fefcfa\" stroke=\"black\" points=\"847.81,-50 742.73,-50 742.73,0 847.81,0 847.81,-50\"/>\n",
       "<text text-anchor=\"middle\" x=\"795.27\" y=\"-34.8\" font-family=\"Times,serif\" font-size=\"14.00\">samples = 49</text>\n",
       "<text text-anchor=\"middle\" x=\"795.27\" y=\"-20.8\" font-family=\"Times,serif\" font-size=\"14.00\">value = [42, 41]</text>\n",
       "<text text-anchor=\"middle\" x=\"795.27\" y=\"-6.8\" font-family=\"Times,serif\" font-size=\"14.00\">class = 0</text>\n",
       "</g>\n",
       "<!-- 13&#45;&gt;14 -->\n",
       "<g id=\"edge14\" class=\"edge\">\n",
       "<title>13&#45;&gt;14</title>\n",
       "<path fill=\"none\" stroke=\"black\" d=\"M829.52,-85.94C824.54,-77.22 819.11,-67.72 814.07,-58.91\"/>\n",
       "<polygon fill=\"black\" stroke=\"black\" points=\"817,-56.98 809,-50.03 810.92,-60.45 817,-56.98\"/>\n",
       "</g>\n",
       "<!-- 15 -->\n",
       "<g id=\"node16\" class=\"node\">\n",
       "<title>15</title>\n",
       "<polygon fill=\"#45a3e7\" stroke=\"black\" points=\"964.31,-50 866.23,-50 866.23,0 964.31,0 964.31,-50\"/>\n",
       "<text text-anchor=\"middle\" x=\"915.27\" y=\"-34.8\" font-family=\"Times,serif\" font-size=\"14.00\">samples = 22</text>\n",
       "<text text-anchor=\"middle\" x=\"915.27\" y=\"-20.8\" font-family=\"Times,serif\" font-size=\"14.00\">value = [2, 33]</text>\n",
       "<text text-anchor=\"middle\" x=\"915.27\" y=\"-6.8\" font-family=\"Times,serif\" font-size=\"14.00\">class = 1</text>\n",
       "</g>\n",
       "<!-- 13&#45;&gt;15 -->\n",
       "<g id=\"edge15\" class=\"edge\">\n",
       "<title>13&#45;&gt;15</title>\n",
       "<path fill=\"none\" stroke=\"black\" d=\"M870.48,-85.94C877.2,-76.95 884.54,-67.12 891.3,-58.07\"/>\n",
       "<polygon fill=\"black\" stroke=\"black\" points=\"894.13,-60.14 897.31,-50.03 888.52,-55.95 894.13,-60.14\"/>\n",
       "</g>\n",
       "<!-- 17 -->\n",
       "<g id=\"node18\" class=\"node\">\n",
       "<title>17</title>\n",
       "<polygon fill=\"#fcf0e7\" stroke=\"black\" points=\"1314.03,-250 1108.51,-250 1108.51,-186 1314.03,-186 1314.03,-250\"/>\n",
       "<text text-anchor=\"middle\" x=\"1211.27\" y=\"-234.8\" font-family=\"Times,serif\" font-size=\"14.00\">NumCompaniesWorked &lt;= 0.652</text>\n",
       "<text text-anchor=\"middle\" x=\"1211.27\" y=\"-220.8\" font-family=\"Times,serif\" font-size=\"14.00\">samples = 253</text>\n",
       "<text text-anchor=\"middle\" x=\"1211.27\" y=\"-206.8\" font-family=\"Times,serif\" font-size=\"14.00\">value = [210, 185]</text>\n",
       "<text text-anchor=\"middle\" x=\"1211.27\" y=\"-192.8\" font-family=\"Times,serif\" font-size=\"14.00\">class = 0</text>\n",
       "</g>\n",
       "<!-- 16&#45;&gt;17 -->\n",
       "<g id=\"edge17\" class=\"edge\">\n",
       "<title>16&#45;&gt;17</title>\n",
       "<path fill=\"none\" stroke=\"black\" d=\"M1211.27,-285.99C1211.27,-277.86 1211.27,-268.96 1211.27,-260.38\"/>\n",
       "<polygon fill=\"black\" stroke=\"black\" points=\"1214.77,-260.14 1211.27,-250.14 1207.77,-260.14 1214.77,-260.14\"/>\n",
       "</g>\n",
       "<!-- 24 -->\n",
       "<g id=\"node25\" class=\"node\">\n",
       "<title>24</title>\n",
       "<polygon fill=\"#f0b78e\" stroke=\"black\" points=\"1635.99,-250 1504.54,-250 1504.54,-186 1635.99,-186 1635.99,-250\"/>\n",
       "<text text-anchor=\"middle\" x=\"1570.27\" y=\"-234.8\" font-family=\"Times,serif\" font-size=\"14.00\">MaritalStatus &lt;= 0.5</text>\n",
       "<text text-anchor=\"middle\" x=\"1570.27\" y=\"-220.8\" font-family=\"Times,serif\" font-size=\"14.00\">samples = 347</text>\n",
       "<text text-anchor=\"middle\" x=\"1570.27\" y=\"-206.8\" font-family=\"Times,serif\" font-size=\"14.00\">value = [395, 169]</text>\n",
       "<text text-anchor=\"middle\" x=\"1570.27\" y=\"-192.8\" font-family=\"Times,serif\" font-size=\"14.00\">class = 0</text>\n",
       "</g>\n",
       "<!-- 16&#45;&gt;24 -->\n",
       "<g id=\"edge24\" class=\"edge\">\n",
       "<title>16&#45;&gt;24</title>\n",
       "<path fill=\"none\" stroke=\"black\" d=\"M1309.37,-290.22C1367.71,-274.3 1440.6,-254.4 1494.5,-239.68\"/>\n",
       "<polygon fill=\"black\" stroke=\"black\" points=\"1495.61,-243.01 1504.33,-237 1493.76,-236.26 1495.61,-243.01\"/>\n",
       "</g>\n",
       "<!-- 18 -->\n",
       "<g id=\"node19\" class=\"node\">\n",
       "<title>18</title>\n",
       "<polygon fill=\"#f3c3a1\" stroke=\"black\" points=\"1178.31,-150 1066.23,-150 1066.23,-86 1178.31,-86 1178.31,-150\"/>\n",
       "<text text-anchor=\"middle\" x=\"1122.27\" y=\"-134.8\" font-family=\"Times,serif\" font-size=\"14.00\">Age &lt;= &#45;0.417</text>\n",
       "<text text-anchor=\"middle\" x=\"1122.27\" y=\"-120.8\" font-family=\"Times,serif\" font-size=\"14.00\">samples = 179</text>\n",
       "<text text-anchor=\"middle\" x=\"1122.27\" y=\"-106.8\" font-family=\"Times,serif\" font-size=\"14.00\">value = [181, 95]</text>\n",
       "<text text-anchor=\"middle\" x=\"1122.27\" y=\"-92.8\" font-family=\"Times,serif\" font-size=\"14.00\">class = 0</text>\n",
       "</g>\n",
       "<!-- 17&#45;&gt;18 -->\n",
       "<g id=\"edge18\" class=\"edge\">\n",
       "<title>17&#45;&gt;18</title>\n",
       "<path fill=\"none\" stroke=\"black\" d=\"M1183.11,-185.99C1174.91,-176.97 1165.85,-166.99 1157.29,-157.56\"/>\n",
       "<polygon fill=\"black\" stroke=\"black\" points=\"1159.86,-155.19 1150.55,-150.14 1154.68,-159.9 1159.86,-155.19\"/>\n",
       "</g>\n",
       "<!-- 21 -->\n",
       "<g id=\"node22\" class=\"node\">\n",
       "<title>21</title>\n",
       "<polygon fill=\"#79bded\" stroke=\"black\" points=\"1403.86,-150 1196.68,-150 1196.68,-86 1403.86,-86 1403.86,-150\"/>\n",
       "<text text-anchor=\"middle\" x=\"1300.27\" y=\"-134.8\" font-family=\"Times,serif\" font-size=\"14.00\">TrainingTimesLastYear &lt;= &#45;1.775</text>\n",
       "<text text-anchor=\"middle\" x=\"1300.27\" y=\"-120.8\" font-family=\"Times,serif\" font-size=\"14.00\">samples = 74</text>\n",
       "<text text-anchor=\"middle\" x=\"1300.27\" y=\"-106.8\" font-family=\"Times,serif\" font-size=\"14.00\">value = [29, 90]</text>\n",
       "<text text-anchor=\"middle\" x=\"1300.27\" y=\"-92.8\" font-family=\"Times,serif\" font-size=\"14.00\">class = 1</text>\n",
       "</g>\n",
       "<!-- 17&#45;&gt;21 -->\n",
       "<g id=\"edge21\" class=\"edge\">\n",
       "<title>17&#45;&gt;21</title>\n",
       "<path fill=\"none\" stroke=\"black\" d=\"M1239.43,-185.99C1247.63,-176.97 1256.68,-166.99 1265.25,-157.56\"/>\n",
       "<polygon fill=\"black\" stroke=\"black\" points=\"1267.85,-159.9 1271.99,-150.14 1262.67,-155.19 1267.85,-159.9\"/>\n",
       "</g>\n",
       "<!-- 19 -->\n",
       "<g id=\"node20\" class=\"node\">\n",
       "<title>19</title>\n",
       "<polygon fill=\"#d5eaf9\" stroke=\"black\" points=\"1087.81,-50 982.73,-50 982.73,0 1087.81,0 1087.81,-50\"/>\n",
       "<text text-anchor=\"middle\" x=\"1035.27\" y=\"-34.8\" font-family=\"Times,serif\" font-size=\"14.00\">samples = 76</text>\n",
       "<text text-anchor=\"middle\" x=\"1035.27\" y=\"-20.8\" font-family=\"Times,serif\" font-size=\"14.00\">value = [52, 66]</text>\n",
       "<text text-anchor=\"middle\" x=\"1035.27\" y=\"-6.8\" font-family=\"Times,serif\" font-size=\"14.00\">class = 1</text>\n",
       "</g>\n",
       "<!-- 18&#45;&gt;19 -->\n",
       "<g id=\"edge19\" class=\"edge\">\n",
       "<title>18&#45;&gt;19</title>\n",
       "<path fill=\"none\" stroke=\"black\" d=\"M1092.57,-85.94C1083.8,-76.77 1074.2,-66.72 1065.4,-57.52\"/>\n",
       "<polygon fill=\"black\" stroke=\"black\" points=\"1067.68,-54.84 1058.24,-50.03 1062.62,-59.68 1067.68,-54.84\"/>\n",
       "</g>\n",
       "<!-- 20 -->\n",
       "<g id=\"node21\" class=\"node\">\n",
       "<title>20</title>\n",
       "<polygon fill=\"#eb9d66\" stroke=\"black\" points=\"1218.31,-50 1106.23,-50 1106.23,0 1218.31,0 1218.31,-50\"/>\n",
       "<text text-anchor=\"middle\" x=\"1162.27\" y=\"-34.8\" font-family=\"Times,serif\" font-size=\"14.00\">samples = 103</text>\n",
       "<text text-anchor=\"middle\" x=\"1162.27\" y=\"-20.8\" font-family=\"Times,serif\" font-size=\"14.00\">value = [129, 29]</text>\n",
       "<text text-anchor=\"middle\" x=\"1162.27\" y=\"-6.8\" font-family=\"Times,serif\" font-size=\"14.00\">class = 0</text>\n",
       "</g>\n",
       "<!-- 18&#45;&gt;20 -->\n",
       "<g id=\"edge20\" class=\"edge\">\n",
       "<title>18&#45;&gt;20</title>\n",
       "<path fill=\"none\" stroke=\"black\" d=\"M1135.92,-85.94C1139.71,-77.32 1143.84,-67.92 1147.68,-59.19\"/>\n",
       "<polygon fill=\"black\" stroke=\"black\" points=\"1150.89,-60.59 1151.71,-50.03 1144.48,-57.78 1150.89,-60.59\"/>\n",
       "</g>\n",
       "<!-- 22 -->\n",
       "<g id=\"node23\" class=\"node\">\n",
       "<title>22</title>\n",
       "<polygon fill=\"#e58139\" stroke=\"black\" points=\"1327.81,-50 1236.73,-50 1236.73,0 1327.81,0 1327.81,-50\"/>\n",
       "<text text-anchor=\"middle\" x=\"1282.27\" y=\"-34.8\" font-family=\"Times,serif\" font-size=\"14.00\">samples = 2</text>\n",
       "<text text-anchor=\"middle\" x=\"1282.27\" y=\"-20.8\" font-family=\"Times,serif\" font-size=\"14.00\">value = [3, 0]</text>\n",
       "<text text-anchor=\"middle\" x=\"1282.27\" y=\"-6.8\" font-family=\"Times,serif\" font-size=\"14.00\">class = 0</text>\n",
       "</g>\n",
       "<!-- 21&#45;&gt;22 -->\n",
       "<g id=\"edge22\" class=\"edge\">\n",
       "<title>21&#45;&gt;22</title>\n",
       "<path fill=\"none\" stroke=\"black\" d=\"M1294.12,-85.94C1292.47,-77.59 1290.68,-68.52 1289,-60.02\"/>\n",
       "<polygon fill=\"black\" stroke=\"black\" points=\"1292.4,-59.16 1287.02,-50.03 1285.53,-60.52 1292.4,-59.16\"/>\n",
       "</g>\n",
       "<!-- 23 -->\n",
       "<g id=\"node24\" class=\"node\">\n",
       "<title>23</title>\n",
       "<polygon fill=\"#72b9ed\" stroke=\"black\" points=\"1451.81,-50 1346.73,-50 1346.73,0 1451.81,0 1451.81,-50\"/>\n",
       "<text text-anchor=\"middle\" x=\"1399.27\" y=\"-34.8\" font-family=\"Times,serif\" font-size=\"14.00\">samples = 72</text>\n",
       "<text text-anchor=\"middle\" x=\"1399.27\" y=\"-20.8\" font-family=\"Times,serif\" font-size=\"14.00\">value = [26, 90]</text>\n",
       "<text text-anchor=\"middle\" x=\"1399.27\" y=\"-6.8\" font-family=\"Times,serif\" font-size=\"14.00\">class = 1</text>\n",
       "</g>\n",
       "<!-- 21&#45;&gt;23 -->\n",
       "<g id=\"edge23\" class=\"edge\">\n",
       "<title>21&#45;&gt;23</title>\n",
       "<path fill=\"none\" stroke=\"black\" d=\"M1334.06,-85.94C1344.24,-76.58 1355.4,-66.32 1365.58,-56.97\"/>\n",
       "<polygon fill=\"black\" stroke=\"black\" points=\"1368.13,-59.37 1373.13,-50.03 1363.4,-54.22 1368.13,-59.37\"/>\n",
       "</g>\n",
       "<!-- 25 -->\n",
       "<g id=\"node26\" class=\"node\">\n",
       "<title>25</title>\n",
       "<polygon fill=\"#eb9e67\" stroke=\"black\" points=\"1652.93,-150 1487.61,-150 1487.61,-86 1652.93,-86 1652.93,-150\"/>\n",
       "<text text-anchor=\"middle\" x=\"1570.27\" y=\"-134.8\" font-family=\"Times,serif\" font-size=\"14.00\">MonthlyIncome &lt;= &#45;0.761</text>\n",
       "<text text-anchor=\"middle\" x=\"1570.27\" y=\"-120.8\" font-family=\"Times,serif\" font-size=\"14.00\">samples = 105</text>\n",
       "<text text-anchor=\"middle\" x=\"1570.27\" y=\"-106.8\" font-family=\"Times,serif\" font-size=\"14.00\">value = [138, 32]</text>\n",
       "<text text-anchor=\"middle\" x=\"1570.27\" y=\"-92.8\" font-family=\"Times,serif\" font-size=\"14.00\">class = 0</text>\n",
       "</g>\n",
       "<!-- 24&#45;&gt;25 -->\n",
       "<g id=\"edge25\" class=\"edge\">\n",
       "<title>24&#45;&gt;25</title>\n",
       "<path fill=\"none\" stroke=\"black\" d=\"M1570.27,-185.99C1570.27,-177.86 1570.27,-168.96 1570.27,-160.38\"/>\n",
       "<polygon fill=\"black\" stroke=\"black\" points=\"1573.77,-160.14 1570.27,-150.14 1566.77,-160.14 1573.77,-160.14\"/>\n",
       "</g>\n",
       "<!-- 28 -->\n",
       "<g id=\"node29\" class=\"node\">\n",
       "<title>28</title>\n",
       "<polygon fill=\"#f3c4a3\" stroke=\"black\" points=\"1836.81,-150 1717.73,-150 1717.73,-86 1836.81,-86 1836.81,-150\"/>\n",
       "<text text-anchor=\"middle\" x=\"1777.27\" y=\"-134.8\" font-family=\"Times,serif\" font-size=\"14.00\">Age &lt;= &#45;0.942</text>\n",
       "<text text-anchor=\"middle\" x=\"1777.27\" y=\"-120.8\" font-family=\"Times,serif\" font-size=\"14.00\">samples = 242</text>\n",
       "<text text-anchor=\"middle\" x=\"1777.27\" y=\"-106.8\" font-family=\"Times,serif\" font-size=\"14.00\">value = [257, 137]</text>\n",
       "<text text-anchor=\"middle\" x=\"1777.27\" y=\"-92.8\" font-family=\"Times,serif\" font-size=\"14.00\">class = 0</text>\n",
       "</g>\n",
       "<!-- 24&#45;&gt;28 -->\n",
       "<g id=\"edge28\" class=\"edge\">\n",
       "<title>24&#45;&gt;28</title>\n",
       "<path fill=\"none\" stroke=\"black\" d=\"M1635.76,-185.99C1658.87,-175.05 1684.92,-162.72 1708.31,-151.65\"/>\n",
       "<polygon fill=\"black\" stroke=\"black\" points=\"1709.92,-154.76 1717.47,-147.31 1706.93,-148.43 1709.92,-154.76\"/>\n",
       "</g>\n",
       "<!-- 26 -->\n",
       "<g id=\"node27\" class=\"node\">\n",
       "<title>26</title>\n",
       "<polygon fill=\"#b4daf5\" stroke=\"black\" points=\"1575.81,-50 1470.73,-50 1470.73,0 1575.81,0 1575.81,-50\"/>\n",
       "<text text-anchor=\"middle\" x=\"1523.27\" y=\"-34.8\" font-family=\"Times,serif\" font-size=\"14.00\">samples = 19</text>\n",
       "<text text-anchor=\"middle\" x=\"1523.27\" y=\"-20.8\" font-family=\"Times,serif\" font-size=\"14.00\">value = [13, 21]</text>\n",
       "<text text-anchor=\"middle\" x=\"1523.27\" y=\"-6.8\" font-family=\"Times,serif\" font-size=\"14.00\">class = 1</text>\n",
       "</g>\n",
       "<!-- 25&#45;&gt;26 -->\n",
       "<g id=\"edge26\" class=\"edge\">\n",
       "<title>25&#45;&gt;26</title>\n",
       "<path fill=\"none\" stroke=\"black\" d=\"M1554.23,-85.94C1549.77,-77.32 1544.92,-67.92 1540.41,-59.19\"/>\n",
       "<polygon fill=\"black\" stroke=\"black\" points=\"1543.38,-57.31 1535.68,-50.03 1537.16,-60.52 1543.38,-57.31\"/>\n",
       "</g>\n",
       "<!-- 27 -->\n",
       "<g id=\"node28\" class=\"node\">\n",
       "<title>27</title>\n",
       "<polygon fill=\"#e78c4a\" stroke=\"black\" points=\"1706.29,-50 1594.24,-50 1594.24,0 1706.29,0 1706.29,-50\"/>\n",
       "<text text-anchor=\"middle\" x=\"1650.27\" y=\"-34.8\" font-family=\"Times,serif\" font-size=\"14.00\">samples = 86</text>\n",
       "<text text-anchor=\"middle\" x=\"1650.27\" y=\"-20.8\" font-family=\"Times,serif\" font-size=\"14.00\">value = [125, 11]</text>\n",
       "<text text-anchor=\"middle\" x=\"1650.27\" y=\"-6.8\" font-family=\"Times,serif\" font-size=\"14.00\">class = 0</text>\n",
       "</g>\n",
       "<!-- 25&#45;&gt;27 -->\n",
       "<g id=\"edge27\" class=\"edge\">\n",
       "<title>25&#45;&gt;27</title>\n",
       "<path fill=\"none\" stroke=\"black\" d=\"M1597.58,-85.94C1605.56,-76.86 1614.29,-66.92 1622.31,-57.8\"/>\n",
       "<polygon fill=\"black\" stroke=\"black\" points=\"1625.17,-59.85 1629.14,-50.03 1619.91,-55.23 1625.17,-59.85\"/>\n",
       "</g>\n",
       "<!-- 29 -->\n",
       "<g id=\"node30\" class=\"node\">\n",
       "<title>29</title>\n",
       "<polygon fill=\"#85c2ef\" stroke=\"black\" points=\"1829.81,-50 1724.73,-50 1724.73,0 1829.81,0 1829.81,-50\"/>\n",
       "<text text-anchor=\"middle\" x=\"1777.27\" y=\"-34.8\" font-family=\"Times,serif\" font-size=\"14.00\">samples = 30</text>\n",
       "<text text-anchor=\"middle\" x=\"1777.27\" y=\"-20.8\" font-family=\"Times,serif\" font-size=\"14.00\">value = [13, 34]</text>\n",
       "<text text-anchor=\"middle\" x=\"1777.27\" y=\"-6.8\" font-family=\"Times,serif\" font-size=\"14.00\">class = 1</text>\n",
       "</g>\n",
       "<!-- 28&#45;&gt;29 -->\n",
       "<g id=\"edge29\" class=\"edge\">\n",
       "<title>28&#45;&gt;29</title>\n",
       "<path fill=\"none\" stroke=\"black\" d=\"M1777.27,-85.94C1777.27,-77.68 1777.27,-68.72 1777.27,-60.31\"/>\n",
       "<polygon fill=\"black\" stroke=\"black\" points=\"1780.77,-60.03 1777.27,-50.03 1773.77,-60.03 1780.77,-60.03\"/>\n",
       "</g>\n",
       "<!-- 30 -->\n",
       "<g id=\"node31\" class=\"node\">\n",
       "<title>30</title>\n",
       "<polygon fill=\"#f0b68d\" stroke=\"black\" points=\"1967.81,-50 1848.73,-50 1848.73,0 1967.81,0 1967.81,-50\"/>\n",
       "<text text-anchor=\"middle\" x=\"1908.27\" y=\"-34.8\" font-family=\"Times,serif\" font-size=\"14.00\">samples = 212</text>\n",
       "<text text-anchor=\"middle\" x=\"1908.27\" y=\"-20.8\" font-family=\"Times,serif\" font-size=\"14.00\">value = [244, 103]</text>\n",
       "<text text-anchor=\"middle\" x=\"1908.27\" y=\"-6.8\" font-family=\"Times,serif\" font-size=\"14.00\">class = 0</text>\n",
       "</g>\n",
       "<!-- 28&#45;&gt;30 -->\n",
       "<g id=\"edge30\" class=\"edge\">\n",
       "<title>28&#45;&gt;30</title>\n",
       "<path fill=\"none\" stroke=\"black\" d=\"M1821.98,-85.94C1835.98,-76.22 1851.39,-65.51 1865.26,-55.88\"/>\n",
       "<polygon fill=\"black\" stroke=\"black\" points=\"1867.46,-58.61 1873.68,-50.03 1863.47,-52.86 1867.46,-58.61\"/>\n",
       "</g>\n",
       "</g>\n",
       "</svg>\n"
      ],
      "text/plain": [
       "<graphviz.files.Source at 0x11f957790>"
      ]
     },
     "execution_count": 42,
     "metadata": {},
     "output_type": "execute_result"
    }
   ],
   "source": [
    "import graphviz\n",
    "with open(\"rf_tree_after_fs.dot\") as f:\n",
    "    dot_graph = f.read()\n",
    "graphviz.Source(dot_graph)"
   ]
  },
  {
   "cell_type": "code",
   "execution_count": 43,
   "metadata": {},
   "outputs": [
    {
     "name": "stdout",
     "output_type": "stream",
     "text": [
      "Predictions have finished\n"
     ]
    }
   ],
   "source": [
    "# Gradient Boosting Parameters\n",
    "gb_params ={\n",
    "    'n_estimators': 1500,\n",
    "    'max_features': 0.9,\n",
    "    'learning_rate' : 0.25,\n",
    "    'max_depth': 4,\n",
    "    'min_samples_leaf': 2,\n",
    "    'subsample': 1,\n",
    "    'max_features' : 'sqrt',\n",
    "    'random_state' : seed,\n",
    "    'verbose': 0\n",
    "}\n",
    "\n",
    "gb = GradientBoostingClassifier(**gb_params)\n",
    "# Fit the model to our SMOTEd train and target\n",
    "gb.fit(train, target_train)\n",
    "# Get our predictions\n",
    "gb_predictions = gb.predict(test)\n",
    "print(\"Predictions have finished\")"
   ]
  },
  {
   "cell_type": "code",
   "execution_count": 44,
   "metadata": {},
   "outputs": [
    {
     "name": "stdout",
     "output_type": "stream",
     "text": [
      "0.9595141700404858\n",
      "              precision    recall  f1-score   support\n",
      "\n",
      "           0       1.00      0.92      0.96       250\n",
      "           1       0.92      1.00      0.96       244\n",
      "\n",
      "    accuracy                           0.96       494\n",
      "   macro avg       0.96      0.96      0.96       494\n",
      "weighted avg       0.96      0.96      0.96       494\n",
      "\n"
     ]
    }
   ],
   "source": [
    "print(accuracy_score(target_val, gb_predictions))\n",
    "print(classification_report(target_val, gb_predictions))"
   ]
  },
  {
   "cell_type": "code",
   "execution_count": 45,
   "metadata": {},
   "outputs": [
    {
     "data": {
      "application/vnd.plotly.v1+json": {
       "config": {
        "linkText": "Export to plot.ly",
        "plotlyServerURL": "https://plot.ly",
        "showLink": false
       },
       "data": [
        {
         "marker": {
          "color": [
           "gold",
           "lightgreen",
           "lightcoral",
           "lightskyblue"
          ],
          "line": {
           "color": "#000000",
           "width": 1.5
          }
         },
         "opacity": 0.8,
         "orientation": "h",
         "text": [
          0.9595,
          0.9242,
          1,
          0.9606
         ],
         "textposition": "auto",
         "type": "bar",
         "x": [
          0.9595141700404858,
          0.9242424242424242,
          1,
          0.9606299212598425
         ],
         "xaxis": "x",
         "y": [
          "Accuracy",
          "Precision",
          "Recall",
          "F1_score"
         ],
         "yaxis": "y"
        },
        {
         "fill": "tozeroy",
         "line": {
          "color": "rgb(22, 96, 167)",
          "width": 2
         },
         "name": "Roc : ",
         "type": "scatter",
         "x": [
          0,
          0,
          0,
          0,
          0,
          0,
          0,
          0,
          0,
          0,
          0,
          0,
          0,
          0,
          0,
          0,
          0,
          0,
          0,
          0,
          0,
          0,
          0,
          0,
          0,
          0,
          0,
          0,
          0,
          0,
          0,
          0,
          0,
          0,
          0,
          0,
          0,
          0,
          0,
          0,
          0,
          0,
          0,
          0,
          0,
          0,
          0,
          0,
          0,
          0,
          0,
          0,
          0,
          0,
          0,
          0,
          0,
          0,
          0,
          0,
          0,
          0,
          0,
          0,
          0,
          0,
          0,
          0,
          0,
          0,
          0,
          0,
          0,
          0,
          0,
          0,
          0,
          0,
          0,
          0,
          0.004,
          0.004,
          0.004,
          0.004,
          0.004,
          0.004,
          0.004,
          0.004,
          0.012,
          0.012,
          1
         ],
         "xaxis": "x2",
         "y": [
          0,
          0.004098360655737705,
          0.00819672131147541,
          0.03278688524590164,
          0.036885245901639344,
          0.05327868852459016,
          0.0778688524590164,
          0.09016393442622951,
          0.09836065573770492,
          0.13934426229508196,
          0.14754098360655737,
          0.1557377049180328,
          0.16393442622950818,
          0.1721311475409836,
          0.18442622950819673,
          0.1885245901639344,
          0.19672131147540983,
          0.21311475409836064,
          0.21721311475409835,
          0.22540983606557377,
          0.27459016393442626,
          0.29098360655737704,
          0.29508196721311475,
          0.3114754098360656,
          0.3155737704918033,
          0.3319672131147541,
          0.3360655737704918,
          0.3524590163934426,
          0.35655737704918034,
          0.36475409836065575,
          0.38114754098360654,
          0.38934426229508196,
          0.4057377049180328,
          0.4180327868852459,
          0.42213114754098363,
          0.430327868852459,
          0.4344262295081967,
          0.4426229508196721,
          0.45081967213114754,
          0.45901639344262296,
          0.46311475409836067,
          0.47950819672131145,
          0.48770491803278687,
          0.4959016393442623,
          0.5081967213114754,
          0.5163934426229508,
          0.5491803278688525,
          0.5573770491803278,
          0.5655737704918032,
          0.569672131147541,
          0.5860655737704918,
          0.5942622950819673,
          0.610655737704918,
          0.6188524590163934,
          0.6270491803278688,
          0.639344262295082,
          0.6557377049180327,
          0.6680327868852459,
          0.6844262295081968,
          0.7008196721311475,
          0.7090163934426229,
          0.7131147540983607,
          0.7254098360655737,
          0.7377049180327869,
          0.7459016393442623,
          0.7704918032786885,
          0.7868852459016393,
          0.7909836065573771,
          0.8032786885245902,
          0.8114754098360656,
          0.8155737704918032,
          0.8237704918032787,
          0.8360655737704918,
          0.8442622950819673,
          0.8483606557377049,
          0.8647540983606558,
          0.8852459016393442,
          0.8934426229508197,
          0.9016393442622951,
          0.9098360655737705,
          0.9098360655737705,
          0.9221311475409836,
          0.9467213114754098,
          0.9672131147540983,
          0.9754098360655737,
          0.9836065573770492,
          0.9918032786885246,
          0.9959016393442623,
          0.9959016393442623,
          1,
          1
         ],
         "yaxis": "y2"
        },
        {
         "line": {
          "color": "black",
          "dash": "dot",
          "width": 1.5
         },
         "type": "scatter",
         "x": [
          0,
          1
         ],
         "xaxis": "x2",
         "y": [
          0,
          1
         ],
         "yaxis": "y2"
        },
        {
         "fill": "tozeroy",
         "line": {
          "color": "lightcoral",
          "width": 2
         },
         "name": "Precision[0.98785425 0.98780488 0.99183673 0.99590164 0.99588477 0.99585062\n 0.99583333 0.9958159  0.99578059 0.99568966 0.99565217 0.99561404\n 0.99557522 0.99555556 0.99553571 0.9955157  1.         1.\n 1.         1.         1.         1.         1.         1.\n 1.         1.         1.         1.         1.         1.\n 1.         1.         1.         1.         1.         1.\n 1.         1.         1.         1.         1.         1.\n 1.         1.         1.         1.         1.         1.\n 1.         1.         1.         1.         1.         1.\n 1.         1.         1.         1.         1.         1.\n 1.         1.         1.         1.         1.         1.\n 1.         1.         1.         1.         1.         1.\n 1.         1.         1.         1.         1.         1.\n 1.         1.         1.         1.         1.         1.\n 1.         1.         1.         1.         1.         1.\n 1.         1.         1.         1.         1.         1.\n 1.         1.         1.         1.         1.         1.\n 1.         1.         1.         1.         1.         1.\n 1.         1.         1.         1.         1.         1.\n 1.         1.         1.         1.         1.         1.\n 1.         1.         1.         1.         1.         1.\n 1.         1.         1.         1.         1.         1.\n 1.         1.         1.         1.         1.         1.\n 1.         1.         1.         1.         1.         1.\n 1.         1.         1.         1.         1.         1.\n 1.         1.         1.         1.         1.         1.\n 1.        ]",
         "type": "scatter",
         "x": [
          1,
          0.9959016393442623,
          0.9959016393442623,
          0.9959016393442623,
          0.9918032786885246,
          0.9836065573770492,
          0.9795081967213115,
          0.9754098360655737,
          0.9672131147540983,
          0.9467213114754098,
          0.9385245901639344,
          0.930327868852459,
          0.9221311475409836,
          0.9180327868852459,
          0.9139344262295082,
          0.9098360655737705,
          0.9098360655737705,
          0.9057377049180327,
          0.9016393442622951,
          0.8934426229508197,
          0.889344262295082,
          0.8852459016393442,
          0.8647540983606558,
          0.8565573770491803,
          0.8483606557377049,
          0.8442622950819673,
          0.8360655737704918,
          0.8319672131147541,
          0.8278688524590164,
          0.8237704918032787,
          0.8155737704918032,
          0.8114754098360656,
          0.8032786885245902,
          0.7909836065573771,
          0.7868852459016393,
          0.7786885245901639,
          0.7704918032786885,
          0.7581967213114754,
          0.7459016393442623,
          0.7377049180327869,
          0.7336065573770492,
          0.7295081967213115,
          0.7254098360655737,
          0.7131147540983607,
          0.7090163934426229,
          0.7008196721311475,
          0.6844262295081968,
          0.6762295081967213,
          0.6680327868852459,
          0.6557377049180327,
          0.639344262295082,
          0.6270491803278688,
          0.6188524590163934,
          0.6147540983606558,
          0.610655737704918,
          0.6024590163934426,
          0.5942622950819673,
          0.5901639344262295,
          0.5860655737704918,
          0.569672131147541,
          0.5655737704918032,
          0.5573770491803278,
          0.5532786885245902,
          0.5491803278688525,
          0.5409836065573771,
          0.5327868852459017,
          0.5245901639344263,
          0.5163934426229508,
          0.5122950819672131,
          0.5081967213114754,
          0.4959016393442623,
          0.48770491803278687,
          0.48360655737704916,
          0.47950819672131145,
          0.4713114754098361,
          0.46311475409836067,
          0.45901639344262296,
          0.45081967213114754,
          0.44672131147540983,
          0.4426229508196721,
          0.4344262295081967,
          0.430327868852459,
          0.42213114754098363,
          0.4180327868852459,
          0.4057377049180328,
          0.4016393442622951,
          0.3975409836065574,
          0.39344262295081966,
          0.38934426229508196,
          0.38114754098360654,
          0.3770491803278688,
          0.3729508196721312,
          0.36885245901639346,
          0.36475409836065575,
          0.35655737704918034,
          0.3524590163934426,
          0.3442622950819672,
          0.3360655737704918,
          0.3319672131147541,
          0.3237704918032787,
          0.3155737704918033,
          0.3114754098360656,
          0.30327868852459017,
          0.29508196721311475,
          0.29098360655737704,
          0.2827868852459016,
          0.27459016393442626,
          0.27049180327868855,
          0.26639344262295084,
          0.26229508196721313,
          0.2581967213114754,
          0.2540983606557377,
          0.25,
          0.2459016393442623,
          0.24180327868852458,
          0.23770491803278687,
          0.2336065573770492,
          0.22950819672131148,
          0.22540983606557377,
          0.21721311475409835,
          0.21311475409836064,
          0.19672131147540983,
          0.1885245901639344,
          0.18442622950819673,
          0.1721311475409836,
          0.1680327868852459,
          0.16393442622950818,
          0.1557377049180328,
          0.15163934426229508,
          0.14754098360655737,
          0.13934426229508196,
          0.13524590163934427,
          0.13114754098360656,
          0.12704918032786885,
          0.12295081967213115,
          0.11885245901639344,
          0.11475409836065574,
          0.11065573770491803,
          0.10655737704918032,
          0.10245901639344263,
          0.09836065573770492,
          0.09016393442622951,
          0.0778688524590164,
          0.07377049180327869,
          0.06967213114754098,
          0.06557377049180328,
          0.06147540983606557,
          0.05737704918032787,
          0.05327868852459016,
          0.045081967213114756,
          0.036885245901639344,
          0.03278688524590164,
          0.02459016393442623,
          0.01639344262295082,
          0.00819672131147541,
          0.004098360655737705,
          0
         ],
         "xaxis": "x3",
         "y": [
          0.9878542510121457,
          0.9878048780487805,
          0.9918367346938776,
          0.9959016393442623,
          0.9958847736625515,
          0.995850622406639,
          0.9958333333333333,
          0.99581589958159,
          0.9957805907172996,
          0.9956896551724138,
          0.9956521739130435,
          0.9956140350877193,
          0.995575221238938,
          0.9955555555555555,
          0.9955357142857143,
          0.9955156950672646,
          1,
          1,
          1,
          1,
          1,
          1,
          1,
          1,
          1,
          1,
          1,
          1,
          1,
          1,
          1,
          1,
          1,
          1,
          1,
          1,
          1,
          1,
          1,
          1,
          1,
          1,
          1,
          1,
          1,
          1,
          1,
          1,
          1,
          1,
          1,
          1,
          1,
          1,
          1,
          1,
          1,
          1,
          1,
          1,
          1,
          1,
          1,
          1,
          1,
          1,
          1,
          1,
          1,
          1,
          1,
          1,
          1,
          1,
          1,
          1,
          1,
          1,
          1,
          1,
          1,
          1,
          1,
          1,
          1,
          1,
          1,
          1,
          1,
          1,
          1,
          1,
          1,
          1,
          1,
          1,
          1,
          1,
          1,
          1,
          1,
          1,
          1,
          1,
          1,
          1,
          1,
          1,
          1,
          1,
          1,
          1,
          1,
          1,
          1,
          1,
          1,
          1,
          1,
          1,
          1,
          1,
          1,
          1,
          1,
          1,
          1,
          1,
          1,
          1,
          1,
          1,
          1,
          1,
          1,
          1,
          1,
          1,
          1,
          1,
          1,
          1,
          1,
          1,
          1,
          1,
          1,
          1,
          1,
          1,
          1,
          1,
          1,
          1,
          1,
          1,
          1
         ],
         "yaxis": "y3"
        }
       ],
       "layout": {
        "annotations": [
         {
          "font": {
           "size": 16
          },
          "showarrow": false,
          "text": "Metrics",
          "x": 0.5,
          "xanchor": "center",
          "xref": "paper",
          "y": 1,
          "yanchor": "bottom",
          "yref": "paper"
         },
         {
          "font": {
           "size": 16
          },
          "showarrow": false,
          "text": "ROC curve (1.0)",
          "x": 0.5,
          "xanchor": "center",
          "xref": "paper",
          "y": 0.6111111111111112,
          "yanchor": "bottom",
          "yref": "paper"
         },
         {
          "font": {
           "size": 16
          },
          "showarrow": false,
          "text": "Precision - Recall curve",
          "x": 0.5,
          "xanchor": "center",
          "xref": "paper",
          "y": 0.22222222222222224,
          "yanchor": "bottom",
          "yref": "paper"
         }
        ],
        "autosize": false,
        "height": 900,
        "margin": {
         "b": 195
        },
        "paper_bgcolor": "rgba(240,240,240, 0.95)",
        "plot_bgcolor": "rgba(240,240,240, 0.95)",
        "showlegend": false,
        "template": {
         "data": {
          "bar": [
           {
            "error_x": {
             "color": "#2a3f5f"
            },
            "error_y": {
             "color": "#2a3f5f"
            },
            "marker": {
             "line": {
              "color": "#E5ECF6",
              "width": 0.5
             }
            },
            "type": "bar"
           }
          ],
          "barpolar": [
           {
            "marker": {
             "line": {
              "color": "#E5ECF6",
              "width": 0.5
             }
            },
            "type": "barpolar"
           }
          ],
          "carpet": [
           {
            "aaxis": {
             "endlinecolor": "#2a3f5f",
             "gridcolor": "white",
             "linecolor": "white",
             "minorgridcolor": "white",
             "startlinecolor": "#2a3f5f"
            },
            "baxis": {
             "endlinecolor": "#2a3f5f",
             "gridcolor": "white",
             "linecolor": "white",
             "minorgridcolor": "white",
             "startlinecolor": "#2a3f5f"
            },
            "type": "carpet"
           }
          ],
          "choropleth": [
           {
            "colorbar": {
             "outlinewidth": 0,
             "ticks": ""
            },
            "type": "choropleth"
           }
          ],
          "contour": [
           {
            "colorbar": {
             "outlinewidth": 0,
             "ticks": ""
            },
            "colorscale": [
             [
              0,
              "#0d0887"
             ],
             [
              0.1111111111111111,
              "#46039f"
             ],
             [
              0.2222222222222222,
              "#7201a8"
             ],
             [
              0.3333333333333333,
              "#9c179e"
             ],
             [
              0.4444444444444444,
              "#bd3786"
             ],
             [
              0.5555555555555556,
              "#d8576b"
             ],
             [
              0.6666666666666666,
              "#ed7953"
             ],
             [
              0.7777777777777778,
              "#fb9f3a"
             ],
             [
              0.8888888888888888,
              "#fdca26"
             ],
             [
              1,
              "#f0f921"
             ]
            ],
            "type": "contour"
           }
          ],
          "contourcarpet": [
           {
            "colorbar": {
             "outlinewidth": 0,
             "ticks": ""
            },
            "type": "contourcarpet"
           }
          ],
          "heatmap": [
           {
            "colorbar": {
             "outlinewidth": 0,
             "ticks": ""
            },
            "colorscale": [
             [
              0,
              "#0d0887"
             ],
             [
              0.1111111111111111,
              "#46039f"
             ],
             [
              0.2222222222222222,
              "#7201a8"
             ],
             [
              0.3333333333333333,
              "#9c179e"
             ],
             [
              0.4444444444444444,
              "#bd3786"
             ],
             [
              0.5555555555555556,
              "#d8576b"
             ],
             [
              0.6666666666666666,
              "#ed7953"
             ],
             [
              0.7777777777777778,
              "#fb9f3a"
             ],
             [
              0.8888888888888888,
              "#fdca26"
             ],
             [
              1,
              "#f0f921"
             ]
            ],
            "type": "heatmap"
           }
          ],
          "heatmapgl": [
           {
            "colorbar": {
             "outlinewidth": 0,
             "ticks": ""
            },
            "colorscale": [
             [
              0,
              "#0d0887"
             ],
             [
              0.1111111111111111,
              "#46039f"
             ],
             [
              0.2222222222222222,
              "#7201a8"
             ],
             [
              0.3333333333333333,
              "#9c179e"
             ],
             [
              0.4444444444444444,
              "#bd3786"
             ],
             [
              0.5555555555555556,
              "#d8576b"
             ],
             [
              0.6666666666666666,
              "#ed7953"
             ],
             [
              0.7777777777777778,
              "#fb9f3a"
             ],
             [
              0.8888888888888888,
              "#fdca26"
             ],
             [
              1,
              "#f0f921"
             ]
            ],
            "type": "heatmapgl"
           }
          ],
          "histogram": [
           {
            "marker": {
             "colorbar": {
              "outlinewidth": 0,
              "ticks": ""
             }
            },
            "type": "histogram"
           }
          ],
          "histogram2d": [
           {
            "colorbar": {
             "outlinewidth": 0,
             "ticks": ""
            },
            "colorscale": [
             [
              0,
              "#0d0887"
             ],
             [
              0.1111111111111111,
              "#46039f"
             ],
             [
              0.2222222222222222,
              "#7201a8"
             ],
             [
              0.3333333333333333,
              "#9c179e"
             ],
             [
              0.4444444444444444,
              "#bd3786"
             ],
             [
              0.5555555555555556,
              "#d8576b"
             ],
             [
              0.6666666666666666,
              "#ed7953"
             ],
             [
              0.7777777777777778,
              "#fb9f3a"
             ],
             [
              0.8888888888888888,
              "#fdca26"
             ],
             [
              1,
              "#f0f921"
             ]
            ],
            "type": "histogram2d"
           }
          ],
          "histogram2dcontour": [
           {
            "colorbar": {
             "outlinewidth": 0,
             "ticks": ""
            },
            "colorscale": [
             [
              0,
              "#0d0887"
             ],
             [
              0.1111111111111111,
              "#46039f"
             ],
             [
              0.2222222222222222,
              "#7201a8"
             ],
             [
              0.3333333333333333,
              "#9c179e"
             ],
             [
              0.4444444444444444,
              "#bd3786"
             ],
             [
              0.5555555555555556,
              "#d8576b"
             ],
             [
              0.6666666666666666,
              "#ed7953"
             ],
             [
              0.7777777777777778,
              "#fb9f3a"
             ],
             [
              0.8888888888888888,
              "#fdca26"
             ],
             [
              1,
              "#f0f921"
             ]
            ],
            "type": "histogram2dcontour"
           }
          ],
          "mesh3d": [
           {
            "colorbar": {
             "outlinewidth": 0,
             "ticks": ""
            },
            "type": "mesh3d"
           }
          ],
          "parcoords": [
           {
            "line": {
             "colorbar": {
              "outlinewidth": 0,
              "ticks": ""
             }
            },
            "type": "parcoords"
           }
          ],
          "pie": [
           {
            "automargin": true,
            "type": "pie"
           }
          ],
          "scatter": [
           {
            "marker": {
             "colorbar": {
              "outlinewidth": 0,
              "ticks": ""
             }
            },
            "type": "scatter"
           }
          ],
          "scatter3d": [
           {
            "line": {
             "colorbar": {
              "outlinewidth": 0,
              "ticks": ""
             }
            },
            "marker": {
             "colorbar": {
              "outlinewidth": 0,
              "ticks": ""
             }
            },
            "type": "scatter3d"
           }
          ],
          "scattercarpet": [
           {
            "marker": {
             "colorbar": {
              "outlinewidth": 0,
              "ticks": ""
             }
            },
            "type": "scattercarpet"
           }
          ],
          "scattergeo": [
           {
            "marker": {
             "colorbar": {
              "outlinewidth": 0,
              "ticks": ""
             }
            },
            "type": "scattergeo"
           }
          ],
          "scattergl": [
           {
            "marker": {
             "colorbar": {
              "outlinewidth": 0,
              "ticks": ""
             }
            },
            "type": "scattergl"
           }
          ],
          "scattermapbox": [
           {
            "marker": {
             "colorbar": {
              "outlinewidth": 0,
              "ticks": ""
             }
            },
            "type": "scattermapbox"
           }
          ],
          "scatterpolar": [
           {
            "marker": {
             "colorbar": {
              "outlinewidth": 0,
              "ticks": ""
             }
            },
            "type": "scatterpolar"
           }
          ],
          "scatterpolargl": [
           {
            "marker": {
             "colorbar": {
              "outlinewidth": 0,
              "ticks": ""
             }
            },
            "type": "scatterpolargl"
           }
          ],
          "scatterternary": [
           {
            "marker": {
             "colorbar": {
              "outlinewidth": 0,
              "ticks": ""
             }
            },
            "type": "scatterternary"
           }
          ],
          "surface": [
           {
            "colorbar": {
             "outlinewidth": 0,
             "ticks": ""
            },
            "colorscale": [
             [
              0,
              "#0d0887"
             ],
             [
              0.1111111111111111,
              "#46039f"
             ],
             [
              0.2222222222222222,
              "#7201a8"
             ],
             [
              0.3333333333333333,
              "#9c179e"
             ],
             [
              0.4444444444444444,
              "#bd3786"
             ],
             [
              0.5555555555555556,
              "#d8576b"
             ],
             [
              0.6666666666666666,
              "#ed7953"
             ],
             [
              0.7777777777777778,
              "#fb9f3a"
             ],
             [
              0.8888888888888888,
              "#fdca26"
             ],
             [
              1,
              "#f0f921"
             ]
            ],
            "type": "surface"
           }
          ],
          "table": [
           {
            "cells": {
             "fill": {
              "color": "#EBF0F8"
             },
             "line": {
              "color": "white"
             }
            },
            "header": {
             "fill": {
              "color": "#C8D4E3"
             },
             "line": {
              "color": "white"
             }
            },
            "type": "table"
           }
          ]
         },
         "layout": {
          "annotationdefaults": {
           "arrowcolor": "#2a3f5f",
           "arrowhead": 0,
           "arrowwidth": 1
          },
          "coloraxis": {
           "colorbar": {
            "outlinewidth": 0,
            "ticks": ""
           }
          },
          "colorscale": {
           "diverging": [
            [
             0,
             "#8e0152"
            ],
            [
             0.1,
             "#c51b7d"
            ],
            [
             0.2,
             "#de77ae"
            ],
            [
             0.3,
             "#f1b6da"
            ],
            [
             0.4,
             "#fde0ef"
            ],
            [
             0.5,
             "#f7f7f7"
            ],
            [
             0.6,
             "#e6f5d0"
            ],
            [
             0.7,
             "#b8e186"
            ],
            [
             0.8,
             "#7fbc41"
            ],
            [
             0.9,
             "#4d9221"
            ],
            [
             1,
             "#276419"
            ]
           ],
           "sequential": [
            [
             0,
             "#0d0887"
            ],
            [
             0.1111111111111111,
             "#46039f"
            ],
            [
             0.2222222222222222,
             "#7201a8"
            ],
            [
             0.3333333333333333,
             "#9c179e"
            ],
            [
             0.4444444444444444,
             "#bd3786"
            ],
            [
             0.5555555555555556,
             "#d8576b"
            ],
            [
             0.6666666666666666,
             "#ed7953"
            ],
            [
             0.7777777777777778,
             "#fb9f3a"
            ],
            [
             0.8888888888888888,
             "#fdca26"
            ],
            [
             1,
             "#f0f921"
            ]
           ],
           "sequentialminus": [
            [
             0,
             "#0d0887"
            ],
            [
             0.1111111111111111,
             "#46039f"
            ],
            [
             0.2222222222222222,
             "#7201a8"
            ],
            [
             0.3333333333333333,
             "#9c179e"
            ],
            [
             0.4444444444444444,
             "#bd3786"
            ],
            [
             0.5555555555555556,
             "#d8576b"
            ],
            [
             0.6666666666666666,
             "#ed7953"
            ],
            [
             0.7777777777777778,
             "#fb9f3a"
            ],
            [
             0.8888888888888888,
             "#fdca26"
            ],
            [
             1,
             "#f0f921"
            ]
           ]
          },
          "colorway": [
           "#636efa",
           "#EF553B",
           "#00cc96",
           "#ab63fa",
           "#FFA15A",
           "#19d3f3",
           "#FF6692",
           "#B6E880",
           "#FF97FF",
           "#FECB52"
          ],
          "font": {
           "color": "#2a3f5f"
          },
          "geo": {
           "bgcolor": "white",
           "lakecolor": "white",
           "landcolor": "#E5ECF6",
           "showlakes": true,
           "showland": true,
           "subunitcolor": "white"
          },
          "hoverlabel": {
           "align": "left"
          },
          "hovermode": "closest",
          "mapbox": {
           "style": "light"
          },
          "paper_bgcolor": "white",
          "plot_bgcolor": "#E5ECF6",
          "polar": {
           "angularaxis": {
            "gridcolor": "white",
            "linecolor": "white",
            "ticks": ""
           },
           "bgcolor": "#E5ECF6",
           "radialaxis": {
            "gridcolor": "white",
            "linecolor": "white",
            "ticks": ""
           }
          },
          "scene": {
           "xaxis": {
            "backgroundcolor": "#E5ECF6",
            "gridcolor": "white",
            "gridwidth": 2,
            "linecolor": "white",
            "showbackground": true,
            "ticks": "",
            "zerolinecolor": "white"
           },
           "yaxis": {
            "backgroundcolor": "#E5ECF6",
            "gridcolor": "white",
            "gridwidth": 2,
            "linecolor": "white",
            "showbackground": true,
            "ticks": "",
            "zerolinecolor": "white"
           },
           "zaxis": {
            "backgroundcolor": "#E5ECF6",
            "gridcolor": "white",
            "gridwidth": 2,
            "linecolor": "white",
            "showbackground": true,
            "ticks": "",
            "zerolinecolor": "white"
           }
          },
          "shapedefaults": {
           "line": {
            "color": "#2a3f5f"
           }
          },
          "ternary": {
           "aaxis": {
            "gridcolor": "white",
            "linecolor": "white",
            "ticks": ""
           },
           "baxis": {
            "gridcolor": "white",
            "linecolor": "white",
            "ticks": ""
           },
           "bgcolor": "#E5ECF6",
           "caxis": {
            "gridcolor": "white",
            "linecolor": "white",
            "ticks": ""
           }
          },
          "title": {
           "x": 0.05
          },
          "xaxis": {
           "automargin": true,
           "gridcolor": "white",
           "linecolor": "white",
           "ticks": "",
           "title": {
            "standoff": 15
           },
           "zerolinecolor": "white",
           "zerolinewidth": 2
          },
          "yaxis": {
           "automargin": true,
           "gridcolor": "white",
           "linecolor": "white",
           "ticks": "",
           "title": {
            "standoff": 15
           },
           "zerolinecolor": "white",
           "zerolinewidth": 2
          }
         }
        },
        "title": {
         "font": {
          "size": 14
         },
         "text": "<b>Model performance</b><br>gb"
        },
        "width": 450,
        "xaxis": {
         "anchor": "y",
         "domain": [
          0,
          1
         ]
        },
        "xaxis2": {
         "anchor": "y2",
         "domain": [
          0,
          1
         ],
         "title": {
          "text": "false positive rate"
         }
        },
        "xaxis3": {
         "anchor": "y3",
         "domain": [
          0,
          1
         ],
         "range": [
          0,
          1.05
         ],
         "title": {
          "text": "recall"
         }
        },
        "yaxis": {
         "anchor": "x",
         "domain": [
          0.7777777777777778,
          1
         ]
        },
        "yaxis2": {
         "anchor": "x2",
         "domain": [
          0.3888888888888889,
          0.6111111111111112
         ],
         "title": {
          "text": "true positive rate"
         }
        },
        "yaxis3": {
         "anchor": "x3",
         "domain": [
          0,
          0.22222222222222224
         ],
         "range": [
          0,
          1.05
         ],
         "title": {
          "text": "precision"
         }
        }
       }
      },
      "text/html": [
       "<div>\n",
       "        \n",
       "        \n",
       "            <div id=\"0a3355e4-393c-4258-b6ce-6f7fe7041cd7\" class=\"plotly-graph-div\" style=\"height:900px; width:450px;\"></div>\n",
       "            <script type=\"text/javascript\">\n",
       "                require([\"plotly\"], function(Plotly) {\n",
       "                    window.PLOTLYENV=window.PLOTLYENV || {};\n",
       "                    \n",
       "                if (document.getElementById(\"0a3355e4-393c-4258-b6ce-6f7fe7041cd7\")) {\n",
       "                    Plotly.newPlot(\n",
       "                        '0a3355e4-393c-4258-b6ce-6f7fe7041cd7',\n",
       "                        [{\"marker\": {\"color\": [\"gold\", \"lightgreen\", \"lightcoral\", \"lightskyblue\"], \"line\": {\"color\": \"#000000\", \"width\": 1.5}}, \"opacity\": 0.8, \"orientation\": \"h\", \"text\": [0.9595, 0.9242, 1.0, 0.9606], \"textposition\": \"auto\", \"type\": \"bar\", \"x\": [0.9595141700404858, 0.9242424242424242, 1.0, 0.9606299212598425], \"xaxis\": \"x\", \"y\": [\"Accuracy\", \"Precision\", \"Recall\", \"F1_score\"], \"yaxis\": \"y\"}, {\"fill\": \"tozeroy\", \"line\": {\"color\": \"rgb(22, 96, 167)\", \"width\": 2}, \"name\": \"Roc : \", \"type\": \"scatter\", \"x\": [0.0, 0.0, 0.0, 0.0, 0.0, 0.0, 0.0, 0.0, 0.0, 0.0, 0.0, 0.0, 0.0, 0.0, 0.0, 0.0, 0.0, 0.0, 0.0, 0.0, 0.0, 0.0, 0.0, 0.0, 0.0, 0.0, 0.0, 0.0, 0.0, 0.0, 0.0, 0.0, 0.0, 0.0, 0.0, 0.0, 0.0, 0.0, 0.0, 0.0, 0.0, 0.0, 0.0, 0.0, 0.0, 0.0, 0.0, 0.0, 0.0, 0.0, 0.0, 0.0, 0.0, 0.0, 0.0, 0.0, 0.0, 0.0, 0.0, 0.0, 0.0, 0.0, 0.0, 0.0, 0.0, 0.0, 0.0, 0.0, 0.0, 0.0, 0.0, 0.0, 0.0, 0.0, 0.0, 0.0, 0.0, 0.0, 0.0, 0.0, 0.004, 0.004, 0.004, 0.004, 0.004, 0.004, 0.004, 0.004, 0.012, 0.012, 1.0], \"xaxis\": \"x2\", \"y\": [0.0, 0.004098360655737705, 0.00819672131147541, 0.03278688524590164, 0.036885245901639344, 0.05327868852459016, 0.0778688524590164, 0.09016393442622951, 0.09836065573770492, 0.13934426229508196, 0.14754098360655737, 0.1557377049180328, 0.16393442622950818, 0.1721311475409836, 0.18442622950819673, 0.1885245901639344, 0.19672131147540983, 0.21311475409836064, 0.21721311475409835, 0.22540983606557377, 0.27459016393442626, 0.29098360655737704, 0.29508196721311475, 0.3114754098360656, 0.3155737704918033, 0.3319672131147541, 0.3360655737704918, 0.3524590163934426, 0.35655737704918034, 0.36475409836065575, 0.38114754098360654, 0.38934426229508196, 0.4057377049180328, 0.4180327868852459, 0.42213114754098363, 0.430327868852459, 0.4344262295081967, 0.4426229508196721, 0.45081967213114754, 0.45901639344262296, 0.46311475409836067, 0.47950819672131145, 0.48770491803278687, 0.4959016393442623, 0.5081967213114754, 0.5163934426229508, 0.5491803278688525, 0.5573770491803278, 0.5655737704918032, 0.569672131147541, 0.5860655737704918, 0.5942622950819673, 0.610655737704918, 0.6188524590163934, 0.6270491803278688, 0.639344262295082, 0.6557377049180327, 0.6680327868852459, 0.6844262295081968, 0.7008196721311475, 0.7090163934426229, 0.7131147540983607, 0.7254098360655737, 0.7377049180327869, 0.7459016393442623, 0.7704918032786885, 0.7868852459016393, 0.7909836065573771, 0.8032786885245902, 0.8114754098360656, 0.8155737704918032, 0.8237704918032787, 0.8360655737704918, 0.8442622950819673, 0.8483606557377049, 0.8647540983606558, 0.8852459016393442, 0.8934426229508197, 0.9016393442622951, 0.9098360655737705, 0.9098360655737705, 0.9221311475409836, 0.9467213114754098, 0.9672131147540983, 0.9754098360655737, 0.9836065573770492, 0.9918032786885246, 0.9959016393442623, 0.9959016393442623, 1.0, 1.0], \"yaxis\": \"y2\"}, {\"line\": {\"color\": \"black\", \"dash\": \"dot\", \"width\": 1.5}, \"type\": \"scatter\", \"x\": [0, 1], \"xaxis\": \"x2\", \"y\": [0, 1], \"yaxis\": \"y2\"}, {\"fill\": \"tozeroy\", \"line\": {\"color\": \"lightcoral\", \"width\": 2}, \"name\": \"Precision[0.98785425 0.98780488 0.99183673 0.99590164 0.99588477 0.99585062\\n 0.99583333 0.9958159  0.99578059 0.99568966 0.99565217 0.99561404\\n 0.99557522 0.99555556 0.99553571 0.9955157  1.         1.\\n 1.         1.         1.         1.         1.         1.\\n 1.         1.         1.         1.         1.         1.\\n 1.         1.         1.         1.         1.         1.\\n 1.         1.         1.         1.         1.         1.\\n 1.         1.         1.         1.         1.         1.\\n 1.         1.         1.         1.         1.         1.\\n 1.         1.         1.         1.         1.         1.\\n 1.         1.         1.         1.         1.         1.\\n 1.         1.         1.         1.         1.         1.\\n 1.         1.         1.         1.         1.         1.\\n 1.         1.         1.         1.         1.         1.\\n 1.         1.         1.         1.         1.         1.\\n 1.         1.         1.         1.         1.         1.\\n 1.         1.         1.         1.         1.         1.\\n 1.         1.         1.         1.         1.         1.\\n 1.         1.         1.         1.         1.         1.\\n 1.         1.         1.         1.         1.         1.\\n 1.         1.         1.         1.         1.         1.\\n 1.         1.         1.         1.         1.         1.\\n 1.         1.         1.         1.         1.         1.\\n 1.         1.         1.         1.         1.         1.\\n 1.         1.         1.         1.         1.         1.\\n 1.         1.         1.         1.         1.         1.\\n 1.        ]\", \"type\": \"scatter\", \"x\": [1.0, 0.9959016393442623, 0.9959016393442623, 0.9959016393442623, 0.9918032786885246, 0.9836065573770492, 0.9795081967213115, 0.9754098360655737, 0.9672131147540983, 0.9467213114754098, 0.9385245901639344, 0.930327868852459, 0.9221311475409836, 0.9180327868852459, 0.9139344262295082, 0.9098360655737705, 0.9098360655737705, 0.9057377049180327, 0.9016393442622951, 0.8934426229508197, 0.889344262295082, 0.8852459016393442, 0.8647540983606558, 0.8565573770491803, 0.8483606557377049, 0.8442622950819673, 0.8360655737704918, 0.8319672131147541, 0.8278688524590164, 0.8237704918032787, 0.8155737704918032, 0.8114754098360656, 0.8032786885245902, 0.7909836065573771, 0.7868852459016393, 0.7786885245901639, 0.7704918032786885, 0.7581967213114754, 0.7459016393442623, 0.7377049180327869, 0.7336065573770492, 0.7295081967213115, 0.7254098360655737, 0.7131147540983607, 0.7090163934426229, 0.7008196721311475, 0.6844262295081968, 0.6762295081967213, 0.6680327868852459, 0.6557377049180327, 0.639344262295082, 0.6270491803278688, 0.6188524590163934, 0.6147540983606558, 0.610655737704918, 0.6024590163934426, 0.5942622950819673, 0.5901639344262295, 0.5860655737704918, 0.569672131147541, 0.5655737704918032, 0.5573770491803278, 0.5532786885245902, 0.5491803278688525, 0.5409836065573771, 0.5327868852459017, 0.5245901639344263, 0.5163934426229508, 0.5122950819672131, 0.5081967213114754, 0.4959016393442623, 0.48770491803278687, 0.48360655737704916, 0.47950819672131145, 0.4713114754098361, 0.46311475409836067, 0.45901639344262296, 0.45081967213114754, 0.44672131147540983, 0.4426229508196721, 0.4344262295081967, 0.430327868852459, 0.42213114754098363, 0.4180327868852459, 0.4057377049180328, 0.4016393442622951, 0.3975409836065574, 0.39344262295081966, 0.38934426229508196, 0.38114754098360654, 0.3770491803278688, 0.3729508196721312, 0.36885245901639346, 0.36475409836065575, 0.35655737704918034, 0.3524590163934426, 0.3442622950819672, 0.3360655737704918, 0.3319672131147541, 0.3237704918032787, 0.3155737704918033, 0.3114754098360656, 0.30327868852459017, 0.29508196721311475, 0.29098360655737704, 0.2827868852459016, 0.27459016393442626, 0.27049180327868855, 0.26639344262295084, 0.26229508196721313, 0.2581967213114754, 0.2540983606557377, 0.25, 0.2459016393442623, 0.24180327868852458, 0.23770491803278687, 0.2336065573770492, 0.22950819672131148, 0.22540983606557377, 0.21721311475409835, 0.21311475409836064, 0.19672131147540983, 0.1885245901639344, 0.18442622950819673, 0.1721311475409836, 0.1680327868852459, 0.16393442622950818, 0.1557377049180328, 0.15163934426229508, 0.14754098360655737, 0.13934426229508196, 0.13524590163934427, 0.13114754098360656, 0.12704918032786885, 0.12295081967213115, 0.11885245901639344, 0.11475409836065574, 0.11065573770491803, 0.10655737704918032, 0.10245901639344263, 0.09836065573770492, 0.09016393442622951, 0.0778688524590164, 0.07377049180327869, 0.06967213114754098, 0.06557377049180328, 0.06147540983606557, 0.05737704918032787, 0.05327868852459016, 0.045081967213114756, 0.036885245901639344, 0.03278688524590164, 0.02459016393442623, 0.01639344262295082, 0.00819672131147541, 0.004098360655737705, 0.0], \"xaxis\": \"x3\", \"y\": [0.9878542510121457, 0.9878048780487805, 0.9918367346938776, 0.9959016393442623, 0.9958847736625515, 0.995850622406639, 0.9958333333333333, 0.99581589958159, 0.9957805907172996, 0.9956896551724138, 0.9956521739130435, 0.9956140350877193, 0.995575221238938, 0.9955555555555555, 0.9955357142857143, 0.9955156950672646, 1.0, 1.0, 1.0, 1.0, 1.0, 1.0, 1.0, 1.0, 1.0, 1.0, 1.0, 1.0, 1.0, 1.0, 1.0, 1.0, 1.0, 1.0, 1.0, 1.0, 1.0, 1.0, 1.0, 1.0, 1.0, 1.0, 1.0, 1.0, 1.0, 1.0, 1.0, 1.0, 1.0, 1.0, 1.0, 1.0, 1.0, 1.0, 1.0, 1.0, 1.0, 1.0, 1.0, 1.0, 1.0, 1.0, 1.0, 1.0, 1.0, 1.0, 1.0, 1.0, 1.0, 1.0, 1.0, 1.0, 1.0, 1.0, 1.0, 1.0, 1.0, 1.0, 1.0, 1.0, 1.0, 1.0, 1.0, 1.0, 1.0, 1.0, 1.0, 1.0, 1.0, 1.0, 1.0, 1.0, 1.0, 1.0, 1.0, 1.0, 1.0, 1.0, 1.0, 1.0, 1.0, 1.0, 1.0, 1.0, 1.0, 1.0, 1.0, 1.0, 1.0, 1.0, 1.0, 1.0, 1.0, 1.0, 1.0, 1.0, 1.0, 1.0, 1.0, 1.0, 1.0, 1.0, 1.0, 1.0, 1.0, 1.0, 1.0, 1.0, 1.0, 1.0, 1.0, 1.0, 1.0, 1.0, 1.0, 1.0, 1.0, 1.0, 1.0, 1.0, 1.0, 1.0, 1.0, 1.0, 1.0, 1.0, 1.0, 1.0, 1.0, 1.0, 1.0, 1.0, 1.0, 1.0, 1.0, 1.0, 1.0], \"yaxis\": \"y3\"}],\n",
       "                        {\"annotations\": [{\"font\": {\"size\": 16}, \"showarrow\": false, \"text\": \"Metrics\", \"x\": 0.5, \"xanchor\": \"center\", \"xref\": \"paper\", \"y\": 1.0, \"yanchor\": \"bottom\", \"yref\": \"paper\"}, {\"font\": {\"size\": 16}, \"showarrow\": false, \"text\": \"ROC curve (1.0)\", \"x\": 0.5, \"xanchor\": \"center\", \"xref\": \"paper\", \"y\": 0.6111111111111112, \"yanchor\": \"bottom\", \"yref\": \"paper\"}, {\"font\": {\"size\": 16}, \"showarrow\": false, \"text\": \"Precision - Recall curve\", \"x\": 0.5, \"xanchor\": \"center\", \"xref\": \"paper\", \"y\": 0.22222222222222224, \"yanchor\": \"bottom\", \"yref\": \"paper\"}], \"autosize\": false, \"height\": 900, \"margin\": {\"b\": 195}, \"paper_bgcolor\": \"rgba(240,240,240, 0.95)\", \"plot_bgcolor\": \"rgba(240,240,240, 0.95)\", \"showlegend\": false, \"template\": {\"data\": {\"bar\": [{\"error_x\": {\"color\": \"#2a3f5f\"}, \"error_y\": {\"color\": \"#2a3f5f\"}, \"marker\": {\"line\": {\"color\": \"#E5ECF6\", \"width\": 0.5}}, \"type\": \"bar\"}], \"barpolar\": [{\"marker\": {\"line\": {\"color\": \"#E5ECF6\", \"width\": 0.5}}, \"type\": \"barpolar\"}], \"carpet\": [{\"aaxis\": {\"endlinecolor\": \"#2a3f5f\", \"gridcolor\": \"white\", \"linecolor\": \"white\", \"minorgridcolor\": \"white\", \"startlinecolor\": \"#2a3f5f\"}, \"baxis\": {\"endlinecolor\": \"#2a3f5f\", \"gridcolor\": \"white\", \"linecolor\": \"white\", \"minorgridcolor\": \"white\", \"startlinecolor\": \"#2a3f5f\"}, \"type\": \"carpet\"}], \"choropleth\": [{\"colorbar\": {\"outlinewidth\": 0, \"ticks\": \"\"}, \"type\": \"choropleth\"}], \"contour\": [{\"colorbar\": {\"outlinewidth\": 0, \"ticks\": \"\"}, \"colorscale\": [[0.0, \"#0d0887\"], [0.1111111111111111, \"#46039f\"], [0.2222222222222222, \"#7201a8\"], [0.3333333333333333, \"#9c179e\"], [0.4444444444444444, \"#bd3786\"], [0.5555555555555556, \"#d8576b\"], [0.6666666666666666, \"#ed7953\"], [0.7777777777777778, \"#fb9f3a\"], [0.8888888888888888, \"#fdca26\"], [1.0, \"#f0f921\"]], \"type\": \"contour\"}], \"contourcarpet\": [{\"colorbar\": {\"outlinewidth\": 0, \"ticks\": \"\"}, \"type\": \"contourcarpet\"}], \"heatmap\": [{\"colorbar\": {\"outlinewidth\": 0, \"ticks\": \"\"}, \"colorscale\": [[0.0, \"#0d0887\"], [0.1111111111111111, \"#46039f\"], [0.2222222222222222, \"#7201a8\"], [0.3333333333333333, \"#9c179e\"], [0.4444444444444444, \"#bd3786\"], [0.5555555555555556, \"#d8576b\"], [0.6666666666666666, \"#ed7953\"], [0.7777777777777778, \"#fb9f3a\"], [0.8888888888888888, \"#fdca26\"], [1.0, \"#f0f921\"]], \"type\": \"heatmap\"}], \"heatmapgl\": [{\"colorbar\": {\"outlinewidth\": 0, \"ticks\": \"\"}, \"colorscale\": [[0.0, \"#0d0887\"], [0.1111111111111111, \"#46039f\"], [0.2222222222222222, \"#7201a8\"], [0.3333333333333333, \"#9c179e\"], [0.4444444444444444, \"#bd3786\"], [0.5555555555555556, \"#d8576b\"], [0.6666666666666666, \"#ed7953\"], [0.7777777777777778, \"#fb9f3a\"], [0.8888888888888888, \"#fdca26\"], [1.0, \"#f0f921\"]], \"type\": \"heatmapgl\"}], \"histogram\": [{\"marker\": {\"colorbar\": {\"outlinewidth\": 0, \"ticks\": \"\"}}, \"type\": \"histogram\"}], \"histogram2d\": [{\"colorbar\": {\"outlinewidth\": 0, \"ticks\": \"\"}, \"colorscale\": [[0.0, \"#0d0887\"], [0.1111111111111111, \"#46039f\"], [0.2222222222222222, \"#7201a8\"], [0.3333333333333333, \"#9c179e\"], [0.4444444444444444, \"#bd3786\"], [0.5555555555555556, \"#d8576b\"], [0.6666666666666666, \"#ed7953\"], [0.7777777777777778, \"#fb9f3a\"], [0.8888888888888888, \"#fdca26\"], [1.0, \"#f0f921\"]], \"type\": \"histogram2d\"}], \"histogram2dcontour\": [{\"colorbar\": {\"outlinewidth\": 0, \"ticks\": \"\"}, \"colorscale\": [[0.0, \"#0d0887\"], [0.1111111111111111, \"#46039f\"], [0.2222222222222222, \"#7201a8\"], [0.3333333333333333, \"#9c179e\"], [0.4444444444444444, \"#bd3786\"], [0.5555555555555556, \"#d8576b\"], [0.6666666666666666, \"#ed7953\"], [0.7777777777777778, \"#fb9f3a\"], [0.8888888888888888, \"#fdca26\"], [1.0, \"#f0f921\"]], \"type\": \"histogram2dcontour\"}], \"mesh3d\": [{\"colorbar\": {\"outlinewidth\": 0, \"ticks\": \"\"}, \"type\": \"mesh3d\"}], \"parcoords\": [{\"line\": {\"colorbar\": {\"outlinewidth\": 0, \"ticks\": \"\"}}, \"type\": \"parcoords\"}], \"pie\": [{\"automargin\": true, \"type\": \"pie\"}], \"scatter\": [{\"marker\": {\"colorbar\": {\"outlinewidth\": 0, \"ticks\": \"\"}}, \"type\": \"scatter\"}], \"scatter3d\": [{\"line\": {\"colorbar\": {\"outlinewidth\": 0, \"ticks\": \"\"}}, \"marker\": {\"colorbar\": {\"outlinewidth\": 0, \"ticks\": \"\"}}, \"type\": \"scatter3d\"}], \"scattercarpet\": [{\"marker\": {\"colorbar\": {\"outlinewidth\": 0, \"ticks\": \"\"}}, \"type\": \"scattercarpet\"}], \"scattergeo\": [{\"marker\": {\"colorbar\": {\"outlinewidth\": 0, \"ticks\": \"\"}}, \"type\": \"scattergeo\"}], \"scattergl\": [{\"marker\": {\"colorbar\": {\"outlinewidth\": 0, \"ticks\": \"\"}}, \"type\": \"scattergl\"}], \"scattermapbox\": [{\"marker\": {\"colorbar\": {\"outlinewidth\": 0, \"ticks\": \"\"}}, \"type\": \"scattermapbox\"}], \"scatterpolar\": [{\"marker\": {\"colorbar\": {\"outlinewidth\": 0, \"ticks\": \"\"}}, \"type\": \"scatterpolar\"}], \"scatterpolargl\": [{\"marker\": {\"colorbar\": {\"outlinewidth\": 0, \"ticks\": \"\"}}, \"type\": \"scatterpolargl\"}], \"scatterternary\": [{\"marker\": {\"colorbar\": {\"outlinewidth\": 0, \"ticks\": \"\"}}, \"type\": \"scatterternary\"}], \"surface\": [{\"colorbar\": {\"outlinewidth\": 0, \"ticks\": \"\"}, \"colorscale\": [[0.0, \"#0d0887\"], [0.1111111111111111, \"#46039f\"], [0.2222222222222222, \"#7201a8\"], [0.3333333333333333, \"#9c179e\"], [0.4444444444444444, \"#bd3786\"], [0.5555555555555556, \"#d8576b\"], [0.6666666666666666, \"#ed7953\"], [0.7777777777777778, \"#fb9f3a\"], [0.8888888888888888, \"#fdca26\"], [1.0, \"#f0f921\"]], \"type\": \"surface\"}], \"table\": [{\"cells\": {\"fill\": {\"color\": \"#EBF0F8\"}, \"line\": {\"color\": \"white\"}}, \"header\": {\"fill\": {\"color\": \"#C8D4E3\"}, \"line\": {\"color\": \"white\"}}, \"type\": \"table\"}]}, \"layout\": {\"annotationdefaults\": {\"arrowcolor\": \"#2a3f5f\", \"arrowhead\": 0, \"arrowwidth\": 1}, \"coloraxis\": {\"colorbar\": {\"outlinewidth\": 0, \"ticks\": \"\"}}, \"colorscale\": {\"diverging\": [[0, \"#8e0152\"], [0.1, \"#c51b7d\"], [0.2, \"#de77ae\"], [0.3, \"#f1b6da\"], [0.4, \"#fde0ef\"], [0.5, \"#f7f7f7\"], [0.6, \"#e6f5d0\"], [0.7, \"#b8e186\"], [0.8, \"#7fbc41\"], [0.9, \"#4d9221\"], [1, \"#276419\"]], \"sequential\": [[0.0, \"#0d0887\"], [0.1111111111111111, \"#46039f\"], [0.2222222222222222, \"#7201a8\"], [0.3333333333333333, \"#9c179e\"], [0.4444444444444444, \"#bd3786\"], [0.5555555555555556, \"#d8576b\"], [0.6666666666666666, \"#ed7953\"], [0.7777777777777778, \"#fb9f3a\"], [0.8888888888888888, \"#fdca26\"], [1.0, \"#f0f921\"]], \"sequentialminus\": [[0.0, \"#0d0887\"], [0.1111111111111111, \"#46039f\"], [0.2222222222222222, \"#7201a8\"], [0.3333333333333333, \"#9c179e\"], [0.4444444444444444, \"#bd3786\"], [0.5555555555555556, \"#d8576b\"], [0.6666666666666666, \"#ed7953\"], [0.7777777777777778, \"#fb9f3a\"], [0.8888888888888888, \"#fdca26\"], [1.0, \"#f0f921\"]]}, \"colorway\": [\"#636efa\", \"#EF553B\", \"#00cc96\", \"#ab63fa\", \"#FFA15A\", \"#19d3f3\", \"#FF6692\", \"#B6E880\", \"#FF97FF\", \"#FECB52\"], \"font\": {\"color\": \"#2a3f5f\"}, \"geo\": {\"bgcolor\": \"white\", \"lakecolor\": \"white\", \"landcolor\": \"#E5ECF6\", \"showlakes\": true, \"showland\": true, \"subunitcolor\": \"white\"}, \"hoverlabel\": {\"align\": \"left\"}, \"hovermode\": \"closest\", \"mapbox\": {\"style\": \"light\"}, \"paper_bgcolor\": \"white\", \"plot_bgcolor\": \"#E5ECF6\", \"polar\": {\"angularaxis\": {\"gridcolor\": \"white\", \"linecolor\": \"white\", \"ticks\": \"\"}, \"bgcolor\": \"#E5ECF6\", \"radialaxis\": {\"gridcolor\": \"white\", \"linecolor\": \"white\", \"ticks\": \"\"}}, \"scene\": {\"xaxis\": {\"backgroundcolor\": \"#E5ECF6\", \"gridcolor\": \"white\", \"gridwidth\": 2, \"linecolor\": \"white\", \"showbackground\": true, \"ticks\": \"\", \"zerolinecolor\": \"white\"}, \"yaxis\": {\"backgroundcolor\": \"#E5ECF6\", \"gridcolor\": \"white\", \"gridwidth\": 2, \"linecolor\": \"white\", \"showbackground\": true, \"ticks\": \"\", \"zerolinecolor\": \"white\"}, \"zaxis\": {\"backgroundcolor\": \"#E5ECF6\", \"gridcolor\": \"white\", \"gridwidth\": 2, \"linecolor\": \"white\", \"showbackground\": true, \"ticks\": \"\", \"zerolinecolor\": \"white\"}}, \"shapedefaults\": {\"line\": {\"color\": \"#2a3f5f\"}}, \"ternary\": {\"aaxis\": {\"gridcolor\": \"white\", \"linecolor\": \"white\", \"ticks\": \"\"}, \"baxis\": {\"gridcolor\": \"white\", \"linecolor\": \"white\", \"ticks\": \"\"}, \"bgcolor\": \"#E5ECF6\", \"caxis\": {\"gridcolor\": \"white\", \"linecolor\": \"white\", \"ticks\": \"\"}}, \"title\": {\"x\": 0.05}, \"xaxis\": {\"automargin\": true, \"gridcolor\": \"white\", \"linecolor\": \"white\", \"ticks\": \"\", \"title\": {\"standoff\": 15}, \"zerolinecolor\": \"white\", \"zerolinewidth\": 2}, \"yaxis\": {\"automargin\": true, \"gridcolor\": \"white\", \"linecolor\": \"white\", \"ticks\": \"\", \"title\": {\"standoff\": 15}, \"zerolinecolor\": \"white\", \"zerolinewidth\": 2}}}, \"title\": {\"font\": {\"size\": 14}, \"text\": \"<b>Model performance</b><br>gb\"}, \"width\": 450, \"xaxis\": {\"anchor\": \"y\", \"domain\": [0.0, 1.0]}, \"xaxis2\": {\"anchor\": \"y2\", \"domain\": [0.0, 1.0], \"title\": {\"text\": \"false positive rate\"}}, \"xaxis3\": {\"anchor\": \"y3\", \"domain\": [0.0, 1.0], \"range\": [0, 1.05], \"title\": {\"text\": \"recall\"}}, \"yaxis\": {\"anchor\": \"x\", \"domain\": [0.7777777777777778, 1.0]}, \"yaxis2\": {\"anchor\": \"x2\", \"domain\": [0.3888888888888889, 0.6111111111111112], \"title\": {\"text\": \"true positive rate\"}}, \"yaxis3\": {\"anchor\": \"x3\", \"domain\": [0.0, 0.22222222222222224], \"range\": [0, 1.05], \"title\": {\"text\": \"precision\"}}},\n",
       "                        {\"responsive\": true}\n",
       "                    ).then(function(){\n",
       "                            \n",
       "var gd = document.getElementById('0a3355e4-393c-4258-b6ce-6f7fe7041cd7');\n",
       "var x = new MutationObserver(function (mutations, observer) {{\n",
       "        var display = window.getComputedStyle(gd).display;\n",
       "        if (!display || display === 'none') {{\n",
       "            console.log([gd, 'removed!']);\n",
       "            Plotly.purge(gd);\n",
       "            observer.disconnect();\n",
       "        }}\n",
       "}});\n",
       "\n",
       "// Listen for the removal of the full notebook cells\n",
       "var notebookContainer = gd.closest('#notebook-container');\n",
       "if (notebookContainer) {{\n",
       "    x.observe(notebookContainer, {childList: true});\n",
       "}}\n",
       "\n",
       "// Listen for the clearing of the current output cell\n",
       "var outputEl = gd.closest('.output');\n",
       "if (outputEl) {{\n",
       "    x.observe(outputEl, {childList: true});\n",
       "}}\n",
       "\n",
       "                        })\n",
       "                };\n",
       "                });\n",
       "            </script>\n",
       "        </div>"
      ]
     },
     "metadata": {},
     "output_type": "display_data"
    }
   ],
   "source": [
    "y_pred = gb.predict(test)\n",
    "y_score = gb.predict_proba(test)[:,1]\n",
    "\n",
    "model_performance_plot('gb')"
   ]
  },
  {
   "cell_type": "code",
   "execution_count": 84,
   "metadata": {},
   "outputs": [
    {
     "data": {
      "image/png": "[encoded data removed]",
      "text/plain": [
       "<Figure size 720x864 with 1 Axes>"
      ]
     },
     "metadata": {
      "needs_background": "light"
     },
     "output_type": "display_data"
    }
   ],
   "source": [
    "plot_feature_importance(gb)\n",
    "# gb.feature_importances_\n",
    "# list(attrition_final_tree)\n",
    "# len(list(attrition_final_tree))"
   ]
  },
  {
   "cell_type": "markdown",
   "metadata": {},
   "source": [
    "Decision Tree"
   ]
  },
  {
   "cell_type": "code",
   "execution_count": 98,
   "metadata": {},
   "outputs": [
    {
     "name": "stdout",
     "output_type": "stream",
     "text": [
      "Predictions finished\n"
     ]
    }
   ],
   "source": [
    "from sklearn import tree\n",
    "\n",
    "tree_params = {\n",
    "    'criterion': 'entropy',\n",
    "    'max_depth': 4,\n",
    "    'min_samples_leaf': 2,\n",
    "    'min_samples_split': 10,\n",
    "    'random_state': 123\n",
    "}\n",
    "tree_clf = tree.DecisionTreeClassifier(**tree_params)\n",
    "\n",
    "tree_clf.fit(train, target_train)\n",
    "\n",
    "dec_tree_predictions = tree_clf.predict(test)\n",
    "print(\"Predictions finished\")"
   ]
  },
  {
   "cell_type": "code",
   "execution_count": 99,
   "metadata": {},
   "outputs": [
    {
     "name": "stdout",
     "output_type": "stream",
     "text": [
      "0.7327935222672065\n",
      "              precision    recall  f1-score   support\n",
      "\n",
      "           0       0.70      0.82      0.76       250\n",
      "           1       0.78      0.64      0.70       244\n",
      "\n",
      "    accuracy                           0.73       494\n",
      "   macro avg       0.74      0.73      0.73       494\n",
      "weighted avg       0.74      0.73      0.73       494\n",
      "\n"
     ]
    }
   ],
   "source": [
    "print(accuracy_score(target_val, dec_tree_predictions))\n",
    "print(classification_report(target_val, dec_tree_predictions))"
   ]
  },
  {
   "cell_type": "code",
   "execution_count": 100,
   "metadata": {},
   "outputs": [],
   "source": [
    "from sklearn.tree import export_graphviz\n",
    "\n",
    "export_graphviz(tree_clf, out_file=\"decision_tree_orig_final.dot\", max_depth=4,feature_names=train.columns, class_names=['0','1'], impurity=False, filled=True)\n"
   ]
  },
  {
   "cell_type": "code",
   "execution_count": 101,
   "metadata": {},
   "outputs": [
    {
     "data": {
      "image/svg+xml": [
       "<?xml version=\"1.0\" encoding=\"UTF-8\" standalone=\"no\"?>\n",
       "<!DOCTYPE svg PUBLIC \"-//W3C//DTD SVG 1.1//EN\"\n",
       " \"http://www.w3.org/Graphics/SVG/1.1/DTD/svg11.dtd\">\n",
       "<!-- Generated by graphviz version 2.43.0 (0)\n",
       " -->\n",
       "<!-- Title: Tree Pages: 1 -->\n",
       "<svg width=\"1980pt\" height=\"458pt\"\n",
       " viewBox=\"0.00 0.00 1979.78 458.00\" xmlns=\"http://www.w3.org/2000/svg\" xmlns:xlink=\"http://www.w3.org/1999/xlink\">\n",
       "<g id=\"graph0\" class=\"graph\" transform=\"scale(1 1) rotate(0) translate(4 454)\">\n",
       "<title>Tree</title>\n",
       "<polygon fill=\"white\" stroke=\"transparent\" points=\"-4,4 -4,-454 1975.78,-454 1975.78,4 -4,4\"/>\n",
       "<!-- 0 -->\n",
       "<g id=\"node1\" class=\"node\">\n",
       "<title>0</title>\n",
       "<polygon fill=\"#fefeff\" stroke=\"black\" points=\"1041.81,-450 922.73,-450 922.73,-386 1041.81,-386 1041.81,-450\"/>\n",
       "<text text-anchor=\"middle\" x=\"982.27\" y=\"-434.8\" font-family=\"Times,serif\" font-size=\"14.00\">OverTime &lt;= 0.5</text>\n",
       "<text text-anchor=\"middle\" x=\"982.27\" y=\"-420.8\" font-family=\"Times,serif\" font-size=\"14.00\">samples = 1972</text>\n",
       "<text text-anchor=\"middle\" x=\"982.27\" y=\"-406.8\" font-family=\"Times,serif\" font-size=\"14.00\">value = [983, 989]</text>\n",
       "<text text-anchor=\"middle\" x=\"982.27\" y=\"-392.8\" font-family=\"Times,serif\" font-size=\"14.00\">class = 1</text>\n",
       "</g>\n",
       "<!-- 1 -->\n",
       "<g id=\"node2\" class=\"node\">\n",
       "<title>1</title>\n",
       "<polygon fill=\"#f5ceb2\" stroke=\"black\" points=\"842.42,-350 668.12,-350 668.12,-286 842.42,-286 842.42,-350\"/>\n",
       "<text text-anchor=\"middle\" x=\"755.27\" y=\"-334.8\" font-family=\"Times,serif\" font-size=\"14.00\">YearsAtCompany &lt;= &#45;0.608</text>\n",
       "<text text-anchor=\"middle\" x=\"755.27\" y=\"-320.8\" font-family=\"Times,serif\" font-size=\"14.00\">samples = 1215</text>\n",
       "<text text-anchor=\"middle\" x=\"755.27\" y=\"-306.8\" font-family=\"Times,serif\" font-size=\"14.00\">value = [754, 461]</text>\n",
       "<text text-anchor=\"middle\" x=\"755.27\" y=\"-292.8\" font-family=\"Times,serif\" font-size=\"14.00\">class = 0</text>\n",
       "</g>\n",
       "<!-- 0&#45;&gt;1 -->\n",
       "<g id=\"edge1\" class=\"edge\">\n",
       "<title>0&#45;&gt;1</title>\n",
       "<path fill=\"none\" stroke=\"black\" d=\"M922.63,-391.25C896.43,-379.94 865.24,-366.48 836.93,-354.26\"/>\n",
       "<polygon fill=\"black\" stroke=\"black\" points=\"838.02,-350.91 827.45,-350.16 835.25,-357.34 838.02,-350.91\"/>\n",
       "<text text-anchor=\"middle\" x=\"836.68\" y=\"-369.2\" font-family=\"Times,serif\" font-size=\"14.00\">True</text>\n",
       "</g>\n",
       "<!-- 16 -->\n",
       "<g id=\"node17\" class=\"node\">\n",
       "<title>16</title>\n",
       "<polygon fill=\"#8fc8f0\" stroke=\"black\" points=\"1309.93,-350 1144.61,-350 1144.61,-286 1309.93,-286 1309.93,-350\"/>\n",
       "<text text-anchor=\"middle\" x=\"1227.27\" y=\"-334.8\" font-family=\"Times,serif\" font-size=\"14.00\">MonthlyIncome &lt;= &#45;0.472</text>\n",
       "<text text-anchor=\"middle\" x=\"1227.27\" y=\"-320.8\" font-family=\"Times,serif\" font-size=\"14.00\">samples = 757</text>\n",
       "<text text-anchor=\"middle\" x=\"1227.27\" y=\"-306.8\" font-family=\"Times,serif\" font-size=\"14.00\">value = [229, 528]</text>\n",
       "<text text-anchor=\"middle\" x=\"1227.27\" y=\"-292.8\" font-family=\"Times,serif\" font-size=\"14.00\">class = 1</text>\n",
       "</g>\n",
       "<!-- 0&#45;&gt;16 -->\n",
       "<g id=\"edge16\" class=\"edge\">\n",
       "<title>0&#45;&gt;16</title>\n",
       "<path fill=\"none\" stroke=\"black\" d=\"M1041.89,-393.15C1071.41,-381.34 1107.62,-366.86 1140.17,-353.84\"/>\n",
       "<polygon fill=\"black\" stroke=\"black\" points=\"1141.71,-356.99 1149.7,-350.03 1139.11,-350.49 1141.71,-356.99\"/>\n",
       "<text text-anchor=\"middle\" x=\"1139.85\" y=\"-368.81\" font-family=\"Times,serif\" font-size=\"14.00\">False</text>\n",
       "</g>\n",
       "<!-- 2 -->\n",
       "<g id=\"node3\" class=\"node\">\n",
       "<title>2</title>\n",
       "<polygon fill=\"#cbe5f8\" stroke=\"black\" points=\"463.79,-250 344.74,-250 344.74,-186 463.79,-186 463.79,-250\"/>\n",
       "<text text-anchor=\"middle\" x=\"404.27\" y=\"-234.8\" font-family=\"Times,serif\" font-size=\"14.00\">Age &lt;= &#45;0.417</text>\n",
       "<text text-anchor=\"middle\" x=\"404.27\" y=\"-220.8\" font-family=\"Times,serif\" font-size=\"14.00\">samples = 367</text>\n",
       "<text text-anchor=\"middle\" x=\"404.27\" y=\"-206.8\" font-family=\"Times,serif\" font-size=\"14.00\">value = [156, 211]</text>\n",
       "<text text-anchor=\"middle\" x=\"404.27\" y=\"-192.8\" font-family=\"Times,serif\" font-size=\"14.00\">class = 1</text>\n",
       "</g>\n",
       "<!-- 1&#45;&gt;2 -->\n",
       "<g id=\"edge2\" class=\"edge\">\n",
       "<title>1&#45;&gt;2</title>\n",
       "<path fill=\"none\" stroke=\"black\" d=\"M668.05,-292.65C608.1,-275.91 529.57,-253.98 473.82,-238.42\"/>\n",
       "<polygon fill=\"black\" stroke=\"black\" points=\"474.61,-235.01 464.04,-235.69 472.73,-241.75 474.61,-235.01\"/>\n",
       "</g>\n",
       "<!-- 9 -->\n",
       "<g id=\"node10\" class=\"node\">\n",
       "<title>9</title>\n",
       "<polygon fill=\"#f0b68c\" stroke=\"black\" points=\"856.7,-250 653.84,-250 653.84,-186 856.7,-186 856.7,-250\"/>\n",
       "<text text-anchor=\"middle\" x=\"755.27\" y=\"-234.8\" font-family=\"Times,serif\" font-size=\"14.00\">TrainingTimesLastYear &lt;= 1.383</text>\n",
       "<text text-anchor=\"middle\" x=\"755.27\" y=\"-220.8\" font-family=\"Times,serif\" font-size=\"14.00\">samples = 848</text>\n",
       "<text text-anchor=\"middle\" x=\"755.27\" y=\"-206.8\" font-family=\"Times,serif\" font-size=\"14.00\">value = [598, 250]</text>\n",
       "<text text-anchor=\"middle\" x=\"755.27\" y=\"-192.8\" font-family=\"Times,serif\" font-size=\"14.00\">class = 0</text>\n",
       "</g>\n",
       "<!-- 1&#45;&gt;9 -->\n",
       "<g id=\"edge9\" class=\"edge\">\n",
       "<title>1&#45;&gt;9</title>\n",
       "<path fill=\"none\" stroke=\"black\" d=\"M755.27,-285.99C755.27,-277.86 755.27,-268.96 755.27,-260.38\"/>\n",
       "<polygon fill=\"black\" stroke=\"black\" points=\"758.77,-260.14 755.27,-250.14 751.77,-260.14 758.77,-260.14\"/>\n",
       "</g>\n",
       "<!-- 3 -->\n",
       "<g id=\"node4\" class=\"node\">\n",
       "<title>3</title>\n",
       "<polygon fill=\"#75bbed\" stroke=\"black\" points=\"262.71,-150 103.83,-150 103.83,-86 262.71,-86 262.71,-150\"/>\n",
       "<text text-anchor=\"middle\" x=\"183.27\" y=\"-134.8\" font-family=\"Times,serif\" font-size=\"14.00\">StockOptionLevel &lt;= 0.5</text>\n",
       "<text text-anchor=\"middle\" x=\"183.27\" y=\"-120.8\" font-family=\"Times,serif\" font-size=\"14.00\">samples = 219</text>\n",
       "<text text-anchor=\"middle\" x=\"183.27\" y=\"-106.8\" font-family=\"Times,serif\" font-size=\"14.00\">value = [51, 168]</text>\n",
       "<text text-anchor=\"middle\" x=\"183.27\" y=\"-92.8\" font-family=\"Times,serif\" font-size=\"14.00\">class = 1</text>\n",
       "</g>\n",
       "<!-- 2&#45;&gt;3 -->\n",
       "<g id=\"edge3\" class=\"edge\">\n",
       "<title>2&#45;&gt;3</title>\n",
       "<path fill=\"none\" stroke=\"black\" d=\"M344.75,-190.61C319.59,-179.45 289.92,-166.29 262.91,-154.32\"/>\n",
       "<polygon fill=\"black\" stroke=\"black\" points=\"264.05,-150.99 253.49,-150.14 261.21,-157.39 264.05,-150.99\"/>\n",
       "</g>\n",
       "<!-- 6 -->\n",
       "<g id=\"node7\" class=\"node\">\n",
       "<title>6</title>\n",
       "<polygon fill=\"#f0b58a\" stroke=\"black\" points=\"502.25,-150 306.28,-150 306.28,-86 502.25,-86 502.25,-150\"/>\n",
       "<text text-anchor=\"middle\" x=\"404.27\" y=\"-134.8\" font-family=\"Times,serif\" font-size=\"14.00\">EnvironmentSatisfaction &lt;= 1.5</text>\n",
       "<text text-anchor=\"middle\" x=\"404.27\" y=\"-120.8\" font-family=\"Times,serif\" font-size=\"14.00\">samples = 148</text>\n",
       "<text text-anchor=\"middle\" x=\"404.27\" y=\"-106.8\" font-family=\"Times,serif\" font-size=\"14.00\">value = [105, 43]</text>\n",
       "<text text-anchor=\"middle\" x=\"404.27\" y=\"-92.8\" font-family=\"Times,serif\" font-size=\"14.00\">class = 0</text>\n",
       "</g>\n",
       "<!-- 2&#45;&gt;6 -->\n",
       "<g id=\"edge6\" class=\"edge\">\n",
       "<title>2&#45;&gt;6</title>\n",
       "<path fill=\"none\" stroke=\"black\" d=\"M404.27,-185.99C404.27,-177.86 404.27,-168.96 404.27,-160.38\"/>\n",
       "<polygon fill=\"black\" stroke=\"black\" points=\"407.77,-160.14 404.27,-150.14 400.77,-160.14 407.77,-160.14\"/>\n",
       "</g>\n",
       "<!-- 4 -->\n",
       "<g id=\"node5\" class=\"node\">\n",
       "<title>4</title>\n",
       "<polygon fill=\"#58ace9\" stroke=\"black\" points=\"112.31,-50 0.23,-50 0.23,0 112.31,0 112.31,-50\"/>\n",
       "<text text-anchor=\"middle\" x=\"56.27\" y=\"-34.8\" font-family=\"Times,serif\" font-size=\"14.00\">samples = 149</text>\n",
       "<text text-anchor=\"middle\" x=\"56.27\" y=\"-20.8\" font-family=\"Times,serif\" font-size=\"14.00\">value = [20, 129]</text>\n",
       "<text text-anchor=\"middle\" x=\"56.27\" y=\"-6.8\" font-family=\"Times,serif\" font-size=\"14.00\">class = 1</text>\n",
       "</g>\n",
       "<!-- 3&#45;&gt;4 -->\n",
       "<g id=\"edge4\" class=\"edge\">\n",
       "<title>3&#45;&gt;4</title>\n",
       "<path fill=\"none\" stroke=\"black\" d=\"M139.92,-85.94C126.35,-76.22 111.41,-65.51 97.96,-55.88\"/>\n",
       "<polygon fill=\"black\" stroke=\"black\" points=\"99.97,-53.01 89.81,-50.03 95.9,-58.7 99.97,-53.01\"/>\n",
       "</g>\n",
       "<!-- 5 -->\n",
       "<g id=\"node6\" class=\"node\">\n",
       "<title>5</title>\n",
       "<polygon fill=\"#d6ebfa\" stroke=\"black\" points=\"235.81,-50 130.73,-50 130.73,0 235.81,0 235.81,-50\"/>\n",
       "<text text-anchor=\"middle\" x=\"183.27\" y=\"-34.8\" font-family=\"Times,serif\" font-size=\"14.00\">samples = 70</text>\n",
       "<text text-anchor=\"middle\" x=\"183.27\" y=\"-20.8\" font-family=\"Times,serif\" font-size=\"14.00\">value = [31, 39]</text>\n",
       "<text text-anchor=\"middle\" x=\"183.27\" y=\"-6.8\" font-family=\"Times,serif\" font-size=\"14.00\">class = 1</text>\n",
       "</g>\n",
       "<!-- 3&#45;&gt;5 -->\n",
       "<g id=\"edge5\" class=\"edge\">\n",
       "<title>3&#45;&gt;5</title>\n",
       "<path fill=\"none\" stroke=\"black\" d=\"M183.27,-85.94C183.27,-77.68 183.27,-68.72 183.27,-60.31\"/>\n",
       "<polygon fill=\"black\" stroke=\"black\" points=\"186.77,-60.03 183.27,-50.03 179.77,-60.03 186.77,-60.03\"/>\n",
       "</g>\n",
       "<!-- 7 -->\n",
       "<g id=\"node8\" class=\"node\">\n",
       "<title>7</title>\n",
       "<polygon fill=\"#bbddf6\" stroke=\"black\" points=\"359.81,-50 254.73,-50 254.73,0 359.81,0 359.81,-50\"/>\n",
       "<text text-anchor=\"middle\" x=\"307.27\" y=\"-34.8\" font-family=\"Times,serif\" font-size=\"14.00\">samples = 48</text>\n",
       "<text text-anchor=\"middle\" x=\"307.27\" y=\"-20.8\" font-family=\"Times,serif\" font-size=\"14.00\">value = [19, 29]</text>\n",
       "<text text-anchor=\"middle\" x=\"307.27\" y=\"-6.8\" font-family=\"Times,serif\" font-size=\"14.00\">class = 1</text>\n",
       "</g>\n",
       "<!-- 6&#45;&gt;7 -->\n",
       "<g id=\"edge7\" class=\"edge\">\n",
       "<title>6&#45;&gt;7</title>\n",
       "<path fill=\"none\" stroke=\"black\" d=\"M371.16,-85.94C361.19,-76.58 350.25,-66.32 340.28,-56.97\"/>\n",
       "<polygon fill=\"black\" stroke=\"black\" points=\"342.57,-54.32 332.88,-50.03 337.78,-59.42 342.57,-54.32\"/>\n",
       "</g>\n",
       "<!-- 8 -->\n",
       "<g id=\"node9\" class=\"node\">\n",
       "<title>8</title>\n",
       "<polygon fill=\"#e99659\" stroke=\"black\" points=\"483.81,-50 378.73,-50 378.73,0 483.81,0 483.81,-50\"/>\n",
       "<text text-anchor=\"middle\" x=\"431.27\" y=\"-34.8\" font-family=\"Times,serif\" font-size=\"14.00\">samples = 100</text>\n",
       "<text text-anchor=\"middle\" x=\"431.27\" y=\"-20.8\" font-family=\"Times,serif\" font-size=\"14.00\">value = [86, 14]</text>\n",
       "<text text-anchor=\"middle\" x=\"431.27\" y=\"-6.8\" font-family=\"Times,serif\" font-size=\"14.00\">class = 0</text>\n",
       "</g>\n",
       "<!-- 6&#45;&gt;8 -->\n",
       "<g id=\"edge8\" class=\"edge\">\n",
       "<title>6&#45;&gt;8</title>\n",
       "<path fill=\"none\" stroke=\"black\" d=\"M413.48,-85.94C415.99,-77.5 418.71,-68.32 421.26,-59.75\"/>\n",
       "<polygon fill=\"black\" stroke=\"black\" points=\"424.65,-60.61 424.14,-50.03 417.94,-58.62 424.65,-60.61\"/>\n",
       "</g>\n",
       "<!-- 10 -->\n",
       "<g id=\"node11\" class=\"node\">\n",
       "<title>10</title>\n",
       "<polygon fill=\"#f2be99\" stroke=\"black\" points=\"746.1,-150 604.43,-150 604.43,-86 746.1,-86 746.1,-150\"/>\n",
       "<text text-anchor=\"middle\" x=\"675.27\" y=\"-134.8\" font-family=\"Times,serif\" font-size=\"14.00\">JobSatisfaction &lt;= 1.5</text>\n",
       "<text text-anchor=\"middle\" x=\"675.27\" y=\"-120.8\" font-family=\"Times,serif\" font-size=\"14.00\">samples = 755</text>\n",
       "<text text-anchor=\"middle\" x=\"675.27\" y=\"-106.8\" font-family=\"Times,serif\" font-size=\"14.00\">value = [509, 246]</text>\n",
       "<text text-anchor=\"middle\" x=\"675.27\" y=\"-92.8\" font-family=\"Times,serif\" font-size=\"14.00\">class = 0</text>\n",
       "</g>\n",
       "<!-- 9&#45;&gt;10 -->\n",
       "<g id=\"edge10\" class=\"edge\">\n",
       "<title>9&#45;&gt;10</title>\n",
       "<path fill=\"none\" stroke=\"black\" d=\"M729.96,-185.99C722.73,-177.14 714.77,-167.39 707.21,-158.12\"/>\n",
       "<polygon fill=\"black\" stroke=\"black\" points=\"709.73,-155.68 700.69,-150.14 704.3,-160.1 709.73,-155.68\"/>\n",
       "</g>\n",
       "<!-- 13 -->\n",
       "<g id=\"node14\" class=\"node\">\n",
       "<title>13</title>\n",
       "<polygon fill=\"#e68742\" stroke=\"black\" points=\"906.07,-150 764.47,-150 764.47,-86 906.07,-86 906.07,-150\"/>\n",
       "<text text-anchor=\"middle\" x=\"835.27\" y=\"-134.8\" font-family=\"Times,serif\" font-size=\"14.00\">frequent_travel &lt;= 0.5</text>\n",
       "<text text-anchor=\"middle\" x=\"835.27\" y=\"-120.8\" font-family=\"Times,serif\" font-size=\"14.00\">samples = 93</text>\n",
       "<text text-anchor=\"middle\" x=\"835.27\" y=\"-106.8\" font-family=\"Times,serif\" font-size=\"14.00\">value = [89, 4]</text>\n",
       "<text text-anchor=\"middle\" x=\"835.27\" y=\"-92.8\" font-family=\"Times,serif\" font-size=\"14.00\">class = 0</text>\n",
       "</g>\n",
       "<!-- 9&#45;&gt;13 -->\n",
       "<g id=\"edge13\" class=\"edge\">\n",
       "<title>9&#45;&gt;13</title>\n",
       "<path fill=\"none\" stroke=\"black\" d=\"M780.58,-185.99C787.8,-177.14 795.77,-167.39 803.33,-158.12\"/>\n",
       "<polygon fill=\"black\" stroke=\"black\" points=\"806.23,-160.1 809.85,-150.14 800.81,-155.68 806.23,-160.1\"/>\n",
       "</g>\n",
       "<!-- 11 -->\n",
       "<g id=\"node12\" class=\"node\">\n",
       "<title>11</title>\n",
       "<polygon fill=\"#fefaf7\" stroke=\"black\" points=\"614.31,-50 502.23,-50 502.23,0 614.31,0 614.31,-50\"/>\n",
       "<text text-anchor=\"middle\" x=\"558.27\" y=\"-34.8\" font-family=\"Times,serif\" font-size=\"14.00\">samples = 202</text>\n",
       "<text text-anchor=\"middle\" x=\"558.27\" y=\"-20.8\" font-family=\"Times,serif\" font-size=\"14.00\">value = [103, 99]</text>\n",
       "<text text-anchor=\"middle\" x=\"558.27\" y=\"-6.8\" font-family=\"Times,serif\" font-size=\"14.00\">class = 0</text>\n",
       "</g>\n",
       "<!-- 10&#45;&gt;11 -->\n",
       "<g id=\"edge11\" class=\"edge\">\n",
       "<title>10&#45;&gt;11</title>\n",
       "<path fill=\"none\" stroke=\"black\" d=\"M635.33,-85.94C623.07,-76.4 609.59,-65.92 597.38,-56.42\"/>\n",
       "<polygon fill=\"black\" stroke=\"black\" points=\"599.21,-53.41 589.16,-50.03 594.91,-58.93 599.21,-53.41\"/>\n",
       "</g>\n",
       "<!-- 12 -->\n",
       "<g id=\"node13\" class=\"node\">\n",
       "<title>12</title>\n",
       "<polygon fill=\"#eeaf81\" stroke=\"black\" points=\"751.81,-50 632.73,-50 632.73,0 751.81,0 751.81,-50\"/>\n",
       "<text text-anchor=\"middle\" x=\"692.27\" y=\"-34.8\" font-family=\"Times,serif\" font-size=\"14.00\">samples = 553</text>\n",
       "<text text-anchor=\"middle\" x=\"692.27\" y=\"-20.8\" font-family=\"Times,serif\" font-size=\"14.00\">value = [406, 147]</text>\n",
       "<text text-anchor=\"middle\" x=\"692.27\" y=\"-6.8\" font-family=\"Times,serif\" font-size=\"14.00\">class = 0</text>\n",
       "</g>\n",
       "<!-- 10&#45;&gt;12 -->\n",
       "<g id=\"edge12\" class=\"edge\">\n",
       "<title>10&#45;&gt;12</title>\n",
       "<path fill=\"none\" stroke=\"black\" d=\"M681.07,-85.94C682.63,-77.59 684.32,-68.52 685.91,-60.02\"/>\n",
       "<polygon fill=\"black\" stroke=\"black\" points=\"689.38,-60.5 687.78,-50.03 682.5,-59.22 689.38,-60.5\"/>\n",
       "</g>\n",
       "<!-- 14 -->\n",
       "<g id=\"node15\" class=\"node\">\n",
       "<title>14</title>\n",
       "<polygon fill=\"#e58139\" stroke=\"black\" points=\"868.31,-50 770.23,-50 770.23,0 868.31,0 868.31,-50\"/>\n",
       "<text text-anchor=\"middle\" x=\"819.27\" y=\"-34.8\" font-family=\"Times,serif\" font-size=\"14.00\">samples = 78</text>\n",
       "<text text-anchor=\"middle\" x=\"819.27\" y=\"-20.8\" font-family=\"Times,serif\" font-size=\"14.00\">value = [78, 0]</text>\n",
       "<text text-anchor=\"middle\" x=\"819.27\" y=\"-6.8\" font-family=\"Times,serif\" font-size=\"14.00\">class = 0</text>\n",
       "</g>\n",
       "<!-- 13&#45;&gt;14 -->\n",
       "<g id=\"edge14\" class=\"edge\">\n",
       "<title>13&#45;&gt;14</title>\n",
       "<path fill=\"none\" stroke=\"black\" d=\"M829.81,-85.94C828.34,-77.59 826.75,-68.52 825.25,-60.02\"/>\n",
       "<polygon fill=\"black\" stroke=\"black\" points=\"828.67,-59.27 823.49,-50.03 821.78,-60.49 828.67,-59.27\"/>\n",
       "</g>\n",
       "<!-- 15 -->\n",
       "<g id=\"node16\" class=\"node\">\n",
       "<title>15</title>\n",
       "<polygon fill=\"#eeaf81\" stroke=\"black\" points=\"984.29,-50 886.24,-50 886.24,0 984.29,0 984.29,-50\"/>\n",
       "<text text-anchor=\"middle\" x=\"935.27\" y=\"-34.8\" font-family=\"Times,serif\" font-size=\"14.00\">samples = 15</text>\n",
       "<text text-anchor=\"middle\" x=\"935.27\" y=\"-20.8\" font-family=\"Times,serif\" font-size=\"14.00\">value = [11, 4]</text>\n",
       "<text text-anchor=\"middle\" x=\"935.27\" y=\"-6.8\" font-family=\"Times,serif\" font-size=\"14.00\">class = 0</text>\n",
       "</g>\n",
       "<!-- 13&#45;&gt;15 -->\n",
       "<g id=\"edge15\" class=\"edge\">\n",
       "<title>13&#45;&gt;15</title>\n",
       "<path fill=\"none\" stroke=\"black\" d=\"M869.4,-85.94C879.68,-76.58 890.96,-66.32 901.23,-56.97\"/>\n",
       "<polygon fill=\"black\" stroke=\"black\" points=\"903.82,-59.35 908.86,-50.03 899.11,-54.17 903.82,-59.35\"/>\n",
       "</g>\n",
       "<!-- 17 -->\n",
       "<g id=\"node18\" class=\"node\">\n",
       "<title>17</title>\n",
       "<polygon fill=\"#57ace9\" stroke=\"black\" points=\"1283.31,-250 1171.23,-250 1171.23,-186 1283.31,-186 1283.31,-250\"/>\n",
       "<text text-anchor=\"middle\" x=\"1227.27\" y=\"-234.8\" font-family=\"Times,serif\" font-size=\"14.00\">Age &lt;= 0.004</text>\n",
       "<text text-anchor=\"middle\" x=\"1227.27\" y=\"-220.8\" font-family=\"Times,serif\" font-size=\"14.00\">samples = 377</text>\n",
       "<text text-anchor=\"middle\" x=\"1227.27\" y=\"-206.8\" font-family=\"Times,serif\" font-size=\"14.00\">value = [50, 327]</text>\n",
       "<text text-anchor=\"middle\" x=\"1227.27\" y=\"-192.8\" font-family=\"Times,serif\" font-size=\"14.00\">class = 1</text>\n",
       "</g>\n",
       "<!-- 16&#45;&gt;17 -->\n",
       "<g id=\"edge17\" class=\"edge\">\n",
       "<title>16&#45;&gt;17</title>\n",
       "<path fill=\"none\" stroke=\"black\" d=\"M1227.27,-285.99C1227.27,-277.86 1227.27,-268.96 1227.27,-260.38\"/>\n",
       "<polygon fill=\"black\" stroke=\"black\" points=\"1230.77,-260.14 1227.27,-250.14 1223.77,-260.14 1230.77,-260.14\"/>\n",
       "</g>\n",
       "<!-- 24 -->\n",
       "<g id=\"node25\" class=\"node\">\n",
       "<title>24</title>\n",
       "<polygon fill=\"#e9f4fc\" stroke=\"black\" points=\"1638.64,-250 1515.89,-250 1515.89,-186 1638.64,-186 1638.64,-250\"/>\n",
       "<text text-anchor=\"middle\" x=\"1577.27\" y=\"-234.8\" font-family=\"Times,serif\" font-size=\"14.00\">Department &lt;= 1.5</text>\n",
       "<text text-anchor=\"middle\" x=\"1577.27\" y=\"-220.8\" font-family=\"Times,serif\" font-size=\"14.00\">samples = 380</text>\n",
       "<text text-anchor=\"middle\" x=\"1577.27\" y=\"-206.8\" font-family=\"Times,serif\" font-size=\"14.00\">value = [179, 201]</text>\n",
       "<text text-anchor=\"middle\" x=\"1577.27\" y=\"-192.8\" font-family=\"Times,serif\" font-size=\"14.00\">class = 1</text>\n",
       "</g>\n",
       "<!-- 16&#45;&gt;24 -->\n",
       "<g id=\"edge24\" class=\"edge\">\n",
       "<title>16&#45;&gt;24</title>\n",
       "<path fill=\"none\" stroke=\"black\" d=\"M1310.21,-293.78C1369.81,-277.09 1449.31,-254.83 1506.04,-238.94\"/>\n",
       "<polygon fill=\"black\" stroke=\"black\" points=\"1507.32,-242.22 1516,-236.15 1505.43,-235.48 1507.32,-242.22\"/>\n",
       "</g>\n",
       "<!-- 18 -->\n",
       "<g id=\"node19\" class=\"node\">\n",
       "<title>18</title>\n",
       "<polygon fill=\"#4ca6e7\" stroke=\"black\" points=\"1220.42,-150 1046.12,-150 1046.12,-86 1220.42,-86 1220.42,-150\"/>\n",
       "<text text-anchor=\"middle\" x=\"1133.27\" y=\"-134.8\" font-family=\"Times,serif\" font-size=\"14.00\">YearsAtCompany &lt;= &#45;0.767</text>\n",
       "<text text-anchor=\"middle\" x=\"1133.27\" y=\"-120.8\" font-family=\"Times,serif\" font-size=\"14.00\">samples = 289</text>\n",
       "<text text-anchor=\"middle\" x=\"1133.27\" y=\"-106.8\" font-family=\"Times,serif\" font-size=\"14.00\">value = [25, 264]</text>\n",
       "<text text-anchor=\"middle\" x=\"1133.27\" y=\"-92.8\" font-family=\"Times,serif\" font-size=\"14.00\">class = 1</text>\n",
       "</g>\n",
       "<!-- 17&#45;&gt;18 -->\n",
       "<g id=\"edge18\" class=\"edge\">\n",
       "<title>17&#45;&gt;18</title>\n",
       "<path fill=\"none\" stroke=\"black\" d=\"M1197.53,-185.99C1188.87,-176.97 1179.3,-166.99 1170.26,-157.56\"/>\n",
       "<polygon fill=\"black\" stroke=\"black\" points=\"1172.59,-154.94 1163.14,-150.14 1167.54,-159.78 1172.59,-154.94\"/>\n",
       "</g>\n",
       "<!-- 21 -->\n",
       "<g id=\"node22\" class=\"node\">\n",
       "<title>21</title>\n",
       "<polygon fill=\"#88c4ef\" stroke=\"black\" points=\"1403.93,-150 1238.61,-150 1238.61,-86 1403.93,-86 1403.93,-150\"/>\n",
       "<text text-anchor=\"middle\" x=\"1321.27\" y=\"-134.8\" font-family=\"Times,serif\" font-size=\"14.00\">MonthlyIncome &lt;= &#45;0.843</text>\n",
       "<text text-anchor=\"middle\" x=\"1321.27\" y=\"-120.8\" font-family=\"Times,serif\" font-size=\"14.00\">samples = 88</text>\n",
       "<text text-anchor=\"middle\" x=\"1321.27\" y=\"-106.8\" font-family=\"Times,serif\" font-size=\"14.00\">value = [25, 63]</text>\n",
       "<text text-anchor=\"middle\" x=\"1321.27\" y=\"-92.8\" font-family=\"Times,serif\" font-size=\"14.00\">class = 1</text>\n",
       "</g>\n",
       "<!-- 17&#45;&gt;21 -->\n",
       "<g id=\"edge21\" class=\"edge\">\n",
       "<title>17&#45;&gt;21</title>\n",
       "<path fill=\"none\" stroke=\"black\" d=\"M1257.01,-185.99C1265.67,-176.97 1275.23,-166.99 1284.28,-157.56\"/>\n",
       "<polygon fill=\"black\" stroke=\"black\" points=\"1287,-159.78 1291.4,-150.14 1281.95,-154.94 1287,-159.78\"/>\n",
       "</g>\n",
       "<!-- 19 -->\n",
       "<g id=\"node20\" class=\"node\">\n",
       "<title>19</title>\n",
       "<polygon fill=\"#3d9fe5\" stroke=\"black\" points=\"1106.28,-50 1002.26,-50 1002.26,0 1106.28,0 1106.28,-50\"/>\n",
       "<text text-anchor=\"middle\" x=\"1054.27\" y=\"-34.8\" font-family=\"Times,serif\" font-size=\"14.00\">samples = 113</text>\n",
       "<text text-anchor=\"middle\" x=\"1054.27\" y=\"-20.8\" font-family=\"Times,serif\" font-size=\"14.00\">value = [2, 111]</text>\n",
       "<text text-anchor=\"middle\" x=\"1054.27\" y=\"-6.8\" font-family=\"Times,serif\" font-size=\"14.00\">class = 1</text>\n",
       "</g>\n",
       "<!-- 18&#45;&gt;19 -->\n",
       "<g id=\"edge19\" class=\"edge\">\n",
       "<title>18&#45;&gt;19</title>\n",
       "<path fill=\"none\" stroke=\"black\" d=\"M1106.3,-85.94C1098.42,-76.86 1089.79,-66.92 1081.87,-57.8\"/>\n",
       "<polygon fill=\"black\" stroke=\"black\" points=\"1084.33,-55.29 1075.13,-50.03 1079.04,-59.88 1084.33,-55.29\"/>\n",
       "</g>\n",
       "<!-- 20 -->\n",
       "<g id=\"node21\" class=\"node\">\n",
       "<title>20</title>\n",
       "<polygon fill=\"#57ace9\" stroke=\"black\" points=\"1237.31,-50 1125.23,-50 1125.23,0 1237.31,0 1237.31,-50\"/>\n",
       "<text text-anchor=\"middle\" x=\"1181.27\" y=\"-34.8\" font-family=\"Times,serif\" font-size=\"14.00\">samples = 176</text>\n",
       "<text text-anchor=\"middle\" x=\"1181.27\" y=\"-20.8\" font-family=\"Times,serif\" font-size=\"14.00\">value = [23, 153]</text>\n",
       "<text text-anchor=\"middle\" x=\"1181.27\" y=\"-6.8\" font-family=\"Times,serif\" font-size=\"14.00\">class = 1</text>\n",
       "</g>\n",
       "<!-- 18&#45;&gt;20 -->\n",
       "<g id=\"edge20\" class=\"edge\">\n",
       "<title>18&#45;&gt;20</title>\n",
       "<path fill=\"none\" stroke=\"black\" d=\"M1149.65,-85.94C1154.25,-77.22 1159.26,-67.72 1163.91,-58.91\"/>\n",
       "<polygon fill=\"black\" stroke=\"black\" points=\"1167.02,-60.51 1168.59,-50.03 1160.83,-57.24 1167.02,-60.51\"/>\n",
       "</g>\n",
       "<!-- 22 -->\n",
       "<g id=\"node23\" class=\"node\">\n",
       "<title>22</title>\n",
       "<polygon fill=\"#399de5\" stroke=\"black\" points=\"1346.81,-50 1255.73,-50 1255.73,0 1346.81,0 1346.81,-50\"/>\n",
       "<text text-anchor=\"middle\" x=\"1301.27\" y=\"-34.8\" font-family=\"Times,serif\" font-size=\"14.00\">samples = 9</text>\n",
       "<text text-anchor=\"middle\" x=\"1301.27\" y=\"-20.8\" font-family=\"Times,serif\" font-size=\"14.00\">value = [0, 9]</text>\n",
       "<text text-anchor=\"middle\" x=\"1301.27\" y=\"-6.8\" font-family=\"Times,serif\" font-size=\"14.00\">class = 1</text>\n",
       "</g>\n",
       "<!-- 21&#45;&gt;22 -->\n",
       "<g id=\"edge22\" class=\"edge\">\n",
       "<title>21&#45;&gt;22</title>\n",
       "<path fill=\"none\" stroke=\"black\" d=\"M1314.44,-85.94C1312.61,-77.59 1310.61,-68.52 1308.75,-60.02\"/>\n",
       "<polygon fill=\"black\" stroke=\"black\" points=\"1312.11,-59.05 1306.55,-50.03 1305.28,-60.55 1312.11,-59.05\"/>\n",
       "</g>\n",
       "<!-- 23 -->\n",
       "<g id=\"node24\" class=\"node\">\n",
       "<title>23</title>\n",
       "<polygon fill=\"#95caf1\" stroke=\"black\" points=\"1470.81,-50 1365.73,-50 1365.73,0 1470.81,0 1470.81,-50\"/>\n",
       "<text text-anchor=\"middle\" x=\"1418.27\" y=\"-34.8\" font-family=\"Times,serif\" font-size=\"14.00\">samples = 79</text>\n",
       "<text text-anchor=\"middle\" x=\"1418.27\" y=\"-20.8\" font-family=\"Times,serif\" font-size=\"14.00\">value = [25, 54]</text>\n",
       "<text text-anchor=\"middle\" x=\"1418.27\" y=\"-6.8\" font-family=\"Times,serif\" font-size=\"14.00\">class = 1</text>\n",
       "</g>\n",
       "<!-- 21&#45;&gt;23 -->\n",
       "<g id=\"edge23\" class=\"edge\">\n",
       "<title>21&#45;&gt;23</title>\n",
       "<path fill=\"none\" stroke=\"black\" d=\"M1354.38,-85.94C1364.35,-76.58 1375.29,-66.32 1385.26,-56.97\"/>\n",
       "<polygon fill=\"black\" stroke=\"black\" points=\"1387.76,-59.42 1392.65,-50.03 1382.97,-54.32 1387.76,-59.42\"/>\n",
       "</g>\n",
       "<!-- 25 -->\n",
       "<g id=\"node26\" class=\"node\">\n",
       "<title>25</title>\n",
       "<polygon fill=\"#f2bf9a\" stroke=\"black\" points=\"1680.03,-150 1474.51,-150 1474.51,-86 1680.03,-86 1680.03,-150\"/>\n",
       "<text text-anchor=\"middle\" x=\"1577.27\" y=\"-134.8\" font-family=\"Times,serif\" font-size=\"14.00\">NumCompaniesWorked &lt;= 1.419</text>\n",
       "<text text-anchor=\"middle\" x=\"1577.27\" y=\"-120.8\" font-family=\"Times,serif\" font-size=\"14.00\">samples = 182</text>\n",
       "<text text-anchor=\"middle\" x=\"1577.27\" y=\"-106.8\" font-family=\"Times,serif\" font-size=\"14.00\">value = [122, 60]</text>\n",
       "<text text-anchor=\"middle\" x=\"1577.27\" y=\"-92.8\" font-family=\"Times,serif\" font-size=\"14.00\">class = 0</text>\n",
       "</g>\n",
       "<!-- 24&#45;&gt;25 -->\n",
       "<g id=\"edge25\" class=\"edge\">\n",
       "<title>24&#45;&gt;25</title>\n",
       "<path fill=\"none\" stroke=\"black\" d=\"M1577.27,-185.99C1577.27,-177.86 1577.27,-168.96 1577.27,-160.38\"/>\n",
       "<polygon fill=\"black\" stroke=\"black\" points=\"1580.77,-160.14 1577.27,-150.14 1573.77,-160.14 1580.77,-160.14\"/>\n",
       "</g>\n",
       "<!-- 28 -->\n",
       "<g id=\"node29\" class=\"node\">\n",
       "<title>28</title>\n",
       "<polygon fill=\"#89c5f0\" stroke=\"black\" points=\"1861.99,-150 1730.54,-150 1730.54,-86 1861.99,-86 1861.99,-150\"/>\n",
       "<text text-anchor=\"middle\" x=\"1796.27\" y=\"-134.8\" font-family=\"Times,serif\" font-size=\"14.00\">MaritalStatus &lt;= 1.5</text>\n",
       "<text text-anchor=\"middle\" x=\"1796.27\" y=\"-120.8\" font-family=\"Times,serif\" font-size=\"14.00\">samples = 198</text>\n",
       "<text text-anchor=\"middle\" x=\"1796.27\" y=\"-106.8\" font-family=\"Times,serif\" font-size=\"14.00\">value = [57, 141]</text>\n",
       "<text text-anchor=\"middle\" x=\"1796.27\" y=\"-92.8\" font-family=\"Times,serif\" font-size=\"14.00\">class = 1</text>\n",
       "</g>\n",
       "<!-- 24&#45;&gt;28 -->\n",
       "<g id=\"edge28\" class=\"edge\">\n",
       "<title>24&#45;&gt;28</title>\n",
       "<path fill=\"none\" stroke=\"black\" d=\"M1638.56,-189.57C1664.15,-178.12 1694.11,-164.71 1721.01,-152.68\"/>\n",
       "<polygon fill=\"black\" stroke=\"black\" points=\"1722.69,-155.76 1730.39,-148.48 1719.83,-149.37 1722.69,-155.76\"/>\n",
       "</g>\n",
       "<!-- 26 -->\n",
       "<g id=\"node27\" class=\"node\">\n",
       "<title>26</title>\n",
       "<polygon fill=\"#eca36e\" stroke=\"black\" points=\"1601.29,-50 1489.24,-50 1489.24,0 1601.29,0 1601.29,-50\"/>\n",
       "<text text-anchor=\"middle\" x=\"1545.27\" y=\"-34.8\" font-family=\"Times,serif\" font-size=\"14.00\">samples = 142</text>\n",
       "<text text-anchor=\"middle\" x=\"1545.27\" y=\"-20.8\" font-family=\"Times,serif\" font-size=\"14.00\">value = [112, 30]</text>\n",
       "<text text-anchor=\"middle\" x=\"1545.27\" y=\"-6.8\" font-family=\"Times,serif\" font-size=\"14.00\">class = 0</text>\n",
       "</g>\n",
       "<!-- 25&#45;&gt;26 -->\n",
       "<g id=\"edge26\" class=\"edge\">\n",
       "<title>25&#45;&gt;26</title>\n",
       "<path fill=\"none\" stroke=\"black\" d=\"M1566.35,-85.94C1563.35,-77.41 1560.08,-68.12 1557.04,-59.47\"/>\n",
       "<polygon fill=\"black\" stroke=\"black\" points=\"1560.34,-58.3 1553.72,-50.03 1553.73,-60.62 1560.34,-58.3\"/>\n",
       "</g>\n",
       "<!-- 27 -->\n",
       "<g id=\"node28\" class=\"node\">\n",
       "<title>27</title>\n",
       "<polygon fill=\"#7bbeee\" stroke=\"black\" points=\"1724.81,-50 1619.73,-50 1619.73,0 1724.81,0 1724.81,-50\"/>\n",
       "<text text-anchor=\"middle\" x=\"1672.27\" y=\"-34.8\" font-family=\"Times,serif\" font-size=\"14.00\">samples = 40</text>\n",
       "<text text-anchor=\"middle\" x=\"1672.27\" y=\"-20.8\" font-family=\"Times,serif\" font-size=\"14.00\">value = [10, 30]</text>\n",
       "<text text-anchor=\"middle\" x=\"1672.27\" y=\"-6.8\" font-family=\"Times,serif\" font-size=\"14.00\">class = 1</text>\n",
       "</g>\n",
       "<!-- 25&#45;&gt;27 -->\n",
       "<g id=\"edge27\" class=\"edge\">\n",
       "<title>25&#45;&gt;27</title>\n",
       "<path fill=\"none\" stroke=\"black\" d=\"M1609.7,-85.94C1619.46,-76.58 1630.18,-66.32 1639.94,-56.97\"/>\n",
       "<polygon fill=\"black\" stroke=\"black\" points=\"1642.38,-59.48 1647.18,-50.03 1637.54,-54.42 1642.38,-59.48\"/>\n",
       "</g>\n",
       "<!-- 29 -->\n",
       "<g id=\"node30\" class=\"node\">\n",
       "<title>29</title>\n",
       "<polygon fill=\"#ffffff\" stroke=\"black\" points=\"1848.81,-50 1743.73,-50 1743.73,0 1848.81,0 1848.81,-50\"/>\n",
       "<text text-anchor=\"middle\" x=\"1796.27\" y=\"-34.8\" font-family=\"Times,serif\" font-size=\"14.00\">samples = 92</text>\n",
       "<text text-anchor=\"middle\" x=\"1796.27\" y=\"-20.8\" font-family=\"Times,serif\" font-size=\"14.00\">value = [46, 46]</text>\n",
       "<text text-anchor=\"middle\" x=\"1796.27\" y=\"-6.8\" font-family=\"Times,serif\" font-size=\"14.00\">class = 0</text>\n",
       "</g>\n",
       "<!-- 28&#45;&gt;29 -->\n",
       "<g id=\"edge29\" class=\"edge\">\n",
       "<title>28&#45;&gt;29</title>\n",
       "<path fill=\"none\" stroke=\"black\" d=\"M1796.27,-85.94C1796.27,-77.68 1796.27,-68.72 1796.27,-60.31\"/>\n",
       "<polygon fill=\"black\" stroke=\"black\" points=\"1799.77,-60.03 1796.27,-50.03 1792.77,-60.03 1799.77,-60.03\"/>\n",
       "</g>\n",
       "<!-- 30 -->\n",
       "<g id=\"node31\" class=\"node\">\n",
       "<title>30</title>\n",
       "<polygon fill=\"#50a8e8\" stroke=\"black\" points=\"1971.79,-50 1866.74,-50 1866.74,0 1971.79,0 1971.79,-50\"/>\n",
       "<text text-anchor=\"middle\" x=\"1919.27\" y=\"-34.8\" font-family=\"Times,serif\" font-size=\"14.00\">samples = 106</text>\n",
       "<text text-anchor=\"middle\" x=\"1919.27\" y=\"-20.8\" font-family=\"Times,serif\" font-size=\"14.00\">value = [11, 95]</text>\n",
       "<text text-anchor=\"middle\" x=\"1919.27\" y=\"-6.8\" font-family=\"Times,serif\" font-size=\"14.00\">class = 1</text>\n",
       "</g>\n",
       "<!-- 28&#45;&gt;30 -->\n",
       "<g id=\"edge30\" class=\"edge\">\n",
       "<title>28&#45;&gt;30</title>\n",
       "<path fill=\"none\" stroke=\"black\" d=\"M1838.25,-85.94C1851.27,-76.31 1865.59,-65.72 1878.52,-56.15\"/>\n",
       "<polygon fill=\"black\" stroke=\"black\" points=\"1880.83,-58.79 1886.79,-50.03 1876.67,-53.16 1880.83,-58.79\"/>\n",
       "</g>\n",
       "</g>\n",
       "</svg>\n"
      ],
      "text/plain": [
       "<graphviz.files.Source at 0x120e1c190>"
      ]
     },
     "execution_count": 101,
     "metadata": {},
     "output_type": "execute_result"
    }
   ],
   "source": [
    "import graphviz\n",
    "with open(\"decision_tree_orig_final.dot\") as f:\n",
    "    dot_graph = f.read()\n",
    "graphviz.Source(dot_graph)"
   ]
  },
  {
   "cell_type": "code",
   "execution_count": 48,
   "metadata": {},
   "outputs": [
    {
     "data": {
      "application/vnd.plotly.v1+json": {
       "config": {
        "linkText": "Export to plot.ly",
        "plotlyServerURL": "https://plot.ly",
        "showLink": false
       },
       "data": [
        {
         "marker": {
          "color": [
           "gold",
           "lightgreen",
           "lightcoral",
           "lightskyblue"
          ],
          "line": {
           "color": "#000000",
           "width": 1.5
          }
         },
         "opacity": 0.8,
         "orientation": "h",
         "text": [
          0.7895,
          0.8182,
          0.7377,
          0.7759
         ],
         "textposition": "auto",
         "type": "bar",
         "x": [
          0.7894736842105263,
          0.8181818181818182,
          0.7377049180327869,
          0.7758620689655172
         ],
         "xaxis": "x",
         "y": [
          "Accuracy",
          "Precision",
          "Recall",
          "F1_score"
         ],
         "yaxis": "y"
        },
        {
         "fill": "tozeroy",
         "line": {
          "color": "rgb(22, 96, 167)",
          "width": 2
         },
         "name": "Roc : ",
         "type": "scatter",
         "x": [
          0,
          0.016,
          0.02,
          0.028,
          0.036,
          0.044,
          0.064,
          0.084,
          0.108,
          0.12,
          0.132,
          0.152,
          0.16,
          0.172,
          0.188,
          0.348,
          0.376,
          0.408,
          0.412,
          0.48,
          0.764,
          0.86,
          1
         ],
         "xaxis": "x2",
         "y": [
          0,
          0.18442622950819673,
          0.21311475409836064,
          0.23770491803278687,
          0.3237704918032787,
          0.3360655737704918,
          0.35655737704918034,
          0.46311475409836067,
          0.5450819672131147,
          0.5737704918032787,
          0.6475409836065574,
          0.7295081967213115,
          0.7377049180327869,
          0.7663934426229508,
          0.7663934426229508,
          0.8278688524590164,
          0.8401639344262295,
          0.8565573770491803,
          0.8565573770491803,
          0.8975409836065574,
          0.9672131147540983,
          1,
          1
         ],
         "yaxis": "y2"
        },
        {
         "line": {
          "color": "black",
          "dash": "dot",
          "width": 1.5
         },
         "type": "scatter",
         "x": [
          0,
          1
         ],
         "xaxis": "x2",
         "y": [
          0,
          1
         ],
         "yaxis": "y2"
        },
        {
         "fill": "tozeroy",
         "line": {
          "color": "lightcoral",
          "width": 2
         },
         "name": "Precision[0.53159041 0.55269321 0.6460177  0.66987179 0.67202572 0.68561873\n 0.69896194 0.7991453  0.81304348 0.81818182 0.82407407 0.82722513\n 0.82352941 0.83125    0.84328358 0.84466019 0.88172043 0.89772727\n 0.89230769 0.9122807  0.91836735 1.        ]",
         "type": "scatter",
         "x": [
          1,
          0.9672131147540983,
          0.8975409836065574,
          0.8565573770491803,
          0.8565573770491803,
          0.8401639344262295,
          0.8278688524590164,
          0.7663934426229508,
          0.7663934426229508,
          0.7377049180327869,
          0.7295081967213115,
          0.6475409836065574,
          0.5737704918032787,
          0.5450819672131147,
          0.46311475409836067,
          0.35655737704918034,
          0.3360655737704918,
          0.3237704918032787,
          0.23770491803278687,
          0.21311475409836064,
          0.18442622950819673,
          0
         ],
         "xaxis": "x3",
         "y": [
          0.5315904139433552,
          0.5526932084309133,
          0.6460176991150443,
          0.6698717948717948,
          0.6720257234726688,
          0.68561872909699,
          0.698961937716263,
          0.7991452991452992,
          0.8130434782608695,
          0.8181818181818182,
          0.8240740740740741,
          0.8272251308900523,
          0.8235294117647058,
          0.83125,
          0.8432835820895522,
          0.8446601941747572,
          0.8817204301075269,
          0.8977272727272727,
          0.8923076923076924,
          0.9122807017543859,
          0.9183673469387755,
          1
         ],
         "yaxis": "y3"
        }
       ],
       "layout": {
        "annotations": [
         {
          "font": {
           "size": 16
          },
          "showarrow": false,
          "text": "Metrics",
          "x": 0.5,
          "xanchor": "center",
          "xref": "paper",
          "y": 1,
          "yanchor": "bottom",
          "yref": "paper"
         },
         {
          "font": {
           "size": 16
          },
          "showarrow": false,
          "text": "ROC curve (0.831)",
          "x": 0.5,
          "xanchor": "center",
          "xref": "paper",
          "y": 0.6111111111111112,
          "yanchor": "bottom",
          "yref": "paper"
         },
         {
          "font": {
           "size": 16
          },
          "showarrow": false,
          "text": "Precision - Recall curve",
          "x": 0.5,
          "xanchor": "center",
          "xref": "paper",
          "y": 0.22222222222222224,
          "yanchor": "bottom",
          "yref": "paper"
         }
        ],
        "autosize": false,
        "height": 900,
        "margin": {
         "b": 195
        },
        "paper_bgcolor": "rgba(240,240,240, 0.95)",
        "plot_bgcolor": "rgba(240,240,240, 0.95)",
        "showlegend": false,
        "template": {
         "data": {
          "bar": [
           {
            "error_x": {
             "color": "#2a3f5f"
            },
            "error_y": {
             "color": "#2a3f5f"
            },
            "marker": {
             "line": {
              "color": "#E5ECF6",
              "width": 0.5
             }
            },
            "type": "bar"
           }
          ],
          "barpolar": [
           {
            "marker": {
             "line": {
              "color": "#E5ECF6",
              "width": 0.5
             }
            },
            "type": "barpolar"
           }
          ],
          "carpet": [
           {
            "aaxis": {
             "endlinecolor": "#2a3f5f",
             "gridcolor": "white",
             "linecolor": "white",
             "minorgridcolor": "white",
             "startlinecolor": "#2a3f5f"
            },
            "baxis": {
             "endlinecolor": "#2a3f5f",
             "gridcolor": "white",
             "linecolor": "white",
             "minorgridcolor": "white",
             "startlinecolor": "#2a3f5f"
            },
            "type": "carpet"
           }
          ],
          "choropleth": [
           {
            "colorbar": {
             "outlinewidth": 0,
             "ticks": ""
            },
            "type": "choropleth"
           }
          ],
          "contour": [
           {
            "colorbar": {
             "outlinewidth": 0,
             "ticks": ""
            },
            "colorscale": [
             [
              0,
              "#0d0887"
             ],
             [
              0.1111111111111111,
              "#46039f"
             ],
             [
              0.2222222222222222,
              "#7201a8"
             ],
             [
              0.3333333333333333,
              "#9c179e"
             ],
             [
              0.4444444444444444,
              "#bd3786"
             ],
             [
              0.5555555555555556,
              "#d8576b"
             ],
             [
              0.6666666666666666,
              "#ed7953"
             ],
             [
              0.7777777777777778,
              "#fb9f3a"
             ],
             [
              0.8888888888888888,
              "#fdca26"
             ],
             [
              1,
              "#f0f921"
             ]
            ],
            "type": "contour"
           }
          ],
          "contourcarpet": [
           {
            "colorbar": {
             "outlinewidth": 0,
             "ticks": ""
            },
            "type": "contourcarpet"
           }
          ],
          "heatmap": [
           {
            "colorbar": {
             "outlinewidth": 0,
             "ticks": ""
            },
            "colorscale": [
             [
              0,
              "#0d0887"
             ],
             [
              0.1111111111111111,
              "#46039f"
             ],
             [
              0.2222222222222222,
              "#7201a8"
             ],
             [
              0.3333333333333333,
              "#9c179e"
             ],
             [
              0.4444444444444444,
              "#bd3786"
             ],
             [
              0.5555555555555556,
              "#d8576b"
             ],
             [
              0.6666666666666666,
              "#ed7953"
             ],
             [
              0.7777777777777778,
              "#fb9f3a"
             ],
             [
              0.8888888888888888,
              "#fdca26"
             ],
             [
              1,
              "#f0f921"
             ]
            ],
            "type": "heatmap"
           }
          ],
          "heatmapgl": [
           {
            "colorbar": {
             "outlinewidth": 0,
             "ticks": ""
            },
            "colorscale": [
             [
              0,
              "#0d0887"
             ],
             [
              0.1111111111111111,
              "#46039f"
             ],
             [
              0.2222222222222222,
              "#7201a8"
             ],
             [
              0.3333333333333333,
              "#9c179e"
             ],
             [
              0.4444444444444444,
              "#bd3786"
             ],
             [
              0.5555555555555556,
              "#d8576b"
             ],
             [
              0.6666666666666666,
              "#ed7953"
             ],
             [
              0.7777777777777778,
              "#fb9f3a"
             ],
             [
              0.8888888888888888,
              "#fdca26"
             ],
             [
              1,
              "#f0f921"
             ]
            ],
            "type": "heatmapgl"
           }
          ],
          "histogram": [
           {
            "marker": {
             "colorbar": {
              "outlinewidth": 0,
              "ticks": ""
             }
            },
            "type": "histogram"
           }
          ],
          "histogram2d": [
           {
            "colorbar": {
             "outlinewidth": 0,
             "ticks": ""
            },
            "colorscale": [
             [
              0,
              "#0d0887"
             ],
             [
              0.1111111111111111,
              "#46039f"
             ],
             [
              0.2222222222222222,
              "#7201a8"
             ],
             [
              0.3333333333333333,
              "#9c179e"
             ],
             [
              0.4444444444444444,
              "#bd3786"
             ],
             [
              0.5555555555555556,
              "#d8576b"
             ],
             [
              0.6666666666666666,
              "#ed7953"
             ],
             [
              0.7777777777777778,
              "#fb9f3a"
             ],
             [
              0.8888888888888888,
              "#fdca26"
             ],
             [
              1,
              "#f0f921"
             ]
            ],
            "type": "histogram2d"
           }
          ],
          "histogram2dcontour": [
           {
            "colorbar": {
             "outlinewidth": 0,
             "ticks": ""
            },
            "colorscale": [
             [
              0,
              "#0d0887"
             ],
             [
              0.1111111111111111,
              "#46039f"
             ],
             [
              0.2222222222222222,
              "#7201a8"
             ],
             [
              0.3333333333333333,
              "#9c179e"
             ],
             [
              0.4444444444444444,
              "#bd3786"
             ],
             [
              0.5555555555555556,
              "#d8576b"
             ],
             [
              0.6666666666666666,
              "#ed7953"
             ],
             [
              0.7777777777777778,
              "#fb9f3a"
             ],
             [
              0.8888888888888888,
              "#fdca26"
             ],
             [
              1,
              "#f0f921"
             ]
            ],
            "type": "histogram2dcontour"
           }
          ],
          "mesh3d": [
           {
            "colorbar": {
             "outlinewidth": 0,
             "ticks": ""
            },
            "type": "mesh3d"
           }
          ],
          "parcoords": [
           {
            "line": {
             "colorbar": {
              "outlinewidth": 0,
              "ticks": ""
             }
            },
            "type": "parcoords"
           }
          ],
          "pie": [
           {
            "automargin": true,
            "type": "pie"
           }
          ],
          "scatter": [
           {
            "marker": {
             "colorbar": {
              "outlinewidth": 0,
              "ticks": ""
             }
            },
            "type": "scatter"
           }
          ],
          "scatter3d": [
           {
            "line": {
             "colorbar": {
              "outlinewidth": 0,
              "ticks": ""
             }
            },
            "marker": {
             "colorbar": {
              "outlinewidth": 0,
              "ticks": ""
             }
            },
            "type": "scatter3d"
           }
          ],
          "scattercarpet": [
           {
            "marker": {
             "colorbar": {
              "outlinewidth": 0,
              "ticks": ""
             }
            },
            "type": "scattercarpet"
           }
          ],
          "scattergeo": [
           {
            "marker": {
             "colorbar": {
              "outlinewidth": 0,
              "ticks": ""
             }
            },
            "type": "scattergeo"
           }
          ],
          "scattergl": [
           {
            "marker": {
             "colorbar": {
              "outlinewidth": 0,
              "ticks": ""
             }
            },
            "type": "scattergl"
           }
          ],
          "scattermapbox": [
           {
            "marker": {
             "colorbar": {
              "outlinewidth": 0,
              "ticks": ""
             }
            },
            "type": "scattermapbox"
           }
          ],
          "scatterpolar": [
           {
            "marker": {
             "colorbar": {
              "outlinewidth": 0,
              "ticks": ""
             }
            },
            "type": "scatterpolar"
           }
          ],
          "scatterpolargl": [
           {
            "marker": {
             "colorbar": {
              "outlinewidth": 0,
              "ticks": ""
             }
            },
            "type": "scatterpolargl"
           }
          ],
          "scatterternary": [
           {
            "marker": {
             "colorbar": {
              "outlinewidth": 0,
              "ticks": ""
             }
            },
            "type": "scatterternary"
           }
          ],
          "surface": [
           {
            "colorbar": {
             "outlinewidth": 0,
             "ticks": ""
            },
            "colorscale": [
             [
              0,
              "#0d0887"
             ],
             [
              0.1111111111111111,
              "#46039f"
             ],
             [
              0.2222222222222222,
              "#7201a8"
             ],
             [
              0.3333333333333333,
              "#9c179e"
             ],
             [
              0.4444444444444444,
              "#bd3786"
             ],
             [
              0.5555555555555556,
              "#d8576b"
             ],
             [
              0.6666666666666666,
              "#ed7953"
             ],
             [
              0.7777777777777778,
              "#fb9f3a"
             ],
             [
              0.8888888888888888,
              "#fdca26"
             ],
             [
              1,
              "#f0f921"
             ]
            ],
            "type": "surface"
           }
          ],
          "table": [
           {
            "cells": {
             "fill": {
              "color": "#EBF0F8"
             },
             "line": {
              "color": "white"
             }
            },
            "header": {
             "fill": {
              "color": "#C8D4E3"
             },
             "line": {
              "color": "white"
             }
            },
            "type": "table"
           }
          ]
         },
         "layout": {
          "annotationdefaults": {
           "arrowcolor": "#2a3f5f",
           "arrowhead": 0,
           "arrowwidth": 1
          },
          "coloraxis": {
           "colorbar": {
            "outlinewidth": 0,
            "ticks": ""
           }
          },
          "colorscale": {
           "diverging": [
            [
             0,
             "#8e0152"
            ],
            [
             0.1,
             "#c51b7d"
            ],
            [
             0.2,
             "#de77ae"
            ],
            [
             0.3,
             "#f1b6da"
            ],
            [
             0.4,
             "#fde0ef"
            ],
            [
             0.5,
             "#f7f7f7"
            ],
            [
             0.6,
             "#e6f5d0"
            ],
            [
             0.7,
             "#b8e186"
            ],
            [
             0.8,
             "#7fbc41"
            ],
            [
             0.9,
             "#4d9221"
            ],
            [
             1,
             "#276419"
            ]
           ],
           "sequential": [
            [
             0,
             "#0d0887"
            ],
            [
             0.1111111111111111,
             "#46039f"
            ],
            [
             0.2222222222222222,
             "#7201a8"
            ],
            [
             0.3333333333333333,
             "#9c179e"
            ],
            [
             0.4444444444444444,
             "#bd3786"
            ],
            [
             0.5555555555555556,
             "#d8576b"
            ],
            [
             0.6666666666666666,
             "#ed7953"
            ],
            [
             0.7777777777777778,
             "#fb9f3a"
            ],
            [
             0.8888888888888888,
             "#fdca26"
            ],
            [
             1,
             "#f0f921"
            ]
           ],
           "sequentialminus": [
            [
             0,
             "#0d0887"
            ],
            [
             0.1111111111111111,
             "#46039f"
            ],
            [
             0.2222222222222222,
             "#7201a8"
            ],
            [
             0.3333333333333333,
             "#9c179e"
            ],
            [
             0.4444444444444444,
             "#bd3786"
            ],
            [
             0.5555555555555556,
             "#d8576b"
            ],
            [
             0.6666666666666666,
             "#ed7953"
            ],
            [
             0.7777777777777778,
             "#fb9f3a"
            ],
            [
             0.8888888888888888,
             "#fdca26"
            ],
            [
             1,
             "#f0f921"
            ]
           ]
          },
          "colorway": [
           "#636efa",
           "#EF553B",
           "#00cc96",
           "#ab63fa",
           "#FFA15A",
           "#19d3f3",
           "#FF6692",
           "#B6E880",
           "#FF97FF",
           "#FECB52"
          ],
          "font": {
           "color": "#2a3f5f"
          },
          "geo": {
           "bgcolor": "white",
           "lakecolor": "white",
           "landcolor": "#E5ECF6",
           "showlakes": true,
           "showland": true,
           "subunitcolor": "white"
          },
          "hoverlabel": {
           "align": "left"
          },
          "hovermode": "closest",
          "mapbox": {
           "style": "light"
          },
          "paper_bgcolor": "white",
          "plot_bgcolor": "#E5ECF6",
          "polar": {
           "angularaxis": {
            "gridcolor": "white",
            "linecolor": "white",
            "ticks": ""
           },
           "bgcolor": "#E5ECF6",
           "radialaxis": {
            "gridcolor": "white",
            "linecolor": "white",
            "ticks": ""
           }
          },
          "scene": {
           "xaxis": {
            "backgroundcolor": "#E5ECF6",
            "gridcolor": "white",
            "gridwidth": 2,
            "linecolor": "white",
            "showbackground": true,
            "ticks": "",
            "zerolinecolor": "white"
           },
           "yaxis": {
            "backgroundcolor": "#E5ECF6",
            "gridcolor": "white",
            "gridwidth": 2,
            "linecolor": "white",
            "showbackground": true,
            "ticks": "",
            "zerolinecolor": "white"
           },
           "zaxis": {
            "backgroundcolor": "#E5ECF6",
            "gridcolor": "white",
            "gridwidth": 2,
            "linecolor": "white",
            "showbackground": true,
            "ticks": "",
            "zerolinecolor": "white"
           }
          },
          "shapedefaults": {
           "line": {
            "color": "#2a3f5f"
           }
          },
          "ternary": {
           "aaxis": {
            "gridcolor": "white",
            "linecolor": "white",
            "ticks": ""
           },
           "baxis": {
            "gridcolor": "white",
            "linecolor": "white",
            "ticks": ""
           },
           "bgcolor": "#E5ECF6",
           "caxis": {
            "gridcolor": "white",
            "linecolor": "white",
            "ticks": ""
           }
          },
          "title": {
           "x": 0.05
          },
          "xaxis": {
           "automargin": true,
           "gridcolor": "white",
           "linecolor": "white",
           "ticks": "",
           "title": {
            "standoff": 15
           },
           "zerolinecolor": "white",
           "zerolinewidth": 2
          },
          "yaxis": {
           "automargin": true,
           "gridcolor": "white",
           "linecolor": "white",
           "ticks": "",
           "title": {
            "standoff": 15
           },
           "zerolinecolor": "white",
           "zerolinewidth": 2
          }
         }
        },
        "title": {
         "font": {
          "size": 14
         },
         "text": "<b>Model performance</b><br>tree_clf"
        },
        "width": 450,
        "xaxis": {
         "anchor": "y",
         "domain": [
          0,
          1
         ]
        },
        "xaxis2": {
         "anchor": "y2",
         "domain": [
          0,
          1
         ],
         "title": {
          "text": "false positive rate"
         }
        },
        "xaxis3": {
         "anchor": "y3",
         "domain": [
          0,
          1
         ],
         "range": [
          0,
          1.05
         ],
         "title": {
          "text": "recall"
         }
        },
        "yaxis": {
         "anchor": "x",
         "domain": [
          0.7777777777777778,
          1
         ]
        },
        "yaxis2": {
         "anchor": "x2",
         "domain": [
          0.3888888888888889,
          0.6111111111111112
         ],
         "title": {
          "text": "true positive rate"
         }
        },
        "yaxis3": {
         "anchor": "x3",
         "domain": [
          0,
          0.22222222222222224
         ],
         "range": [
          0,
          1.05
         ],
         "title": {
          "text": "precision"
         }
        }
       }
      },
      "text/html": [
       "<div>\n",
       "        \n",
       "        \n",
       "            <div id=\"2105af58-7f94-4c3c-86fd-e7d137073cce\" class=\"plotly-graph-div\" style=\"height:900px; width:450px;\"></div>\n",
       "            <script type=\"text/javascript\">\n",
       "                require([\"plotly\"], function(Plotly) {\n",
       "                    window.PLOTLYENV=window.PLOTLYENV || {};\n",
       "                    \n",
       "                if (document.getElementById(\"2105af58-7f94-4c3c-86fd-e7d137073cce\")) {\n",
       "                    Plotly.newPlot(\n",
       "                        '2105af58-7f94-4c3c-86fd-e7d137073cce',\n",
       "                        [{\"marker\": {\"color\": [\"gold\", \"lightgreen\", \"lightcoral\", \"lightskyblue\"], \"line\": {\"color\": \"#000000\", \"width\": 1.5}}, \"opacity\": 0.8, \"orientation\": \"h\", \"text\": [0.7895, 0.8182, 0.7377, 0.7759], \"textposition\": \"auto\", \"type\": \"bar\", \"x\": [0.7894736842105263, 0.8181818181818182, 0.7377049180327869, 0.7758620689655172], \"xaxis\": \"x\", \"y\": [\"Accuracy\", \"Precision\", \"Recall\", \"F1_score\"], \"yaxis\": \"y\"}, {\"fill\": \"tozeroy\", \"line\": {\"color\": \"rgb(22, 96, 167)\", \"width\": 2}, \"name\": \"Roc : \", \"type\": \"scatter\", \"x\": [0.0, 0.016, 0.02, 0.028, 0.036, 0.044, 0.064, 0.084, 0.108, 0.12, 0.132, 0.152, 0.16, 0.172, 0.188, 0.348, 0.376, 0.408, 0.412, 0.48, 0.764, 0.86, 1.0], \"xaxis\": \"x2\", \"y\": [0.0, 0.18442622950819673, 0.21311475409836064, 0.23770491803278687, 0.3237704918032787, 0.3360655737704918, 0.35655737704918034, 0.46311475409836067, 0.5450819672131147, 0.5737704918032787, 0.6475409836065574, 0.7295081967213115, 0.7377049180327869, 0.7663934426229508, 0.7663934426229508, 0.8278688524590164, 0.8401639344262295, 0.8565573770491803, 0.8565573770491803, 0.8975409836065574, 0.9672131147540983, 1.0, 1.0], \"yaxis\": \"y2\"}, {\"line\": {\"color\": \"black\", \"dash\": \"dot\", \"width\": 1.5}, \"type\": \"scatter\", \"x\": [0, 1], \"xaxis\": \"x2\", \"y\": [0, 1], \"yaxis\": \"y2\"}, {\"fill\": \"tozeroy\", \"line\": {\"color\": \"lightcoral\", \"width\": 2}, \"name\": \"Precision[0.53159041 0.55269321 0.6460177  0.66987179 0.67202572 0.68561873\\n 0.69896194 0.7991453  0.81304348 0.81818182 0.82407407 0.82722513\\n 0.82352941 0.83125    0.84328358 0.84466019 0.88172043 0.89772727\\n 0.89230769 0.9122807  0.91836735 1.        ]\", \"type\": \"scatter\", \"x\": [1.0, 0.9672131147540983, 0.8975409836065574, 0.8565573770491803, 0.8565573770491803, 0.8401639344262295, 0.8278688524590164, 0.7663934426229508, 0.7663934426229508, 0.7377049180327869, 0.7295081967213115, 0.6475409836065574, 0.5737704918032787, 0.5450819672131147, 0.46311475409836067, 0.35655737704918034, 0.3360655737704918, 0.3237704918032787, 0.23770491803278687, 0.21311475409836064, 0.18442622950819673, 0.0], \"xaxis\": \"x3\", \"y\": [0.5315904139433552, 0.5526932084309133, 0.6460176991150443, 0.6698717948717948, 0.6720257234726688, 0.68561872909699, 0.698961937716263, 0.7991452991452992, 0.8130434782608695, 0.8181818181818182, 0.8240740740740741, 0.8272251308900523, 0.8235294117647058, 0.83125, 0.8432835820895522, 0.8446601941747572, 0.8817204301075269, 0.8977272727272727, 0.8923076923076924, 0.9122807017543859, 0.9183673469387755, 1.0], \"yaxis\": \"y3\"}],\n",
       "                        {\"annotations\": [{\"font\": {\"size\": 16}, \"showarrow\": false, \"text\": \"Metrics\", \"x\": 0.5, \"xanchor\": \"center\", \"xref\": \"paper\", \"y\": 1.0, \"yanchor\": \"bottom\", \"yref\": \"paper\"}, {\"font\": {\"size\": 16}, \"showarrow\": false, \"text\": \"ROC curve (0.831)\", \"x\": 0.5, \"xanchor\": \"center\", \"xref\": \"paper\", \"y\": 0.6111111111111112, \"yanchor\": \"bottom\", \"yref\": \"paper\"}, {\"font\": {\"size\": 16}, \"showarrow\": false, \"text\": \"Precision - Recall curve\", \"x\": 0.5, \"xanchor\": \"center\", \"xref\": \"paper\", \"y\": 0.22222222222222224, \"yanchor\": \"bottom\", \"yref\": \"paper\"}], \"autosize\": false, \"height\": 900, \"margin\": {\"b\": 195}, \"paper_bgcolor\": \"rgba(240,240,240, 0.95)\", \"plot_bgcolor\": \"rgba(240,240,240, 0.95)\", \"showlegend\": false, \"template\": {\"data\": {\"bar\": [{\"error_x\": {\"color\": \"#2a3f5f\"}, \"error_y\": {\"color\": \"#2a3f5f\"}, \"marker\": {\"line\": {\"color\": \"#E5ECF6\", \"width\": 0.5}}, \"type\": \"bar\"}], \"barpolar\": [{\"marker\": {\"line\": {\"color\": \"#E5ECF6\", \"width\": 0.5}}, \"type\": \"barpolar\"}], \"carpet\": [{\"aaxis\": {\"endlinecolor\": \"#2a3f5f\", \"gridcolor\": \"white\", \"linecolor\": \"white\", \"minorgridcolor\": \"white\", \"startlinecolor\": \"#2a3f5f\"}, \"baxis\": {\"endlinecolor\": \"#2a3f5f\", \"gridcolor\": \"white\", \"linecolor\": \"white\", \"minorgridcolor\": \"white\", \"startlinecolor\": \"#2a3f5f\"}, \"type\": \"carpet\"}], \"choropleth\": [{\"colorbar\": {\"outlinewidth\": 0, \"ticks\": \"\"}, \"type\": \"choropleth\"}], \"contour\": [{\"colorbar\": {\"outlinewidth\": 0, \"ticks\": \"\"}, \"colorscale\": [[0.0, \"#0d0887\"], [0.1111111111111111, \"#46039f\"], [0.2222222222222222, \"#7201a8\"], [0.3333333333333333, \"#9c179e\"], [0.4444444444444444, \"#bd3786\"], [0.5555555555555556, \"#d8576b\"], [0.6666666666666666, \"#ed7953\"], [0.7777777777777778, \"#fb9f3a\"], [0.8888888888888888, \"#fdca26\"], [1.0, \"#f0f921\"]], \"type\": \"contour\"}], \"contourcarpet\": [{\"colorbar\": {\"outlinewidth\": 0, \"ticks\": \"\"}, \"type\": \"contourcarpet\"}], \"heatmap\": [{\"colorbar\": {\"outlinewidth\": 0, \"ticks\": \"\"}, \"colorscale\": [[0.0, \"#0d0887\"], [0.1111111111111111, \"#46039f\"], [0.2222222222222222, \"#7201a8\"], [0.3333333333333333, \"#9c179e\"], [0.4444444444444444, \"#bd3786\"], [0.5555555555555556, \"#d8576b\"], [0.6666666666666666, \"#ed7953\"], [0.7777777777777778, \"#fb9f3a\"], [0.8888888888888888, \"#fdca26\"], [1.0, \"#f0f921\"]], \"type\": \"heatmap\"}], \"heatmapgl\": [{\"colorbar\": {\"outlinewidth\": 0, \"ticks\": \"\"}, \"colorscale\": [[0.0, \"#0d0887\"], [0.1111111111111111, \"#46039f\"], [0.2222222222222222, \"#7201a8\"], [0.3333333333333333, \"#9c179e\"], [0.4444444444444444, \"#bd3786\"], [0.5555555555555556, \"#d8576b\"], [0.6666666666666666, \"#ed7953\"], [0.7777777777777778, \"#fb9f3a\"], [0.8888888888888888, \"#fdca26\"], [1.0, \"#f0f921\"]], \"type\": \"heatmapgl\"}], \"histogram\": [{\"marker\": {\"colorbar\": {\"outlinewidth\": 0, \"ticks\": \"\"}}, \"type\": \"histogram\"}], \"histogram2d\": [{\"colorbar\": {\"outlinewidth\": 0, \"ticks\": \"\"}, \"colorscale\": [[0.0, \"#0d0887\"], [0.1111111111111111, \"#46039f\"], [0.2222222222222222, \"#7201a8\"], [0.3333333333333333, \"#9c179e\"], [0.4444444444444444, \"#bd3786\"], [0.5555555555555556, \"#d8576b\"], [0.6666666666666666, \"#ed7953\"], [0.7777777777777778, \"#fb9f3a\"], [0.8888888888888888, \"#fdca26\"], [1.0, \"#f0f921\"]], \"type\": \"histogram2d\"}], \"histogram2dcontour\": [{\"colorbar\": {\"outlinewidth\": 0, \"ticks\": \"\"}, \"colorscale\": [[0.0, \"#0d0887\"], [0.1111111111111111, \"#46039f\"], [0.2222222222222222, \"#7201a8\"], [0.3333333333333333, \"#9c179e\"], [0.4444444444444444, \"#bd3786\"], [0.5555555555555556, \"#d8576b\"], [0.6666666666666666, \"#ed7953\"], [0.7777777777777778, \"#fb9f3a\"], [0.8888888888888888, \"#fdca26\"], [1.0, \"#f0f921\"]], \"type\": \"histogram2dcontour\"}], \"mesh3d\": [{\"colorbar\": {\"outlinewidth\": 0, \"ticks\": \"\"}, \"type\": \"mesh3d\"}], \"parcoords\": [{\"line\": {\"colorbar\": {\"outlinewidth\": 0, \"ticks\": \"\"}}, \"type\": \"parcoords\"}], \"pie\": [{\"automargin\": true, \"type\": \"pie\"}], \"scatter\": [{\"marker\": {\"colorbar\": {\"outlinewidth\": 0, \"ticks\": \"\"}}, \"type\": \"scatter\"}], \"scatter3d\": [{\"line\": {\"colorbar\": {\"outlinewidth\": 0, \"ticks\": \"\"}}, \"marker\": {\"colorbar\": {\"outlinewidth\": 0, \"ticks\": \"\"}}, \"type\": \"scatter3d\"}], \"scattercarpet\": [{\"marker\": {\"colorbar\": {\"outlinewidth\": 0, \"ticks\": \"\"}}, \"type\": \"scattercarpet\"}], \"scattergeo\": [{\"marker\": {\"colorbar\": {\"outlinewidth\": 0, \"ticks\": \"\"}}, \"type\": \"scattergeo\"}], \"scattergl\": [{\"marker\": {\"colorbar\": {\"outlinewidth\": 0, \"ticks\": \"\"}}, \"type\": \"scattergl\"}], \"scattermapbox\": [{\"marker\": {\"colorbar\": {\"outlinewidth\": 0, \"ticks\": \"\"}}, \"type\": \"scattermapbox\"}], \"scatterpolar\": [{\"marker\": {\"colorbar\": {\"outlinewidth\": 0, \"ticks\": \"\"}}, \"type\": \"scatterpolar\"}], \"scatterpolargl\": [{\"marker\": {\"colorbar\": {\"outlinewidth\": 0, \"ticks\": \"\"}}, \"type\": \"scatterpolargl\"}], \"scatterternary\": [{\"marker\": {\"colorbar\": {\"outlinewidth\": 0, \"ticks\": \"\"}}, \"type\": \"scatterternary\"}], \"surface\": [{\"colorbar\": {\"outlinewidth\": 0, \"ticks\": \"\"}, \"colorscale\": [[0.0, \"#0d0887\"], [0.1111111111111111, \"#46039f\"], [0.2222222222222222, \"#7201a8\"], [0.3333333333333333, \"#9c179e\"], [0.4444444444444444, \"#bd3786\"], [0.5555555555555556, \"#d8576b\"], [0.6666666666666666, \"#ed7953\"], [0.7777777777777778, \"#fb9f3a\"], [0.8888888888888888, \"#fdca26\"], [1.0, \"#f0f921\"]], \"type\": \"surface\"}], \"table\": [{\"cells\": {\"fill\": {\"color\": \"#EBF0F8\"}, \"line\": {\"color\": \"white\"}}, \"header\": {\"fill\": {\"color\": \"#C8D4E3\"}, \"line\": {\"color\": \"white\"}}, \"type\": \"table\"}]}, \"layout\": {\"annotationdefaults\": {\"arrowcolor\": \"#2a3f5f\", \"arrowhead\": 0, \"arrowwidth\": 1}, \"coloraxis\": {\"colorbar\": {\"outlinewidth\": 0, \"ticks\": \"\"}}, \"colorscale\": {\"diverging\": [[0, \"#8e0152\"], [0.1, \"#c51b7d\"], [0.2, \"#de77ae\"], [0.3, \"#f1b6da\"], [0.4, \"#fde0ef\"], [0.5, \"#f7f7f7\"], [0.6, \"#e6f5d0\"], [0.7, \"#b8e186\"], [0.8, \"#7fbc41\"], [0.9, \"#4d9221\"], [1, \"#276419\"]], \"sequential\": [[0.0, \"#0d0887\"], [0.1111111111111111, \"#46039f\"], [0.2222222222222222, \"#7201a8\"], [0.3333333333333333, \"#9c179e\"], [0.4444444444444444, \"#bd3786\"], [0.5555555555555556, \"#d8576b\"], [0.6666666666666666, \"#ed7953\"], [0.7777777777777778, \"#fb9f3a\"], [0.8888888888888888, \"#fdca26\"], [1.0, \"#f0f921\"]], \"sequentialminus\": [[0.0, \"#0d0887\"], [0.1111111111111111, \"#46039f\"], [0.2222222222222222, \"#7201a8\"], [0.3333333333333333, \"#9c179e\"], [0.4444444444444444, \"#bd3786\"], [0.5555555555555556, \"#d8576b\"], [0.6666666666666666, \"#ed7953\"], [0.7777777777777778, \"#fb9f3a\"], [0.8888888888888888, \"#fdca26\"], [1.0, \"#f0f921\"]]}, \"colorway\": [\"#636efa\", \"#EF553B\", \"#00cc96\", \"#ab63fa\", \"#FFA15A\", \"#19d3f3\", \"#FF6692\", \"#B6E880\", \"#FF97FF\", \"#FECB52\"], \"font\": {\"color\": \"#2a3f5f\"}, \"geo\": {\"bgcolor\": \"white\", \"lakecolor\": \"white\", \"landcolor\": \"#E5ECF6\", \"showlakes\": true, \"showland\": true, \"subunitcolor\": \"white\"}, \"hoverlabel\": {\"align\": \"left\"}, \"hovermode\": \"closest\", \"mapbox\": {\"style\": \"light\"}, \"paper_bgcolor\": \"white\", \"plot_bgcolor\": \"#E5ECF6\", \"polar\": {\"angularaxis\": {\"gridcolor\": \"white\", \"linecolor\": \"white\", \"ticks\": \"\"}, \"bgcolor\": \"#E5ECF6\", \"radialaxis\": {\"gridcolor\": \"white\", \"linecolor\": \"white\", \"ticks\": \"\"}}, \"scene\": {\"xaxis\": {\"backgroundcolor\": \"#E5ECF6\", \"gridcolor\": \"white\", \"gridwidth\": 2, \"linecolor\": \"white\", \"showbackground\": true, \"ticks\": \"\", \"zerolinecolor\": \"white\"}, \"yaxis\": {\"backgroundcolor\": \"#E5ECF6\", \"gridcolor\": \"white\", \"gridwidth\": 2, \"linecolor\": \"white\", \"showbackground\": true, \"ticks\": \"\", \"zerolinecolor\": \"white\"}, \"zaxis\": {\"backgroundcolor\": \"#E5ECF6\", \"gridcolor\": \"white\", \"gridwidth\": 2, \"linecolor\": \"white\", \"showbackground\": true, \"ticks\": \"\", \"zerolinecolor\": \"white\"}}, \"shapedefaults\": {\"line\": {\"color\": \"#2a3f5f\"}}, \"ternary\": {\"aaxis\": {\"gridcolor\": \"white\", \"linecolor\": \"white\", \"ticks\": \"\"}, \"baxis\": {\"gridcolor\": \"white\", \"linecolor\": \"white\", \"ticks\": \"\"}, \"bgcolor\": \"#E5ECF6\", \"caxis\": {\"gridcolor\": \"white\", \"linecolor\": \"white\", \"ticks\": \"\"}}, \"title\": {\"x\": 0.05}, \"xaxis\": {\"automargin\": true, \"gridcolor\": \"white\", \"linecolor\": \"white\", \"ticks\": \"\", \"title\": {\"standoff\": 15}, \"zerolinecolor\": \"white\", \"zerolinewidth\": 2}, \"yaxis\": {\"automargin\": true, \"gridcolor\": \"white\", \"linecolor\": \"white\", \"ticks\": \"\", \"title\": {\"standoff\": 15}, \"zerolinecolor\": \"white\", \"zerolinewidth\": 2}}}, \"title\": {\"font\": {\"size\": 14}, \"text\": \"<b>Model performance</b><br>tree_clf\"}, \"width\": 450, \"xaxis\": {\"anchor\": \"y\", \"domain\": [0.0, 1.0]}, \"xaxis2\": {\"anchor\": \"y2\", \"domain\": [0.0, 1.0], \"title\": {\"text\": \"false positive rate\"}}, \"xaxis3\": {\"anchor\": \"y3\", \"domain\": [0.0, 1.0], \"range\": [0, 1.05], \"title\": {\"text\": \"recall\"}}, \"yaxis\": {\"anchor\": \"x\", \"domain\": [0.7777777777777778, 1.0]}, \"yaxis2\": {\"anchor\": \"x2\", \"domain\": [0.3888888888888889, 0.6111111111111112], \"title\": {\"text\": \"true positive rate\"}}, \"yaxis3\": {\"anchor\": \"x3\", \"domain\": [0.0, 0.22222222222222224], \"range\": [0, 1.05], \"title\": {\"text\": \"precision\"}}},\n",
       "                        {\"responsive\": true}\n",
       "                    ).then(function(){\n",
       "                            \n",
       "var gd = document.getElementById('2105af58-7f94-4c3c-86fd-e7d137073cce');\n",
       "var x = new MutationObserver(function (mutations, observer) {{\n",
       "        var display = window.getComputedStyle(gd).display;\n",
       "        if (!display || display === 'none') {{\n",
       "            console.log([gd, 'removed!']);\n",
       "            Plotly.purge(gd);\n",
       "            observer.disconnect();\n",
       "        }}\n",
       "}});\n",
       "\n",
       "// Listen for the removal of the full notebook cells\n",
       "var notebookContainer = gd.closest('#notebook-container');\n",
       "if (notebookContainer) {{\n",
       "    x.observe(notebookContainer, {childList: true});\n",
       "}}\n",
       "\n",
       "// Listen for the clearing of the current output cell\n",
       "var outputEl = gd.closest('.output');\n",
       "if (outputEl) {{\n",
       "    x.observe(outputEl, {childList: true});\n",
       "}}\n",
       "\n",
       "                        })\n",
       "                };\n",
       "                });\n",
       "            </script>\n",
       "        </div>"
      ]
     },
     "metadata": {},
     "output_type": "display_data"
    }
   ],
   "source": [
    "y_pred = tree_clf.predict(test)\n",
    "y_score = tree_clf.predict_proba(test)[:,1]\n",
    "\n",
    "model_performance_plot('tree_clf')"
   ]
  },
  {
   "cell_type": "code",
   "execution_count": 91,
   "metadata": {},
   "outputs": [
    {
     "ename": "ValueError",
     "evalue": "arrays must all be same length",
     "output_type": "error",
     "traceback": [
      "\u001b[0;31m---------------------------------------------------------------------------\u001b[0m",
      "\u001b[0;31mValueError\u001b[0m                                Traceback (most recent call last)",
      "\u001b[0;32m<ipython-input-91-2e4080578f8e>\u001b[0m in \u001b[0;36m<module>\u001b[0;34m\u001b[0m\n\u001b[0;32m----> 1\u001b[0;31m \u001b[0mplot_feature_importance\u001b[0m\u001b[0;34m(\u001b[0m\u001b[0mtree_clf\u001b[0m\u001b[0;34m)\u001b[0m\u001b[0;34m\u001b[0m\u001b[0;34m\u001b[0m\u001b[0m\n\u001b[0m",
      "\u001b[0;32m<ipython-input-90-6bf5299400db>\u001b[0m in \u001b[0;36mplot_feature_importance\u001b[0;34m(model)\u001b[0m\n\u001b[1;32m      1\u001b[0m \u001b[0;32mdef\u001b[0m \u001b[0mplot_feature_importance\u001b[0m\u001b[0;34m(\u001b[0m\u001b[0mmodel\u001b[0m\u001b[0;34m)\u001b[0m\u001b[0;34m:\u001b[0m\u001b[0;34m\u001b[0m\u001b[0;34m\u001b[0m\u001b[0m\n\u001b[0;32m----> 2\u001b[0;31m     \u001b[0mtmp\u001b[0m \u001b[0;34m=\u001b[0m \u001b[0mpd\u001b[0m\u001b[0;34m.\u001b[0m\u001b[0mDataFrame\u001b[0m\u001b[0;34m(\u001b[0m\u001b[0;34m{\u001b[0m\u001b[0;34m'Feature'\u001b[0m\u001b[0;34m:\u001b[0m \u001b[0mlist\u001b[0m\u001b[0;34m(\u001b[0m\u001b[0mattrition_final_tree\u001b[0m\u001b[0;34m)\u001b[0m\u001b[0;34m,\u001b[0m \u001b[0;34m'Feature importance'\u001b[0m\u001b[0;34m:\u001b[0m \u001b[0mmodel\u001b[0m\u001b[0;34m.\u001b[0m\u001b[0mfeature_importances_\u001b[0m\u001b[0;34m}\u001b[0m\u001b[0;34m)\u001b[0m\u001b[0;34m\u001b[0m\u001b[0;34m\u001b[0m\u001b[0m\n\u001b[0m\u001b[1;32m      3\u001b[0m     \u001b[0mtmp\u001b[0m \u001b[0;34m=\u001b[0m \u001b[0mtmp\u001b[0m\u001b[0;34m.\u001b[0m\u001b[0msort_values\u001b[0m\u001b[0;34m(\u001b[0m\u001b[0mby\u001b[0m\u001b[0;34m=\u001b[0m\u001b[0;34m'Feature importance'\u001b[0m\u001b[0;34m,\u001b[0m\u001b[0mascending\u001b[0m\u001b[0;34m=\u001b[0m\u001b[0;32mFalse\u001b[0m\u001b[0;34m)\u001b[0m\u001b[0;34m.\u001b[0m\u001b[0mhead\u001b[0m\u001b[0;34m(\u001b[0m\u001b[0;36m12\u001b[0m\u001b[0;34m)\u001b[0m\u001b[0;34m\u001b[0m\u001b[0;34m\u001b[0m\u001b[0m\n\u001b[1;32m      4\u001b[0m     \u001b[0mplt\u001b[0m\u001b[0;34m.\u001b[0m\u001b[0mfigure\u001b[0m\u001b[0;34m(\u001b[0m\u001b[0mfigsize\u001b[0m \u001b[0;34m=\u001b[0m \u001b[0;34m(\u001b[0m\u001b[0;36m10\u001b[0m\u001b[0;34m,\u001b[0m\u001b[0;36m12\u001b[0m\u001b[0;34m)\u001b[0m\u001b[0;34m)\u001b[0m\u001b[0;34m\u001b[0m\u001b[0;34m\u001b[0m\u001b[0m\n\u001b[1;32m      5\u001b[0m     \u001b[0mplt\u001b[0m\u001b[0;34m.\u001b[0m\u001b[0mtitle\u001b[0m\u001b[0;34m(\u001b[0m\u001b[0;34m'Top 30 - Features importance - {0}'\u001b[0m\u001b[0;34m.\u001b[0m\u001b[0mformat\u001b[0m\u001b[0;34m(\u001b[0m\u001b[0mmodel\u001b[0m\u001b[0;34m)\u001b[0m\u001b[0;34m,\u001b[0m\u001b[0mfontsize\u001b[0m\u001b[0;34m=\u001b[0m\u001b[0;36m14\u001b[0m\u001b[0;34m)\u001b[0m\u001b[0;34m\u001b[0m\u001b[0;34m\u001b[0m\u001b[0m\n",
      "\u001b[0;32m~/Documents/Foundations of Business Analytics/final_bana200/lib/python3.7/site-packages/pandas/core/frame.py\u001b[0m in \u001b[0;36m__init__\u001b[0;34m(self, data, index, columns, dtype, copy)\u001b[0m\n\u001b[1;32m    409\u001b[0m             )\n\u001b[1;32m    410\u001b[0m         \u001b[0;32melif\u001b[0m \u001b[0misinstance\u001b[0m\u001b[0;34m(\u001b[0m\u001b[0mdata\u001b[0m\u001b[0;34m,\u001b[0m \u001b[0mdict\u001b[0m\u001b[0;34m)\u001b[0m\u001b[0;34m:\u001b[0m\u001b[0;34m\u001b[0m\u001b[0;34m\u001b[0m\u001b[0m\n\u001b[0;32m--> 411\u001b[0;31m             \u001b[0mmgr\u001b[0m \u001b[0;34m=\u001b[0m \u001b[0minit_dict\u001b[0m\u001b[0;34m(\u001b[0m\u001b[0mdata\u001b[0m\u001b[0;34m,\u001b[0m \u001b[0mindex\u001b[0m\u001b[0;34m,\u001b[0m \u001b[0mcolumns\u001b[0m\u001b[0;34m,\u001b[0m \u001b[0mdtype\u001b[0m\u001b[0;34m=\u001b[0m\u001b[0mdtype\u001b[0m\u001b[0;34m)\u001b[0m\u001b[0;34m\u001b[0m\u001b[0;34m\u001b[0m\u001b[0m\n\u001b[0m\u001b[1;32m    412\u001b[0m         \u001b[0;32melif\u001b[0m \u001b[0misinstance\u001b[0m\u001b[0;34m(\u001b[0m\u001b[0mdata\u001b[0m\u001b[0;34m,\u001b[0m \u001b[0mma\u001b[0m\u001b[0;34m.\u001b[0m\u001b[0mMaskedArray\u001b[0m\u001b[0;34m)\u001b[0m\u001b[0;34m:\u001b[0m\u001b[0;34m\u001b[0m\u001b[0;34m\u001b[0m\u001b[0m\n\u001b[1;32m    413\u001b[0m             \u001b[0;32mimport\u001b[0m \u001b[0mnumpy\u001b[0m\u001b[0;34m.\u001b[0m\u001b[0mma\u001b[0m\u001b[0;34m.\u001b[0m\u001b[0mmrecords\u001b[0m \u001b[0;32mas\u001b[0m \u001b[0mmrecords\u001b[0m\u001b[0;34m\u001b[0m\u001b[0;34m\u001b[0m\u001b[0m\n",
      "\u001b[0;32m~/Documents/Foundations of Business Analytics/final_bana200/lib/python3.7/site-packages/pandas/core/internals/construction.py\u001b[0m in \u001b[0;36minit_dict\u001b[0;34m(data, index, columns, dtype)\u001b[0m\n\u001b[1;32m    255\u001b[0m             \u001b[0marr\u001b[0m \u001b[0;32mif\u001b[0m \u001b[0;32mnot\u001b[0m \u001b[0mis_datetime64tz_dtype\u001b[0m\u001b[0;34m(\u001b[0m\u001b[0marr\u001b[0m\u001b[0;34m)\u001b[0m \u001b[0;32melse\u001b[0m \u001b[0marr\u001b[0m\u001b[0;34m.\u001b[0m\u001b[0mcopy\u001b[0m\u001b[0;34m(\u001b[0m\u001b[0;34m)\u001b[0m \u001b[0;32mfor\u001b[0m \u001b[0marr\u001b[0m \u001b[0;32min\u001b[0m \u001b[0marrays\u001b[0m\u001b[0;34m\u001b[0m\u001b[0;34m\u001b[0m\u001b[0m\n\u001b[1;32m    256\u001b[0m         ]\n\u001b[0;32m--> 257\u001b[0;31m     \u001b[0;32mreturn\u001b[0m \u001b[0marrays_to_mgr\u001b[0m\u001b[0;34m(\u001b[0m\u001b[0marrays\u001b[0m\u001b[0;34m,\u001b[0m \u001b[0mdata_names\u001b[0m\u001b[0;34m,\u001b[0m \u001b[0mindex\u001b[0m\u001b[0;34m,\u001b[0m \u001b[0mcolumns\u001b[0m\u001b[0;34m,\u001b[0m \u001b[0mdtype\u001b[0m\u001b[0;34m=\u001b[0m\u001b[0mdtype\u001b[0m\u001b[0;34m)\u001b[0m\u001b[0;34m\u001b[0m\u001b[0;34m\u001b[0m\u001b[0m\n\u001b[0m\u001b[1;32m    258\u001b[0m \u001b[0;34m\u001b[0m\u001b[0m\n\u001b[1;32m    259\u001b[0m \u001b[0;34m\u001b[0m\u001b[0m\n",
      "\u001b[0;32m~/Documents/Foundations of Business Analytics/final_bana200/lib/python3.7/site-packages/pandas/core/internals/construction.py\u001b[0m in \u001b[0;36marrays_to_mgr\u001b[0;34m(arrays, arr_names, index, columns, dtype)\u001b[0m\n\u001b[1;32m     75\u001b[0m     \u001b[0;31m# figure out the index, if necessary\u001b[0m\u001b[0;34m\u001b[0m\u001b[0;34m\u001b[0m\u001b[0;34m\u001b[0m\u001b[0m\n\u001b[1;32m     76\u001b[0m     \u001b[0;32mif\u001b[0m \u001b[0mindex\u001b[0m \u001b[0;32mis\u001b[0m \u001b[0;32mNone\u001b[0m\u001b[0;34m:\u001b[0m\u001b[0;34m\u001b[0m\u001b[0;34m\u001b[0m\u001b[0m\n\u001b[0;32m---> 77\u001b[0;31m         \u001b[0mindex\u001b[0m \u001b[0;34m=\u001b[0m \u001b[0mextract_index\u001b[0m\u001b[0;34m(\u001b[0m\u001b[0marrays\u001b[0m\u001b[0;34m)\u001b[0m\u001b[0;34m\u001b[0m\u001b[0;34m\u001b[0m\u001b[0m\n\u001b[0m\u001b[1;32m     78\u001b[0m     \u001b[0;32melse\u001b[0m\u001b[0;34m:\u001b[0m\u001b[0;34m\u001b[0m\u001b[0;34m\u001b[0m\u001b[0m\n\u001b[1;32m     79\u001b[0m         \u001b[0mindex\u001b[0m \u001b[0;34m=\u001b[0m \u001b[0mensure_index\u001b[0m\u001b[0;34m(\u001b[0m\u001b[0mindex\u001b[0m\u001b[0;34m)\u001b[0m\u001b[0;34m\u001b[0m\u001b[0;34m\u001b[0m\u001b[0m\n",
      "\u001b[0;32m~/Documents/Foundations of Business Analytics/final_bana200/lib/python3.7/site-packages/pandas/core/internals/construction.py\u001b[0m in \u001b[0;36mextract_index\u001b[0;34m(data)\u001b[0m\n\u001b[1;32m    366\u001b[0m             \u001b[0mlengths\u001b[0m \u001b[0;34m=\u001b[0m \u001b[0mlist\u001b[0m\u001b[0;34m(\u001b[0m\u001b[0mset\u001b[0m\u001b[0;34m(\u001b[0m\u001b[0mraw_lengths\u001b[0m\u001b[0;34m)\u001b[0m\u001b[0;34m)\u001b[0m\u001b[0;34m\u001b[0m\u001b[0;34m\u001b[0m\u001b[0m\n\u001b[1;32m    367\u001b[0m             \u001b[0;32mif\u001b[0m \u001b[0mlen\u001b[0m\u001b[0;34m(\u001b[0m\u001b[0mlengths\u001b[0m\u001b[0;34m)\u001b[0m \u001b[0;34m>\u001b[0m \u001b[0;36m1\u001b[0m\u001b[0;34m:\u001b[0m\u001b[0;34m\u001b[0m\u001b[0;34m\u001b[0m\u001b[0m\n\u001b[0;32m--> 368\u001b[0;31m                 \u001b[0;32mraise\u001b[0m \u001b[0mValueError\u001b[0m\u001b[0;34m(\u001b[0m\u001b[0;34m\"arrays must all be same length\"\u001b[0m\u001b[0;34m)\u001b[0m\u001b[0;34m\u001b[0m\u001b[0;34m\u001b[0m\u001b[0m\n\u001b[0m\u001b[1;32m    369\u001b[0m \u001b[0;34m\u001b[0m\u001b[0m\n\u001b[1;32m    370\u001b[0m             \u001b[0;32mif\u001b[0m \u001b[0mhave_dicts\u001b[0m\u001b[0;34m:\u001b[0m\u001b[0;34m\u001b[0m\u001b[0;34m\u001b[0m\u001b[0m\n",
      "\u001b[0;31mValueError\u001b[0m: arrays must all be same length"
     ]
    }
   ],
   "source": [
    "plot_feature_importance(tree_clf)\n"
   ]
  },
  {
   "cell_type": "code",
   "execution_count": 92,
   "metadata": {},
   "outputs": [
    {
     "data": {
      "text/plain": [
       "Index(['Age', 'DistanceFromHome', 'MonthlyIncome', 'YearsAtCompany',\n",
       "       'MaritalStatus', 'OverTime', 'StockOptionLevel', 'frequent_travel',\n",
       "       'low_job_involvement', 'low_worklife_balance',\n",
       "       'EnvironmentSatisfaction', 'JobSatisfaction'],\n",
       "      dtype='object')"
      ]
     },
     "execution_count": 92,
     "metadata": {},
     "output_type": "execute_result"
    }
   ],
   "source": [
    "top_15 = featureScores.nlargest(10,'Score')\n",
    "T = top_15['Specs'].tolist()\n",
    "\n",
    "Remove = attrition_final_tree.drop(T, axis=1).columns\n",
    "attrition_final_reduced = attrition_final_tree.drop(Remove, axis=1)\n",
    "attrition_final_reduced['EnvironmentSatisfaction'] = attrition_final_tree['EnvironmentSatisfaction']\n",
    "attrition_final_reduced['JobSatisfaction'] = attrition_final_tree['JobSatisfaction']\n",
    "attrition_final_reduced.columns"
   ]
  },
  {
   "cell_type": "code",
   "execution_count": 50,
   "metadata": {},
   "outputs": [],
   "source": [
    "train_r, test_r, target_train_r, target_val_r = train_test_split(attrition_final_reduced, \n",
    "                                                         target, \n",
    "                                                         train_size= 0.80, random_state=0)"
   ]
  },
  {
   "cell_type": "code",
   "execution_count": 51,
   "metadata": {},
   "outputs": [
    {
     "name": "stdout",
     "output_type": "stream",
     "text": [
      "Fitting of Random Forest finished\n"
     ]
    }
   ],
   "source": [
    "rf = RandomForestClassifier(**rf_params)\n",
    "# rf = RandomForestClassifier()\n",
    "rf.fit(train_r, target_train_r)\n",
    "print(\"Fitting of Random Forest finished\")"
   ]
  },
  {
   "cell_type": "code",
   "execution_count": 52,
   "metadata": {},
   "outputs": [
    {
     "name": "stdout",
     "output_type": "stream",
     "text": [
      "Predictions finished\n"
     ]
    }
   ],
   "source": [
    "rf_predictions_r = rf.predict(test_r)\n",
    "print(\"Predictions finished\")"
   ]
  },
  {
   "cell_type": "code",
   "execution_count": 53,
   "metadata": {},
   "outputs": [
    {
     "name": "stdout",
     "output_type": "stream",
     "text": [
      "Accuracy score: 0.7793522267206477\n",
      "================================================================================\n",
      "              precision    recall  f1-score   support\n",
      "\n",
      "           0       0.77      0.81      0.79       250\n",
      "           1       0.79      0.75      0.77       244\n",
      "\n",
      "    accuracy                           0.78       494\n",
      "   macro avg       0.78      0.78      0.78       494\n",
      "weighted avg       0.78      0.78      0.78       494\n",
      "\n"
     ]
    }
   ],
   "source": [
    "print(\"Accuracy score: {}\".format(accuracy_score(target_val_r, rf_predictions_r)))\n",
    "print(\"=\"*80)\n",
    "print(classification_report(target_val_r, rf_predictions_r))"
   ]
  },
  {
   "cell_type": "code",
   "execution_count": 54,
   "metadata": {},
   "outputs": [
    {
     "data": {
      "application/vnd.plotly.v1+json": {
       "config": {
        "linkText": "Export to plot.ly",
        "plotlyServerURL": "https://plot.ly",
        "showLink": false
       },
       "data": [
        {
         "marker": {
          "color": [
           "gold",
           "lightgreen",
           "lightcoral",
           "lightskyblue"
          ],
          "line": {
           "color": "#000000",
           "width": 1.5
          }
         },
         "opacity": 0.8,
         "orientation": "h",
         "text": [
          0.7794,
          0.7948,
          0.7459,
          0.7696
         ],
         "textposition": "auto",
         "type": "bar",
         "x": [
          0.7793522267206477,
          0.7947598253275109,
          0.7459016393442623,
          0.7695560253699789
         ],
         "xaxis": "x",
         "y": [
          "Accuracy",
          "Precision",
          "Recall",
          "F1_score"
         ],
         "yaxis": "y"
        },
        {
         "fill": "tozeroy",
         "line": {
          "color": "rgb(22, 96, 167)",
          "width": 2
         },
         "name": "Roc : ",
         "type": "scatter",
         "x": [
          0,
          0,
          0,
          0,
          0,
          0,
          0,
          0,
          0,
          0,
          0,
          0,
          0,
          0,
          0,
          0,
          0,
          0,
          0.004,
          0.004,
          0.004,
          0.004,
          0.004,
          0.016,
          0.016,
          0.02,
          0.02,
          0.024,
          0.024,
          0.028,
          0.028,
          0.032,
          0.032,
          0.032,
          0.036,
          0.036,
          0.04,
          0.04,
          0.044,
          0.044,
          0.044,
          0.044,
          0.052,
          0.052,
          0.052,
          0.052,
          0.056,
          0.056,
          0.056,
          0.056,
          0.06,
          0.06,
          0.06,
          0.06,
          0.06,
          0.06,
          0.072,
          0.072,
          0.072,
          0.072,
          0.072,
          0.072,
          0.072,
          0.076,
          0.076,
          0.076,
          0.08,
          0.08,
          0.08,
          0.084,
          0.084,
          0.084,
          0.096,
          0.096,
          0.096,
          0.1,
          0.1,
          0.1,
          0.104,
          0.104,
          0.104,
          0.108,
          0.108,
          0.108,
          0.108,
          0.12,
          0.12,
          0.128,
          0.128,
          0.132,
          0.132,
          0.132,
          0.136,
          0.136,
          0.148,
          0.148,
          0.156,
          0.156,
          0.156,
          0.172,
          0.172,
          0.176,
          0.176,
          0.176,
          0.176,
          0.2,
          0.2,
          0.212,
          0.212,
          0.228,
          0.228,
          0.228,
          0.236,
          0.236,
          0.236,
          0.236,
          0.24,
          0.24,
          0.26,
          0.26,
          0.264,
          0.264,
          0.272,
          0.272,
          0.288,
          0.288,
          0.288,
          0.304,
          0.304,
          0.328,
          0.328,
          0.34,
          0.34,
          0.348,
          0.348,
          0.384,
          0.384,
          0.404,
          0.404,
          0.428,
          0.428,
          0.436,
          0.436,
          0.512,
          0.512,
          0.54,
          0.54,
          0.564,
          0.572,
          0.58,
          0.58,
          0.608,
          0.608,
          0.616,
          0.616,
          0.66,
          0.66,
          0.664,
          0.664,
          0.704,
          0.704,
          0.708,
          0.708,
          0.72,
          0.72,
          0.724,
          0.724,
          0.74,
          0.74,
          0.792,
          0.792,
          0.84,
          0.84,
          0.868,
          0.868,
          1
         ],
         "xaxis": "x2",
         "y": [
          0,
          0.004098360655737705,
          0.012295081967213115,
          0.02459016393442623,
          0.040983606557377046,
          0.045081967213114756,
          0.05327868852459016,
          0.07377049180327869,
          0.09016393442622951,
          0.10655737704918032,
          0.11475409836065574,
          0.12295081967213115,
          0.13524590163934427,
          0.14344262295081966,
          0.1557377049180328,
          0.18032786885245902,
          0.19262295081967212,
          0.20081967213114754,
          0.20081967213114754,
          0.21721311475409835,
          0.22540983606557377,
          0.23770491803278687,
          0.26229508196721313,
          0.26229508196721313,
          0.27459016393442626,
          0.27459016393442626,
          0.2786885245901639,
          0.2786885245901639,
          0.3114754098360656,
          0.3114754098360656,
          0.319672131147541,
          0.319672131147541,
          0.32786885245901637,
          0.3319672131147541,
          0.3319672131147541,
          0.3401639344262295,
          0.3401639344262295,
          0.3524590163934426,
          0.3524590163934426,
          0.35655737704918034,
          0.3729508196721312,
          0.38114754098360654,
          0.38114754098360654,
          0.38524590163934425,
          0.3975409836065574,
          0.4016393442622951,
          0.4016393442622951,
          0.4139344262295082,
          0.42213114754098363,
          0.4426229508196721,
          0.4426229508196721,
          0.44672131147540983,
          0.45491803278688525,
          0.45901639344262296,
          0.4713114754098361,
          0.47540983606557374,
          0.47540983606557374,
          0.48360655737704916,
          0.48770491803278687,
          0.5,
          0.5163934426229508,
          0.5204918032786885,
          0.5327868852459017,
          0.5327868852459017,
          0.5409836065573771,
          0.5450819672131147,
          0.5450819672131147,
          0.5614754098360656,
          0.5655737704918032,
          0.5655737704918032,
          0.569672131147541,
          0.5860655737704918,
          0.5860655737704918,
          0.5901639344262295,
          0.5983606557377049,
          0.5983606557377049,
          0.6024590163934426,
          0.610655737704918,
          0.610655737704918,
          0.6270491803278688,
          0.6311475409836066,
          0.6311475409836066,
          0.639344262295082,
          0.6434426229508197,
          0.6557377049180327,
          0.6557377049180327,
          0.6639344262295082,
          0.6639344262295082,
          0.6680327868852459,
          0.6680327868852459,
          0.6721311475409836,
          0.680327868852459,
          0.680327868852459,
          0.6885245901639344,
          0.6885245901639344,
          0.6967213114754098,
          0.6967213114754098,
          0.7090163934426229,
          0.7172131147540983,
          0.7172131147540983,
          0.7213114754098361,
          0.7213114754098361,
          0.7254098360655737,
          0.7377049180327869,
          0.7459016393442623,
          0.7459016393442623,
          0.7540983606557377,
          0.7540983606557377,
          0.7622950819672131,
          0.7622950819672131,
          0.7745901639344263,
          0.7786885245901639,
          0.7786885245901639,
          0.7868852459016393,
          0.8032786885245902,
          0.8073770491803278,
          0.8073770491803278,
          0.8114754098360656,
          0.8114754098360656,
          0.819672131147541,
          0.819672131147541,
          0.8237704918032787,
          0.8237704918032787,
          0.8278688524590164,
          0.8278688524590164,
          0.8360655737704918,
          0.8442622950819673,
          0.8442622950819673,
          0.8524590163934426,
          0.8524590163934426,
          0.8565573770491803,
          0.8565573770491803,
          0.860655737704918,
          0.860655737704918,
          0.8647540983606558,
          0.8647540983606558,
          0.8688524590163934,
          0.8688524590163934,
          0.8770491803278688,
          0.8770491803278688,
          0.8934426229508197,
          0.8934426229508197,
          0.8975409836065574,
          0.8975409836065574,
          0.9016393442622951,
          0.9016393442622951,
          0.9057377049180327,
          0.9057377049180327,
          0.9057377049180327,
          0.9057377049180327,
          0.9139344262295082,
          0.9139344262295082,
          0.9180327868852459,
          0.9180327868852459,
          0.9262295081967213,
          0.9262295081967213,
          0.930327868852459,
          0.930327868852459,
          0.9508196721311475,
          0.9508196721311475,
          0.9549180327868853,
          0.9549180327868853,
          0.9631147540983607,
          0.9631147540983607,
          0.9713114754098361,
          0.9713114754098361,
          0.9754098360655737,
          0.9754098360655737,
          0.9836065573770492,
          0.9836065573770492,
          0.9918032786885246,
          0.9918032786885246,
          0.9959016393442623,
          0.9959016393442623,
          1,
          1
         ],
         "yaxis": "y2"
        },
        {
         "line": {
          "color": "black",
          "dash": "dot",
          "width": 1.5
         },
         "type": "scatter",
         "x": [
          0,
          1
         ],
         "xaxis": "x2",
         "y": [
          0,
          1
         ],
         "yaxis": "y2"
        },
        {
         "fill": "tozeroy",
         "line": {
          "color": "lightcoral",
          "width": 2
         },
         "name": "Precision[0.52928416 0.52826087 0.52941176 0.53056769 0.53172867 0.53289474\n 0.53406593 0.53524229 0.53642384 0.53539823 0.53658537 0.53777778\n 0.5389755  0.54017857 0.54138702 0.5426009  0.54382022 0.54504505\n 0.5462754  0.54751131 0.54875283 0.55       0.54794521 0.54919908\n 0.55045872 0.55172414 0.55299539 0.55427252 0.55555556 0.55684455\n 0.55813953 0.55944056 0.56074766 0.56206089 0.56338028 0.56470588\n 0.56264775 0.56398104 0.56532067 0.56666667 0.56801909 0.56698565\n 0.56834532 0.56730769 0.56626506 0.56763285 0.56900726 0.57038835\n 0.56829268 0.56968215 0.56862745 0.57002457 0.57142857 0.57283951\n 0.57425743 0.57568238 0.57711443 0.57855362 0.58       0.58145363\n 0.58291457 0.57760814 0.57908163 0.57800512 0.57948718 0.58097686\n 0.58247423 0.58397933 0.58549223 0.58701299 0.58854167 0.59007833\n 0.59162304 0.59317585 0.59473684 0.59259259 0.59416446 0.59574468\n 0.59466667 0.59625668 0.59785523 0.59946237 0.60107817 0.6027027\n 0.60433604 0.60597826 0.60382514 0.60547945 0.60714286 0.61049724\n 0.61218837 0.61388889 0.61559889 0.61731844 0.61904762 0.62078652\n 0.61971831 0.62146893 0.62322946 0.625      0.62678063 0.62857143\n 0.63037249 0.63218391 0.63112392 0.63294798 0.63478261 0.63662791\n 0.63848397 0.64035088 0.64222874 0.64411765 0.6460177  0.64792899\n 0.64985163 0.65178571 0.65373134 0.65568862 0.65765766 0.65963855\n 0.66163142 0.66363636 0.6656535  0.66768293 0.66666667 0.66871166\n 0.67076923 0.66666667 0.66875    0.67084639 0.67295597 0.67507886\n 0.67721519 0.67936508 0.67834395 0.67731629 0.67948718 0.68167203\n 0.68387097 0.68608414 0.68831169 0.68729642 0.68954248 0.69180328\n 0.69407895 0.69636964 0.6986755  0.70099668 0.70333333 0.70568562\n 0.70805369 0.70707071 0.70945946 0.71186441 0.71088435 0.71331058\n 0.71575342 0.71821306 0.71724138 0.71972318 0.72222222 0.72473868\n 0.72727273 0.72982456 0.73239437 0.73049645 0.73309609 0.73571429\n 0.73835125 0.74100719 0.73913043 0.73818182 0.73722628 0.73992674\n 0.74264706 0.74538745 0.74814815 0.7472119  0.75       0.75280899\n 0.7518797  0.75471698 0.75285171 0.75572519 0.75862069 0.76153846\n 0.76447876 0.76744186 0.76653696 0.76953125 0.76862745 0.76494024\n 0.76305221 0.76612903 0.76923077 0.76829268 0.7654321  0.76859504\n 0.77178423 0.775      0.77824268 0.77731092 0.77637131 0.77966102\n 0.78297872 0.78632479 0.78540773 0.78448276 0.78787879 0.79130435\n 0.79475983 0.79824561 0.80176211 0.80530973 0.80357143 0.80090498\n 0.8        0.80365297 0.80275229 0.80645161 0.81018519 0.81395349\n 0.81775701 0.81603774 0.81516588 0.81428571 0.81339713 0.81730769\n 0.82125604 0.8195122  0.82352941 0.82758621 0.83168317 0.83\n 0.83417085 0.83248731 0.83163265 0.83589744 0.83505155 0.83937824\n 0.84375    0.84210526 0.84656085 0.85106383 0.85561497 0.85326087\n 0.85245902 0.85082873 0.85555556 0.8547486  0.85310734 0.85142857\n 0.85632184 0.85465116 0.85380117 0.85882353 0.85714286 0.85628743\n 0.86144578 0.86666667 0.87195122 0.87037037 0.86875    0.86792453\n 0.87341772 0.87261146 0.87096774 0.86928105 0.875      0.87417219\n 0.87248322 0.87837838 0.87586207 0.875      0.87323944 0.87142857\n 0.86861314 0.86764706 0.86567164 0.87218045 0.87878788 0.88549618\n 0.88461538 0.88188976 0.88095238 0.87903226 0.87804878 0.8852459\n 0.88034188 0.87931034 0.87826087 0.875      0.88288288 0.88181818\n 0.87850467 0.87735849 0.88571429 0.89423077 0.89215686 0.8877551\n 0.88659794 0.89583333 0.89473684 0.89361702 0.89247312 0.90217391\n 0.9        0.91011236 0.90909091 0.90697674 0.91764706 0.91666667\n 0.91566265 0.92682927 0.925      0.92307692 0.92105263 0.91891892\n 0.93150685 0.93055556 0.94366197 0.94285714 0.94202899 0.94117647\n 0.95522388 0.96969697 0.98461538 0.98412698 0.98360656 0.98305085\n 0.98275862 0.98245614 0.98214286 0.98148148 0.98       1.\n 1.         1.         1.         1.         1.         1.\n 1.         1.         1.         1.         1.         1.\n 1.         1.         1.         1.         1.         1.\n 1.         1.         1.         1.         1.         1.\n 1.         1.         1.         1.         1.         1.\n 1.         1.         1.         1.        ]",
         "type": "scatter",
         "x": [
          1,
          0.9959016393442623,
          0.9959016393442623,
          0.9959016393442623,
          0.9959016393442623,
          0.9959016393442623,
          0.9959016393442623,
          0.9959016393442623,
          0.9959016393442623,
          0.9918032786885246,
          0.9918032786885246,
          0.9918032786885246,
          0.9918032786885246,
          0.9918032786885246,
          0.9918032786885246,
          0.9918032786885246,
          0.9918032786885246,
          0.9918032786885246,
          0.9918032786885246,
          0.9918032786885246,
          0.9918032786885246,
          0.9918032786885246,
          0.9836065573770492,
          0.9836065573770492,
          0.9836065573770492,
          0.9836065573770492,
          0.9836065573770492,
          0.9836065573770492,
          0.9836065573770492,
          0.9836065573770492,
          0.9836065573770492,
          0.9836065573770492,
          0.9836065573770492,
          0.9836065573770492,
          0.9836065573770492,
          0.9836065573770492,
          0.9754098360655737,
          0.9754098360655737,
          0.9754098360655737,
          0.9754098360655737,
          0.9754098360655737,
          0.9713114754098361,
          0.9713114754098361,
          0.9672131147540983,
          0.9631147540983607,
          0.9631147540983607,
          0.9631147540983607,
          0.9631147540983607,
          0.9549180327868853,
          0.9549180327868853,
          0.9508196721311475,
          0.9508196721311475,
          0.9508196721311475,
          0.9508196721311475,
          0.9508196721311475,
          0.9508196721311475,
          0.9508196721311475,
          0.9508196721311475,
          0.9508196721311475,
          0.9508196721311475,
          0.9508196721311475,
          0.930327868852459,
          0.930327868852459,
          0.9262295081967213,
          0.9262295081967213,
          0.9262295081967213,
          0.9262295081967213,
          0.9262295081967213,
          0.9262295081967213,
          0.9262295081967213,
          0.9262295081967213,
          0.9262295081967213,
          0.9262295081967213,
          0.9262295081967213,
          0.9262295081967213,
          0.9180327868852459,
          0.9180327868852459,
          0.9180327868852459,
          0.9139344262295082,
          0.9139344262295082,
          0.9139344262295082,
          0.9139344262295082,
          0.9139344262295082,
          0.9139344262295082,
          0.9139344262295082,
          0.9139344262295082,
          0.9057377049180327,
          0.9057377049180327,
          0.9057377049180327,
          0.9057377049180327,
          0.9057377049180327,
          0.9057377049180327,
          0.9057377049180327,
          0.9057377049180327,
          0.9057377049180327,
          0.9057377049180327,
          0.9016393442622951,
          0.9016393442622951,
          0.9016393442622951,
          0.9016393442622951,
          0.9016393442622951,
          0.9016393442622951,
          0.9016393442622951,
          0.9016393442622951,
          0.8975409836065574,
          0.8975409836065574,
          0.8975409836065574,
          0.8975409836065574,
          0.8975409836065574,
          0.8975409836065574,
          0.8975409836065574,
          0.8975409836065574,
          0.8975409836065574,
          0.8975409836065574,
          0.8975409836065574,
          0.8975409836065574,
          0.8975409836065574,
          0.8975409836065574,
          0.8975409836065574,
          0.8975409836065574,
          0.8975409836065574,
          0.8975409836065574,
          0.8975409836065574,
          0.8975409836065574,
          0.8934426229508197,
          0.8934426229508197,
          0.8934426229508197,
          0.8770491803278688,
          0.8770491803278688,
          0.8770491803278688,
          0.8770491803278688,
          0.8770491803278688,
          0.8770491803278688,
          0.8770491803278688,
          0.8729508196721312,
          0.8688524590163934,
          0.8688524590163934,
          0.8688524590163934,
          0.8688524590163934,
          0.8688524590163934,
          0.8688524590163934,
          0.8647540983606558,
          0.8647540983606558,
          0.8647540983606558,
          0.8647540983606558,
          0.8647540983606558,
          0.8647540983606558,
          0.8647540983606558,
          0.8647540983606558,
          0.8647540983606558,
          0.8647540983606558,
          0.860655737704918,
          0.860655737704918,
          0.860655737704918,
          0.8565573770491803,
          0.8565573770491803,
          0.8565573770491803,
          0.8565573770491803,
          0.8524590163934426,
          0.8524590163934426,
          0.8524590163934426,
          0.8524590163934426,
          0.8524590163934426,
          0.8524590163934426,
          0.8524590163934426,
          0.8442622950819673,
          0.8442622950819673,
          0.8442622950819673,
          0.8442622950819673,
          0.8442622950819673,
          0.8360655737704918,
          0.8319672131147541,
          0.8278688524590164,
          0.8278688524590164,
          0.8278688524590164,
          0.8278688524590164,
          0.8278688524590164,
          0.8237704918032787,
          0.8237704918032787,
          0.8237704918032787,
          0.819672131147541,
          0.819672131147541,
          0.8114754098360656,
          0.8114754098360656,
          0.8114754098360656,
          0.8114754098360656,
          0.8114754098360656,
          0.8114754098360656,
          0.8073770491803278,
          0.8073770491803278,
          0.8032786885245902,
          0.7868852459016393,
          0.7786885245901639,
          0.7786885245901639,
          0.7786885245901639,
          0.7745901639344263,
          0.7622950819672131,
          0.7622950819672131,
          0.7622950819672131,
          0.7622950819672131,
          0.7622950819672131,
          0.7581967213114754,
          0.7540983606557377,
          0.7540983606557377,
          0.7540983606557377,
          0.7540983606557377,
          0.75,
          0.7459016393442623,
          0.7459016393442623,
          0.7459016393442623,
          0.7459016393442623,
          0.7459016393442623,
          0.7459016393442623,
          0.7459016393442623,
          0.7377049180327869,
          0.7254098360655737,
          0.7213114754098361,
          0.7213114754098361,
          0.7172131147540983,
          0.7172131147540983,
          0.7172131147540983,
          0.7172131147540983,
          0.7172131147540983,
          0.7090163934426229,
          0.7049180327868853,
          0.7008196721311475,
          0.6967213114754098,
          0.6967213114754098,
          0.6967213114754098,
          0.6885245901639344,
          0.6885245901639344,
          0.6885245901639344,
          0.6885245901639344,
          0.680327868852459,
          0.680327868852459,
          0.6721311475409836,
          0.6680327868852459,
          0.6680327868852459,
          0.6639344262295082,
          0.6639344262295082,
          0.6639344262295082,
          0.6557377049180327,
          0.6557377049180327,
          0.6557377049180327,
          0.6557377049180327,
          0.6434426229508197,
          0.639344262295082,
          0.6311475409836066,
          0.6311475409836066,
          0.6270491803278688,
          0.6188524590163934,
          0.610655737704918,
          0.610655737704918,
          0.6024590163934426,
          0.5983606557377049,
          0.5983606557377049,
          0.5901639344262295,
          0.5860655737704918,
          0.5860655737704918,
          0.5860655737704918,
          0.5860655737704918,
          0.5778688524590164,
          0.569672131147541,
          0.5655737704918032,
          0.5655737704918032,
          0.5614754098360656,
          0.5532786885245902,
          0.5450819672131147,
          0.5450819672131147,
          0.5409836065573771,
          0.5327868852459017,
          0.5327868852459017,
          0.5204918032786885,
          0.5163934426229508,
          0.5081967213114754,
          0.5,
          0.48770491803278687,
          0.48360655737704916,
          0.47540983606557374,
          0.47540983606557374,
          0.47540983606557374,
          0.47540983606557374,
          0.4713114754098361,
          0.45901639344262296,
          0.45491803278688525,
          0.44672131147540983,
          0.4426229508196721,
          0.4426229508196721,
          0.42213114754098363,
          0.4180327868852459,
          0.4139344262295082,
          0.4016393442622951,
          0.4016393442622951,
          0.3975409836065574,
          0.38524590163934425,
          0.38114754098360654,
          0.38114754098360654,
          0.38114754098360654,
          0.3729508196721312,
          0.35655737704918034,
          0.3524590163934426,
          0.3524590163934426,
          0.3483606557377049,
          0.3442622950819672,
          0.3401639344262295,
          0.3401639344262295,
          0.3319672131147541,
          0.3319672131147541,
          0.32786885245901637,
          0.319672131147541,
          0.319672131147541,
          0.3155737704918033,
          0.3114754098360656,
          0.3114754098360656,
          0.30327868852459017,
          0.29508196721311475,
          0.28688524590163933,
          0.2786885245901639,
          0.2786885245901639,
          0.27459016393442626,
          0.27459016393442626,
          0.27049180327868855,
          0.26639344262295084,
          0.26229508196721313,
          0.26229508196721313,
          0.26229508196721313,
          0.26229508196721313,
          0.2540983606557377,
          0.2459016393442623,
          0.23770491803278687,
          0.2336065573770492,
          0.22950819672131148,
          0.22540983606557377,
          0.21721311475409835,
          0.20081967213114754,
          0.20081967213114754,
          0.19262295081967212,
          0.1885245901639344,
          0.18442622950819673,
          0.18032786885245902,
          0.1721311475409836,
          0.16393442622950818,
          0.1557377049180328,
          0.14344262295081966,
          0.13934426229508196,
          0.13524590163934427,
          0.12295081967213115,
          0.11885245901639344,
          0.11475409836065574,
          0.10655737704918032,
          0.10245901639344263,
          0.09836065573770492,
          0.0942622950819672,
          0.09016393442622951,
          0.08196721311475409,
          0.07377049180327869,
          0.06967213114754098,
          0.06557377049180328,
          0.06147540983606557,
          0.05737704918032787,
          0.05327868852459016,
          0.045081967213114756,
          0.040983606557377046,
          0.03278688524590164,
          0.02459016393442623,
          0.020491803278688523,
          0.01639344262295082,
          0.012295081967213115,
          0.004098360655737705,
          0
         ],
         "xaxis": "x3",
         "y": [
          0.5292841648590022,
          0.5282608695652173,
          0.5294117647058824,
          0.5305676855895196,
          0.5317286652078774,
          0.5328947368421053,
          0.5340659340659341,
          0.5352422907488987,
          0.5364238410596026,
          0.5353982300884956,
          0.5365853658536586,
          0.5377777777777778,
          0.5389755011135857,
          0.5401785714285714,
          0.5413870246085011,
          0.5426008968609866,
          0.5438202247191011,
          0.545045045045045,
          0.54627539503386,
          0.5475113122171946,
          0.5487528344671202,
          0.55,
          0.547945205479452,
          0.5491990846681922,
          0.5504587155963303,
          0.5517241379310345,
          0.5529953917050692,
          0.5542725173210161,
          0.5555555555555556,
          0.5568445475638051,
          0.5581395348837209,
          0.5594405594405595,
          0.5607476635514018,
          0.5620608899297423,
          0.5633802816901409,
          0.5647058823529412,
          0.5626477541371159,
          0.5639810426540285,
          0.5653206650831354,
          0.5666666666666667,
          0.568019093078759,
          0.5669856459330144,
          0.5683453237410072,
          0.5673076923076923,
          0.5662650602409639,
          0.5676328502415459,
          0.5690072639225182,
          0.5703883495145631,
          0.5682926829268292,
          0.5696821515892421,
          0.5686274509803921,
          0.5700245700245701,
          0.5714285714285714,
          0.5728395061728395,
          0.5742574257425742,
          0.575682382133995,
          0.5771144278606966,
          0.5785536159600998,
          0.58,
          0.581453634085213,
          0.5829145728643216,
          0.5776081424936387,
          0.5790816326530612,
          0.578005115089514,
          0.5794871794871795,
          0.5809768637532133,
          0.5824742268041238,
          0.5839793281653747,
          0.5854922279792746,
          0.587012987012987,
          0.5885416666666666,
          0.5900783289817232,
          0.5916230366492147,
          0.5931758530183727,
          0.5947368421052631,
          0.5925925925925926,
          0.5941644562334217,
          0.5957446808510638,
          0.5946666666666667,
          0.5962566844919787,
          0.5978552278820375,
          0.5994623655913979,
          0.601078167115903,
          0.6027027027027027,
          0.6043360433604336,
          0.6059782608695652,
          0.6038251366120219,
          0.6054794520547945,
          0.6071428571428571,
          0.6104972375690608,
          0.6121883656509696,
          0.6138888888888889,
          0.6155988857938719,
          0.61731843575419,
          0.6190476190476191,
          0.6207865168539326,
          0.6197183098591549,
          0.6214689265536724,
          0.623229461756374,
          0.625,
          0.6267806267806267,
          0.6285714285714286,
          0.6303724928366762,
          0.632183908045977,
          0.6311239193083573,
          0.6329479768786127,
          0.6347826086956522,
          0.6366279069767442,
          0.6384839650145773,
          0.6403508771929824,
          0.6422287390029325,
          0.6441176470588236,
          0.6460176991150443,
          0.6479289940828402,
          0.6498516320474778,
          0.6517857142857143,
          0.6537313432835821,
          0.655688622754491,
          0.6576576576576577,
          0.6596385542168675,
          0.6616314199395771,
          0.6636363636363637,
          0.6656534954407295,
          0.6676829268292683,
          0.6666666666666666,
          0.6687116564417178,
          0.6707692307692308,
          0.6666666666666666,
          0.66875,
          0.670846394984326,
          0.6729559748427673,
          0.6750788643533123,
          0.6772151898734177,
          0.6793650793650794,
          0.678343949044586,
          0.6773162939297125,
          0.6794871794871795,
          0.6816720257234726,
          0.6838709677419355,
          0.686084142394822,
          0.6883116883116883,
          0.6872964169381107,
          0.6895424836601307,
          0.6918032786885245,
          0.694078947368421,
          0.6963696369636964,
          0.6986754966887417,
          0.7009966777408638,
          0.7033333333333334,
          0.705685618729097,
          0.7080536912751678,
          0.7070707070707071,
          0.7094594594594594,
          0.711864406779661,
          0.7108843537414966,
          0.7133105802047781,
          0.7157534246575342,
          0.718213058419244,
          0.7172413793103448,
          0.7197231833910035,
          0.7222222222222222,
          0.7247386759581882,
          0.7272727272727273,
          0.7298245614035088,
          0.7323943661971831,
          0.7304964539007093,
          0.7330960854092526,
          0.7357142857142858,
          0.7383512544802867,
          0.7410071942446043,
          0.7391304347826086,
          0.7381818181818182,
          0.7372262773722628,
          0.73992673992674,
          0.7426470588235294,
          0.7453874538745388,
          0.7481481481481481,
          0.7472118959107806,
          0.75,
          0.7528089887640449,
          0.7518796992481203,
          0.7547169811320755,
          0.752851711026616,
          0.7557251908396947,
          0.7586206896551724,
          0.7615384615384615,
          0.7644787644787645,
          0.7674418604651163,
          0.7665369649805448,
          0.76953125,
          0.7686274509803922,
          0.7649402390438247,
          0.7630522088353414,
          0.7661290322580645,
          0.7692307692307693,
          0.7682926829268293,
          0.7654320987654321,
          0.768595041322314,
          0.7717842323651453,
          0.775,
          0.7782426778242678,
          0.7773109243697479,
          0.7763713080168776,
          0.7796610169491526,
          0.7829787234042553,
          0.7863247863247863,
          0.7854077253218884,
          0.7844827586206896,
          0.7878787878787878,
          0.7913043478260869,
          0.7947598253275109,
          0.7982456140350878,
          0.801762114537445,
          0.8053097345132744,
          0.8035714285714286,
          0.8009049773755657,
          0.8,
          0.8036529680365296,
          0.8027522935779816,
          0.8064516129032258,
          0.8101851851851852,
          0.813953488372093,
          0.8177570093457944,
          0.8160377358490566,
          0.8151658767772512,
          0.8142857142857143,
          0.8133971291866029,
          0.8173076923076923,
          0.821256038647343,
          0.8195121951219512,
          0.8235294117647058,
          0.8275862068965517,
          0.8316831683168316,
          0.83,
          0.8341708542713567,
          0.8324873096446701,
          0.8316326530612245,
          0.8358974358974359,
          0.8350515463917526,
          0.8393782383419689,
          0.84375,
          0.8421052631578947,
          0.8465608465608465,
          0.851063829787234,
          0.8556149732620321,
          0.8532608695652174,
          0.8524590163934426,
          0.850828729281768,
          0.8555555555555555,
          0.8547486033519553,
          0.8531073446327684,
          0.8514285714285714,
          0.8563218390804598,
          0.8546511627906976,
          0.8538011695906432,
          0.8588235294117647,
          0.8571428571428571,
          0.8562874251497006,
          0.8614457831325302,
          0.8666666666666667,
          0.8719512195121951,
          0.8703703703703703,
          0.86875,
          0.8679245283018868,
          0.8734177215189873,
          0.8726114649681529,
          0.8709677419354839,
          0.869281045751634,
          0.875,
          0.8741721854304636,
          0.87248322147651,
          0.8783783783783784,
          0.8758620689655172,
          0.875,
          0.8732394366197183,
          0.8714285714285714,
          0.8686131386861314,
          0.8676470588235294,
          0.8656716417910447,
          0.8721804511278195,
          0.8787878787878788,
          0.8854961832061069,
          0.8846153846153846,
          0.8818897637795275,
          0.8809523809523809,
          0.8790322580645161,
          0.8780487804878049,
          0.8852459016393442,
          0.8803418803418803,
          0.8793103448275862,
          0.8782608695652174,
          0.875,
          0.8828828828828829,
          0.8818181818181818,
          0.8785046728971962,
          0.8773584905660378,
          0.8857142857142857,
          0.8942307692307693,
          0.8921568627450981,
          0.8877551020408163,
          0.8865979381443299,
          0.8958333333333334,
          0.8947368421052632,
          0.8936170212765957,
          0.8924731182795699,
          0.9021739130434783,
          0.9,
          0.9101123595505618,
          0.9090909090909091,
          0.9069767441860465,
          0.9176470588235294,
          0.9166666666666666,
          0.9156626506024096,
          0.926829268292683,
          0.925,
          0.9230769230769231,
          0.9210526315789473,
          0.918918918918919,
          0.9315068493150684,
          0.9305555555555556,
          0.9436619718309859,
          0.9428571428571428,
          0.9420289855072463,
          0.9411764705882353,
          0.9552238805970149,
          0.9696969696969697,
          0.9846153846153847,
          0.9841269841269841,
          0.9836065573770492,
          0.9830508474576272,
          0.9827586206896551,
          0.9824561403508771,
          0.9821428571428571,
          0.9814814814814815,
          0.98,
          1,
          1,
          1,
          1,
          1,
          1,
          1,
          1,
          1,
          1,
          1,
          1,
          1,
          1,
          1,
          1,
          1,
          1,
          1,
          1,
          1,
          1,
          1,
          1,
          1,
          1,
          1,
          1,
          1,
          1,
          1,
          1,
          1,
          1,
          1
         ],
         "yaxis": "y3"
        }
       ],
       "layout": {
        "annotations": [
         {
          "font": {
           "size": 16
          },
          "showarrow": false,
          "text": "Metrics",
          "x": 0.5,
          "xanchor": "center",
          "xref": "paper",
          "y": 1,
          "yanchor": "bottom",
          "yref": "paper"
         },
         {
          "font": {
           "size": 16
          },
          "showarrow": false,
          "text": "ROC curve (0.847)",
          "x": 0.5,
          "xanchor": "center",
          "xref": "paper",
          "y": 0.6111111111111112,
          "yanchor": "bottom",
          "yref": "paper"
         },
         {
          "font": {
           "size": 16
          },
          "showarrow": false,
          "text": "Precision - Recall curve",
          "x": 0.5,
          "xanchor": "center",
          "xref": "paper",
          "y": 0.22222222222222224,
          "yanchor": "bottom",
          "yref": "paper"
         }
        ],
        "autosize": false,
        "height": 900,
        "margin": {
         "b": 195
        },
        "paper_bgcolor": "rgba(240,240,240, 0.95)",
        "plot_bgcolor": "rgba(240,240,240, 0.95)",
        "showlegend": false,
        "template": {
         "data": {
          "bar": [
           {
            "error_x": {
             "color": "#2a3f5f"
            },
            "error_y": {
             "color": "#2a3f5f"
            },
            "marker": {
             "line": {
              "color": "#E5ECF6",
              "width": 0.5
             }
            },
            "type": "bar"
           }
          ],
          "barpolar": [
           {
            "marker": {
             "line": {
              "color": "#E5ECF6",
              "width": 0.5
             }
            },
            "type": "barpolar"
           }
          ],
          "carpet": [
           {
            "aaxis": {
             "endlinecolor": "#2a3f5f",
             "gridcolor": "white",
             "linecolor": "white",
             "minorgridcolor": "white",
             "startlinecolor": "#2a3f5f"
            },
            "baxis": {
             "endlinecolor": "#2a3f5f",
             "gridcolor": "white",
             "linecolor": "white",
             "minorgridcolor": "white",
             "startlinecolor": "#2a3f5f"
            },
            "type": "carpet"
           }
          ],
          "choropleth": [
           {
            "colorbar": {
             "outlinewidth": 0,
             "ticks": ""
            },
            "type": "choropleth"
           }
          ],
          "contour": [
           {
            "colorbar": {
             "outlinewidth": 0,
             "ticks": ""
            },
            "colorscale": [
             [
              0,
              "#0d0887"
             ],
             [
              0.1111111111111111,
              "#46039f"
             ],
             [
              0.2222222222222222,
              "#7201a8"
             ],
             [
              0.3333333333333333,
              "#9c179e"
             ],
             [
              0.4444444444444444,
              "#bd3786"
             ],
             [
              0.5555555555555556,
              "#d8576b"
             ],
             [
              0.6666666666666666,
              "#ed7953"
             ],
             [
              0.7777777777777778,
              "#fb9f3a"
             ],
             [
              0.8888888888888888,
              "#fdca26"
             ],
             [
              1,
              "#f0f921"
             ]
            ],
            "type": "contour"
           }
          ],
          "contourcarpet": [
           {
            "colorbar": {
             "outlinewidth": 0,
             "ticks": ""
            },
            "type": "contourcarpet"
           }
          ],
          "heatmap": [
           {
            "colorbar": {
             "outlinewidth": 0,
             "ticks": ""
            },
            "colorscale": [
             [
              0,
              "#0d0887"
             ],
             [
              0.1111111111111111,
              "#46039f"
             ],
             [
              0.2222222222222222,
              "#7201a8"
             ],
             [
              0.3333333333333333,
              "#9c179e"
             ],
             [
              0.4444444444444444,
              "#bd3786"
             ],
             [
              0.5555555555555556,
              "#d8576b"
             ],
             [
              0.6666666666666666,
              "#ed7953"
             ],
             [
              0.7777777777777778,
              "#fb9f3a"
             ],
             [
              0.8888888888888888,
              "#fdca26"
             ],
             [
              1,
              "#f0f921"
             ]
            ],
            "type": "heatmap"
           }
          ],
          "heatmapgl": [
           {
            "colorbar": {
             "outlinewidth": 0,
             "ticks": ""
            },
            "colorscale": [
             [
              0,
              "#0d0887"
             ],
             [
              0.1111111111111111,
              "#46039f"
             ],
             [
              0.2222222222222222,
              "#7201a8"
             ],
             [
              0.3333333333333333,
              "#9c179e"
             ],
             [
              0.4444444444444444,
              "#bd3786"
             ],
             [
              0.5555555555555556,
              "#d8576b"
             ],
             [
              0.6666666666666666,
              "#ed7953"
             ],
             [
              0.7777777777777778,
              "#fb9f3a"
             ],
             [
              0.8888888888888888,
              "#fdca26"
             ],
             [
              1,
              "#f0f921"
             ]
            ],
            "type": "heatmapgl"
           }
          ],
          "histogram": [
           {
            "marker": {
             "colorbar": {
              "outlinewidth": 0,
              "ticks": ""
             }
            },
            "type": "histogram"
           }
          ],
          "histogram2d": [
           {
            "colorbar": {
             "outlinewidth": 0,
             "ticks": ""
            },
            "colorscale": [
             [
              0,
              "#0d0887"
             ],
             [
              0.1111111111111111,
              "#46039f"
             ],
             [
              0.2222222222222222,
              "#7201a8"
             ],
             [
              0.3333333333333333,
              "#9c179e"
             ],
             [
              0.4444444444444444,
              "#bd3786"
             ],
             [
              0.5555555555555556,
              "#d8576b"
             ],
             [
              0.6666666666666666,
              "#ed7953"
             ],
             [
              0.7777777777777778,
              "#fb9f3a"
             ],
             [
              0.8888888888888888,
              "#fdca26"
             ],
             [
              1,
              "#f0f921"
             ]
            ],
            "type": "histogram2d"
           }
          ],
          "histogram2dcontour": [
           {
            "colorbar": {
             "outlinewidth": 0,
             "ticks": ""
            },
            "colorscale": [
             [
              0,
              "#0d0887"
             ],
             [
              0.1111111111111111,
              "#46039f"
             ],
             [
              0.2222222222222222,
              "#7201a8"
             ],
             [
              0.3333333333333333,
              "#9c179e"
             ],
             [
              0.4444444444444444,
              "#bd3786"
             ],
             [
              0.5555555555555556,
              "#d8576b"
             ],
             [
              0.6666666666666666,
              "#ed7953"
             ],
             [
              0.7777777777777778,
              "#fb9f3a"
             ],
             [
              0.8888888888888888,
              "#fdca26"
             ],
             [
              1,
              "#f0f921"
             ]
            ],
            "type": "histogram2dcontour"
           }
          ],
          "mesh3d": [
           {
            "colorbar": {
             "outlinewidth": 0,
             "ticks": ""
            },
            "type": "mesh3d"
           }
          ],
          "parcoords": [
           {
            "line": {
             "colorbar": {
              "outlinewidth": 0,
              "ticks": ""
             }
            },
            "type": "parcoords"
           }
          ],
          "pie": [
           {
            "automargin": true,
            "type": "pie"
           }
          ],
          "scatter": [
           {
            "marker": {
             "colorbar": {
              "outlinewidth": 0,
              "ticks": ""
             }
            },
            "type": "scatter"
           }
          ],
          "scatter3d": [
           {
            "line": {
             "colorbar": {
              "outlinewidth": 0,
              "ticks": ""
             }
            },
            "marker": {
             "colorbar": {
              "outlinewidth": 0,
              "ticks": ""
             }
            },
            "type": "scatter3d"
           }
          ],
          "scattercarpet": [
           {
            "marker": {
             "colorbar": {
              "outlinewidth": 0,
              "ticks": ""
             }
            },
            "type": "scattercarpet"
           }
          ],
          "scattergeo": [
           {
            "marker": {
             "colorbar": {
              "outlinewidth": 0,
              "ticks": ""
             }
            },
            "type": "scattergeo"
           }
          ],
          "scattergl": [
           {
            "marker": {
             "colorbar": {
              "outlinewidth": 0,
              "ticks": ""
             }
            },
            "type": "scattergl"
           }
          ],
          "scattermapbox": [
           {
            "marker": {
             "colorbar": {
              "outlinewidth": 0,
              "ticks": ""
             }
            },
            "type": "scattermapbox"
           }
          ],
          "scatterpolar": [
           {
            "marker": {
             "colorbar": {
              "outlinewidth": 0,
              "ticks": ""
             }
            },
            "type": "scatterpolar"
           }
          ],
          "scatterpolargl": [
           {
            "marker": {
             "colorbar": {
              "outlinewidth": 0,
              "ticks": ""
             }
            },
            "type": "scatterpolargl"
           }
          ],
          "scatterternary": [
           {
            "marker": {
             "colorbar": {
              "outlinewidth": 0,
              "ticks": ""
             }
            },
            "type": "scatterternary"
           }
          ],
          "surface": [
           {
            "colorbar": {
             "outlinewidth": 0,
             "ticks": ""
            },
            "colorscale": [
             [
              0,
              "#0d0887"
             ],
             [
              0.1111111111111111,
              "#46039f"
             ],
             [
              0.2222222222222222,
              "#7201a8"
             ],
             [
              0.3333333333333333,
              "#9c179e"
             ],
             [
              0.4444444444444444,
              "#bd3786"
             ],
             [
              0.5555555555555556,
              "#d8576b"
             ],
             [
              0.6666666666666666,
              "#ed7953"
             ],
             [
              0.7777777777777778,
              "#fb9f3a"
             ],
             [
              0.8888888888888888,
              "#fdca26"
             ],
             [
              1,
              "#f0f921"
             ]
            ],
            "type": "surface"
           }
          ],
          "table": [
           {
            "cells": {
             "fill": {
              "color": "#EBF0F8"
             },
             "line": {
              "color": "white"
             }
            },
            "header": {
             "fill": {
              "color": "#C8D4E3"
             },
             "line": {
              "color": "white"
             }
            },
            "type": "table"
           }
          ]
         },
         "layout": {
          "annotationdefaults": {
           "arrowcolor": "#2a3f5f",
           "arrowhead": 0,
           "arrowwidth": 1
          },
          "coloraxis": {
           "colorbar": {
            "outlinewidth": 0,
            "ticks": ""
           }
          },
          "colorscale": {
           "diverging": [
            [
             0,
             "#8e0152"
            ],
            [
             0.1,
             "#c51b7d"
            ],
            [
             0.2,
             "#de77ae"
            ],
            [
             0.3,
             "#f1b6da"
            ],
            [
             0.4,
             "#fde0ef"
            ],
            [
             0.5,
             "#f7f7f7"
            ],
            [
             0.6,
             "#e6f5d0"
            ],
            [
             0.7,
             "#b8e186"
            ],
            [
             0.8,
             "#7fbc41"
            ],
            [
             0.9,
             "#4d9221"
            ],
            [
             1,
             "#276419"
            ]
           ],
           "sequential": [
            [
             0,
             "#0d0887"
            ],
            [
             0.1111111111111111,
             "#46039f"
            ],
            [
             0.2222222222222222,
             "#7201a8"
            ],
            [
             0.3333333333333333,
             "#9c179e"
            ],
            [
             0.4444444444444444,
             "#bd3786"
            ],
            [
             0.5555555555555556,
             "#d8576b"
            ],
            [
             0.6666666666666666,
             "#ed7953"
            ],
            [
             0.7777777777777778,
             "#fb9f3a"
            ],
            [
             0.8888888888888888,
             "#fdca26"
            ],
            [
             1,
             "#f0f921"
            ]
           ],
           "sequentialminus": [
            [
             0,
             "#0d0887"
            ],
            [
             0.1111111111111111,
             "#46039f"
            ],
            [
             0.2222222222222222,
             "#7201a8"
            ],
            [
             0.3333333333333333,
             "#9c179e"
            ],
            [
             0.4444444444444444,
             "#bd3786"
            ],
            [
             0.5555555555555556,
             "#d8576b"
            ],
            [
             0.6666666666666666,
             "#ed7953"
            ],
            [
             0.7777777777777778,
             "#fb9f3a"
            ],
            [
             0.8888888888888888,
             "#fdca26"
            ],
            [
             1,
             "#f0f921"
            ]
           ]
          },
          "colorway": [
           "#636efa",
           "#EF553B",
           "#00cc96",
           "#ab63fa",
           "#FFA15A",
           "#19d3f3",
           "#FF6692",
           "#B6E880",
           "#FF97FF",
           "#FECB52"
          ],
          "font": {
           "color": "#2a3f5f"
          },
          "geo": {
           "bgcolor": "white",
           "lakecolor": "white",
           "landcolor": "#E5ECF6",
           "showlakes": true,
           "showland": true,
           "subunitcolor": "white"
          },
          "hoverlabel": {
           "align": "left"
          },
          "hovermode": "closest",
          "mapbox": {
           "style": "light"
          },
          "paper_bgcolor": "white",
          "plot_bgcolor": "#E5ECF6",
          "polar": {
           "angularaxis": {
            "gridcolor": "white",
            "linecolor": "white",
            "ticks": ""
           },
           "bgcolor": "#E5ECF6",
           "radialaxis": {
            "gridcolor": "white",
            "linecolor": "white",
            "ticks": ""
           }
          },
          "scene": {
           "xaxis": {
            "backgroundcolor": "#E5ECF6",
            "gridcolor": "white",
            "gridwidth": 2,
            "linecolor": "white",
            "showbackground": true,
            "ticks": "",
            "zerolinecolor": "white"
           },
           "yaxis": {
            "backgroundcolor": "#E5ECF6",
            "gridcolor": "white",
            "gridwidth": 2,
            "linecolor": "white",
            "showbackground": true,
            "ticks": "",
            "zerolinecolor": "white"
           },
           "zaxis": {
            "backgroundcolor": "#E5ECF6",
            "gridcolor": "white",
            "gridwidth": 2,
            "linecolor": "white",
            "showbackground": true,
            "ticks": "",
            "zerolinecolor": "white"
           }
          },
          "shapedefaults": {
           "line": {
            "color": "#2a3f5f"
           }
          },
          "ternary": {
           "aaxis": {
            "gridcolor": "white",
            "linecolor": "white",
            "ticks": ""
           },
           "baxis": {
            "gridcolor": "white",
            "linecolor": "white",
            "ticks": ""
           },
           "bgcolor": "#E5ECF6",
           "caxis": {
            "gridcolor": "white",
            "linecolor": "white",
            "ticks": ""
           }
          },
          "title": {
           "x": 0.05
          },
          "xaxis": {
           "automargin": true,
           "gridcolor": "white",
           "linecolor": "white",
           "ticks": "",
           "title": {
            "standoff": 15
           },
           "zerolinecolor": "white",
           "zerolinewidth": 2
          },
          "yaxis": {
           "automargin": true,
           "gridcolor": "white",
           "linecolor": "white",
           "ticks": "",
           "title": {
            "standoff": 15
           },
           "zerolinecolor": "white",
           "zerolinewidth": 2
          }
         }
        },
        "title": {
         "font": {
          "size": 14
         },
         "text": "<b>Model performance</b><br>rf"
        },
        "width": 450,
        "xaxis": {
         "anchor": "y",
         "domain": [
          0,
          1
         ]
        },
        "xaxis2": {
         "anchor": "y2",
         "domain": [
          0,
          1
         ],
         "title": {
          "text": "false positive rate"
         }
        },
        "xaxis3": {
         "anchor": "y3",
         "domain": [
          0,
          1
         ],
         "range": [
          0,
          1.05
         ],
         "title": {
          "text": "recall"
         }
        },
        "yaxis": {
         "anchor": "x",
         "domain": [
          0.7777777777777778,
          1
         ]
        },
        "yaxis2": {
         "anchor": "x2",
         "domain": [
          0.3888888888888889,
          0.6111111111111112
         ],
         "title": {
          "text": "true positive rate"
         }
        },
        "yaxis3": {
         "anchor": "x3",
         "domain": [
          0,
          0.22222222222222224
         ],
         "range": [
          0,
          1.05
         ],
         "title": {
          "text": "precision"
         }
        }
       }
      },
      "text/html": [
       "<div>\n",
       "        \n",
       "        \n",
       "            <div id=\"e5ba0bb3-197d-4fcb-8fb0-3953a012c4cd\" class=\"plotly-graph-div\" style=\"height:900px; width:450px;\"></div>\n",
       "            <script type=\"text/javascript\">\n",
       "                require([\"plotly\"], function(Plotly) {\n",
       "                    window.PLOTLYENV=window.PLOTLYENV || {};\n",
       "                    \n",
       "                if (document.getElementById(\"e5ba0bb3-197d-4fcb-8fb0-3953a012c4cd\")) {\n",
       "                    Plotly.newPlot(\n",
       "                        'e5ba0bb3-197d-4fcb-8fb0-3953a012c4cd',\n",
       "                        [{\"marker\": {\"color\": [\"gold\", \"lightgreen\", \"lightcoral\", \"lightskyblue\"], \"line\": {\"color\": \"#000000\", \"width\": 1.5}}, \"opacity\": 0.8, \"orientation\": \"h\", \"text\": [0.7794, 0.7948, 0.7459, 0.7696], \"textposition\": \"auto\", \"type\": \"bar\", \"x\": [0.7793522267206477, 0.7947598253275109, 0.7459016393442623, 0.7695560253699789], \"xaxis\": \"x\", \"y\": [\"Accuracy\", \"Precision\", \"Recall\", \"F1_score\"], \"yaxis\": \"y\"}, {\"fill\": \"tozeroy\", \"line\": {\"color\": \"rgb(22, 96, 167)\", \"width\": 2}, \"name\": \"Roc : \", \"type\": \"scatter\", \"x\": [0.0, 0.0, 0.0, 0.0, 0.0, 0.0, 0.0, 0.0, 0.0, 0.0, 0.0, 0.0, 0.0, 0.0, 0.0, 0.0, 0.0, 0.0, 0.004, 0.004, 0.004, 0.004, 0.004, 0.016, 0.016, 0.02, 0.02, 0.024, 0.024, 0.028, 0.028, 0.032, 0.032, 0.032, 0.036, 0.036, 0.04, 0.04, 0.044, 0.044, 0.044, 0.044, 0.052, 0.052, 0.052, 0.052, 0.056, 0.056, 0.056, 0.056, 0.06, 0.06, 0.06, 0.06, 0.06, 0.06, 0.072, 0.072, 0.072, 0.072, 0.072, 0.072, 0.072, 0.076, 0.076, 0.076, 0.08, 0.08, 0.08, 0.084, 0.084, 0.084, 0.096, 0.096, 0.096, 0.1, 0.1, 0.1, 0.104, 0.104, 0.104, 0.108, 0.108, 0.108, 0.108, 0.12, 0.12, 0.128, 0.128, 0.132, 0.132, 0.132, 0.136, 0.136, 0.148, 0.148, 0.156, 0.156, 0.156, 0.172, 0.172, 0.176, 0.176, 0.176, 0.176, 0.2, 0.2, 0.212, 0.212, 0.228, 0.228, 0.228, 0.236, 0.236, 0.236, 0.236, 0.24, 0.24, 0.26, 0.26, 0.264, 0.264, 0.272, 0.272, 0.288, 0.288, 0.288, 0.304, 0.304, 0.328, 0.328, 0.34, 0.34, 0.348, 0.348, 0.384, 0.384, 0.404, 0.404, 0.428, 0.428, 0.436, 0.436, 0.512, 0.512, 0.54, 0.54, 0.564, 0.572, 0.58, 0.58, 0.608, 0.608, 0.616, 0.616, 0.66, 0.66, 0.664, 0.664, 0.704, 0.704, 0.708, 0.708, 0.72, 0.72, 0.724, 0.724, 0.74, 0.74, 0.792, 0.792, 0.84, 0.84, 0.868, 0.868, 1.0], \"xaxis\": \"x2\", \"y\": [0.0, 0.004098360655737705, 0.012295081967213115, 0.02459016393442623, 0.040983606557377046, 0.045081967213114756, 0.05327868852459016, 0.07377049180327869, 0.09016393442622951, 0.10655737704918032, 0.11475409836065574, 0.12295081967213115, 0.13524590163934427, 0.14344262295081966, 0.1557377049180328, 0.18032786885245902, 0.19262295081967212, 0.20081967213114754, 0.20081967213114754, 0.21721311475409835, 0.22540983606557377, 0.23770491803278687, 0.26229508196721313, 0.26229508196721313, 0.27459016393442626, 0.27459016393442626, 0.2786885245901639, 0.2786885245901639, 0.3114754098360656, 0.3114754098360656, 0.319672131147541, 0.319672131147541, 0.32786885245901637, 0.3319672131147541, 0.3319672131147541, 0.3401639344262295, 0.3401639344262295, 0.3524590163934426, 0.3524590163934426, 0.35655737704918034, 0.3729508196721312, 0.38114754098360654, 0.38114754098360654, 0.38524590163934425, 0.3975409836065574, 0.4016393442622951, 0.4016393442622951, 0.4139344262295082, 0.42213114754098363, 0.4426229508196721, 0.4426229508196721, 0.44672131147540983, 0.45491803278688525, 0.45901639344262296, 0.4713114754098361, 0.47540983606557374, 0.47540983606557374, 0.48360655737704916, 0.48770491803278687, 0.5, 0.5163934426229508, 0.5204918032786885, 0.5327868852459017, 0.5327868852459017, 0.5409836065573771, 0.5450819672131147, 0.5450819672131147, 0.5614754098360656, 0.5655737704918032, 0.5655737704918032, 0.569672131147541, 0.5860655737704918, 0.5860655737704918, 0.5901639344262295, 0.5983606557377049, 0.5983606557377049, 0.6024590163934426, 0.610655737704918, 0.610655737704918, 0.6270491803278688, 0.6311475409836066, 0.6311475409836066, 0.639344262295082, 0.6434426229508197, 0.6557377049180327, 0.6557377049180327, 0.6639344262295082, 0.6639344262295082, 0.6680327868852459, 0.6680327868852459, 0.6721311475409836, 0.680327868852459, 0.680327868852459, 0.6885245901639344, 0.6885245901639344, 0.6967213114754098, 0.6967213114754098, 0.7090163934426229, 0.7172131147540983, 0.7172131147540983, 0.7213114754098361, 0.7213114754098361, 0.7254098360655737, 0.7377049180327869, 0.7459016393442623, 0.7459016393442623, 0.7540983606557377, 0.7540983606557377, 0.7622950819672131, 0.7622950819672131, 0.7745901639344263, 0.7786885245901639, 0.7786885245901639, 0.7868852459016393, 0.8032786885245902, 0.8073770491803278, 0.8073770491803278, 0.8114754098360656, 0.8114754098360656, 0.819672131147541, 0.819672131147541, 0.8237704918032787, 0.8237704918032787, 0.8278688524590164, 0.8278688524590164, 0.8360655737704918, 0.8442622950819673, 0.8442622950819673, 0.8524590163934426, 0.8524590163934426, 0.8565573770491803, 0.8565573770491803, 0.860655737704918, 0.860655737704918, 0.8647540983606558, 0.8647540983606558, 0.8688524590163934, 0.8688524590163934, 0.8770491803278688, 0.8770491803278688, 0.8934426229508197, 0.8934426229508197, 0.8975409836065574, 0.8975409836065574, 0.9016393442622951, 0.9016393442622951, 0.9057377049180327, 0.9057377049180327, 0.9057377049180327, 0.9057377049180327, 0.9139344262295082, 0.9139344262295082, 0.9180327868852459, 0.9180327868852459, 0.9262295081967213, 0.9262295081967213, 0.930327868852459, 0.930327868852459, 0.9508196721311475, 0.9508196721311475, 0.9549180327868853, 0.9549180327868853, 0.9631147540983607, 0.9631147540983607, 0.9713114754098361, 0.9713114754098361, 0.9754098360655737, 0.9754098360655737, 0.9836065573770492, 0.9836065573770492, 0.9918032786885246, 0.9918032786885246, 0.9959016393442623, 0.9959016393442623, 1.0, 1.0], \"yaxis\": \"y2\"}, {\"line\": {\"color\": \"black\", \"dash\": \"dot\", \"width\": 1.5}, \"type\": \"scatter\", \"x\": [0, 1], \"xaxis\": \"x2\", \"y\": [0, 1], \"yaxis\": \"y2\"}, {\"fill\": \"tozeroy\", \"line\": {\"color\": \"lightcoral\", \"width\": 2}, \"name\": \"Precision[0.52928416 0.52826087 0.52941176 0.53056769 0.53172867 0.53289474\\n 0.53406593 0.53524229 0.53642384 0.53539823 0.53658537 0.53777778\\n 0.5389755  0.54017857 0.54138702 0.5426009  0.54382022 0.54504505\\n 0.5462754  0.54751131 0.54875283 0.55       0.54794521 0.54919908\\n 0.55045872 0.55172414 0.55299539 0.55427252 0.55555556 0.55684455\\n 0.55813953 0.55944056 0.56074766 0.56206089 0.56338028 0.56470588\\n 0.56264775 0.56398104 0.56532067 0.56666667 0.56801909 0.56698565\\n 0.56834532 0.56730769 0.56626506 0.56763285 0.56900726 0.57038835\\n 0.56829268 0.56968215 0.56862745 0.57002457 0.57142857 0.57283951\\n 0.57425743 0.57568238 0.57711443 0.57855362 0.58       0.58145363\\n 0.58291457 0.57760814 0.57908163 0.57800512 0.57948718 0.58097686\\n 0.58247423 0.58397933 0.58549223 0.58701299 0.58854167 0.59007833\\n 0.59162304 0.59317585 0.59473684 0.59259259 0.59416446 0.59574468\\n 0.59466667 0.59625668 0.59785523 0.59946237 0.60107817 0.6027027\\n 0.60433604 0.60597826 0.60382514 0.60547945 0.60714286 0.61049724\\n 0.61218837 0.61388889 0.61559889 0.61731844 0.61904762 0.62078652\\n 0.61971831 0.62146893 0.62322946 0.625      0.62678063 0.62857143\\n 0.63037249 0.63218391 0.63112392 0.63294798 0.63478261 0.63662791\\n 0.63848397 0.64035088 0.64222874 0.64411765 0.6460177  0.64792899\\n 0.64985163 0.65178571 0.65373134 0.65568862 0.65765766 0.65963855\\n 0.66163142 0.66363636 0.6656535  0.66768293 0.66666667 0.66871166\\n 0.67076923 0.66666667 0.66875    0.67084639 0.67295597 0.67507886\\n 0.67721519 0.67936508 0.67834395 0.67731629 0.67948718 0.68167203\\n 0.68387097 0.68608414 0.68831169 0.68729642 0.68954248 0.69180328\\n 0.69407895 0.69636964 0.6986755  0.70099668 0.70333333 0.70568562\\n 0.70805369 0.70707071 0.70945946 0.71186441 0.71088435 0.71331058\\n 0.71575342 0.71821306 0.71724138 0.71972318 0.72222222 0.72473868\\n 0.72727273 0.72982456 0.73239437 0.73049645 0.73309609 0.73571429\\n 0.73835125 0.74100719 0.73913043 0.73818182 0.73722628 0.73992674\\n 0.74264706 0.74538745 0.74814815 0.7472119  0.75       0.75280899\\n 0.7518797  0.75471698 0.75285171 0.75572519 0.75862069 0.76153846\\n 0.76447876 0.76744186 0.76653696 0.76953125 0.76862745 0.76494024\\n 0.76305221 0.76612903 0.76923077 0.76829268 0.7654321  0.76859504\\n 0.77178423 0.775      0.77824268 0.77731092 0.77637131 0.77966102\\n 0.78297872 0.78632479 0.78540773 0.78448276 0.78787879 0.79130435\\n 0.79475983 0.79824561 0.80176211 0.80530973 0.80357143 0.80090498\\n 0.8        0.80365297 0.80275229 0.80645161 0.81018519 0.81395349\\n 0.81775701 0.81603774 0.81516588 0.81428571 0.81339713 0.81730769\\n 0.82125604 0.8195122  0.82352941 0.82758621 0.83168317 0.83\\n 0.83417085 0.83248731 0.83163265 0.83589744 0.83505155 0.83937824\\n 0.84375    0.84210526 0.84656085 0.85106383 0.85561497 0.85326087\\n 0.85245902 0.85082873 0.85555556 0.8547486  0.85310734 0.85142857\\n 0.85632184 0.85465116 0.85380117 0.85882353 0.85714286 0.85628743\\n 0.86144578 0.86666667 0.87195122 0.87037037 0.86875    0.86792453\\n 0.87341772 0.87261146 0.87096774 0.86928105 0.875      0.87417219\\n 0.87248322 0.87837838 0.87586207 0.875      0.87323944 0.87142857\\n 0.86861314 0.86764706 0.86567164 0.87218045 0.87878788 0.88549618\\n 0.88461538 0.88188976 0.88095238 0.87903226 0.87804878 0.8852459\\n 0.88034188 0.87931034 0.87826087 0.875      0.88288288 0.88181818\\n 0.87850467 0.87735849 0.88571429 0.89423077 0.89215686 0.8877551\\n 0.88659794 0.89583333 0.89473684 0.89361702 0.89247312 0.90217391\\n 0.9        0.91011236 0.90909091 0.90697674 0.91764706 0.91666667\\n 0.91566265 0.92682927 0.925      0.92307692 0.92105263 0.91891892\\n 0.93150685 0.93055556 0.94366197 0.94285714 0.94202899 0.94117647\\n 0.95522388 0.96969697 0.98461538 0.98412698 0.98360656 0.98305085\\n 0.98275862 0.98245614 0.98214286 0.98148148 0.98       1.\\n 1.         1.         1.         1.         1.         1.\\n 1.         1.         1.         1.         1.         1.\\n 1.         1.         1.         1.         1.         1.\\n 1.         1.         1.         1.         1.         1.\\n 1.         1.         1.         1.         1.         1.\\n 1.         1.         1.         1.        ]\", \"type\": \"scatter\", \"x\": [1.0, 0.9959016393442623, 0.9959016393442623, 0.9959016393442623, 0.9959016393442623, 0.9959016393442623, 0.9959016393442623, 0.9959016393442623, 0.9959016393442623, 0.9918032786885246, 0.9918032786885246, 0.9918032786885246, 0.9918032786885246, 0.9918032786885246, 0.9918032786885246, 0.9918032786885246, 0.9918032786885246, 0.9918032786885246, 0.9918032786885246, 0.9918032786885246, 0.9918032786885246, 0.9918032786885246, 0.9836065573770492, 0.9836065573770492, 0.9836065573770492, 0.9836065573770492, 0.9836065573770492, 0.9836065573770492, 0.9836065573770492, 0.9836065573770492, 0.9836065573770492, 0.9836065573770492, 0.9836065573770492, 0.9836065573770492, 0.9836065573770492, 0.9836065573770492, 0.9754098360655737, 0.9754098360655737, 0.9754098360655737, 0.9754098360655737, 0.9754098360655737, 0.9713114754098361, 0.9713114754098361, 0.9672131147540983, 0.9631147540983607, 0.9631147540983607, 0.9631147540983607, 0.9631147540983607, 0.9549180327868853, 0.9549180327868853, 0.9508196721311475, 0.9508196721311475, 0.9508196721311475, 0.9508196721311475, 0.9508196721311475, 0.9508196721311475, 0.9508196721311475, 0.9508196721311475, 0.9508196721311475, 0.9508196721311475, 0.9508196721311475, 0.930327868852459, 0.930327868852459, 0.9262295081967213, 0.9262295081967213, 0.9262295081967213, 0.9262295081967213, 0.9262295081967213, 0.9262295081967213, 0.9262295081967213, 0.9262295081967213, 0.9262295081967213, 0.9262295081967213, 0.9262295081967213, 0.9262295081967213, 0.9180327868852459, 0.9180327868852459, 0.9180327868852459, 0.9139344262295082, 0.9139344262295082, 0.9139344262295082, 0.9139344262295082, 0.9139344262295082, 0.9139344262295082, 0.9139344262295082, 0.9139344262295082, 0.9057377049180327, 0.9057377049180327, 0.9057377049180327, 0.9057377049180327, 0.9057377049180327, 0.9057377049180327, 0.9057377049180327, 0.9057377049180327, 0.9057377049180327, 0.9057377049180327, 0.9016393442622951, 0.9016393442622951, 0.9016393442622951, 0.9016393442622951, 0.9016393442622951, 0.9016393442622951, 0.9016393442622951, 0.9016393442622951, 0.8975409836065574, 0.8975409836065574, 0.8975409836065574, 0.8975409836065574, 0.8975409836065574, 0.8975409836065574, 0.8975409836065574, 0.8975409836065574, 0.8975409836065574, 0.8975409836065574, 0.8975409836065574, 0.8975409836065574, 0.8975409836065574, 0.8975409836065574, 0.8975409836065574, 0.8975409836065574, 0.8975409836065574, 0.8975409836065574, 0.8975409836065574, 0.8975409836065574, 0.8934426229508197, 0.8934426229508197, 0.8934426229508197, 0.8770491803278688, 0.8770491803278688, 0.8770491803278688, 0.8770491803278688, 0.8770491803278688, 0.8770491803278688, 0.8770491803278688, 0.8729508196721312, 0.8688524590163934, 0.8688524590163934, 0.8688524590163934, 0.8688524590163934, 0.8688524590163934, 0.8688524590163934, 0.8647540983606558, 0.8647540983606558, 0.8647540983606558, 0.8647540983606558, 0.8647540983606558, 0.8647540983606558, 0.8647540983606558, 0.8647540983606558, 0.8647540983606558, 0.8647540983606558, 0.860655737704918, 0.860655737704918, 0.860655737704918, 0.8565573770491803, 0.8565573770491803, 0.8565573770491803, 0.8565573770491803, 0.8524590163934426, 0.8524590163934426, 0.8524590163934426, 0.8524590163934426, 0.8524590163934426, 0.8524590163934426, 0.8524590163934426, 0.8442622950819673, 0.8442622950819673, 0.8442622950819673, 0.8442622950819673, 0.8442622950819673, 0.8360655737704918, 0.8319672131147541, 0.8278688524590164, 0.8278688524590164, 0.8278688524590164, 0.8278688524590164, 0.8278688524590164, 0.8237704918032787, 0.8237704918032787, 0.8237704918032787, 0.819672131147541, 0.819672131147541, 0.8114754098360656, 0.8114754098360656, 0.8114754098360656, 0.8114754098360656, 0.8114754098360656, 0.8114754098360656, 0.8073770491803278, 0.8073770491803278, 0.8032786885245902, 0.7868852459016393, 0.7786885245901639, 0.7786885245901639, 0.7786885245901639, 0.7745901639344263, 0.7622950819672131, 0.7622950819672131, 0.7622950819672131, 0.7622950819672131, 0.7622950819672131, 0.7581967213114754, 0.7540983606557377, 0.7540983606557377, 0.7540983606557377, 0.7540983606557377, 0.75, 0.7459016393442623, 0.7459016393442623, 0.7459016393442623, 0.7459016393442623, 0.7459016393442623, 0.7459016393442623, 0.7459016393442623, 0.7377049180327869, 0.7254098360655737, 0.7213114754098361, 0.7213114754098361, 0.7172131147540983, 0.7172131147540983, 0.7172131147540983, 0.7172131147540983, 0.7172131147540983, 0.7090163934426229, 0.7049180327868853, 0.7008196721311475, 0.6967213114754098, 0.6967213114754098, 0.6967213114754098, 0.6885245901639344, 0.6885245901639344, 0.6885245901639344, 0.6885245901639344, 0.680327868852459, 0.680327868852459, 0.6721311475409836, 0.6680327868852459, 0.6680327868852459, 0.6639344262295082, 0.6639344262295082, 0.6639344262295082, 0.6557377049180327, 0.6557377049180327, 0.6557377049180327, 0.6557377049180327, 0.6434426229508197, 0.639344262295082, 0.6311475409836066, 0.6311475409836066, 0.6270491803278688, 0.6188524590163934, 0.610655737704918, 0.610655737704918, 0.6024590163934426, 0.5983606557377049, 0.5983606557377049, 0.5901639344262295, 0.5860655737704918, 0.5860655737704918, 0.5860655737704918, 0.5860655737704918, 0.5778688524590164, 0.569672131147541, 0.5655737704918032, 0.5655737704918032, 0.5614754098360656, 0.5532786885245902, 0.5450819672131147, 0.5450819672131147, 0.5409836065573771, 0.5327868852459017, 0.5327868852459017, 0.5204918032786885, 0.5163934426229508, 0.5081967213114754, 0.5, 0.48770491803278687, 0.48360655737704916, 0.47540983606557374, 0.47540983606557374, 0.47540983606557374, 0.47540983606557374, 0.4713114754098361, 0.45901639344262296, 0.45491803278688525, 0.44672131147540983, 0.4426229508196721, 0.4426229508196721, 0.42213114754098363, 0.4180327868852459, 0.4139344262295082, 0.4016393442622951, 0.4016393442622951, 0.3975409836065574, 0.38524590163934425, 0.38114754098360654, 0.38114754098360654, 0.38114754098360654, 0.3729508196721312, 0.35655737704918034, 0.3524590163934426, 0.3524590163934426, 0.3483606557377049, 0.3442622950819672, 0.3401639344262295, 0.3401639344262295, 0.3319672131147541, 0.3319672131147541, 0.32786885245901637, 0.319672131147541, 0.319672131147541, 0.3155737704918033, 0.3114754098360656, 0.3114754098360656, 0.30327868852459017, 0.29508196721311475, 0.28688524590163933, 0.2786885245901639, 0.2786885245901639, 0.27459016393442626, 0.27459016393442626, 0.27049180327868855, 0.26639344262295084, 0.26229508196721313, 0.26229508196721313, 0.26229508196721313, 0.26229508196721313, 0.2540983606557377, 0.2459016393442623, 0.23770491803278687, 0.2336065573770492, 0.22950819672131148, 0.22540983606557377, 0.21721311475409835, 0.20081967213114754, 0.20081967213114754, 0.19262295081967212, 0.1885245901639344, 0.18442622950819673, 0.18032786885245902, 0.1721311475409836, 0.16393442622950818, 0.1557377049180328, 0.14344262295081966, 0.13934426229508196, 0.13524590163934427, 0.12295081967213115, 0.11885245901639344, 0.11475409836065574, 0.10655737704918032, 0.10245901639344263, 0.09836065573770492, 0.0942622950819672, 0.09016393442622951, 0.08196721311475409, 0.07377049180327869, 0.06967213114754098, 0.06557377049180328, 0.06147540983606557, 0.05737704918032787, 0.05327868852459016, 0.045081967213114756, 0.040983606557377046, 0.03278688524590164, 0.02459016393442623, 0.020491803278688523, 0.01639344262295082, 0.012295081967213115, 0.004098360655737705, 0.0], \"xaxis\": \"x3\", \"y\": [0.5292841648590022, 0.5282608695652173, 0.5294117647058824, 0.5305676855895196, 0.5317286652078774, 0.5328947368421053, 0.5340659340659341, 0.5352422907488987, 0.5364238410596026, 0.5353982300884956, 0.5365853658536586, 0.5377777777777778, 0.5389755011135857, 0.5401785714285714, 0.5413870246085011, 0.5426008968609866, 0.5438202247191011, 0.545045045045045, 0.54627539503386, 0.5475113122171946, 0.5487528344671202, 0.55, 0.547945205479452, 0.5491990846681922, 0.5504587155963303, 0.5517241379310345, 0.5529953917050692, 0.5542725173210161, 0.5555555555555556, 0.5568445475638051, 0.5581395348837209, 0.5594405594405595, 0.5607476635514018, 0.5620608899297423, 0.5633802816901409, 0.5647058823529412, 0.5626477541371159, 0.5639810426540285, 0.5653206650831354, 0.5666666666666667, 0.568019093078759, 0.5669856459330144, 0.5683453237410072, 0.5673076923076923, 0.5662650602409639, 0.5676328502415459, 0.5690072639225182, 0.5703883495145631, 0.5682926829268292, 0.5696821515892421, 0.5686274509803921, 0.5700245700245701, 0.5714285714285714, 0.5728395061728395, 0.5742574257425742, 0.575682382133995, 0.5771144278606966, 0.5785536159600998, 0.58, 0.581453634085213, 0.5829145728643216, 0.5776081424936387, 0.5790816326530612, 0.578005115089514, 0.5794871794871795, 0.5809768637532133, 0.5824742268041238, 0.5839793281653747, 0.5854922279792746, 0.587012987012987, 0.5885416666666666, 0.5900783289817232, 0.5916230366492147, 0.5931758530183727, 0.5947368421052631, 0.5925925925925926, 0.5941644562334217, 0.5957446808510638, 0.5946666666666667, 0.5962566844919787, 0.5978552278820375, 0.5994623655913979, 0.601078167115903, 0.6027027027027027, 0.6043360433604336, 0.6059782608695652, 0.6038251366120219, 0.6054794520547945, 0.6071428571428571, 0.6104972375690608, 0.6121883656509696, 0.6138888888888889, 0.6155988857938719, 0.61731843575419, 0.6190476190476191, 0.6207865168539326, 0.6197183098591549, 0.6214689265536724, 0.623229461756374, 0.625, 0.6267806267806267, 0.6285714285714286, 0.6303724928366762, 0.632183908045977, 0.6311239193083573, 0.6329479768786127, 0.6347826086956522, 0.6366279069767442, 0.6384839650145773, 0.6403508771929824, 0.6422287390029325, 0.6441176470588236, 0.6460176991150443, 0.6479289940828402, 0.6498516320474778, 0.6517857142857143, 0.6537313432835821, 0.655688622754491, 0.6576576576576577, 0.6596385542168675, 0.6616314199395771, 0.6636363636363637, 0.6656534954407295, 0.6676829268292683, 0.6666666666666666, 0.6687116564417178, 0.6707692307692308, 0.6666666666666666, 0.66875, 0.670846394984326, 0.6729559748427673, 0.6750788643533123, 0.6772151898734177, 0.6793650793650794, 0.678343949044586, 0.6773162939297125, 0.6794871794871795, 0.6816720257234726, 0.6838709677419355, 0.686084142394822, 0.6883116883116883, 0.6872964169381107, 0.6895424836601307, 0.6918032786885245, 0.694078947368421, 0.6963696369636964, 0.6986754966887417, 0.7009966777408638, 0.7033333333333334, 0.705685618729097, 0.7080536912751678, 0.7070707070707071, 0.7094594594594594, 0.711864406779661, 0.7108843537414966, 0.7133105802047781, 0.7157534246575342, 0.718213058419244, 0.7172413793103448, 0.7197231833910035, 0.7222222222222222, 0.7247386759581882, 0.7272727272727273, 0.7298245614035088, 0.7323943661971831, 0.7304964539007093, 0.7330960854092526, 0.7357142857142858, 0.7383512544802867, 0.7410071942446043, 0.7391304347826086, 0.7381818181818182, 0.7372262773722628, 0.73992673992674, 0.7426470588235294, 0.7453874538745388, 0.7481481481481481, 0.7472118959107806, 0.75, 0.7528089887640449, 0.7518796992481203, 0.7547169811320755, 0.752851711026616, 0.7557251908396947, 0.7586206896551724, 0.7615384615384615, 0.7644787644787645, 0.7674418604651163, 0.7665369649805448, 0.76953125, 0.7686274509803922, 0.7649402390438247, 0.7630522088353414, 0.7661290322580645, 0.7692307692307693, 0.7682926829268293, 0.7654320987654321, 0.768595041322314, 0.7717842323651453, 0.775, 0.7782426778242678, 0.7773109243697479, 0.7763713080168776, 0.7796610169491526, 0.7829787234042553, 0.7863247863247863, 0.7854077253218884, 0.7844827586206896, 0.7878787878787878, 0.7913043478260869, 0.7947598253275109, 0.7982456140350878, 0.801762114537445, 0.8053097345132744, 0.8035714285714286, 0.8009049773755657, 0.8, 0.8036529680365296, 0.8027522935779816, 0.8064516129032258, 0.8101851851851852, 0.813953488372093, 0.8177570093457944, 0.8160377358490566, 0.8151658767772512, 0.8142857142857143, 0.8133971291866029, 0.8173076923076923, 0.821256038647343, 0.8195121951219512, 0.8235294117647058, 0.8275862068965517, 0.8316831683168316, 0.83, 0.8341708542713567, 0.8324873096446701, 0.8316326530612245, 0.8358974358974359, 0.8350515463917526, 0.8393782383419689, 0.84375, 0.8421052631578947, 0.8465608465608465, 0.851063829787234, 0.8556149732620321, 0.8532608695652174, 0.8524590163934426, 0.850828729281768, 0.8555555555555555, 0.8547486033519553, 0.8531073446327684, 0.8514285714285714, 0.8563218390804598, 0.8546511627906976, 0.8538011695906432, 0.8588235294117647, 0.8571428571428571, 0.8562874251497006, 0.8614457831325302, 0.8666666666666667, 0.8719512195121951, 0.8703703703703703, 0.86875, 0.8679245283018868, 0.8734177215189873, 0.8726114649681529, 0.8709677419354839, 0.869281045751634, 0.875, 0.8741721854304636, 0.87248322147651, 0.8783783783783784, 0.8758620689655172, 0.875, 0.8732394366197183, 0.8714285714285714, 0.8686131386861314, 0.8676470588235294, 0.8656716417910447, 0.8721804511278195, 0.8787878787878788, 0.8854961832061069, 0.8846153846153846, 0.8818897637795275, 0.8809523809523809, 0.8790322580645161, 0.8780487804878049, 0.8852459016393442, 0.8803418803418803, 0.8793103448275862, 0.8782608695652174, 0.875, 0.8828828828828829, 0.8818181818181818, 0.8785046728971962, 0.8773584905660378, 0.8857142857142857, 0.8942307692307693, 0.8921568627450981, 0.8877551020408163, 0.8865979381443299, 0.8958333333333334, 0.8947368421052632, 0.8936170212765957, 0.8924731182795699, 0.9021739130434783, 0.9, 0.9101123595505618, 0.9090909090909091, 0.9069767441860465, 0.9176470588235294, 0.9166666666666666, 0.9156626506024096, 0.926829268292683, 0.925, 0.9230769230769231, 0.9210526315789473, 0.918918918918919, 0.9315068493150684, 0.9305555555555556, 0.9436619718309859, 0.9428571428571428, 0.9420289855072463, 0.9411764705882353, 0.9552238805970149, 0.9696969696969697, 0.9846153846153847, 0.9841269841269841, 0.9836065573770492, 0.9830508474576272, 0.9827586206896551, 0.9824561403508771, 0.9821428571428571, 0.9814814814814815, 0.98, 1.0, 1.0, 1.0, 1.0, 1.0, 1.0, 1.0, 1.0, 1.0, 1.0, 1.0, 1.0, 1.0, 1.0, 1.0, 1.0, 1.0, 1.0, 1.0, 1.0, 1.0, 1.0, 1.0, 1.0, 1.0, 1.0, 1.0, 1.0, 1.0, 1.0, 1.0, 1.0, 1.0, 1.0, 1.0], \"yaxis\": \"y3\"}],\n",
       "                        {\"annotations\": [{\"font\": {\"size\": 16}, \"showarrow\": false, \"text\": \"Metrics\", \"x\": 0.5, \"xanchor\": \"center\", \"xref\": \"paper\", \"y\": 1.0, \"yanchor\": \"bottom\", \"yref\": \"paper\"}, {\"font\": {\"size\": 16}, \"showarrow\": false, \"text\": \"ROC curve (0.847)\", \"x\": 0.5, \"xanchor\": \"center\", \"xref\": \"paper\", \"y\": 0.6111111111111112, \"yanchor\": \"bottom\", \"yref\": \"paper\"}, {\"font\": {\"size\": 16}, \"showarrow\": false, \"text\": \"Precision - Recall curve\", \"x\": 0.5, \"xanchor\": \"center\", \"xref\": \"paper\", \"y\": 0.22222222222222224, \"yanchor\": \"bottom\", \"yref\": \"paper\"}], \"autosize\": false, \"height\": 900, \"margin\": {\"b\": 195}, \"paper_bgcolor\": \"rgba(240,240,240, 0.95)\", \"plot_bgcolor\": \"rgba(240,240,240, 0.95)\", \"showlegend\": false, \"template\": {\"data\": {\"bar\": [{\"error_x\": {\"color\": \"#2a3f5f\"}, \"error_y\": {\"color\": \"#2a3f5f\"}, \"marker\": {\"line\": {\"color\": \"#E5ECF6\", \"width\": 0.5}}, \"type\": \"bar\"}], \"barpolar\": [{\"marker\": {\"line\": {\"color\": \"#E5ECF6\", \"width\": 0.5}}, \"type\": \"barpolar\"}], \"carpet\": [{\"aaxis\": {\"endlinecolor\": \"#2a3f5f\", \"gridcolor\": \"white\", \"linecolor\": \"white\", \"minorgridcolor\": \"white\", \"startlinecolor\": \"#2a3f5f\"}, \"baxis\": {\"endlinecolor\": \"#2a3f5f\", \"gridcolor\": \"white\", \"linecolor\": \"white\", \"minorgridcolor\": \"white\", \"startlinecolor\": \"#2a3f5f\"}, \"type\": \"carpet\"}], \"choropleth\": [{\"colorbar\": {\"outlinewidth\": 0, \"ticks\": \"\"}, \"type\": \"choropleth\"}], \"contour\": [{\"colorbar\": {\"outlinewidth\": 0, \"ticks\": \"\"}, \"colorscale\": [[0.0, \"#0d0887\"], [0.1111111111111111, \"#46039f\"], [0.2222222222222222, \"#7201a8\"], [0.3333333333333333, \"#9c179e\"], [0.4444444444444444, \"#bd3786\"], [0.5555555555555556, \"#d8576b\"], [0.6666666666666666, \"#ed7953\"], [0.7777777777777778, \"#fb9f3a\"], [0.8888888888888888, \"#fdca26\"], [1.0, \"#f0f921\"]], \"type\": \"contour\"}], \"contourcarpet\": [{\"colorbar\": {\"outlinewidth\": 0, \"ticks\": \"\"}, \"type\": \"contourcarpet\"}], \"heatmap\": [{\"colorbar\": {\"outlinewidth\": 0, \"ticks\": \"\"}, \"colorscale\": [[0.0, \"#0d0887\"], [0.1111111111111111, \"#46039f\"], [0.2222222222222222, \"#7201a8\"], [0.3333333333333333, \"#9c179e\"], [0.4444444444444444, \"#bd3786\"], [0.5555555555555556, \"#d8576b\"], [0.6666666666666666, \"#ed7953\"], [0.7777777777777778, \"#fb9f3a\"], [0.8888888888888888, \"#fdca26\"], [1.0, \"#f0f921\"]], \"type\": \"heatmap\"}], \"heatmapgl\": [{\"colorbar\": {\"outlinewidth\": 0, \"ticks\": \"\"}, \"colorscale\": [[0.0, \"#0d0887\"], [0.1111111111111111, \"#46039f\"], [0.2222222222222222, \"#7201a8\"], [0.3333333333333333, \"#9c179e\"], [0.4444444444444444, \"#bd3786\"], [0.5555555555555556, \"#d8576b\"], [0.6666666666666666, \"#ed7953\"], [0.7777777777777778, \"#fb9f3a\"], [0.8888888888888888, \"#fdca26\"], [1.0, \"#f0f921\"]], \"type\": \"heatmapgl\"}], \"histogram\": [{\"marker\": {\"colorbar\": {\"outlinewidth\": 0, \"ticks\": \"\"}}, \"type\": \"histogram\"}], \"histogram2d\": [{\"colorbar\": {\"outlinewidth\": 0, \"ticks\": \"\"}, \"colorscale\": [[0.0, \"#0d0887\"], [0.1111111111111111, \"#46039f\"], [0.2222222222222222, \"#7201a8\"], [0.3333333333333333, \"#9c179e\"], [0.4444444444444444, \"#bd3786\"], [0.5555555555555556, \"#d8576b\"], [0.6666666666666666, \"#ed7953\"], [0.7777777777777778, \"#fb9f3a\"], [0.8888888888888888, \"#fdca26\"], [1.0, \"#f0f921\"]], \"type\": \"histogram2d\"}], \"histogram2dcontour\": [{\"colorbar\": {\"outlinewidth\": 0, \"ticks\": \"\"}, \"colorscale\": [[0.0, \"#0d0887\"], [0.1111111111111111, \"#46039f\"], [0.2222222222222222, \"#7201a8\"], [0.3333333333333333, \"#9c179e\"], [0.4444444444444444, \"#bd3786\"], [0.5555555555555556, \"#d8576b\"], [0.6666666666666666, \"#ed7953\"], [0.7777777777777778, \"#fb9f3a\"], [0.8888888888888888, \"#fdca26\"], [1.0, \"#f0f921\"]], \"type\": \"histogram2dcontour\"}], \"mesh3d\": [{\"colorbar\": {\"outlinewidth\": 0, \"ticks\": \"\"}, \"type\": \"mesh3d\"}], \"parcoords\": [{\"line\": {\"colorbar\": {\"outlinewidth\": 0, \"ticks\": \"\"}}, \"type\": \"parcoords\"}], \"pie\": [{\"automargin\": true, \"type\": \"pie\"}], \"scatter\": [{\"marker\": {\"colorbar\": {\"outlinewidth\": 0, \"ticks\": \"\"}}, \"type\": \"scatter\"}], \"scatter3d\": [{\"line\": {\"colorbar\": {\"outlinewidth\": 0, \"ticks\": \"\"}}, \"marker\": {\"colorbar\": {\"outlinewidth\": 0, \"ticks\": \"\"}}, \"type\": \"scatter3d\"}], \"scattercarpet\": [{\"marker\": {\"colorbar\": {\"outlinewidth\": 0, \"ticks\": \"\"}}, \"type\": \"scattercarpet\"}], \"scattergeo\": [{\"marker\": {\"colorbar\": {\"outlinewidth\": 0, \"ticks\": \"\"}}, \"type\": \"scattergeo\"}], \"scattergl\": [{\"marker\": {\"colorbar\": {\"outlinewidth\": 0, \"ticks\": \"\"}}, \"type\": \"scattergl\"}], \"scattermapbox\": [{\"marker\": {\"colorbar\": {\"outlinewidth\": 0, \"ticks\": \"\"}}, \"type\": \"scattermapbox\"}], \"scatterpolar\": [{\"marker\": {\"colorbar\": {\"outlinewidth\": 0, \"ticks\": \"\"}}, \"type\": \"scatterpolar\"}], \"scatterpolargl\": [{\"marker\": {\"colorbar\": {\"outlinewidth\": 0, \"ticks\": \"\"}}, \"type\": \"scatterpolargl\"}], \"scatterternary\": [{\"marker\": {\"colorbar\": {\"outlinewidth\": 0, \"ticks\": \"\"}}, \"type\": \"scatterternary\"}], \"surface\": [{\"colorbar\": {\"outlinewidth\": 0, \"ticks\": \"\"}, \"colorscale\": [[0.0, \"#0d0887\"], [0.1111111111111111, \"#46039f\"], [0.2222222222222222, \"#7201a8\"], [0.3333333333333333, \"#9c179e\"], [0.4444444444444444, \"#bd3786\"], [0.5555555555555556, \"#d8576b\"], [0.6666666666666666, \"#ed7953\"], [0.7777777777777778, \"#fb9f3a\"], [0.8888888888888888, \"#fdca26\"], [1.0, \"#f0f921\"]], \"type\": \"surface\"}], \"table\": [{\"cells\": {\"fill\": {\"color\": \"#EBF0F8\"}, \"line\": {\"color\": \"white\"}}, \"header\": {\"fill\": {\"color\": \"#C8D4E3\"}, \"line\": {\"color\": \"white\"}}, \"type\": \"table\"}]}, \"layout\": {\"annotationdefaults\": {\"arrowcolor\": \"#2a3f5f\", \"arrowhead\": 0, \"arrowwidth\": 1}, \"coloraxis\": {\"colorbar\": {\"outlinewidth\": 0, \"ticks\": \"\"}}, \"colorscale\": {\"diverging\": [[0, \"#8e0152\"], [0.1, \"#c51b7d\"], [0.2, \"#de77ae\"], [0.3, \"#f1b6da\"], [0.4, \"#fde0ef\"], [0.5, \"#f7f7f7\"], [0.6, \"#e6f5d0\"], [0.7, \"#b8e186\"], [0.8, \"#7fbc41\"], [0.9, \"#4d9221\"], [1, \"#276419\"]], \"sequential\": [[0.0, \"#0d0887\"], [0.1111111111111111, \"#46039f\"], [0.2222222222222222, \"#7201a8\"], [0.3333333333333333, \"#9c179e\"], [0.4444444444444444, \"#bd3786\"], [0.5555555555555556, \"#d8576b\"], [0.6666666666666666, \"#ed7953\"], [0.7777777777777778, \"#fb9f3a\"], [0.8888888888888888, \"#fdca26\"], [1.0, \"#f0f921\"]], \"sequentialminus\": [[0.0, \"#0d0887\"], [0.1111111111111111, \"#46039f\"], [0.2222222222222222, \"#7201a8\"], [0.3333333333333333, \"#9c179e\"], [0.4444444444444444, \"#bd3786\"], [0.5555555555555556, \"#d8576b\"], [0.6666666666666666, \"#ed7953\"], [0.7777777777777778, \"#fb9f3a\"], [0.8888888888888888, \"#fdca26\"], [1.0, \"#f0f921\"]]}, \"colorway\": [\"#636efa\", \"#EF553B\", \"#00cc96\", \"#ab63fa\", \"#FFA15A\", \"#19d3f3\", \"#FF6692\", \"#B6E880\", \"#FF97FF\", \"#FECB52\"], \"font\": {\"color\": \"#2a3f5f\"}, \"geo\": {\"bgcolor\": \"white\", \"lakecolor\": \"white\", \"landcolor\": \"#E5ECF6\", \"showlakes\": true, \"showland\": true, \"subunitcolor\": \"white\"}, \"hoverlabel\": {\"align\": \"left\"}, \"hovermode\": \"closest\", \"mapbox\": {\"style\": \"light\"}, \"paper_bgcolor\": \"white\", \"plot_bgcolor\": \"#E5ECF6\", \"polar\": {\"angularaxis\": {\"gridcolor\": \"white\", \"linecolor\": \"white\", \"ticks\": \"\"}, \"bgcolor\": \"#E5ECF6\", \"radialaxis\": {\"gridcolor\": \"white\", \"linecolor\": \"white\", \"ticks\": \"\"}}, \"scene\": {\"xaxis\": {\"backgroundcolor\": \"#E5ECF6\", \"gridcolor\": \"white\", \"gridwidth\": 2, \"linecolor\": \"white\", \"showbackground\": true, \"ticks\": \"\", \"zerolinecolor\": \"white\"}, \"yaxis\": {\"backgroundcolor\": \"#E5ECF6\", \"gridcolor\": \"white\", \"gridwidth\": 2, \"linecolor\": \"white\", \"showbackground\": true, \"ticks\": \"\", \"zerolinecolor\": \"white\"}, \"zaxis\": {\"backgroundcolor\": \"#E5ECF6\", \"gridcolor\": \"white\", \"gridwidth\": 2, \"linecolor\": \"white\", \"showbackground\": true, \"ticks\": \"\", \"zerolinecolor\": \"white\"}}, \"shapedefaults\": {\"line\": {\"color\": \"#2a3f5f\"}}, \"ternary\": {\"aaxis\": {\"gridcolor\": \"white\", \"linecolor\": \"white\", \"ticks\": \"\"}, \"baxis\": {\"gridcolor\": \"white\", \"linecolor\": \"white\", \"ticks\": \"\"}, \"bgcolor\": \"#E5ECF6\", \"caxis\": {\"gridcolor\": \"white\", \"linecolor\": \"white\", \"ticks\": \"\"}}, \"title\": {\"x\": 0.05}, \"xaxis\": {\"automargin\": true, \"gridcolor\": \"white\", \"linecolor\": \"white\", \"ticks\": \"\", \"title\": {\"standoff\": 15}, \"zerolinecolor\": \"white\", \"zerolinewidth\": 2}, \"yaxis\": {\"automargin\": true, \"gridcolor\": \"white\", \"linecolor\": \"white\", \"ticks\": \"\", \"title\": {\"standoff\": 15}, \"zerolinecolor\": \"white\", \"zerolinewidth\": 2}}}, \"title\": {\"font\": {\"size\": 14}, \"text\": \"<b>Model performance</b><br>rf\"}, \"width\": 450, \"xaxis\": {\"anchor\": \"y\", \"domain\": [0.0, 1.0]}, \"xaxis2\": {\"anchor\": \"y2\", \"domain\": [0.0, 1.0], \"title\": {\"text\": \"false positive rate\"}}, \"xaxis3\": {\"anchor\": \"y3\", \"domain\": [0.0, 1.0], \"range\": [0, 1.05], \"title\": {\"text\": \"recall\"}}, \"yaxis\": {\"anchor\": \"x\", \"domain\": [0.7777777777777778, 1.0]}, \"yaxis2\": {\"anchor\": \"x2\", \"domain\": [0.3888888888888889, 0.6111111111111112], \"title\": {\"text\": \"true positive rate\"}}, \"yaxis3\": {\"anchor\": \"x3\", \"domain\": [0.0, 0.22222222222222224], \"range\": [0, 1.05], \"title\": {\"text\": \"precision\"}}},\n",
       "                        {\"responsive\": true}\n",
       "                    ).then(function(){\n",
       "                            \n",
       "var gd = document.getElementById('e5ba0bb3-197d-4fcb-8fb0-3953a012c4cd');\n",
       "var x = new MutationObserver(function (mutations, observer) {{\n",
       "        var display = window.getComputedStyle(gd).display;\n",
       "        if (!display || display === 'none') {{\n",
       "            console.log([gd, 'removed!']);\n",
       "            Plotly.purge(gd);\n",
       "            observer.disconnect();\n",
       "        }}\n",
       "}});\n",
       "\n",
       "// Listen for the removal of the full notebook cells\n",
       "var notebookContainer = gd.closest('#notebook-container');\n",
       "if (notebookContainer) {{\n",
       "    x.observe(notebookContainer, {childList: true});\n",
       "}}\n",
       "\n",
       "// Listen for the clearing of the current output cell\n",
       "var outputEl = gd.closest('.output');\n",
       "if (outputEl) {{\n",
       "    x.observe(outputEl, {childList: true});\n",
       "}}\n",
       "\n",
       "                        })\n",
       "                };\n",
       "                });\n",
       "            </script>\n",
       "        </div>"
      ]
     },
     "metadata": {},
     "output_type": "display_data"
    }
   ],
   "source": [
    "y_pred = rf.predict(test_r)\n",
    "y_score = rf.predict_proba(test_r)[:,1]\n",
    "\n",
    "model_performance_plot('rf')"
   ]
  },
  {
   "cell_type": "code",
   "execution_count": 55,
   "metadata": {},
   "outputs": [
    {
     "name": "stdout",
     "output_type": "stream",
     "text": [
      "Predictions finished\n",
      "0.7469635627530364\n",
      "              precision    recall  f1-score   support\n",
      "\n",
      "           0       0.76      0.74      0.75       250\n",
      "           1       0.74      0.75      0.75       244\n",
      "\n",
      "    accuracy                           0.75       494\n",
      "   macro avg       0.75      0.75      0.75       494\n",
      "weighted avg       0.75      0.75      0.75       494\n",
      "\n"
     ]
    }
   ],
   "source": [
    "tree_clf.fit(train_r, target_train_r)\n",
    "\n",
    "dec_tree_predictions_r = tree_clf.predict(test_r)\n",
    "print(\"Predictions finished\")\n",
    "\n",
    "print(accuracy_score(target_val_r, dec_tree_predictions_r))\n",
    "print(classification_report(target_val_r, dec_tree_predictions_r))"
   ]
  },
  {
   "cell_type": "code",
   "execution_count": 56,
   "metadata": {},
   "outputs": [
    {
     "data": {
      "application/vnd.plotly.v1+json": {
       "config": {
        "linkText": "Export to plot.ly",
        "plotlyServerURL": "https://plot.ly",
        "showLink": false
       },
       "data": [
        {
         "marker": {
          "color": [
           "gold",
           "lightgreen",
           "lightcoral",
           "lightskyblue"
          ],
          "line": {
           "color": "#000000",
           "width": 1.5
          }
         },
         "opacity": 0.8,
         "orientation": "h",
         "text": [
          0.747,
          0.739,
          0.7541,
          0.7465
         ],
         "textposition": "auto",
         "type": "bar",
         "x": [
          0.7469635627530364,
          0.7389558232931727,
          0.7540983606557377,
          0.7464503042596349
         ],
         "xaxis": "x",
         "y": [
          "Accuracy",
          "Precision",
          "Recall",
          "F1_score"
         ],
         "yaxis": "y"
        },
        {
         "fill": "tozeroy",
         "line": {
          "color": "rgb(22, 96, 167)",
          "width": 2
         },
         "name": "Roc : ",
         "type": "scatter",
         "x": [
          0,
          0.012,
          0.02,
          0.028,
          0.052,
          0.064,
          0.088,
          0.1,
          0.112,
          0.152,
          0.176,
          0.26,
          0.272,
          0.3,
          0.308,
          0.332,
          0.38,
          0.408,
          0.412,
          0.436,
          0.536,
          0.576,
          0.908,
          1
         ],
         "xaxis": "x2",
         "y": [
          0,
          0.13934426229508196,
          0.16393442622950818,
          0.1762295081967213,
          0.3319672131147541,
          0.38934426229508196,
          0.4713114754098361,
          0.5081967213114754,
          0.5819672131147541,
          0.6311475409836066,
          0.7090163934426229,
          0.7540983606557377,
          0.7827868852459017,
          0.7868852459016393,
          0.819672131147541,
          0.8524590163934426,
          0.8852459016393442,
          0.8975409836065574,
          0.8975409836065574,
          0.9221311475409836,
          0.9385245901639344,
          0.9631147540983607,
          1,
          1
         ],
         "yaxis": "y2"
        },
        {
         "line": {
          "color": "black",
          "dash": "dot",
          "width": 1.5
         },
         "type": "scatter",
         "x": [
          0,
          1
         ],
         "xaxis": "x2",
         "y": [
          0,
          1
         ],
         "yaxis": "y2"
        },
        {
         "fill": "tozeroy",
         "line": {
          "color": "lightcoral",
          "width": 2
         },
         "name": "Precision[0.51804671 0.62005277 0.63085399 0.67365269 0.67682927 0.68012422\n 0.68224299 0.69453376 0.71477663 0.72202166 0.71910112 0.73745174\n 0.73895582 0.79723502 0.80208333 0.83529412 0.83221477 0.83941606\n 0.85585586 0.86170213 0.86       0.88888889 0.91891892 1.        ]",
         "type": "scatter",
         "x": [
          1,
          0.9631147540983607,
          0.9385245901639344,
          0.9221311475409836,
          0.9098360655737705,
          0.8975409836065574,
          0.8975409836065574,
          0.8852459016393442,
          0.8524590163934426,
          0.819672131147541,
          0.7868852459016393,
          0.7827868852459017,
          0.7540983606557377,
          0.7090163934426229,
          0.6311475409836066,
          0.5819672131147541,
          0.5081967213114754,
          0.4713114754098361,
          0.38934426229508196,
          0.3319672131147541,
          0.1762295081967213,
          0.16393442622950818,
          0.13934426229508196,
          0
         ],
         "xaxis": "x3",
         "y": [
          0.5180467091295117,
          0.6200527704485488,
          0.6308539944903582,
          0.6736526946107785,
          0.676829268292683,
          0.6801242236024845,
          0.6822429906542056,
          0.6945337620578779,
          0.7147766323024055,
          0.7220216606498195,
          0.7191011235955056,
          0.7374517374517374,
          0.7389558232931727,
          0.7972350230414746,
          0.8020833333333334,
          0.8352941176470589,
          0.8322147651006712,
          0.8394160583941606,
          0.8558558558558559,
          0.8617021276595744,
          0.86,
          0.8888888888888888,
          0.918918918918919,
          1
         ],
         "yaxis": "y3"
        }
       ],
       "layout": {
        "annotations": [
         {
          "font": {
           "size": 16
          },
          "showarrow": false,
          "text": "Metrics",
          "x": 0.5,
          "xanchor": "center",
          "xref": "paper",
          "y": 1,
          "yanchor": "bottom",
          "yref": "paper"
         },
         {
          "font": {
           "size": 16
          },
          "showarrow": false,
          "text": "ROC curve (0.837)",
          "x": 0.5,
          "xanchor": "center",
          "xref": "paper",
          "y": 0.6111111111111112,
          "yanchor": "bottom",
          "yref": "paper"
         },
         {
          "font": {
           "size": 16
          },
          "showarrow": false,
          "text": "Precision - Recall curve",
          "x": 0.5,
          "xanchor": "center",
          "xref": "paper",
          "y": 0.22222222222222224,
          "yanchor": "bottom",
          "yref": "paper"
         }
        ],
        "autosize": false,
        "height": 900,
        "margin": {
         "b": 195
        },
        "paper_bgcolor": "rgba(240,240,240, 0.95)",
        "plot_bgcolor": "rgba(240,240,240, 0.95)",
        "showlegend": false,
        "template": {
         "data": {
          "bar": [
           {
            "error_x": {
             "color": "#2a3f5f"
            },
            "error_y": {
             "color": "#2a3f5f"
            },
            "marker": {
             "line": {
              "color": "#E5ECF6",
              "width": 0.5
             }
            },
            "type": "bar"
           }
          ],
          "barpolar": [
           {
            "marker": {
             "line": {
              "color": "#E5ECF6",
              "width": 0.5
             }
            },
            "type": "barpolar"
           }
          ],
          "carpet": [
           {
            "aaxis": {
             "endlinecolor": "#2a3f5f",
             "gridcolor": "white",
             "linecolor": "white",
             "minorgridcolor": "white",
             "startlinecolor": "#2a3f5f"
            },
            "baxis": {
             "endlinecolor": "#2a3f5f",
             "gridcolor": "white",
             "linecolor": "white",
             "minorgridcolor": "white",
             "startlinecolor": "#2a3f5f"
            },
            "type": "carpet"
           }
          ],
          "choropleth": [
           {
            "colorbar": {
             "outlinewidth": 0,
             "ticks": ""
            },
            "type": "choropleth"
           }
          ],
          "contour": [
           {
            "colorbar": {
             "outlinewidth": 0,
             "ticks": ""
            },
            "colorscale": [
             [
              0,
              "#0d0887"
             ],
             [
              0.1111111111111111,
              "#46039f"
             ],
             [
              0.2222222222222222,
              "#7201a8"
             ],
             [
              0.3333333333333333,
              "#9c179e"
             ],
             [
              0.4444444444444444,
              "#bd3786"
             ],
             [
              0.5555555555555556,
              "#d8576b"
             ],
             [
              0.6666666666666666,
              "#ed7953"
             ],
             [
              0.7777777777777778,
              "#fb9f3a"
             ],
             [
              0.8888888888888888,
              "#fdca26"
             ],
             [
              1,
              "#f0f921"
             ]
            ],
            "type": "contour"
           }
          ],
          "contourcarpet": [
           {
            "colorbar": {
             "outlinewidth": 0,
             "ticks": ""
            },
            "type": "contourcarpet"
           }
          ],
          "heatmap": [
           {
            "colorbar": {
             "outlinewidth": 0,
             "ticks": ""
            },
            "colorscale": [
             [
              0,
              "#0d0887"
             ],
             [
              0.1111111111111111,
              "#46039f"
             ],
             [
              0.2222222222222222,
              "#7201a8"
             ],
             [
              0.3333333333333333,
              "#9c179e"
             ],
             [
              0.4444444444444444,
              "#bd3786"
             ],
             [
              0.5555555555555556,
              "#d8576b"
             ],
             [
              0.6666666666666666,
              "#ed7953"
             ],
             [
              0.7777777777777778,
              "#fb9f3a"
             ],
             [
              0.8888888888888888,
              "#fdca26"
             ],
             [
              1,
              "#f0f921"
             ]
            ],
            "type": "heatmap"
           }
          ],
          "heatmapgl": [
           {
            "colorbar": {
             "outlinewidth": 0,
             "ticks": ""
            },
            "colorscale": [
             [
              0,
              "#0d0887"
             ],
             [
              0.1111111111111111,
              "#46039f"
             ],
             [
              0.2222222222222222,
              "#7201a8"
             ],
             [
              0.3333333333333333,
              "#9c179e"
             ],
             [
              0.4444444444444444,
              "#bd3786"
             ],
             [
              0.5555555555555556,
              "#d8576b"
             ],
             [
              0.6666666666666666,
              "#ed7953"
             ],
             [
              0.7777777777777778,
              "#fb9f3a"
             ],
             [
              0.8888888888888888,
              "#fdca26"
             ],
             [
              1,
              "#f0f921"
             ]
            ],
            "type": "heatmapgl"
           }
          ],
          "histogram": [
           {
            "marker": {
             "colorbar": {
              "outlinewidth": 0,
              "ticks": ""
             }
            },
            "type": "histogram"
           }
          ],
          "histogram2d": [
           {
            "colorbar": {
             "outlinewidth": 0,
             "ticks": ""
            },
            "colorscale": [
             [
              0,
              "#0d0887"
             ],
             [
              0.1111111111111111,
              "#46039f"
             ],
             [
              0.2222222222222222,
              "#7201a8"
             ],
             [
              0.3333333333333333,
              "#9c179e"
             ],
             [
              0.4444444444444444,
              "#bd3786"
             ],
             [
              0.5555555555555556,
              "#d8576b"
             ],
             [
              0.6666666666666666,
              "#ed7953"
             ],
             [
              0.7777777777777778,
              "#fb9f3a"
             ],
             [
              0.8888888888888888,
              "#fdca26"
             ],
             [
              1,
              "#f0f921"
             ]
            ],
            "type": "histogram2d"
           }
          ],
          "histogram2dcontour": [
           {
            "colorbar": {
             "outlinewidth": 0,
             "ticks": ""
            },
            "colorscale": [
             [
              0,
              "#0d0887"
             ],
             [
              0.1111111111111111,
              "#46039f"
             ],
             [
              0.2222222222222222,
              "#7201a8"
             ],
             [
              0.3333333333333333,
              "#9c179e"
             ],
             [
              0.4444444444444444,
              "#bd3786"
             ],
             [
              0.5555555555555556,
              "#d8576b"
             ],
             [
              0.6666666666666666,
              "#ed7953"
             ],
             [
              0.7777777777777778,
              "#fb9f3a"
             ],
             [
              0.8888888888888888,
              "#fdca26"
             ],
             [
              1,
              "#f0f921"
             ]
            ],
            "type": "histogram2dcontour"
           }
          ],
          "mesh3d": [
           {
            "colorbar": {
             "outlinewidth": 0,
             "ticks": ""
            },
            "type": "mesh3d"
           }
          ],
          "parcoords": [
           {
            "line": {
             "colorbar": {
              "outlinewidth": 0,
              "ticks": ""
             }
            },
            "type": "parcoords"
           }
          ],
          "pie": [
           {
            "automargin": true,
            "type": "pie"
           }
          ],
          "scatter": [
           {
            "marker": {
             "colorbar": {
              "outlinewidth": 0,
              "ticks": ""
             }
            },
            "type": "scatter"
           }
          ],
          "scatter3d": [
           {
            "line": {
             "colorbar": {
              "outlinewidth": 0,
              "ticks": ""
             }
            },
            "marker": {
             "colorbar": {
              "outlinewidth": 0,
              "ticks": ""
             }
            },
            "type": "scatter3d"
           }
          ],
          "scattercarpet": [
           {
            "marker": {
             "colorbar": {
              "outlinewidth": 0,
              "ticks": ""
             }
            },
            "type": "scattercarpet"
           }
          ],
          "scattergeo": [
           {
            "marker": {
             "colorbar": {
              "outlinewidth": 0,
              "ticks": ""
             }
            },
            "type": "scattergeo"
           }
          ],
          "scattergl": [
           {
            "marker": {
             "colorbar": {
              "outlinewidth": 0,
              "ticks": ""
             }
            },
            "type": "scattergl"
           }
          ],
          "scattermapbox": [
           {
            "marker": {
             "colorbar": {
              "outlinewidth": 0,
              "ticks": ""
             }
            },
            "type": "scattermapbox"
           }
          ],
          "scatterpolar": [
           {
            "marker": {
             "colorbar": {
              "outlinewidth": 0,
              "ticks": ""
             }
            },
            "type": "scatterpolar"
           }
          ],
          "scatterpolargl": [
           {
            "marker": {
             "colorbar": {
              "outlinewidth": 0,
              "ticks": ""
             }
            },
            "type": "scatterpolargl"
           }
          ],
          "scatterternary": [
           {
            "marker": {
             "colorbar": {
              "outlinewidth": 0,
              "ticks": ""
             }
            },
            "type": "scatterternary"
           }
          ],
          "surface": [
           {
            "colorbar": {
             "outlinewidth": 0,
             "ticks": ""
            },
            "colorscale": [
             [
              0,
              "#0d0887"
             ],
             [
              0.1111111111111111,
              "#46039f"
             ],
             [
              0.2222222222222222,
              "#7201a8"
             ],
             [
              0.3333333333333333,
              "#9c179e"
             ],
             [
              0.4444444444444444,
              "#bd3786"
             ],
             [
              0.5555555555555556,
              "#d8576b"
             ],
             [
              0.6666666666666666,
              "#ed7953"
             ],
             [
              0.7777777777777778,
              "#fb9f3a"
             ],
             [
              0.8888888888888888,
              "#fdca26"
             ],
             [
              1,
              "#f0f921"
             ]
            ],
            "type": "surface"
           }
          ],
          "table": [
           {
            "cells": {
             "fill": {
              "color": "#EBF0F8"
             },
             "line": {
              "color": "white"
             }
            },
            "header": {
             "fill": {
              "color": "#C8D4E3"
             },
             "line": {
              "color": "white"
             }
            },
            "type": "table"
           }
          ]
         },
         "layout": {
          "annotationdefaults": {
           "arrowcolor": "#2a3f5f",
           "arrowhead": 0,
           "arrowwidth": 1
          },
          "coloraxis": {
           "colorbar": {
            "outlinewidth": 0,
            "ticks": ""
           }
          },
          "colorscale": {
           "diverging": [
            [
             0,
             "#8e0152"
            ],
            [
             0.1,
             "#c51b7d"
            ],
            [
             0.2,
             "#de77ae"
            ],
            [
             0.3,
             "#f1b6da"
            ],
            [
             0.4,
             "#fde0ef"
            ],
            [
             0.5,
             "#f7f7f7"
            ],
            [
             0.6,
             "#e6f5d0"
            ],
            [
             0.7,
             "#b8e186"
            ],
            [
             0.8,
             "#7fbc41"
            ],
            [
             0.9,
             "#4d9221"
            ],
            [
             1,
             "#276419"
            ]
           ],
           "sequential": [
            [
             0,
             "#0d0887"
            ],
            [
             0.1111111111111111,
             "#46039f"
            ],
            [
             0.2222222222222222,
             "#7201a8"
            ],
            [
             0.3333333333333333,
             "#9c179e"
            ],
            [
             0.4444444444444444,
             "#bd3786"
            ],
            [
             0.5555555555555556,
             "#d8576b"
            ],
            [
             0.6666666666666666,
             "#ed7953"
            ],
            [
             0.7777777777777778,
             "#fb9f3a"
            ],
            [
             0.8888888888888888,
             "#fdca26"
            ],
            [
             1,
             "#f0f921"
            ]
           ],
           "sequentialminus": [
            [
             0,
             "#0d0887"
            ],
            [
             0.1111111111111111,
             "#46039f"
            ],
            [
             0.2222222222222222,
             "#7201a8"
            ],
            [
             0.3333333333333333,
             "#9c179e"
            ],
            [
             0.4444444444444444,
             "#bd3786"
            ],
            [
             0.5555555555555556,
             "#d8576b"
            ],
            [
             0.6666666666666666,
             "#ed7953"
            ],
            [
             0.7777777777777778,
             "#fb9f3a"
            ],
            [
             0.8888888888888888,
             "#fdca26"
            ],
            [
             1,
             "#f0f921"
            ]
           ]
          },
          "colorway": [
           "#636efa",
           "#EF553B",
           "#00cc96",
           "#ab63fa",
           "#FFA15A",
           "#19d3f3",
           "#FF6692",
           "#B6E880",
           "#FF97FF",
           "#FECB52"
          ],
          "font": {
           "color": "#2a3f5f"
          },
          "geo": {
           "bgcolor": "white",
           "lakecolor": "white",
           "landcolor": "#E5ECF6",
           "showlakes": true,
           "showland": true,
           "subunitcolor": "white"
          },
          "hoverlabel": {
           "align": "left"
          },
          "hovermode": "closest",
          "mapbox": {
           "style": "light"
          },
          "paper_bgcolor": "white",
          "plot_bgcolor": "#E5ECF6",
          "polar": {
           "angularaxis": {
            "gridcolor": "white",
            "linecolor": "white",
            "ticks": ""
           },
           "bgcolor": "#E5ECF6",
           "radialaxis": {
            "gridcolor": "white",
            "linecolor": "white",
            "ticks": ""
           }
          },
          "scene": {
           "xaxis": {
            "backgroundcolor": "#E5ECF6",
            "gridcolor": "white",
            "gridwidth": 2,
            "linecolor": "white",
            "showbackground": true,
            "ticks": "",
            "zerolinecolor": "white"
           },
           "yaxis": {
            "backgroundcolor": "#E5ECF6",
            "gridcolor": "white",
            "gridwidth": 2,
            "linecolor": "white",
            "showbackground": true,
            "ticks": "",
            "zerolinecolor": "white"
           },
           "zaxis": {
            "backgroundcolor": "#E5ECF6",
            "gridcolor": "white",
            "gridwidth": 2,
            "linecolor": "white",
            "showbackground": true,
            "ticks": "",
            "zerolinecolor": "white"
           }
          },
          "shapedefaults": {
           "line": {
            "color": "#2a3f5f"
           }
          },
          "ternary": {
           "aaxis": {
            "gridcolor": "white",
            "linecolor": "white",
            "ticks": ""
           },
           "baxis": {
            "gridcolor": "white",
            "linecolor": "white",
            "ticks": ""
           },
           "bgcolor": "#E5ECF6",
           "caxis": {
            "gridcolor": "white",
            "linecolor": "white",
            "ticks": ""
           }
          },
          "title": {
           "x": 0.05
          },
          "xaxis": {
           "automargin": true,
           "gridcolor": "white",
           "linecolor": "white",
           "ticks": "",
           "title": {
            "standoff": 15
           },
           "zerolinecolor": "white",
           "zerolinewidth": 2
          },
          "yaxis": {
           "automargin": true,
           "gridcolor": "white",
           "linecolor": "white",
           "ticks": "",
           "title": {
            "standoff": 15
           },
           "zerolinecolor": "white",
           "zerolinewidth": 2
          }
         }
        },
        "title": {
         "font": {
          "size": 14
         },
         "text": "<b>Model performance</b><br>tree_clf"
        },
        "width": 450,
        "xaxis": {
         "anchor": "y",
         "domain": [
          0,
          1
         ]
        },
        "xaxis2": {
         "anchor": "y2",
         "domain": [
          0,
          1
         ],
         "title": {
          "text": "false positive rate"
         }
        },
        "xaxis3": {
         "anchor": "y3",
         "domain": [
          0,
          1
         ],
         "range": [
          0,
          1.05
         ],
         "title": {
          "text": "recall"
         }
        },
        "yaxis": {
         "anchor": "x",
         "domain": [
          0.7777777777777778,
          1
         ]
        },
        "yaxis2": {
         "anchor": "x2",
         "domain": [
          0.3888888888888889,
          0.6111111111111112
         ],
         "title": {
          "text": "true positive rate"
         }
        },
        "yaxis3": {
         "anchor": "x3",
         "domain": [
          0,
          0.22222222222222224
         ],
         "range": [
          0,
          1.05
         ],
         "title": {
          "text": "precision"
         }
        }
       }
      },
      "text/html": [
       "<div>\n",
       "        \n",
       "        \n",
       "            <div id=\"416df85d-513c-4081-85da-ac34f8e98a31\" class=\"plotly-graph-div\" style=\"height:900px; width:450px;\"></div>\n",
       "            <script type=\"text/javascript\">\n",
       "                require([\"plotly\"], function(Plotly) {\n",
       "                    window.PLOTLYENV=window.PLOTLYENV || {};\n",
       "                    \n",
       "                if (document.getElementById(\"416df85d-513c-4081-85da-ac34f8e98a31\")) {\n",
       "                    Plotly.newPlot(\n",
       "                        '416df85d-513c-4081-85da-ac34f8e98a31',\n",
       "                        [{\"marker\": {\"color\": [\"gold\", \"lightgreen\", \"lightcoral\", \"lightskyblue\"], \"line\": {\"color\": \"#000000\", \"width\": 1.5}}, \"opacity\": 0.8, \"orientation\": \"h\", \"text\": [0.747, 0.739, 0.7541, 0.7465], \"textposition\": \"auto\", \"type\": \"bar\", \"x\": [0.7469635627530364, 0.7389558232931727, 0.7540983606557377, 0.7464503042596349], \"xaxis\": \"x\", \"y\": [\"Accuracy\", \"Precision\", \"Recall\", \"F1_score\"], \"yaxis\": \"y\"}, {\"fill\": \"tozeroy\", \"line\": {\"color\": \"rgb(22, 96, 167)\", \"width\": 2}, \"name\": \"Roc : \", \"type\": \"scatter\", \"x\": [0.0, 0.012, 0.02, 0.028, 0.052, 0.064, 0.088, 0.1, 0.112, 0.152, 0.176, 0.26, 0.272, 0.3, 0.308, 0.332, 0.38, 0.408, 0.412, 0.436, 0.536, 0.576, 0.908, 1.0], \"xaxis\": \"x2\", \"y\": [0.0, 0.13934426229508196, 0.16393442622950818, 0.1762295081967213, 0.3319672131147541, 0.38934426229508196, 0.4713114754098361, 0.5081967213114754, 0.5819672131147541, 0.6311475409836066, 0.7090163934426229, 0.7540983606557377, 0.7827868852459017, 0.7868852459016393, 0.819672131147541, 0.8524590163934426, 0.8852459016393442, 0.8975409836065574, 0.8975409836065574, 0.9221311475409836, 0.9385245901639344, 0.9631147540983607, 1.0, 1.0], \"yaxis\": \"y2\"}, {\"line\": {\"color\": \"black\", \"dash\": \"dot\", \"width\": 1.5}, \"type\": \"scatter\", \"x\": [0, 1], \"xaxis\": \"x2\", \"y\": [0, 1], \"yaxis\": \"y2\"}, {\"fill\": \"tozeroy\", \"line\": {\"color\": \"lightcoral\", \"width\": 2}, \"name\": \"Precision[0.51804671 0.62005277 0.63085399 0.67365269 0.67682927 0.68012422\\n 0.68224299 0.69453376 0.71477663 0.72202166 0.71910112 0.73745174\\n 0.73895582 0.79723502 0.80208333 0.83529412 0.83221477 0.83941606\\n 0.85585586 0.86170213 0.86       0.88888889 0.91891892 1.        ]\", \"type\": \"scatter\", \"x\": [1.0, 0.9631147540983607, 0.9385245901639344, 0.9221311475409836, 0.9098360655737705, 0.8975409836065574, 0.8975409836065574, 0.8852459016393442, 0.8524590163934426, 0.819672131147541, 0.7868852459016393, 0.7827868852459017, 0.7540983606557377, 0.7090163934426229, 0.6311475409836066, 0.5819672131147541, 0.5081967213114754, 0.4713114754098361, 0.38934426229508196, 0.3319672131147541, 0.1762295081967213, 0.16393442622950818, 0.13934426229508196, 0.0], \"xaxis\": \"x3\", \"y\": [0.5180467091295117, 0.6200527704485488, 0.6308539944903582, 0.6736526946107785, 0.676829268292683, 0.6801242236024845, 0.6822429906542056, 0.6945337620578779, 0.7147766323024055, 0.7220216606498195, 0.7191011235955056, 0.7374517374517374, 0.7389558232931727, 0.7972350230414746, 0.8020833333333334, 0.8352941176470589, 0.8322147651006712, 0.8394160583941606, 0.8558558558558559, 0.8617021276595744, 0.86, 0.8888888888888888, 0.918918918918919, 1.0], \"yaxis\": \"y3\"}],\n",
       "                        {\"annotations\": [{\"font\": {\"size\": 16}, \"showarrow\": false, \"text\": \"Metrics\", \"x\": 0.5, \"xanchor\": \"center\", \"xref\": \"paper\", \"y\": 1.0, \"yanchor\": \"bottom\", \"yref\": \"paper\"}, {\"font\": {\"size\": 16}, \"showarrow\": false, \"text\": \"ROC curve (0.837)\", \"x\": 0.5, \"xanchor\": \"center\", \"xref\": \"paper\", \"y\": 0.6111111111111112, \"yanchor\": \"bottom\", \"yref\": \"paper\"}, {\"font\": {\"size\": 16}, \"showarrow\": false, \"text\": \"Precision - Recall curve\", \"x\": 0.5, \"xanchor\": \"center\", \"xref\": \"paper\", \"y\": 0.22222222222222224, \"yanchor\": \"bottom\", \"yref\": \"paper\"}], \"autosize\": false, \"height\": 900, \"margin\": {\"b\": 195}, \"paper_bgcolor\": \"rgba(240,240,240, 0.95)\", \"plot_bgcolor\": \"rgba(240,240,240, 0.95)\", \"showlegend\": false, \"template\": {\"data\": {\"bar\": [{\"error_x\": {\"color\": \"#2a3f5f\"}, \"error_y\": {\"color\": \"#2a3f5f\"}, \"marker\": {\"line\": {\"color\": \"#E5ECF6\", \"width\": 0.5}}, \"type\": \"bar\"}], \"barpolar\": [{\"marker\": {\"line\": {\"color\": \"#E5ECF6\", \"width\": 0.5}}, \"type\": \"barpolar\"}], \"carpet\": [{\"aaxis\": {\"endlinecolor\": \"#2a3f5f\", \"gridcolor\": \"white\", \"linecolor\": \"white\", \"minorgridcolor\": \"white\", \"startlinecolor\": \"#2a3f5f\"}, \"baxis\": {\"endlinecolor\": \"#2a3f5f\", \"gridcolor\": \"white\", \"linecolor\": \"white\", \"minorgridcolor\": \"white\", \"startlinecolor\": \"#2a3f5f\"}, \"type\": \"carpet\"}], \"choropleth\": [{\"colorbar\": {\"outlinewidth\": 0, \"ticks\": \"\"}, \"type\": \"choropleth\"}], \"contour\": [{\"colorbar\": {\"outlinewidth\": 0, \"ticks\": \"\"}, \"colorscale\": [[0.0, \"#0d0887\"], [0.1111111111111111, \"#46039f\"], [0.2222222222222222, \"#7201a8\"], [0.3333333333333333, \"#9c179e\"], [0.4444444444444444, \"#bd3786\"], [0.5555555555555556, \"#d8576b\"], [0.6666666666666666, \"#ed7953\"], [0.7777777777777778, \"#fb9f3a\"], [0.8888888888888888, \"#fdca26\"], [1.0, \"#f0f921\"]], \"type\": \"contour\"}], \"contourcarpet\": [{\"colorbar\": {\"outlinewidth\": 0, \"ticks\": \"\"}, \"type\": \"contourcarpet\"}], \"heatmap\": [{\"colorbar\": {\"outlinewidth\": 0, \"ticks\": \"\"}, \"colorscale\": [[0.0, \"#0d0887\"], [0.1111111111111111, \"#46039f\"], [0.2222222222222222, \"#7201a8\"], [0.3333333333333333, \"#9c179e\"], [0.4444444444444444, \"#bd3786\"], [0.5555555555555556, \"#d8576b\"], [0.6666666666666666, \"#ed7953\"], [0.7777777777777778, \"#fb9f3a\"], [0.8888888888888888, \"#fdca26\"], [1.0, \"#f0f921\"]], \"type\": \"heatmap\"}], \"heatmapgl\": [{\"colorbar\": {\"outlinewidth\": 0, \"ticks\": \"\"}, \"colorscale\": [[0.0, \"#0d0887\"], [0.1111111111111111, \"#46039f\"], [0.2222222222222222, \"#7201a8\"], [0.3333333333333333, \"#9c179e\"], [0.4444444444444444, \"#bd3786\"], [0.5555555555555556, \"#d8576b\"], [0.6666666666666666, \"#ed7953\"], [0.7777777777777778, \"#fb9f3a\"], [0.8888888888888888, \"#fdca26\"], [1.0, \"#f0f921\"]], \"type\": \"heatmapgl\"}], \"histogram\": [{\"marker\": {\"colorbar\": {\"outlinewidth\": 0, \"ticks\": \"\"}}, \"type\": \"histogram\"}], \"histogram2d\": [{\"colorbar\": {\"outlinewidth\": 0, \"ticks\": \"\"}, \"colorscale\": [[0.0, \"#0d0887\"], [0.1111111111111111, \"#46039f\"], [0.2222222222222222, \"#7201a8\"], [0.3333333333333333, \"#9c179e\"], [0.4444444444444444, \"#bd3786\"], [0.5555555555555556, \"#d8576b\"], [0.6666666666666666, \"#ed7953\"], [0.7777777777777778, \"#fb9f3a\"], [0.8888888888888888, \"#fdca26\"], [1.0, \"#f0f921\"]], \"type\": \"histogram2d\"}], \"histogram2dcontour\": [{\"colorbar\": {\"outlinewidth\": 0, \"ticks\": \"\"}, \"colorscale\": [[0.0, \"#0d0887\"], [0.1111111111111111, \"#46039f\"], [0.2222222222222222, \"#7201a8\"], [0.3333333333333333, \"#9c179e\"], [0.4444444444444444, \"#bd3786\"], [0.5555555555555556, \"#d8576b\"], [0.6666666666666666, \"#ed7953\"], [0.7777777777777778, \"#fb9f3a\"], [0.8888888888888888, \"#fdca26\"], [1.0, \"#f0f921\"]], \"type\": \"histogram2dcontour\"}], \"mesh3d\": [{\"colorbar\": {\"outlinewidth\": 0, \"ticks\": \"\"}, \"type\": \"mesh3d\"}], \"parcoords\": [{\"line\": {\"colorbar\": {\"outlinewidth\": 0, \"ticks\": \"\"}}, \"type\": \"parcoords\"}], \"pie\": [{\"automargin\": true, \"type\": \"pie\"}], \"scatter\": [{\"marker\": {\"colorbar\": {\"outlinewidth\": 0, \"ticks\": \"\"}}, \"type\": \"scatter\"}], \"scatter3d\": [{\"line\": {\"colorbar\": {\"outlinewidth\": 0, \"ticks\": \"\"}}, \"marker\": {\"colorbar\": {\"outlinewidth\": 0, \"ticks\": \"\"}}, \"type\": \"scatter3d\"}], \"scattercarpet\": [{\"marker\": {\"colorbar\": {\"outlinewidth\": 0, \"ticks\": \"\"}}, \"type\": \"scattercarpet\"}], \"scattergeo\": [{\"marker\": {\"colorbar\": {\"outlinewidth\": 0, \"ticks\": \"\"}}, \"type\": \"scattergeo\"}], \"scattergl\": [{\"marker\": {\"colorbar\": {\"outlinewidth\": 0, \"ticks\": \"\"}}, \"type\": \"scattergl\"}], \"scattermapbox\": [{\"marker\": {\"colorbar\": {\"outlinewidth\": 0, \"ticks\": \"\"}}, \"type\": \"scattermapbox\"}], \"scatterpolar\": [{\"marker\": {\"colorbar\": {\"outlinewidth\": 0, \"ticks\": \"\"}}, \"type\": \"scatterpolar\"}], \"scatterpolargl\": [{\"marker\": {\"colorbar\": {\"outlinewidth\": 0, \"ticks\": \"\"}}, \"type\": \"scatterpolargl\"}], \"scatterternary\": [{\"marker\": {\"colorbar\": {\"outlinewidth\": 0, \"ticks\": \"\"}}, \"type\": \"scatterternary\"}], \"surface\": [{\"colorbar\": {\"outlinewidth\": 0, \"ticks\": \"\"}, \"colorscale\": [[0.0, \"#0d0887\"], [0.1111111111111111, \"#46039f\"], [0.2222222222222222, \"#7201a8\"], [0.3333333333333333, \"#9c179e\"], [0.4444444444444444, \"#bd3786\"], [0.5555555555555556, \"#d8576b\"], [0.6666666666666666, \"#ed7953\"], [0.7777777777777778, \"#fb9f3a\"], [0.8888888888888888, \"#fdca26\"], [1.0, \"#f0f921\"]], \"type\": \"surface\"}], \"table\": [{\"cells\": {\"fill\": {\"color\": \"#EBF0F8\"}, \"line\": {\"color\": \"white\"}}, \"header\": {\"fill\": {\"color\": \"#C8D4E3\"}, \"line\": {\"color\": \"white\"}}, \"type\": \"table\"}]}, \"layout\": {\"annotationdefaults\": {\"arrowcolor\": \"#2a3f5f\", \"arrowhead\": 0, \"arrowwidth\": 1}, \"coloraxis\": {\"colorbar\": {\"outlinewidth\": 0, \"ticks\": \"\"}}, \"colorscale\": {\"diverging\": [[0, \"#8e0152\"], [0.1, \"#c51b7d\"], [0.2, \"#de77ae\"], [0.3, \"#f1b6da\"], [0.4, \"#fde0ef\"], [0.5, \"#f7f7f7\"], [0.6, \"#e6f5d0\"], [0.7, \"#b8e186\"], [0.8, \"#7fbc41\"], [0.9, \"#4d9221\"], [1, \"#276419\"]], \"sequential\": [[0.0, \"#0d0887\"], [0.1111111111111111, \"#46039f\"], [0.2222222222222222, \"#7201a8\"], [0.3333333333333333, \"#9c179e\"], [0.4444444444444444, \"#bd3786\"], [0.5555555555555556, \"#d8576b\"], [0.6666666666666666, \"#ed7953\"], [0.7777777777777778, \"#fb9f3a\"], [0.8888888888888888, \"#fdca26\"], [1.0, \"#f0f921\"]], \"sequentialminus\": [[0.0, \"#0d0887\"], [0.1111111111111111, \"#46039f\"], [0.2222222222222222, \"#7201a8\"], [0.3333333333333333, \"#9c179e\"], [0.4444444444444444, \"#bd3786\"], [0.5555555555555556, \"#d8576b\"], [0.6666666666666666, \"#ed7953\"], [0.7777777777777778, \"#fb9f3a\"], [0.8888888888888888, \"#fdca26\"], [1.0, \"#f0f921\"]]}, \"colorway\": [\"#636efa\", \"#EF553B\", \"#00cc96\", \"#ab63fa\", \"#FFA15A\", \"#19d3f3\", \"#FF6692\", \"#B6E880\", \"#FF97FF\", \"#FECB52\"], \"font\": {\"color\": \"#2a3f5f\"}, \"geo\": {\"bgcolor\": \"white\", \"lakecolor\": \"white\", \"landcolor\": \"#E5ECF6\", \"showlakes\": true, \"showland\": true, \"subunitcolor\": \"white\"}, \"hoverlabel\": {\"align\": \"left\"}, \"hovermode\": \"closest\", \"mapbox\": {\"style\": \"light\"}, \"paper_bgcolor\": \"white\", \"plot_bgcolor\": \"#E5ECF6\", \"polar\": {\"angularaxis\": {\"gridcolor\": \"white\", \"linecolor\": \"white\", \"ticks\": \"\"}, \"bgcolor\": \"#E5ECF6\", \"radialaxis\": {\"gridcolor\": \"white\", \"linecolor\": \"white\", \"ticks\": \"\"}}, \"scene\": {\"xaxis\": {\"backgroundcolor\": \"#E5ECF6\", \"gridcolor\": \"white\", \"gridwidth\": 2, \"linecolor\": \"white\", \"showbackground\": true, \"ticks\": \"\", \"zerolinecolor\": \"white\"}, \"yaxis\": {\"backgroundcolor\": \"#E5ECF6\", \"gridcolor\": \"white\", \"gridwidth\": 2, \"linecolor\": \"white\", \"showbackground\": true, \"ticks\": \"\", \"zerolinecolor\": \"white\"}, \"zaxis\": {\"backgroundcolor\": \"#E5ECF6\", \"gridcolor\": \"white\", \"gridwidth\": 2, \"linecolor\": \"white\", \"showbackground\": true, \"ticks\": \"\", \"zerolinecolor\": \"white\"}}, \"shapedefaults\": {\"line\": {\"color\": \"#2a3f5f\"}}, \"ternary\": {\"aaxis\": {\"gridcolor\": \"white\", \"linecolor\": \"white\", \"ticks\": \"\"}, \"baxis\": {\"gridcolor\": \"white\", \"linecolor\": \"white\", \"ticks\": \"\"}, \"bgcolor\": \"#E5ECF6\", \"caxis\": {\"gridcolor\": \"white\", \"linecolor\": \"white\", \"ticks\": \"\"}}, \"title\": {\"x\": 0.05}, \"xaxis\": {\"automargin\": true, \"gridcolor\": \"white\", \"linecolor\": \"white\", \"ticks\": \"\", \"title\": {\"standoff\": 15}, \"zerolinecolor\": \"white\", \"zerolinewidth\": 2}, \"yaxis\": {\"automargin\": true, \"gridcolor\": \"white\", \"linecolor\": \"white\", \"ticks\": \"\", \"title\": {\"standoff\": 15}, \"zerolinecolor\": \"white\", \"zerolinewidth\": 2}}}, \"title\": {\"font\": {\"size\": 14}, \"text\": \"<b>Model performance</b><br>tree_clf\"}, \"width\": 450, \"xaxis\": {\"anchor\": \"y\", \"domain\": [0.0, 1.0]}, \"xaxis2\": {\"anchor\": \"y2\", \"domain\": [0.0, 1.0], \"title\": {\"text\": \"false positive rate\"}}, \"xaxis3\": {\"anchor\": \"y3\", \"domain\": [0.0, 1.0], \"range\": [0, 1.05], \"title\": {\"text\": \"recall\"}}, \"yaxis\": {\"anchor\": \"x\", \"domain\": [0.7777777777777778, 1.0]}, \"yaxis2\": {\"anchor\": \"x2\", \"domain\": [0.3888888888888889, 0.6111111111111112], \"title\": {\"text\": \"true positive rate\"}}, \"yaxis3\": {\"anchor\": \"x3\", \"domain\": [0.0, 0.22222222222222224], \"range\": [0, 1.05], \"title\": {\"text\": \"precision\"}}},\n",
       "                        {\"responsive\": true}\n",
       "                    ).then(function(){\n",
       "                            \n",
       "var gd = document.getElementById('416df85d-513c-4081-85da-ac34f8e98a31');\n",
       "var x = new MutationObserver(function (mutations, observer) {{\n",
       "        var display = window.getComputedStyle(gd).display;\n",
       "        if (!display || display === 'none') {{\n",
       "            console.log([gd, 'removed!']);\n",
       "            Plotly.purge(gd);\n",
       "            observer.disconnect();\n",
       "        }}\n",
       "}});\n",
       "\n",
       "// Listen for the removal of the full notebook cells\n",
       "var notebookContainer = gd.closest('#notebook-container');\n",
       "if (notebookContainer) {{\n",
       "    x.observe(notebookContainer, {childList: true});\n",
       "}}\n",
       "\n",
       "// Listen for the clearing of the current output cell\n",
       "var outputEl = gd.closest('.output');\n",
       "if (outputEl) {{\n",
       "    x.observe(outputEl, {childList: true});\n",
       "}}\n",
       "\n",
       "                        })\n",
       "                };\n",
       "                });\n",
       "            </script>\n",
       "        </div>"
      ]
     },
     "metadata": {},
     "output_type": "display_data"
    }
   ],
   "source": [
    "y_pred = tree_clf.predict(test_r)\n",
    "y_score = tree_clf.predict_proba(test_r)[:,1]\n",
    "\n",
    "model_performance_plot('tree_clf')"
   ]
  },
  {
   "cell_type": "code",
   "execution_count": 57,
   "metadata": {},
   "outputs": [
    {
     "data": {
      "application/vnd.plotly.v1+json": {
       "config": {
        "plotlyServerURL": "https://plot.ly"
       },
       "data": [
        {
         "colorscale": [
          [
           0,
           "#440154"
          ],
          [
           0.1111111111111111,
           "#482878"
          ],
          [
           0.2222222222222222,
           "#3e4989"
          ],
          [
           0.3333333333333333,
           "#31688e"
          ],
          [
           0.4444444444444444,
           "#26828e"
          ],
          [
           0.5555555555555556,
           "#1f9e89"
          ],
          [
           0.6666666666666666,
           "#35b779"
          ],
          [
           0.7777777777777778,
           "#6ece58"
          ],
          [
           0.8888888888888888,
           "#b5de2b"
          ],
          [
           1,
           "#fde725"
          ]
         ],
         "hoverinfo": "z",
         "reversescale": false,
         "showscale": false,
         "type": "heatmap",
         "x": [
          "No (pred)",
          "Yes (pred)"
         ],
         "xgap": 2,
         "y": [
          "No (Actual)",
          "Yes (Actual)"
         ],
         "ygap": 2,
         "z": [
          [
           185,
           65
          ],
          [
           60,
           184
          ]
         ]
        }
       ],
       "layout": {
        "annotations": [
         {
          "font": {
           "color": "#000000"
          },
          "showarrow": false,
          "text": "185",
          "x": "No (pred)",
          "xref": "x",
          "y": "No (Actual)",
          "yref": "y"
         },
         {
          "font": {
           "color": "#FFFFFF"
          },
          "showarrow": false,
          "text": "65",
          "x": "Yes (pred)",
          "xref": "x",
          "y": "No (Actual)",
          "yref": "y"
         },
         {
          "font": {
           "color": "#FFFFFF"
          },
          "showarrow": false,
          "text": "60",
          "x": "No (pred)",
          "xref": "x",
          "y": "Yes (Actual)",
          "yref": "y"
         },
         {
          "font": {
           "color": "#000000"
          },
          "showarrow": false,
          "text": "184",
          "x": "Yes (pred)",
          "xref": "x",
          "y": "Yes (Actual)",
          "yref": "y"
         }
        ],
        "autosize": true,
        "height": 900,
        "margin": {
         "b": 195
        },
        "paper_bgcolor": "rgba(240,240,240, 0.95)",
        "plot_bgcolor": "rgba(240,240,240, 0.95)",
        "showlegend": false,
        "template": {
         "data": {
          "bar": [
           {
            "error_x": {
             "color": "#2a3f5f"
            },
            "error_y": {
             "color": "#2a3f5f"
            },
            "marker": {
             "line": {
              "color": "#E5ECF6",
              "width": 0.5
             }
            },
            "type": "bar"
           }
          ],
          "barpolar": [
           {
            "marker": {
             "line": {
              "color": "#E5ECF6",
              "width": 0.5
             }
            },
            "type": "barpolar"
           }
          ],
          "carpet": [
           {
            "aaxis": {
             "endlinecolor": "#2a3f5f",
             "gridcolor": "white",
             "linecolor": "white",
             "minorgridcolor": "white",
             "startlinecolor": "#2a3f5f"
            },
            "baxis": {
             "endlinecolor": "#2a3f5f",
             "gridcolor": "white",
             "linecolor": "white",
             "minorgridcolor": "white",
             "startlinecolor": "#2a3f5f"
            },
            "type": "carpet"
           }
          ],
          "choropleth": [
           {
            "colorbar": {
             "outlinewidth": 0,
             "ticks": ""
            },
            "type": "choropleth"
           }
          ],
          "contour": [
           {
            "colorbar": {
             "outlinewidth": 0,
             "ticks": ""
            },
            "colorscale": [
             [
              0,
              "#0d0887"
             ],
             [
              0.1111111111111111,
              "#46039f"
             ],
             [
              0.2222222222222222,
              "#7201a8"
             ],
             [
              0.3333333333333333,
              "#9c179e"
             ],
             [
              0.4444444444444444,
              "#bd3786"
             ],
             [
              0.5555555555555556,
              "#d8576b"
             ],
             [
              0.6666666666666666,
              "#ed7953"
             ],
             [
              0.7777777777777778,
              "#fb9f3a"
             ],
             [
              0.8888888888888888,
              "#fdca26"
             ],
             [
              1,
              "#f0f921"
             ]
            ],
            "type": "contour"
           }
          ],
          "contourcarpet": [
           {
            "colorbar": {
             "outlinewidth": 0,
             "ticks": ""
            },
            "type": "contourcarpet"
           }
          ],
          "heatmap": [
           {
            "colorbar": {
             "outlinewidth": 0,
             "ticks": ""
            },
            "colorscale": [
             [
              0,
              "#0d0887"
             ],
             [
              0.1111111111111111,
              "#46039f"
             ],
             [
              0.2222222222222222,
              "#7201a8"
             ],
             [
              0.3333333333333333,
              "#9c179e"
             ],
             [
              0.4444444444444444,
              "#bd3786"
             ],
             [
              0.5555555555555556,
              "#d8576b"
             ],
             [
              0.6666666666666666,
              "#ed7953"
             ],
             [
              0.7777777777777778,
              "#fb9f3a"
             ],
             [
              0.8888888888888888,
              "#fdca26"
             ],
             [
              1,
              "#f0f921"
             ]
            ],
            "type": "heatmap"
           }
          ],
          "heatmapgl": [
           {
            "colorbar": {
             "outlinewidth": 0,
             "ticks": ""
            },
            "colorscale": [
             [
              0,
              "#0d0887"
             ],
             [
              0.1111111111111111,
              "#46039f"
             ],
             [
              0.2222222222222222,
              "#7201a8"
             ],
             [
              0.3333333333333333,
              "#9c179e"
             ],
             [
              0.4444444444444444,
              "#bd3786"
             ],
             [
              0.5555555555555556,
              "#d8576b"
             ],
             [
              0.6666666666666666,
              "#ed7953"
             ],
             [
              0.7777777777777778,
              "#fb9f3a"
             ],
             [
              0.8888888888888888,
              "#fdca26"
             ],
             [
              1,
              "#f0f921"
             ]
            ],
            "type": "heatmapgl"
           }
          ],
          "histogram": [
           {
            "marker": {
             "colorbar": {
              "outlinewidth": 0,
              "ticks": ""
             }
            },
            "type": "histogram"
           }
          ],
          "histogram2d": [
           {
            "colorbar": {
             "outlinewidth": 0,
             "ticks": ""
            },
            "colorscale": [
             [
              0,
              "#0d0887"
             ],
             [
              0.1111111111111111,
              "#46039f"
             ],
             [
              0.2222222222222222,
              "#7201a8"
             ],
             [
              0.3333333333333333,
              "#9c179e"
             ],
             [
              0.4444444444444444,
              "#bd3786"
             ],
             [
              0.5555555555555556,
              "#d8576b"
             ],
             [
              0.6666666666666666,
              "#ed7953"
             ],
             [
              0.7777777777777778,
              "#fb9f3a"
             ],
             [
              0.8888888888888888,
              "#fdca26"
             ],
             [
              1,
              "#f0f921"
             ]
            ],
            "type": "histogram2d"
           }
          ],
          "histogram2dcontour": [
           {
            "colorbar": {
             "outlinewidth": 0,
             "ticks": ""
            },
            "colorscale": [
             [
              0,
              "#0d0887"
             ],
             [
              0.1111111111111111,
              "#46039f"
             ],
             [
              0.2222222222222222,
              "#7201a8"
             ],
             [
              0.3333333333333333,
              "#9c179e"
             ],
             [
              0.4444444444444444,
              "#bd3786"
             ],
             [
              0.5555555555555556,
              "#d8576b"
             ],
             [
              0.6666666666666666,
              "#ed7953"
             ],
             [
              0.7777777777777778,
              "#fb9f3a"
             ],
             [
              0.8888888888888888,
              "#fdca26"
             ],
             [
              1,
              "#f0f921"
             ]
            ],
            "type": "histogram2dcontour"
           }
          ],
          "mesh3d": [
           {
            "colorbar": {
             "outlinewidth": 0,
             "ticks": ""
            },
            "type": "mesh3d"
           }
          ],
          "parcoords": [
           {
            "line": {
             "colorbar": {
              "outlinewidth": 0,
              "ticks": ""
             }
            },
            "type": "parcoords"
           }
          ],
          "pie": [
           {
            "automargin": true,
            "type": "pie"
           }
          ],
          "scatter": [
           {
            "marker": {
             "colorbar": {
              "outlinewidth": 0,
              "ticks": ""
             }
            },
            "type": "scatter"
           }
          ],
          "scatter3d": [
           {
            "line": {
             "colorbar": {
              "outlinewidth": 0,
              "ticks": ""
             }
            },
            "marker": {
             "colorbar": {
              "outlinewidth": 0,
              "ticks": ""
             }
            },
            "type": "scatter3d"
           }
          ],
          "scattercarpet": [
           {
            "marker": {
             "colorbar": {
              "outlinewidth": 0,
              "ticks": ""
             }
            },
            "type": "scattercarpet"
           }
          ],
          "scattergeo": [
           {
            "marker": {
             "colorbar": {
              "outlinewidth": 0,
              "ticks": ""
             }
            },
            "type": "scattergeo"
           }
          ],
          "scattergl": [
           {
            "marker": {
             "colorbar": {
              "outlinewidth": 0,
              "ticks": ""
             }
            },
            "type": "scattergl"
           }
          ],
          "scattermapbox": [
           {
            "marker": {
             "colorbar": {
              "outlinewidth": 0,
              "ticks": ""
             }
            },
            "type": "scattermapbox"
           }
          ],
          "scatterpolar": [
           {
            "marker": {
             "colorbar": {
              "outlinewidth": 0,
              "ticks": ""
             }
            },
            "type": "scatterpolar"
           }
          ],
          "scatterpolargl": [
           {
            "marker": {
             "colorbar": {
              "outlinewidth": 0,
              "ticks": ""
             }
            },
            "type": "scatterpolargl"
           }
          ],
          "scatterternary": [
           {
            "marker": {
             "colorbar": {
              "outlinewidth": 0,
              "ticks": ""
             }
            },
            "type": "scatterternary"
           }
          ],
          "surface": [
           {
            "colorbar": {
             "outlinewidth": 0,
             "ticks": ""
            },
            "colorscale": [
             [
              0,
              "#0d0887"
             ],
             [
              0.1111111111111111,
              "#46039f"
             ],
             [
              0.2222222222222222,
              "#7201a8"
             ],
             [
              0.3333333333333333,
              "#9c179e"
             ],
             [
              0.4444444444444444,
              "#bd3786"
             ],
             [
              0.5555555555555556,
              "#d8576b"
             ],
             [
              0.6666666666666666,
              "#ed7953"
             ],
             [
              0.7777777777777778,
              "#fb9f3a"
             ],
             [
              0.8888888888888888,
              "#fdca26"
             ],
             [
              1,
              "#f0f921"
             ]
            ],
            "type": "surface"
           }
          ],
          "table": [
           {
            "cells": {
             "fill": {
              "color": "#EBF0F8"
             },
             "line": {
              "color": "white"
             }
            },
            "header": {
             "fill": {
              "color": "#C8D4E3"
             },
             "line": {
              "color": "white"
             }
            },
            "type": "table"
           }
          ]
         },
         "layout": {
          "annotationdefaults": {
           "arrowcolor": "#2a3f5f",
           "arrowhead": 0,
           "arrowwidth": 1
          },
          "coloraxis": {
           "colorbar": {
            "outlinewidth": 0,
            "ticks": ""
           }
          },
          "colorscale": {
           "diverging": [
            [
             0,
             "#8e0152"
            ],
            [
             0.1,
             "#c51b7d"
            ],
            [
             0.2,
             "#de77ae"
            ],
            [
             0.3,
             "#f1b6da"
            ],
            [
             0.4,
             "#fde0ef"
            ],
            [
             0.5,
             "#f7f7f7"
            ],
            [
             0.6,
             "#e6f5d0"
            ],
            [
             0.7,
             "#b8e186"
            ],
            [
             0.8,
             "#7fbc41"
            ],
            [
             0.9,
             "#4d9221"
            ],
            [
             1,
             "#276419"
            ]
           ],
           "sequential": [
            [
             0,
             "#0d0887"
            ],
            [
             0.1111111111111111,
             "#46039f"
            ],
            [
             0.2222222222222222,
             "#7201a8"
            ],
            [
             0.3333333333333333,
             "#9c179e"
            ],
            [
             0.4444444444444444,
             "#bd3786"
            ],
            [
             0.5555555555555556,
             "#d8576b"
            ],
            [
             0.6666666666666666,
             "#ed7953"
            ],
            [
             0.7777777777777778,
             "#fb9f3a"
            ],
            [
             0.8888888888888888,
             "#fdca26"
            ],
            [
             1,
             "#f0f921"
            ]
           ],
           "sequentialminus": [
            [
             0,
             "#0d0887"
            ],
            [
             0.1111111111111111,
             "#46039f"
            ],
            [
             0.2222222222222222,
             "#7201a8"
            ],
            [
             0.3333333333333333,
             "#9c179e"
            ],
            [
             0.4444444444444444,
             "#bd3786"
            ],
            [
             0.5555555555555556,
             "#d8576b"
            ],
            [
             0.6666666666666666,
             "#ed7953"
            ],
            [
             0.7777777777777778,
             "#fb9f3a"
            ],
            [
             0.8888888888888888,
             "#fdca26"
            ],
            [
             1,
             "#f0f921"
            ]
           ]
          },
          "colorway": [
           "#636efa",
           "#EF553B",
           "#00cc96",
           "#ab63fa",
           "#FFA15A",
           "#19d3f3",
           "#FF6692",
           "#B6E880",
           "#FF97FF",
           "#FECB52"
          ],
          "font": {
           "color": "#2a3f5f"
          },
          "geo": {
           "bgcolor": "white",
           "lakecolor": "white",
           "landcolor": "#E5ECF6",
           "showlakes": true,
           "showland": true,
           "subunitcolor": "white"
          },
          "hoverlabel": {
           "align": "left"
          },
          "hovermode": "closest",
          "mapbox": {
           "style": "light"
          },
          "paper_bgcolor": "white",
          "plot_bgcolor": "#E5ECF6",
          "polar": {
           "angularaxis": {
            "gridcolor": "white",
            "linecolor": "white",
            "ticks": ""
           },
           "bgcolor": "#E5ECF6",
           "radialaxis": {
            "gridcolor": "white",
            "linecolor": "white",
            "ticks": ""
           }
          },
          "scene": {
           "xaxis": {
            "backgroundcolor": "#E5ECF6",
            "gridcolor": "white",
            "gridwidth": 2,
            "linecolor": "white",
            "showbackground": true,
            "ticks": "",
            "zerolinecolor": "white"
           },
           "yaxis": {
            "backgroundcolor": "#E5ECF6",
            "gridcolor": "white",
            "gridwidth": 2,
            "linecolor": "white",
            "showbackground": true,
            "ticks": "",
            "zerolinecolor": "white"
           },
           "zaxis": {
            "backgroundcolor": "#E5ECF6",
            "gridcolor": "white",
            "gridwidth": 2,
            "linecolor": "white",
            "showbackground": true,
            "ticks": "",
            "zerolinecolor": "white"
           }
          },
          "shapedefaults": {
           "line": {
            "color": "#2a3f5f"
           }
          },
          "ternary": {
           "aaxis": {
            "gridcolor": "white",
            "linecolor": "white",
            "ticks": ""
           },
           "baxis": {
            "gridcolor": "white",
            "linecolor": "white",
            "ticks": ""
           },
           "bgcolor": "#E5ECF6",
           "caxis": {
            "gridcolor": "white",
            "linecolor": "white",
            "ticks": ""
           }
          },
          "title": {
           "x": 0.05
          },
          "xaxis": {
           "automargin": true,
           "gridcolor": "white",
           "linecolor": "white",
           "ticks": "",
           "title": {
            "standoff": 15
           },
           "zerolinecolor": "white",
           "zerolinewidth": 2
          },
          "yaxis": {
           "automargin": true,
           "gridcolor": "white",
           "linecolor": "white",
           "ticks": "",
           "title": {
            "standoff": 15
           },
           "zerolinecolor": "white",
           "zerolinewidth": 2
          }
         }
        },
        "title": {
         "text": "<b>Model Confusion matrix</b><br>DecisionTreeClassifier"
        },
        "width": 830,
        "xaxis": {
         "dtick": 1,
         "gridcolor": "rgb(0, 0, 0)",
         "side": "top",
         "ticks": ""
        },
        "yaxis": {
         "dtick": 1,
         "ticks": "",
         "ticksuffix": "  "
        }
       }
      },
      "text/html": [
       "<div>\n",
       "        \n",
       "        \n",
       "            <div id=\"9d79d0c6-a0c2-4759-8772-107074e46904\" class=\"plotly-graph-div\" style=\"height:900px; width:830px;\"></div>\n",
       "            <script type=\"text/javascript\">\n",
       "                require([\"plotly\"], function(Plotly) {\n",
       "                    window.PLOTLYENV=window.PLOTLYENV || {};\n",
       "                    \n",
       "                if (document.getElementById(\"9d79d0c6-a0c2-4759-8772-107074e46904\")) {\n",
       "                    Plotly.newPlot(\n",
       "                        '9d79d0c6-a0c2-4759-8772-107074e46904',\n",
       "                        [{\"colorscale\": [[0.0, \"#440154\"], [0.1111111111111111, \"#482878\"], [0.2222222222222222, \"#3e4989\"], [0.3333333333333333, \"#31688e\"], [0.4444444444444444, \"#26828e\"], [0.5555555555555556, \"#1f9e89\"], [0.6666666666666666, \"#35b779\"], [0.7777777777777778, \"#6ece58\"], [0.8888888888888888, \"#b5de2b\"], [1.0, \"#fde725\"]], \"hoverinfo\": \"z\", \"reversescale\": false, \"showscale\": false, \"type\": \"heatmap\", \"x\": [\"No (pred)\", \"Yes (pred)\"], \"xgap\": 2, \"y\": [\"No (Actual)\", \"Yes (Actual)\"], \"ygap\": 2, \"z\": [[185, 65], [60, 184]]}],\n",
       "                        {\"annotations\": [{\"font\": {\"color\": \"#000000\"}, \"showarrow\": false, \"text\": \"185\", \"x\": \"No (pred)\", \"xref\": \"x\", \"y\": \"No (Actual)\", \"yref\": \"y\"}, {\"font\": {\"color\": \"#FFFFFF\"}, \"showarrow\": false, \"text\": \"65\", \"x\": \"Yes (pred)\", \"xref\": \"x\", \"y\": \"No (Actual)\", \"yref\": \"y\"}, {\"font\": {\"color\": \"#FFFFFF\"}, \"showarrow\": false, \"text\": \"60\", \"x\": \"No (pred)\", \"xref\": \"x\", \"y\": \"Yes (Actual)\", \"yref\": \"y\"}, {\"font\": {\"color\": \"#000000\"}, \"showarrow\": false, \"text\": \"184\", \"x\": \"Yes (pred)\", \"xref\": \"x\", \"y\": \"Yes (Actual)\", \"yref\": \"y\"}], \"autosize\": true, \"height\": 900, \"margin\": {\"b\": 195}, \"paper_bgcolor\": \"rgba(240,240,240, 0.95)\", \"plot_bgcolor\": \"rgba(240,240,240, 0.95)\", \"showlegend\": false, \"template\": {\"data\": {\"bar\": [{\"error_x\": {\"color\": \"#2a3f5f\"}, \"error_y\": {\"color\": \"#2a3f5f\"}, \"marker\": {\"line\": {\"color\": \"#E5ECF6\", \"width\": 0.5}}, \"type\": \"bar\"}], \"barpolar\": [{\"marker\": {\"line\": {\"color\": \"#E5ECF6\", \"width\": 0.5}}, \"type\": \"barpolar\"}], \"carpet\": [{\"aaxis\": {\"endlinecolor\": \"#2a3f5f\", \"gridcolor\": \"white\", \"linecolor\": \"white\", \"minorgridcolor\": \"white\", \"startlinecolor\": \"#2a3f5f\"}, \"baxis\": {\"endlinecolor\": \"#2a3f5f\", \"gridcolor\": \"white\", \"linecolor\": \"white\", \"minorgridcolor\": \"white\", \"startlinecolor\": \"#2a3f5f\"}, \"type\": \"carpet\"}], \"choropleth\": [{\"colorbar\": {\"outlinewidth\": 0, \"ticks\": \"\"}, \"type\": \"choropleth\"}], \"contour\": [{\"colorbar\": {\"outlinewidth\": 0, \"ticks\": \"\"}, \"colorscale\": [[0.0, \"#0d0887\"], [0.1111111111111111, \"#46039f\"], [0.2222222222222222, \"#7201a8\"], [0.3333333333333333, \"#9c179e\"], [0.4444444444444444, \"#bd3786\"], [0.5555555555555556, \"#d8576b\"], [0.6666666666666666, \"#ed7953\"], [0.7777777777777778, \"#fb9f3a\"], [0.8888888888888888, \"#fdca26\"], [1.0, \"#f0f921\"]], \"type\": \"contour\"}], \"contourcarpet\": [{\"colorbar\": {\"outlinewidth\": 0, \"ticks\": \"\"}, \"type\": \"contourcarpet\"}], \"heatmap\": [{\"colorbar\": {\"outlinewidth\": 0, \"ticks\": \"\"}, \"colorscale\": [[0.0, \"#0d0887\"], [0.1111111111111111, \"#46039f\"], [0.2222222222222222, \"#7201a8\"], [0.3333333333333333, \"#9c179e\"], [0.4444444444444444, \"#bd3786\"], [0.5555555555555556, \"#d8576b\"], [0.6666666666666666, \"#ed7953\"], [0.7777777777777778, \"#fb9f3a\"], [0.8888888888888888, \"#fdca26\"], [1.0, \"#f0f921\"]], \"type\": \"heatmap\"}], \"heatmapgl\": [{\"colorbar\": {\"outlinewidth\": 0, \"ticks\": \"\"}, \"colorscale\": [[0.0, \"#0d0887\"], [0.1111111111111111, \"#46039f\"], [0.2222222222222222, \"#7201a8\"], [0.3333333333333333, \"#9c179e\"], [0.4444444444444444, \"#bd3786\"], [0.5555555555555556, \"#d8576b\"], [0.6666666666666666, \"#ed7953\"], [0.7777777777777778, \"#fb9f3a\"], [0.8888888888888888, \"#fdca26\"], [1.0, \"#f0f921\"]], \"type\": \"heatmapgl\"}], \"histogram\": [{\"marker\": {\"colorbar\": {\"outlinewidth\": 0, \"ticks\": \"\"}}, \"type\": \"histogram\"}], \"histogram2d\": [{\"colorbar\": {\"outlinewidth\": 0, \"ticks\": \"\"}, \"colorscale\": [[0.0, \"#0d0887\"], [0.1111111111111111, \"#46039f\"], [0.2222222222222222, \"#7201a8\"], [0.3333333333333333, \"#9c179e\"], [0.4444444444444444, \"#bd3786\"], [0.5555555555555556, \"#d8576b\"], [0.6666666666666666, \"#ed7953\"], [0.7777777777777778, \"#fb9f3a\"], [0.8888888888888888, \"#fdca26\"], [1.0, \"#f0f921\"]], \"type\": \"histogram2d\"}], \"histogram2dcontour\": [{\"colorbar\": {\"outlinewidth\": 0, \"ticks\": \"\"}, \"colorscale\": [[0.0, \"#0d0887\"], [0.1111111111111111, \"#46039f\"], [0.2222222222222222, \"#7201a8\"], [0.3333333333333333, \"#9c179e\"], [0.4444444444444444, \"#bd3786\"], [0.5555555555555556, \"#d8576b\"], [0.6666666666666666, \"#ed7953\"], [0.7777777777777778, \"#fb9f3a\"], [0.8888888888888888, \"#fdca26\"], [1.0, \"#f0f921\"]], \"type\": \"histogram2dcontour\"}], \"mesh3d\": [{\"colorbar\": {\"outlinewidth\": 0, \"ticks\": \"\"}, \"type\": \"mesh3d\"}], \"parcoords\": [{\"line\": {\"colorbar\": {\"outlinewidth\": 0, \"ticks\": \"\"}}, \"type\": \"parcoords\"}], \"pie\": [{\"automargin\": true, \"type\": \"pie\"}], \"scatter\": [{\"marker\": {\"colorbar\": {\"outlinewidth\": 0, \"ticks\": \"\"}}, \"type\": \"scatter\"}], \"scatter3d\": [{\"line\": {\"colorbar\": {\"outlinewidth\": 0, \"ticks\": \"\"}}, \"marker\": {\"colorbar\": {\"outlinewidth\": 0, \"ticks\": \"\"}}, \"type\": \"scatter3d\"}], \"scattercarpet\": [{\"marker\": {\"colorbar\": {\"outlinewidth\": 0, \"ticks\": \"\"}}, \"type\": \"scattercarpet\"}], \"scattergeo\": [{\"marker\": {\"colorbar\": {\"outlinewidth\": 0, \"ticks\": \"\"}}, \"type\": \"scattergeo\"}], \"scattergl\": [{\"marker\": {\"colorbar\": {\"outlinewidth\": 0, \"ticks\": \"\"}}, \"type\": \"scattergl\"}], \"scattermapbox\": [{\"marker\": {\"colorbar\": {\"outlinewidth\": 0, \"ticks\": \"\"}}, \"type\": \"scattermapbox\"}], \"scatterpolar\": [{\"marker\": {\"colorbar\": {\"outlinewidth\": 0, \"ticks\": \"\"}}, \"type\": \"scatterpolar\"}], \"scatterpolargl\": [{\"marker\": {\"colorbar\": {\"outlinewidth\": 0, \"ticks\": \"\"}}, \"type\": \"scatterpolargl\"}], \"scatterternary\": [{\"marker\": {\"colorbar\": {\"outlinewidth\": 0, \"ticks\": \"\"}}, \"type\": \"scatterternary\"}], \"surface\": [{\"colorbar\": {\"outlinewidth\": 0, \"ticks\": \"\"}, \"colorscale\": [[0.0, \"#0d0887\"], [0.1111111111111111, \"#46039f\"], [0.2222222222222222, \"#7201a8\"], [0.3333333333333333, \"#9c179e\"], [0.4444444444444444, \"#bd3786\"], [0.5555555555555556, \"#d8576b\"], [0.6666666666666666, \"#ed7953\"], [0.7777777777777778, \"#fb9f3a\"], [0.8888888888888888, \"#fdca26\"], [1.0, \"#f0f921\"]], \"type\": \"surface\"}], \"table\": [{\"cells\": {\"fill\": {\"color\": \"#EBF0F8\"}, \"line\": {\"color\": \"white\"}}, \"header\": {\"fill\": {\"color\": \"#C8D4E3\"}, \"line\": {\"color\": \"white\"}}, \"type\": \"table\"}]}, \"layout\": {\"annotationdefaults\": {\"arrowcolor\": \"#2a3f5f\", \"arrowhead\": 0, \"arrowwidth\": 1}, \"coloraxis\": {\"colorbar\": {\"outlinewidth\": 0, \"ticks\": \"\"}}, \"colorscale\": {\"diverging\": [[0, \"#8e0152\"], [0.1, \"#c51b7d\"], [0.2, \"#de77ae\"], [0.3, \"#f1b6da\"], [0.4, \"#fde0ef\"], [0.5, \"#f7f7f7\"], [0.6, \"#e6f5d0\"], [0.7, \"#b8e186\"], [0.8, \"#7fbc41\"], [0.9, \"#4d9221\"], [1, \"#276419\"]], \"sequential\": [[0.0, \"#0d0887\"], [0.1111111111111111, \"#46039f\"], [0.2222222222222222, \"#7201a8\"], [0.3333333333333333, \"#9c179e\"], [0.4444444444444444, \"#bd3786\"], [0.5555555555555556, \"#d8576b\"], [0.6666666666666666, \"#ed7953\"], [0.7777777777777778, \"#fb9f3a\"], [0.8888888888888888, \"#fdca26\"], [1.0, \"#f0f921\"]], \"sequentialminus\": [[0.0, \"#0d0887\"], [0.1111111111111111, \"#46039f\"], [0.2222222222222222, \"#7201a8\"], [0.3333333333333333, \"#9c179e\"], [0.4444444444444444, \"#bd3786\"], [0.5555555555555556, \"#d8576b\"], [0.6666666666666666, \"#ed7953\"], [0.7777777777777778, \"#fb9f3a\"], [0.8888888888888888, \"#fdca26\"], [1.0, \"#f0f921\"]]}, \"colorway\": [\"#636efa\", \"#EF553B\", \"#00cc96\", \"#ab63fa\", \"#FFA15A\", \"#19d3f3\", \"#FF6692\", \"#B6E880\", \"#FF97FF\", \"#FECB52\"], \"font\": {\"color\": \"#2a3f5f\"}, \"geo\": {\"bgcolor\": \"white\", \"lakecolor\": \"white\", \"landcolor\": \"#E5ECF6\", \"showlakes\": true, \"showland\": true, \"subunitcolor\": \"white\"}, \"hoverlabel\": {\"align\": \"left\"}, \"hovermode\": \"closest\", \"mapbox\": {\"style\": \"light\"}, \"paper_bgcolor\": \"white\", \"plot_bgcolor\": \"#E5ECF6\", \"polar\": {\"angularaxis\": {\"gridcolor\": \"white\", \"linecolor\": \"white\", \"ticks\": \"\"}, \"bgcolor\": \"#E5ECF6\", \"radialaxis\": {\"gridcolor\": \"white\", \"linecolor\": \"white\", \"ticks\": \"\"}}, \"scene\": {\"xaxis\": {\"backgroundcolor\": \"#E5ECF6\", \"gridcolor\": \"white\", \"gridwidth\": 2, \"linecolor\": \"white\", \"showbackground\": true, \"ticks\": \"\", \"zerolinecolor\": \"white\"}, \"yaxis\": {\"backgroundcolor\": \"#E5ECF6\", \"gridcolor\": \"white\", \"gridwidth\": 2, \"linecolor\": \"white\", \"showbackground\": true, \"ticks\": \"\", \"zerolinecolor\": \"white\"}, \"zaxis\": {\"backgroundcolor\": \"#E5ECF6\", \"gridcolor\": \"white\", \"gridwidth\": 2, \"linecolor\": \"white\", \"showbackground\": true, \"ticks\": \"\", \"zerolinecolor\": \"white\"}}, \"shapedefaults\": {\"line\": {\"color\": \"#2a3f5f\"}}, \"ternary\": {\"aaxis\": {\"gridcolor\": \"white\", \"linecolor\": \"white\", \"ticks\": \"\"}, \"baxis\": {\"gridcolor\": \"white\", \"linecolor\": \"white\", \"ticks\": \"\"}, \"bgcolor\": \"#E5ECF6\", \"caxis\": {\"gridcolor\": \"white\", \"linecolor\": \"white\", \"ticks\": \"\"}}, \"title\": {\"x\": 0.05}, \"xaxis\": {\"automargin\": true, \"gridcolor\": \"white\", \"linecolor\": \"white\", \"ticks\": \"\", \"title\": {\"standoff\": 15}, \"zerolinecolor\": \"white\", \"zerolinewidth\": 2}, \"yaxis\": {\"automargin\": true, \"gridcolor\": \"white\", \"linecolor\": \"white\", \"ticks\": \"\", \"title\": {\"standoff\": 15}, \"zerolinecolor\": \"white\", \"zerolinewidth\": 2}}}, \"title\": {\"text\": \"<b>Model Confusion matrix</b><br>DecisionTreeClassifier\"}, \"width\": 830, \"xaxis\": {\"dtick\": 1, \"gridcolor\": \"rgb(0, 0, 0)\", \"side\": \"top\", \"ticks\": \"\"}, \"yaxis\": {\"dtick\": 1, \"ticks\": \"\", \"ticksuffix\": \"  \"}},\n",
       "                        {\"responsive\": true}\n",
       "                    ).then(function(){\n",
       "                            \n",
       "var gd = document.getElementById('9d79d0c6-a0c2-4759-8772-107074e46904');\n",
       "var x = new MutationObserver(function (mutations, observer) {{\n",
       "        var display = window.getComputedStyle(gd).display;\n",
       "        if (!display || display === 'none') {{\n",
       "            console.log([gd, 'removed!']);\n",
       "            Plotly.purge(gd);\n",
       "            observer.disconnect();\n",
       "        }}\n",
       "}});\n",
       "\n",
       "// Listen for the removal of the full notebook cells\n",
       "var notebookContainer = gd.closest('#notebook-container');\n",
       "if (notebookContainer) {{\n",
       "    x.observe(notebookContainer, {childList: true});\n",
       "}}\n",
       "\n",
       "// Listen for the clearing of the current output cell\n",
       "var outputEl = gd.closest('.output');\n",
       "if (outputEl) {{\n",
       "    x.observe(outputEl, {childList: true});\n",
       "}}\n",
       "\n",
       "                        })\n",
       "                };\n",
       "                });\n",
       "            </script>\n",
       "        </div>"
      ]
     },
     "metadata": {},
     "output_type": "display_data"
    },
    {
     "ename": "ValueError",
     "evalue": "arrays must all be same length",
     "output_type": "error",
     "traceback": [
      "\u001b[0;31m---------------------------------------------------------------------------\u001b[0m",
      "\u001b[0;31mValueError\u001b[0m                                Traceback (most recent call last)",
      "\u001b[0;32m<ipython-input-57-2a5c0fda2794>\u001b[0m in \u001b[0;36m<module>\u001b[0;34m\u001b[0m\n\u001b[1;32m      1\u001b[0m \u001b[0mplot_confusion_matrix\u001b[0m\u001b[0;34m(\u001b[0m\u001b[0mtree_clf\u001b[0m\u001b[0;34m)\u001b[0m\u001b[0;34m\u001b[0m\u001b[0;34m\u001b[0m\u001b[0m\n\u001b[1;32m      2\u001b[0m \u001b[0;34m\u001b[0m\u001b[0m\n\u001b[0;32m----> 3\u001b[0;31m \u001b[0mplot_feature_importance\u001b[0m\u001b[0;34m(\u001b[0m\u001b[0mtree_clf\u001b[0m\u001b[0;34m)\u001b[0m\u001b[0;34m\u001b[0m\u001b[0;34m\u001b[0m\u001b[0m\n\u001b[0m",
      "\u001b[0;32m<ipython-input-24-906423663f58>\u001b[0m in \u001b[0;36mplot_feature_importance\u001b[0;34m(model)\u001b[0m\n\u001b[1;32m      1\u001b[0m \u001b[0;32mdef\u001b[0m \u001b[0mplot_feature_importance\u001b[0m\u001b[0;34m(\u001b[0m\u001b[0mmodel\u001b[0m\u001b[0;34m)\u001b[0m\u001b[0;34m:\u001b[0m\u001b[0;34m\u001b[0m\u001b[0;34m\u001b[0m\u001b[0m\n\u001b[0;32m----> 2\u001b[0;31m     \u001b[0mtmp\u001b[0m \u001b[0;34m=\u001b[0m \u001b[0mpd\u001b[0m\u001b[0;34m.\u001b[0m\u001b[0mDataFrame\u001b[0m\u001b[0;34m(\u001b[0m\u001b[0;34m{\u001b[0m\u001b[0;34m'Feature'\u001b[0m\u001b[0;34m:\u001b[0m \u001b[0mlist\u001b[0m\u001b[0;34m(\u001b[0m\u001b[0mattrition_final_tree\u001b[0m\u001b[0;34m)\u001b[0m\u001b[0;34m,\u001b[0m \u001b[0;34m'Feature importance'\u001b[0m\u001b[0;34m:\u001b[0m \u001b[0mmodel\u001b[0m\u001b[0;34m.\u001b[0m\u001b[0mfeature_importances_\u001b[0m\u001b[0;34m}\u001b[0m\u001b[0;34m)\u001b[0m\u001b[0;34m\u001b[0m\u001b[0;34m\u001b[0m\u001b[0m\n\u001b[0m\u001b[1;32m      3\u001b[0m     \u001b[0mtmp\u001b[0m \u001b[0;34m=\u001b[0m \u001b[0mtmp\u001b[0m\u001b[0;34m.\u001b[0m\u001b[0msort_values\u001b[0m\u001b[0;34m(\u001b[0m\u001b[0mby\u001b[0m\u001b[0;34m=\u001b[0m\u001b[0;34m'Feature importance'\u001b[0m\u001b[0;34m,\u001b[0m\u001b[0mascending\u001b[0m\u001b[0;34m=\u001b[0m\u001b[0;32mFalse\u001b[0m\u001b[0;34m)\u001b[0m\u001b[0;34m.\u001b[0m\u001b[0mhead\u001b[0m\u001b[0;34m(\u001b[0m\u001b[0;36m30\u001b[0m\u001b[0;34m)\u001b[0m\u001b[0;34m\u001b[0m\u001b[0;34m\u001b[0m\u001b[0m\n\u001b[1;32m      4\u001b[0m     \u001b[0mplt\u001b[0m\u001b[0;34m.\u001b[0m\u001b[0mfigure\u001b[0m\u001b[0;34m(\u001b[0m\u001b[0mfigsize\u001b[0m \u001b[0;34m=\u001b[0m \u001b[0;34m(\u001b[0m\u001b[0;36m10\u001b[0m\u001b[0;34m,\u001b[0m\u001b[0;36m12\u001b[0m\u001b[0;34m)\u001b[0m\u001b[0;34m)\u001b[0m\u001b[0;34m\u001b[0m\u001b[0;34m\u001b[0m\u001b[0m\n\u001b[1;32m      5\u001b[0m     \u001b[0mplt\u001b[0m\u001b[0;34m.\u001b[0m\u001b[0mtitle\u001b[0m\u001b[0;34m(\u001b[0m\u001b[0;34m'Top 30 - Features importance - {0}'\u001b[0m\u001b[0;34m.\u001b[0m\u001b[0mformat\u001b[0m\u001b[0;34m(\u001b[0m\u001b[0mmodel\u001b[0m\u001b[0;34m)\u001b[0m\u001b[0;34m,\u001b[0m\u001b[0mfontsize\u001b[0m\u001b[0;34m=\u001b[0m\u001b[0;36m14\u001b[0m\u001b[0;34m)\u001b[0m\u001b[0;34m\u001b[0m\u001b[0;34m\u001b[0m\u001b[0m\n",
      "\u001b[0;32m~/Documents/Foundations of Business Analytics/final_bana200/lib/python3.7/site-packages/pandas/core/frame.py\u001b[0m in \u001b[0;36m__init__\u001b[0;34m(self, data, index, columns, dtype, copy)\u001b[0m\n\u001b[1;32m    409\u001b[0m             )\n\u001b[1;32m    410\u001b[0m         \u001b[0;32melif\u001b[0m \u001b[0misinstance\u001b[0m\u001b[0;34m(\u001b[0m\u001b[0mdata\u001b[0m\u001b[0;34m,\u001b[0m \u001b[0mdict\u001b[0m\u001b[0;34m)\u001b[0m\u001b[0;34m:\u001b[0m\u001b[0;34m\u001b[0m\u001b[0;34m\u001b[0m\u001b[0m\n\u001b[0;32m--> 411\u001b[0;31m             \u001b[0mmgr\u001b[0m \u001b[0;34m=\u001b[0m \u001b[0minit_dict\u001b[0m\u001b[0;34m(\u001b[0m\u001b[0mdata\u001b[0m\u001b[0;34m,\u001b[0m \u001b[0mindex\u001b[0m\u001b[0;34m,\u001b[0m \u001b[0mcolumns\u001b[0m\u001b[0;34m,\u001b[0m \u001b[0mdtype\u001b[0m\u001b[0;34m=\u001b[0m\u001b[0mdtype\u001b[0m\u001b[0;34m)\u001b[0m\u001b[0;34m\u001b[0m\u001b[0;34m\u001b[0m\u001b[0m\n\u001b[0m\u001b[1;32m    412\u001b[0m         \u001b[0;32melif\u001b[0m \u001b[0misinstance\u001b[0m\u001b[0;34m(\u001b[0m\u001b[0mdata\u001b[0m\u001b[0;34m,\u001b[0m \u001b[0mma\u001b[0m\u001b[0;34m.\u001b[0m\u001b[0mMaskedArray\u001b[0m\u001b[0;34m)\u001b[0m\u001b[0;34m:\u001b[0m\u001b[0;34m\u001b[0m\u001b[0;34m\u001b[0m\u001b[0m\n\u001b[1;32m    413\u001b[0m             \u001b[0;32mimport\u001b[0m \u001b[0mnumpy\u001b[0m\u001b[0;34m.\u001b[0m\u001b[0mma\u001b[0m\u001b[0;34m.\u001b[0m\u001b[0mmrecords\u001b[0m \u001b[0;32mas\u001b[0m \u001b[0mmrecords\u001b[0m\u001b[0;34m\u001b[0m\u001b[0;34m\u001b[0m\u001b[0m\n",
      "\u001b[0;32m~/Documents/Foundations of Business Analytics/final_bana200/lib/python3.7/site-packages/pandas/core/internals/construction.py\u001b[0m in \u001b[0;36minit_dict\u001b[0;34m(data, index, columns, dtype)\u001b[0m\n\u001b[1;32m    255\u001b[0m             \u001b[0marr\u001b[0m \u001b[0;32mif\u001b[0m \u001b[0;32mnot\u001b[0m \u001b[0mis_datetime64tz_dtype\u001b[0m\u001b[0;34m(\u001b[0m\u001b[0marr\u001b[0m\u001b[0;34m)\u001b[0m \u001b[0;32melse\u001b[0m \u001b[0marr\u001b[0m\u001b[0;34m.\u001b[0m\u001b[0mcopy\u001b[0m\u001b[0;34m(\u001b[0m\u001b[0;34m)\u001b[0m \u001b[0;32mfor\u001b[0m \u001b[0marr\u001b[0m \u001b[0;32min\u001b[0m \u001b[0marrays\u001b[0m\u001b[0;34m\u001b[0m\u001b[0;34m\u001b[0m\u001b[0m\n\u001b[1;32m    256\u001b[0m         ]\n\u001b[0;32m--> 257\u001b[0;31m     \u001b[0;32mreturn\u001b[0m \u001b[0marrays_to_mgr\u001b[0m\u001b[0;34m(\u001b[0m\u001b[0marrays\u001b[0m\u001b[0;34m,\u001b[0m \u001b[0mdata_names\u001b[0m\u001b[0;34m,\u001b[0m \u001b[0mindex\u001b[0m\u001b[0;34m,\u001b[0m \u001b[0mcolumns\u001b[0m\u001b[0;34m,\u001b[0m \u001b[0mdtype\u001b[0m\u001b[0;34m=\u001b[0m\u001b[0mdtype\u001b[0m\u001b[0;34m)\u001b[0m\u001b[0;34m\u001b[0m\u001b[0;34m\u001b[0m\u001b[0m\n\u001b[0m\u001b[1;32m    258\u001b[0m \u001b[0;34m\u001b[0m\u001b[0m\n\u001b[1;32m    259\u001b[0m \u001b[0;34m\u001b[0m\u001b[0m\n",
      "\u001b[0;32m~/Documents/Foundations of Business Analytics/final_bana200/lib/python3.7/site-packages/pandas/core/internals/construction.py\u001b[0m in \u001b[0;36marrays_to_mgr\u001b[0;34m(arrays, arr_names, index, columns, dtype)\u001b[0m\n\u001b[1;32m     75\u001b[0m     \u001b[0;31m# figure out the index, if necessary\u001b[0m\u001b[0;34m\u001b[0m\u001b[0;34m\u001b[0m\u001b[0;34m\u001b[0m\u001b[0m\n\u001b[1;32m     76\u001b[0m     \u001b[0;32mif\u001b[0m \u001b[0mindex\u001b[0m \u001b[0;32mis\u001b[0m \u001b[0;32mNone\u001b[0m\u001b[0;34m:\u001b[0m\u001b[0;34m\u001b[0m\u001b[0;34m\u001b[0m\u001b[0m\n\u001b[0;32m---> 77\u001b[0;31m         \u001b[0mindex\u001b[0m \u001b[0;34m=\u001b[0m \u001b[0mextract_index\u001b[0m\u001b[0;34m(\u001b[0m\u001b[0marrays\u001b[0m\u001b[0;34m)\u001b[0m\u001b[0;34m\u001b[0m\u001b[0;34m\u001b[0m\u001b[0m\n\u001b[0m\u001b[1;32m     78\u001b[0m     \u001b[0;32melse\u001b[0m\u001b[0;34m:\u001b[0m\u001b[0;34m\u001b[0m\u001b[0;34m\u001b[0m\u001b[0m\n\u001b[1;32m     79\u001b[0m         \u001b[0mindex\u001b[0m \u001b[0;34m=\u001b[0m \u001b[0mensure_index\u001b[0m\u001b[0;34m(\u001b[0m\u001b[0mindex\u001b[0m\u001b[0;34m)\u001b[0m\u001b[0;34m\u001b[0m\u001b[0;34m\u001b[0m\u001b[0m\n",
      "\u001b[0;32m~/Documents/Foundations of Business Analytics/final_bana200/lib/python3.7/site-packages/pandas/core/internals/construction.py\u001b[0m in \u001b[0;36mextract_index\u001b[0;34m(data)\u001b[0m\n\u001b[1;32m    366\u001b[0m             \u001b[0mlengths\u001b[0m \u001b[0;34m=\u001b[0m \u001b[0mlist\u001b[0m\u001b[0;34m(\u001b[0m\u001b[0mset\u001b[0m\u001b[0;34m(\u001b[0m\u001b[0mraw_lengths\u001b[0m\u001b[0;34m)\u001b[0m\u001b[0;34m)\u001b[0m\u001b[0;34m\u001b[0m\u001b[0;34m\u001b[0m\u001b[0m\n\u001b[1;32m    367\u001b[0m             \u001b[0;32mif\u001b[0m \u001b[0mlen\u001b[0m\u001b[0;34m(\u001b[0m\u001b[0mlengths\u001b[0m\u001b[0;34m)\u001b[0m \u001b[0;34m>\u001b[0m \u001b[0;36m1\u001b[0m\u001b[0;34m:\u001b[0m\u001b[0;34m\u001b[0m\u001b[0;34m\u001b[0m\u001b[0m\n\u001b[0;32m--> 368\u001b[0;31m                 \u001b[0;32mraise\u001b[0m \u001b[0mValueError\u001b[0m\u001b[0;34m(\u001b[0m\u001b[0;34m\"arrays must all be same length\"\u001b[0m\u001b[0;34m)\u001b[0m\u001b[0;34m\u001b[0m\u001b[0;34m\u001b[0m\u001b[0m\n\u001b[0m\u001b[1;32m    369\u001b[0m \u001b[0;34m\u001b[0m\u001b[0m\n\u001b[1;32m    370\u001b[0m             \u001b[0;32mif\u001b[0m \u001b[0mhave_dicts\u001b[0m\u001b[0;34m:\u001b[0m\u001b[0;34m\u001b[0m\u001b[0;34m\u001b[0m\u001b[0m\n",
      "\u001b[0;31mValueError\u001b[0m: arrays must all be same length"
     ]
    }
   ],
   "source": [
    "plot_confusion_matrix(tree_clf)\n",
    "\n",
    "plot_feature_importance(tree_clf)\n"
   ]
  },
  {
   "cell_type": "code",
   "execution_count": 58,
   "metadata": {},
   "outputs": [
    {
     "name": "stdout",
     "output_type": "stream",
     "text": [
      "Predictions have finished\n"
     ]
    }
   ],
   "source": [
    "# Fit the model to our SMOTEd train and target\n",
    "gb.fit(train_r, target_train_r)\n",
    "# Get our predictions\n",
    "gb_predictions_r = gb.predict(test_r)\n",
    "print(\"Predictions have finished\")"
   ]
  },
  {
   "cell_type": "code",
   "execution_count": 59,
   "metadata": {},
   "outputs": [
    {
     "name": "stdout",
     "output_type": "stream",
     "text": [
      "0.9433198380566802\n",
      "              precision    recall  f1-score   support\n",
      "\n",
      "           0       1.00      0.89      0.94       250\n",
      "           1       0.90      1.00      0.95       244\n",
      "\n",
      "    accuracy                           0.94       494\n",
      "   macro avg       0.95      0.94      0.94       494\n",
      "weighted avg       0.95      0.94      0.94       494\n",
      "\n"
     ]
    }
   ],
   "source": [
    "print(accuracy_score(target_val_r, gb_predictions_r))\n",
    "print(classification_report(target_val_r, gb_predictions_r))"
   ]
  },
  {
   "cell_type": "code",
   "execution_count": 60,
   "metadata": {},
   "outputs": [
    {
     "data": {
      "application/vnd.plotly.v1+json": {
       "config": {
        "linkText": "Export to plot.ly",
        "plotlyServerURL": "https://plot.ly",
        "showLink": false
       },
       "data": [
        {
         "marker": {
          "color": [
           "gold",
           "lightgreen",
           "lightcoral",
           "lightskyblue"
          ],
          "line": {
           "color": "#000000",
           "width": 1.5
          }
         },
         "opacity": 0.8,
         "orientation": "h",
         "text": [
          0.9433,
          0.8971,
          1,
          0.9457
         ],
         "textposition": "auto",
         "type": "bar",
         "x": [
          0.9433198380566802,
          0.8970588235294118,
          1,
          0.9457364341085273
         ],
         "xaxis": "x",
         "y": [
          "Accuracy",
          "Precision",
          "Recall",
          "F1_score"
         ],
         "yaxis": "y"
        },
        {
         "fill": "tozeroy",
         "line": {
          "color": "rgb(22, 96, 167)",
          "width": 2
         },
         "name": "Roc : ",
         "type": "scatter",
         "x": [
          0,
          0,
          0,
          0,
          0,
          0,
          0,
          0,
          0,
          0,
          0,
          0,
          0,
          0,
          0,
          0,
          0,
          0,
          0,
          0,
          0,
          0,
          0,
          0,
          0,
          0,
          0,
          0,
          0,
          0,
          0,
          0,
          0,
          0.004,
          0.004,
          0.004,
          0.004,
          0.004,
          0.004,
          0.004,
          0.004,
          0.004,
          0.004,
          0.004,
          0.004,
          0.004,
          0.004,
          0.004,
          0.004,
          0.004,
          0.004,
          0.004,
          0.004,
          0.004,
          0.004,
          0.004,
          0.004,
          0.004,
          0.004,
          0.004,
          0.004,
          0.004,
          0.004,
          0.004,
          0.004,
          0.004,
          0.004,
          0.004,
          0.004,
          0.004,
          0.004,
          0.004,
          0.004,
          0.004,
          0.004,
          0.004,
          0.004,
          0.004,
          0.004,
          0.004,
          0.004,
          0.004,
          0.004,
          0.004,
          0.004,
          0.004,
          0.004,
          0.004,
          0.004,
          0.004,
          0.004,
          0.004,
          0.004,
          0.004,
          0.008,
          0.008,
          0.012,
          0.012,
          0.02,
          0.02,
          0.068,
          0.068,
          1
         ],
         "xaxis": "x2",
         "y": [
          0,
          0.004098360655737705,
          0.012295081967213115,
          0.01639344262295082,
          0.03278688524590164,
          0.045081967213114756,
          0.06147540983606557,
          0.0778688524590164,
          0.09016393442622951,
          0.09836065573770492,
          0.11475409836065574,
          0.12295081967213115,
          0.13114754098360656,
          0.14754098360655737,
          0.1557377049180328,
          0.16393442622950818,
          0.1885245901639344,
          0.20081967213114754,
          0.20901639344262296,
          0.21721311475409835,
          0.22540983606557377,
          0.24180327868852458,
          0.25,
          0.2540983606557377,
          0.26229508196721313,
          0.2786885245901639,
          0.29098360655737704,
          0.29918032786885246,
          0.3073770491803279,
          0.3155737704918033,
          0.32786885245901637,
          0.3401639344262295,
          0.35655737704918034,
          0.35655737704918034,
          0.36475409836065575,
          0.3729508196721312,
          0.38524590163934425,
          0.3975409836065574,
          0.4139344262295082,
          0.430327868852459,
          0.4385245901639344,
          0.4426229508196721,
          0.45081967213114754,
          0.45491803278688525,
          0.46311475409836067,
          0.47540983606557374,
          0.48360655737704916,
          0.4959016393442623,
          0.5040983606557377,
          0.5081967213114754,
          0.5163934426229508,
          0.5245901639344263,
          0.5368852459016393,
          0.5450819672131147,
          0.5614754098360656,
          0.5655737704918032,
          0.5778688524590164,
          0.5860655737704918,
          0.5942622950819673,
          0.6024590163934426,
          0.6065573770491803,
          0.6188524590163934,
          0.6229508196721312,
          0.639344262295082,
          0.6434426229508197,
          0.6516393442622951,
          0.6557377049180327,
          0.6721311475409836,
          0.680327868852459,
          0.6885245901639344,
          0.6967213114754098,
          0.7213114754098361,
          0.7254098360655737,
          0.7336065573770492,
          0.7418032786885246,
          0.7540983606557377,
          0.7704918032786885,
          0.7745901639344263,
          0.7909836065573771,
          0.8114754098360656,
          0.819672131147541,
          0.8278688524590164,
          0.8360655737704918,
          0.8524590163934426,
          0.8647540983606558,
          0.8811475409836066,
          0.8934426229508197,
          0.8975409836065574,
          0.9221311475409836,
          0.9262295081967213,
          0.9344262295081968,
          0.9508196721311475,
          0.9713114754098361,
          0.9754098360655737,
          0.9754098360655737,
          0.9795081967213115,
          0.9795081967213115,
          0.9877049180327869,
          0.9877049180327869,
          0.9918032786885246,
          0.9918032786885246,
          1,
          1
         ],
         "yaxis": "y2"
        },
        {
         "line": {
          "color": "black",
          "dash": "dot",
          "width": 1.5
         },
         "type": "scatter",
         "x": [
          0,
          1
         ],
         "xaxis": "x2",
         "y": [
          0,
          1
         ],
         "yaxis": "y2"
        },
        {
         "fill": "tozeroy",
         "line": {
          "color": "lightcoral",
          "width": 2
         },
         "name": "Precision[0.9348659  0.93436293 0.9379845  0.94163424 0.9453125  0.94901961\n 0.95275591 0.95652174 0.96031746 0.96414343 0.968      0.97188755\n 0.97580645 0.97975709 0.9796748  0.98367347 0.98770492 0.98765432\n 0.98760331 0.99170124 0.99166667 0.9958159  0.99579832 0.99570815\n 0.99568966 0.995671   0.99565217 0.99563319 0.99559471 0.99557522\n 0.99553571 0.9954955  0.99545455 0.99543379 0.99537037 0.9953271\n 0.99528302 0.99521531 0.99516908 0.99512195 0.99509804 0.99507389\n 0.99502488 0.995      0.99497487 0.99484536 0.99473684 0.99470899\n 0.99465241 0.99459459 0.99450549 0.99447514 0.99444444 0.99438202\n 0.99435028 0.99428571 0.99421965 0.99415205 0.99411765 0.99408284\n 0.99401198 0.9939759  0.99393939 0.99386503 0.99378882 0.99375\n 0.99367089 0.99363057 0.99346405 0.99342105 0.99328859 0.99324324\n 0.99315068 0.99310345 0.99305556 0.99295775 0.99280576 0.99275362\n 0.99264706 0.99253731 0.9924812  0.99242424 0.99224806 0.9921875\n 0.99212598 0.992      0.99193548 0.99180328 0.99173554 0.99166667\n 0.99159664 0.99145299 0.99137931 0.99130435 0.99122807 0.99107143\n 0.99099099 0.99082569 0.99074074 0.99056604 0.99019608 0.99\n 0.98979592 0.98969072 0.98958333 0.98947368 0.98913043 0.98901099\n 0.98888889 0.98863636 1.         1.         1.         1.\n 1.         1.         1.         1.         1.         1.\n 1.         1.         1.         1.         1.         1.\n 1.         1.         1.         1.         1.         1.\n 1.         1.         1.         1.         1.         1.\n 1.         1.         1.         1.         1.         1.\n 1.         1.         1.         1.         1.         1.\n 1.         1.         1.         1.         1.         1.\n 1.         1.         1.         1.         1.         1.\n 1.         1.         1.         1.         1.         1.\n 1.         1.         1.        ]",
         "type": "scatter",
         "x": [
          1,
          0.9918032786885246,
          0.9918032786885246,
          0.9918032786885246,
          0.9918032786885246,
          0.9918032786885246,
          0.9918032786885246,
          0.9918032786885246,
          0.9918032786885246,
          0.9918032786885246,
          0.9918032786885246,
          0.9918032786885246,
          0.9918032786885246,
          0.9918032786885246,
          0.9877049180327869,
          0.9877049180327869,
          0.9877049180327869,
          0.9836065573770492,
          0.9795081967213115,
          0.9795081967213115,
          0.9754098360655737,
          0.9754098360655737,
          0.9713114754098361,
          0.9508196721311475,
          0.9467213114754098,
          0.9426229508196722,
          0.9385245901639344,
          0.9344262295081968,
          0.9262295081967213,
          0.9221311475409836,
          0.9139344262295082,
          0.9057377049180327,
          0.8975409836065574,
          0.8934426229508197,
          0.8811475409836066,
          0.8729508196721312,
          0.8647540983606558,
          0.8524590163934426,
          0.8442622950819673,
          0.8360655737704918,
          0.8319672131147541,
          0.8278688524590164,
          0.819672131147541,
          0.8155737704918032,
          0.8114754098360656,
          0.7909836065573771,
          0.7745901639344263,
          0.7704918032786885,
          0.7622950819672131,
          0.7540983606557377,
          0.7418032786885246,
          0.7377049180327869,
          0.7336065573770492,
          0.7254098360655737,
          0.7213114754098361,
          0.7131147540983607,
          0.7049180327868853,
          0.6967213114754098,
          0.6926229508196722,
          0.6885245901639344,
          0.680327868852459,
          0.6762295081967213,
          0.6721311475409836,
          0.6639344262295082,
          0.6557377049180327,
          0.6516393442622951,
          0.6434426229508197,
          0.639344262295082,
          0.6229508196721312,
          0.6188524590163934,
          0.6065573770491803,
          0.6024590163934426,
          0.5942622950819673,
          0.5901639344262295,
          0.5860655737704918,
          0.5778688524590164,
          0.5655737704918032,
          0.5614754098360656,
          0.5532786885245902,
          0.5450819672131147,
          0.5409836065573771,
          0.5368852459016393,
          0.5245901639344263,
          0.5204918032786885,
          0.5163934426229508,
          0.5081967213114754,
          0.5040983606557377,
          0.4959016393442623,
          0.4918032786885246,
          0.48770491803278687,
          0.48360655737704916,
          0.47540983606557374,
          0.4713114754098361,
          0.4672131147540984,
          0.46311475409836067,
          0.45491803278688525,
          0.45081967213114754,
          0.4426229508196721,
          0.4385245901639344,
          0.430327868852459,
          0.4139344262295082,
          0.4057377049180328,
          0.3975409836065574,
          0.39344262295081966,
          0.38934426229508196,
          0.38524590163934425,
          0.3729508196721312,
          0.36885245901639346,
          0.36475409836065575,
          0.35655737704918034,
          0.35655737704918034,
          0.3483606557377049,
          0.3401639344262295,
          0.3360655737704918,
          0.3319672131147541,
          0.32786885245901637,
          0.3155737704918033,
          0.3073770491803279,
          0.30327868852459017,
          0.29918032786885246,
          0.29098360655737704,
          0.28688524590163933,
          0.2827868852459016,
          0.2786885245901639,
          0.26229508196721313,
          0.2540983606557377,
          0.25,
          0.24180327868852458,
          0.23770491803278687,
          0.2336065573770492,
          0.22950819672131148,
          0.22540983606557377,
          0.21721311475409835,
          0.21311475409836064,
          0.20901639344262296,
          0.20081967213114754,
          0.1885245901639344,
          0.18442622950819673,
          0.18032786885245902,
          0.1762295081967213,
          0.1721311475409836,
          0.1680327868852459,
          0.16393442622950818,
          0.1557377049180328,
          0.15163934426229508,
          0.14754098360655737,
          0.13934426229508196,
          0.13114754098360656,
          0.12704918032786885,
          0.12295081967213115,
          0.11475409836065574,
          0.11065573770491803,
          0.10655737704918032,
          0.10245901639344263,
          0.09836065573770492,
          0.09016393442622951,
          0.0778688524590164,
          0.07377049180327869,
          0.06967213114754098,
          0.06557377049180328,
          0.06147540983606557,
          0.05327868852459016,
          0.045081967213114756,
          0.040983606557377046,
          0.036885245901639344,
          0.03278688524590164,
          0.02459016393442623,
          0.01639344262295082,
          0.012295081967213115,
          0.004098360655737705,
          0
         ],
         "xaxis": "x3",
         "y": [
          0.9348659003831418,
          0.9343629343629344,
          0.937984496124031,
          0.9416342412451362,
          0.9453125,
          0.9490196078431372,
          0.952755905511811,
          0.9565217391304348,
          0.9603174603174603,
          0.9641434262948207,
          0.968,
          0.9718875502008032,
          0.9758064516129032,
          0.979757085020243,
          0.9796747967479674,
          0.9836734693877551,
          0.9877049180327869,
          0.9876543209876543,
          0.987603305785124,
          0.991701244813278,
          0.9916666666666667,
          0.99581589958159,
          0.9957983193277311,
          0.9957081545064378,
          0.9956896551724138,
          0.9956709956709957,
          0.9956521739130435,
          0.9956331877729258,
          0.9955947136563876,
          0.995575221238938,
          0.9955357142857143,
          0.9954954954954955,
          0.9954545454545455,
          0.9954337899543378,
          0.9953703703703703,
          0.9953271028037384,
          0.9952830188679245,
          0.9952153110047847,
          0.9951690821256038,
          0.9951219512195122,
          0.9950980392156863,
          0.9950738916256158,
          0.9950248756218906,
          0.995,
          0.9949748743718593,
          0.9948453608247423,
          0.9947368421052631,
          0.9947089947089947,
          0.9946524064171123,
          0.9945945945945946,
          0.9945054945054945,
          0.994475138121547,
          0.9944444444444445,
          0.9943820224719101,
          0.9943502824858758,
          0.9942857142857143,
          0.9942196531791907,
          0.9941520467836257,
          0.9941176470588236,
          0.9940828402366864,
          0.9940119760479041,
          0.9939759036144579,
          0.9939393939393939,
          0.9938650306748467,
          0.9937888198757764,
          0.99375,
          0.9936708860759493,
          0.9936305732484076,
          0.9934640522875817,
          0.993421052631579,
          0.9932885906040269,
          0.9932432432432432,
          0.9931506849315068,
          0.993103448275862,
          0.9930555555555556,
          0.9929577464788732,
          0.9928057553956835,
          0.9927536231884058,
          0.9926470588235294,
          0.9925373134328358,
          0.9924812030075187,
          0.9924242424242424,
          0.9922480620155039,
          0.9921875,
          0.9921259842519685,
          0.992,
          0.9919354838709677,
          0.9918032786885246,
          0.9917355371900827,
          0.9916666666666667,
          0.9915966386554622,
          0.9914529914529915,
          0.9913793103448276,
          0.991304347826087,
          0.9912280701754386,
          0.9910714285714286,
          0.990990990990991,
          0.9908256880733946,
          0.9907407407407407,
          0.9905660377358491,
          0.9901960784313726,
          0.99,
          0.9897959183673469,
          0.9896907216494846,
          0.9895833333333334,
          0.9894736842105263,
          0.9891304347826086,
          0.989010989010989,
          0.9888888888888889,
          0.9886363636363636,
          1,
          1,
          1,
          1,
          1,
          1,
          1,
          1,
          1,
          1,
          1,
          1,
          1,
          1,
          1,
          1,
          1,
          1,
          1,
          1,
          1,
          1,
          1,
          1,
          1,
          1,
          1,
          1,
          1,
          1,
          1,
          1,
          1,
          1,
          1,
          1,
          1,
          1,
          1,
          1,
          1,
          1,
          1,
          1,
          1,
          1,
          1,
          1,
          1,
          1,
          1,
          1,
          1,
          1,
          1,
          1,
          1,
          1,
          1,
          1,
          1
         ],
         "yaxis": "y3"
        }
       ],
       "layout": {
        "annotations": [
         {
          "font": {
           "size": 16
          },
          "showarrow": false,
          "text": "Metrics",
          "x": 0.5,
          "xanchor": "center",
          "xref": "paper",
          "y": 1,
          "yanchor": "bottom",
          "yref": "paper"
         },
         {
          "font": {
           "size": 16
          },
          "showarrow": false,
          "text": "ROC curve (0.997)",
          "x": 0.5,
          "xanchor": "center",
          "xref": "paper",
          "y": 0.6111111111111112,
          "yanchor": "bottom",
          "yref": "paper"
         },
         {
          "font": {
           "size": 16
          },
          "showarrow": false,
          "text": "Precision - Recall curve",
          "x": 0.5,
          "xanchor": "center",
          "xref": "paper",
          "y": 0.22222222222222224,
          "yanchor": "bottom",
          "yref": "paper"
         }
        ],
        "autosize": false,
        "height": 900,
        "margin": {
         "b": 195
        },
        "paper_bgcolor": "rgba(240,240,240, 0.95)",
        "plot_bgcolor": "rgba(240,240,240, 0.95)",
        "showlegend": false,
        "template": {
         "data": {
          "bar": [
           {
            "error_x": {
             "color": "#2a3f5f"
            },
            "error_y": {
             "color": "#2a3f5f"
            },
            "marker": {
             "line": {
              "color": "#E5ECF6",
              "width": 0.5
             }
            },
            "type": "bar"
           }
          ],
          "barpolar": [
           {
            "marker": {
             "line": {
              "color": "#E5ECF6",
              "width": 0.5
             }
            },
            "type": "barpolar"
           }
          ],
          "carpet": [
           {
            "aaxis": {
             "endlinecolor": "#2a3f5f",
             "gridcolor": "white",
             "linecolor": "white",
             "minorgridcolor": "white",
             "startlinecolor": "#2a3f5f"
            },
            "baxis": {
             "endlinecolor": "#2a3f5f",
             "gridcolor": "white",
             "linecolor": "white",
             "minorgridcolor": "white",
             "startlinecolor": "#2a3f5f"
            },
            "type": "carpet"
           }
          ],
          "choropleth": [
           {
            "colorbar": {
             "outlinewidth": 0,
             "ticks": ""
            },
            "type": "choropleth"
           }
          ],
          "contour": [
           {
            "colorbar": {
             "outlinewidth": 0,
             "ticks": ""
            },
            "colorscale": [
             [
              0,
              "#0d0887"
             ],
             [
              0.1111111111111111,
              "#46039f"
             ],
             [
              0.2222222222222222,
              "#7201a8"
             ],
             [
              0.3333333333333333,
              "#9c179e"
             ],
             [
              0.4444444444444444,
              "#bd3786"
             ],
             [
              0.5555555555555556,
              "#d8576b"
             ],
             [
              0.6666666666666666,
              "#ed7953"
             ],
             [
              0.7777777777777778,
              "#fb9f3a"
             ],
             [
              0.8888888888888888,
              "#fdca26"
             ],
             [
              1,
              "#f0f921"
             ]
            ],
            "type": "contour"
           }
          ],
          "contourcarpet": [
           {
            "colorbar": {
             "outlinewidth": 0,
             "ticks": ""
            },
            "type": "contourcarpet"
           }
          ],
          "heatmap": [
           {
            "colorbar": {
             "outlinewidth": 0,
             "ticks": ""
            },
            "colorscale": [
             [
              0,
              "#0d0887"
             ],
             [
              0.1111111111111111,
              "#46039f"
             ],
             [
              0.2222222222222222,
              "#7201a8"
             ],
             [
              0.3333333333333333,
              "#9c179e"
             ],
             [
              0.4444444444444444,
              "#bd3786"
             ],
             [
              0.5555555555555556,
              "#d8576b"
             ],
             [
              0.6666666666666666,
              "#ed7953"
             ],
             [
              0.7777777777777778,
              "#fb9f3a"
             ],
             [
              0.8888888888888888,
              "#fdca26"
             ],
             [
              1,
              "#f0f921"
             ]
            ],
            "type": "heatmap"
           }
          ],
          "heatmapgl": [
           {
            "colorbar": {
             "outlinewidth": 0,
             "ticks": ""
            },
            "colorscale": [
             [
              0,
              "#0d0887"
             ],
             [
              0.1111111111111111,
              "#46039f"
             ],
             [
              0.2222222222222222,
              "#7201a8"
             ],
             [
              0.3333333333333333,
              "#9c179e"
             ],
             [
              0.4444444444444444,
              "#bd3786"
             ],
             [
              0.5555555555555556,
              "#d8576b"
             ],
             [
              0.6666666666666666,
              "#ed7953"
             ],
             [
              0.7777777777777778,
              "#fb9f3a"
             ],
             [
              0.8888888888888888,
              "#fdca26"
             ],
             [
              1,
              "#f0f921"
             ]
            ],
            "type": "heatmapgl"
           }
          ],
          "histogram": [
           {
            "marker": {
             "colorbar": {
              "outlinewidth": 0,
              "ticks": ""
             }
            },
            "type": "histogram"
           }
          ],
          "histogram2d": [
           {
            "colorbar": {
             "outlinewidth": 0,
             "ticks": ""
            },
            "colorscale": [
             [
              0,
              "#0d0887"
             ],
             [
              0.1111111111111111,
              "#46039f"
             ],
             [
              0.2222222222222222,
              "#7201a8"
             ],
             [
              0.3333333333333333,
              "#9c179e"
             ],
             [
              0.4444444444444444,
              "#bd3786"
             ],
             [
              0.5555555555555556,
              "#d8576b"
             ],
             [
              0.6666666666666666,
              "#ed7953"
             ],
             [
              0.7777777777777778,
              "#fb9f3a"
             ],
             [
              0.8888888888888888,
              "#fdca26"
             ],
             [
              1,
              "#f0f921"
             ]
            ],
            "type": "histogram2d"
           }
          ],
          "histogram2dcontour": [
           {
            "colorbar": {
             "outlinewidth": 0,
             "ticks": ""
            },
            "colorscale": [
             [
              0,
              "#0d0887"
             ],
             [
              0.1111111111111111,
              "#46039f"
             ],
             [
              0.2222222222222222,
              "#7201a8"
             ],
             [
              0.3333333333333333,
              "#9c179e"
             ],
             [
              0.4444444444444444,
              "#bd3786"
             ],
             [
              0.5555555555555556,
              "#d8576b"
             ],
             [
              0.6666666666666666,
              "#ed7953"
             ],
             [
              0.7777777777777778,
              "#fb9f3a"
             ],
             [
              0.8888888888888888,
              "#fdca26"
             ],
             [
              1,
              "#f0f921"
             ]
            ],
            "type": "histogram2dcontour"
           }
          ],
          "mesh3d": [
           {
            "colorbar": {
             "outlinewidth": 0,
             "ticks": ""
            },
            "type": "mesh3d"
           }
          ],
          "parcoords": [
           {
            "line": {
             "colorbar": {
              "outlinewidth": 0,
              "ticks": ""
             }
            },
            "type": "parcoords"
           }
          ],
          "pie": [
           {
            "automargin": true,
            "type": "pie"
           }
          ],
          "scatter": [
           {
            "marker": {
             "colorbar": {
              "outlinewidth": 0,
              "ticks": ""
             }
            },
            "type": "scatter"
           }
          ],
          "scatter3d": [
           {
            "line": {
             "colorbar": {
              "outlinewidth": 0,
              "ticks": ""
             }
            },
            "marker": {
             "colorbar": {
              "outlinewidth": 0,
              "ticks": ""
             }
            },
            "type": "scatter3d"
           }
          ],
          "scattercarpet": [
           {
            "marker": {
             "colorbar": {
              "outlinewidth": 0,
              "ticks": ""
             }
            },
            "type": "scattercarpet"
           }
          ],
          "scattergeo": [
           {
            "marker": {
             "colorbar": {
              "outlinewidth": 0,
              "ticks": ""
             }
            },
            "type": "scattergeo"
           }
          ],
          "scattergl": [
           {
            "marker": {
             "colorbar": {
              "outlinewidth": 0,
              "ticks": ""
             }
            },
            "type": "scattergl"
           }
          ],
          "scattermapbox": [
           {
            "marker": {
             "colorbar": {
              "outlinewidth": 0,
              "ticks": ""
             }
            },
            "type": "scattermapbox"
           }
          ],
          "scatterpolar": [
           {
            "marker": {
             "colorbar": {
              "outlinewidth": 0,
              "ticks": ""
             }
            },
            "type": "scatterpolar"
           }
          ],
          "scatterpolargl": [
           {
            "marker": {
             "colorbar": {
              "outlinewidth": 0,
              "ticks": ""
             }
            },
            "type": "scatterpolargl"
           }
          ],
          "scatterternary": [
           {
            "marker": {
             "colorbar": {
              "outlinewidth": 0,
              "ticks": ""
             }
            },
            "type": "scatterternary"
           }
          ],
          "surface": [
           {
            "colorbar": {
             "outlinewidth": 0,
             "ticks": ""
            },
            "colorscale": [
             [
              0,
              "#0d0887"
             ],
             [
              0.1111111111111111,
              "#46039f"
             ],
             [
              0.2222222222222222,
              "#7201a8"
             ],
             [
              0.3333333333333333,
              "#9c179e"
             ],
             [
              0.4444444444444444,
              "#bd3786"
             ],
             [
              0.5555555555555556,
              "#d8576b"
             ],
             [
              0.6666666666666666,
              "#ed7953"
             ],
             [
              0.7777777777777778,
              "#fb9f3a"
             ],
             [
              0.8888888888888888,
              "#fdca26"
             ],
             [
              1,
              "#f0f921"
             ]
            ],
            "type": "surface"
           }
          ],
          "table": [
           {
            "cells": {
             "fill": {
              "color": "#EBF0F8"
             },
             "line": {
              "color": "white"
             }
            },
            "header": {
             "fill": {
              "color": "#C8D4E3"
             },
             "line": {
              "color": "white"
             }
            },
            "type": "table"
           }
          ]
         },
         "layout": {
          "annotationdefaults": {
           "arrowcolor": "#2a3f5f",
           "arrowhead": 0,
           "arrowwidth": 1
          },
          "coloraxis": {
           "colorbar": {
            "outlinewidth": 0,
            "ticks": ""
           }
          },
          "colorscale": {
           "diverging": [
            [
             0,
             "#8e0152"
            ],
            [
             0.1,
             "#c51b7d"
            ],
            [
             0.2,
             "#de77ae"
            ],
            [
             0.3,
             "#f1b6da"
            ],
            [
             0.4,
             "#fde0ef"
            ],
            [
             0.5,
             "#f7f7f7"
            ],
            [
             0.6,
             "#e6f5d0"
            ],
            [
             0.7,
             "#b8e186"
            ],
            [
             0.8,
             "#7fbc41"
            ],
            [
             0.9,
             "#4d9221"
            ],
            [
             1,
             "#276419"
            ]
           ],
           "sequential": [
            [
             0,
             "#0d0887"
            ],
            [
             0.1111111111111111,
             "#46039f"
            ],
            [
             0.2222222222222222,
             "#7201a8"
            ],
            [
             0.3333333333333333,
             "#9c179e"
            ],
            [
             0.4444444444444444,
             "#bd3786"
            ],
            [
             0.5555555555555556,
             "#d8576b"
            ],
            [
             0.6666666666666666,
             "#ed7953"
            ],
            [
             0.7777777777777778,
             "#fb9f3a"
            ],
            [
             0.8888888888888888,
             "#fdca26"
            ],
            [
             1,
             "#f0f921"
            ]
           ],
           "sequentialminus": [
            [
             0,
             "#0d0887"
            ],
            [
             0.1111111111111111,
             "#46039f"
            ],
            [
             0.2222222222222222,
             "#7201a8"
            ],
            [
             0.3333333333333333,
             "#9c179e"
            ],
            [
             0.4444444444444444,
             "#bd3786"
            ],
            [
             0.5555555555555556,
             "#d8576b"
            ],
            [
             0.6666666666666666,
             "#ed7953"
            ],
            [
             0.7777777777777778,
             "#fb9f3a"
            ],
            [
             0.8888888888888888,
             "#fdca26"
            ],
            [
             1,
             "#f0f921"
            ]
           ]
          },
          "colorway": [
           "#636efa",
           "#EF553B",
           "#00cc96",
           "#ab63fa",
           "#FFA15A",
           "#19d3f3",
           "#FF6692",
           "#B6E880",
           "#FF97FF",
           "#FECB52"
          ],
          "font": {
           "color": "#2a3f5f"
          },
          "geo": {
           "bgcolor": "white",
           "lakecolor": "white",
           "landcolor": "#E5ECF6",
           "showlakes": true,
           "showland": true,
           "subunitcolor": "white"
          },
          "hoverlabel": {
           "align": "left"
          },
          "hovermode": "closest",
          "mapbox": {
           "style": "light"
          },
          "paper_bgcolor": "white",
          "plot_bgcolor": "#E5ECF6",
          "polar": {
           "angularaxis": {
            "gridcolor": "white",
            "linecolor": "white",
            "ticks": ""
           },
           "bgcolor": "#E5ECF6",
           "radialaxis": {
            "gridcolor": "white",
            "linecolor": "white",
            "ticks": ""
           }
          },
          "scene": {
           "xaxis": {
            "backgroundcolor": "#E5ECF6",
            "gridcolor": "white",
            "gridwidth": 2,
            "linecolor": "white",
            "showbackground": true,
            "ticks": "",
            "zerolinecolor": "white"
           },
           "yaxis": {
            "backgroundcolor": "#E5ECF6",
            "gridcolor": "white",
            "gridwidth": 2,
            "linecolor": "white",
            "showbackground": true,
            "ticks": "",
            "zerolinecolor": "white"
           },
           "zaxis": {
            "backgroundcolor": "#E5ECF6",
            "gridcolor": "white",
            "gridwidth": 2,
            "linecolor": "white",
            "showbackground": true,
            "ticks": "",
            "zerolinecolor": "white"
           }
          },
          "shapedefaults": {
           "line": {
            "color": "#2a3f5f"
           }
          },
          "ternary": {
           "aaxis": {
            "gridcolor": "white",
            "linecolor": "white",
            "ticks": ""
           },
           "baxis": {
            "gridcolor": "white",
            "linecolor": "white",
            "ticks": ""
           },
           "bgcolor": "#E5ECF6",
           "caxis": {
            "gridcolor": "white",
            "linecolor": "white",
            "ticks": ""
           }
          },
          "title": {
           "x": 0.05
          },
          "xaxis": {
           "automargin": true,
           "gridcolor": "white",
           "linecolor": "white",
           "ticks": "",
           "title": {
            "standoff": 15
           },
           "zerolinecolor": "white",
           "zerolinewidth": 2
          },
          "yaxis": {
           "automargin": true,
           "gridcolor": "white",
           "linecolor": "white",
           "ticks": "",
           "title": {
            "standoff": 15
           },
           "zerolinecolor": "white",
           "zerolinewidth": 2
          }
         }
        },
        "title": {
         "font": {
          "size": 14
         },
         "text": "<b>Model performance</b><br>gb"
        },
        "width": 450,
        "xaxis": {
         "anchor": "y",
         "domain": [
          0,
          1
         ]
        },
        "xaxis2": {
         "anchor": "y2",
         "domain": [
          0,
          1
         ],
         "title": {
          "text": "false positive rate"
         }
        },
        "xaxis3": {
         "anchor": "y3",
         "domain": [
          0,
          1
         ],
         "range": [
          0,
          1.05
         ],
         "title": {
          "text": "recall"
         }
        },
        "yaxis": {
         "anchor": "x",
         "domain": [
          0.7777777777777778,
          1
         ]
        },
        "yaxis2": {
         "anchor": "x2",
         "domain": [
          0.3888888888888889,
          0.6111111111111112
         ],
         "title": {
          "text": "true positive rate"
         }
        },
        "yaxis3": {
         "anchor": "x3",
         "domain": [
          0,
          0.22222222222222224
         ],
         "range": [
          0,
          1.05
         ],
         "title": {
          "text": "precision"
         }
        }
       }
      },
      "text/html": [
       "<div>\n",
       "        \n",
       "        \n",
       "            <div id=\"ba4abec0-38ba-4a6b-a15b-6ab76f178818\" class=\"plotly-graph-div\" style=\"height:900px; width:450px;\"></div>\n",
       "            <script type=\"text/javascript\">\n",
       "                require([\"plotly\"], function(Plotly) {\n",
       "                    window.PLOTLYENV=window.PLOTLYENV || {};\n",
       "                    \n",
       "                if (document.getElementById(\"ba4abec0-38ba-4a6b-a15b-6ab76f178818\")) {\n",
       "                    Plotly.newPlot(\n",
       "                        'ba4abec0-38ba-4a6b-a15b-6ab76f178818',\n",
       "                        [{\"marker\": {\"color\": [\"gold\", \"lightgreen\", \"lightcoral\", \"lightskyblue\"], \"line\": {\"color\": \"#000000\", \"width\": 1.5}}, \"opacity\": 0.8, \"orientation\": \"h\", \"text\": [0.9433, 0.8971, 1.0, 0.9457], \"textposition\": \"auto\", \"type\": \"bar\", \"x\": [0.9433198380566802, 0.8970588235294118, 1.0, 0.9457364341085273], \"xaxis\": \"x\", \"y\": [\"Accuracy\", \"Precision\", \"Recall\", \"F1_score\"], \"yaxis\": \"y\"}, {\"fill\": \"tozeroy\", \"line\": {\"color\": \"rgb(22, 96, 167)\", \"width\": 2}, \"name\": \"Roc : \", \"type\": \"scatter\", \"x\": [0.0, 0.0, 0.0, 0.0, 0.0, 0.0, 0.0, 0.0, 0.0, 0.0, 0.0, 0.0, 0.0, 0.0, 0.0, 0.0, 0.0, 0.0, 0.0, 0.0, 0.0, 0.0, 0.0, 0.0, 0.0, 0.0, 0.0, 0.0, 0.0, 0.0, 0.0, 0.0, 0.0, 0.004, 0.004, 0.004, 0.004, 0.004, 0.004, 0.004, 0.004, 0.004, 0.004, 0.004, 0.004, 0.004, 0.004, 0.004, 0.004, 0.004, 0.004, 0.004, 0.004, 0.004, 0.004, 0.004, 0.004, 0.004, 0.004, 0.004, 0.004, 0.004, 0.004, 0.004, 0.004, 0.004, 0.004, 0.004, 0.004, 0.004, 0.004, 0.004, 0.004, 0.004, 0.004, 0.004, 0.004, 0.004, 0.004, 0.004, 0.004, 0.004, 0.004, 0.004, 0.004, 0.004, 0.004, 0.004, 0.004, 0.004, 0.004, 0.004, 0.004, 0.004, 0.008, 0.008, 0.012, 0.012, 0.02, 0.02, 0.068, 0.068, 1.0], \"xaxis\": \"x2\", \"y\": [0.0, 0.004098360655737705, 0.012295081967213115, 0.01639344262295082, 0.03278688524590164, 0.045081967213114756, 0.06147540983606557, 0.0778688524590164, 0.09016393442622951, 0.09836065573770492, 0.11475409836065574, 0.12295081967213115, 0.13114754098360656, 0.14754098360655737, 0.1557377049180328, 0.16393442622950818, 0.1885245901639344, 0.20081967213114754, 0.20901639344262296, 0.21721311475409835, 0.22540983606557377, 0.24180327868852458, 0.25, 0.2540983606557377, 0.26229508196721313, 0.2786885245901639, 0.29098360655737704, 0.29918032786885246, 0.3073770491803279, 0.3155737704918033, 0.32786885245901637, 0.3401639344262295, 0.35655737704918034, 0.35655737704918034, 0.36475409836065575, 0.3729508196721312, 0.38524590163934425, 0.3975409836065574, 0.4139344262295082, 0.430327868852459, 0.4385245901639344, 0.4426229508196721, 0.45081967213114754, 0.45491803278688525, 0.46311475409836067, 0.47540983606557374, 0.48360655737704916, 0.4959016393442623, 0.5040983606557377, 0.5081967213114754, 0.5163934426229508, 0.5245901639344263, 0.5368852459016393, 0.5450819672131147, 0.5614754098360656, 0.5655737704918032, 0.5778688524590164, 0.5860655737704918, 0.5942622950819673, 0.6024590163934426, 0.6065573770491803, 0.6188524590163934, 0.6229508196721312, 0.639344262295082, 0.6434426229508197, 0.6516393442622951, 0.6557377049180327, 0.6721311475409836, 0.680327868852459, 0.6885245901639344, 0.6967213114754098, 0.7213114754098361, 0.7254098360655737, 0.7336065573770492, 0.7418032786885246, 0.7540983606557377, 0.7704918032786885, 0.7745901639344263, 0.7909836065573771, 0.8114754098360656, 0.819672131147541, 0.8278688524590164, 0.8360655737704918, 0.8524590163934426, 0.8647540983606558, 0.8811475409836066, 0.8934426229508197, 0.8975409836065574, 0.9221311475409836, 0.9262295081967213, 0.9344262295081968, 0.9508196721311475, 0.9713114754098361, 0.9754098360655737, 0.9754098360655737, 0.9795081967213115, 0.9795081967213115, 0.9877049180327869, 0.9877049180327869, 0.9918032786885246, 0.9918032786885246, 1.0, 1.0], \"yaxis\": \"y2\"}, {\"line\": {\"color\": \"black\", \"dash\": \"dot\", \"width\": 1.5}, \"type\": \"scatter\", \"x\": [0, 1], \"xaxis\": \"x2\", \"y\": [0, 1], \"yaxis\": \"y2\"}, {\"fill\": \"tozeroy\", \"line\": {\"color\": \"lightcoral\", \"width\": 2}, \"name\": \"Precision[0.9348659  0.93436293 0.9379845  0.94163424 0.9453125  0.94901961\\n 0.95275591 0.95652174 0.96031746 0.96414343 0.968      0.97188755\\n 0.97580645 0.97975709 0.9796748  0.98367347 0.98770492 0.98765432\\n 0.98760331 0.99170124 0.99166667 0.9958159  0.99579832 0.99570815\\n 0.99568966 0.995671   0.99565217 0.99563319 0.99559471 0.99557522\\n 0.99553571 0.9954955  0.99545455 0.99543379 0.99537037 0.9953271\\n 0.99528302 0.99521531 0.99516908 0.99512195 0.99509804 0.99507389\\n 0.99502488 0.995      0.99497487 0.99484536 0.99473684 0.99470899\\n 0.99465241 0.99459459 0.99450549 0.99447514 0.99444444 0.99438202\\n 0.99435028 0.99428571 0.99421965 0.99415205 0.99411765 0.99408284\\n 0.99401198 0.9939759  0.99393939 0.99386503 0.99378882 0.99375\\n 0.99367089 0.99363057 0.99346405 0.99342105 0.99328859 0.99324324\\n 0.99315068 0.99310345 0.99305556 0.99295775 0.99280576 0.99275362\\n 0.99264706 0.99253731 0.9924812  0.99242424 0.99224806 0.9921875\\n 0.99212598 0.992      0.99193548 0.99180328 0.99173554 0.99166667\\n 0.99159664 0.99145299 0.99137931 0.99130435 0.99122807 0.99107143\\n 0.99099099 0.99082569 0.99074074 0.99056604 0.99019608 0.99\\n 0.98979592 0.98969072 0.98958333 0.98947368 0.98913043 0.98901099\\n 0.98888889 0.98863636 1.         1.         1.         1.\\n 1.         1.         1.         1.         1.         1.\\n 1.         1.         1.         1.         1.         1.\\n 1.         1.         1.         1.         1.         1.\\n 1.         1.         1.         1.         1.         1.\\n 1.         1.         1.         1.         1.         1.\\n 1.         1.         1.         1.         1.         1.\\n 1.         1.         1.         1.         1.         1.\\n 1.         1.         1.         1.         1.         1.\\n 1.         1.         1.         1.         1.         1.\\n 1.         1.         1.        ]\", \"type\": \"scatter\", \"x\": [1.0, 0.9918032786885246, 0.9918032786885246, 0.9918032786885246, 0.9918032786885246, 0.9918032786885246, 0.9918032786885246, 0.9918032786885246, 0.9918032786885246, 0.9918032786885246, 0.9918032786885246, 0.9918032786885246, 0.9918032786885246, 0.9918032786885246, 0.9877049180327869, 0.9877049180327869, 0.9877049180327869, 0.9836065573770492, 0.9795081967213115, 0.9795081967213115, 0.9754098360655737, 0.9754098360655737, 0.9713114754098361, 0.9508196721311475, 0.9467213114754098, 0.9426229508196722, 0.9385245901639344, 0.9344262295081968, 0.9262295081967213, 0.9221311475409836, 0.9139344262295082, 0.9057377049180327, 0.8975409836065574, 0.8934426229508197, 0.8811475409836066, 0.8729508196721312, 0.8647540983606558, 0.8524590163934426, 0.8442622950819673, 0.8360655737704918, 0.8319672131147541, 0.8278688524590164, 0.819672131147541, 0.8155737704918032, 0.8114754098360656, 0.7909836065573771, 0.7745901639344263, 0.7704918032786885, 0.7622950819672131, 0.7540983606557377, 0.7418032786885246, 0.7377049180327869, 0.7336065573770492, 0.7254098360655737, 0.7213114754098361, 0.7131147540983607, 0.7049180327868853, 0.6967213114754098, 0.6926229508196722, 0.6885245901639344, 0.680327868852459, 0.6762295081967213, 0.6721311475409836, 0.6639344262295082, 0.6557377049180327, 0.6516393442622951, 0.6434426229508197, 0.639344262295082, 0.6229508196721312, 0.6188524590163934, 0.6065573770491803, 0.6024590163934426, 0.5942622950819673, 0.5901639344262295, 0.5860655737704918, 0.5778688524590164, 0.5655737704918032, 0.5614754098360656, 0.5532786885245902, 0.5450819672131147, 0.5409836065573771, 0.5368852459016393, 0.5245901639344263, 0.5204918032786885, 0.5163934426229508, 0.5081967213114754, 0.5040983606557377, 0.4959016393442623, 0.4918032786885246, 0.48770491803278687, 0.48360655737704916, 0.47540983606557374, 0.4713114754098361, 0.4672131147540984, 0.46311475409836067, 0.45491803278688525, 0.45081967213114754, 0.4426229508196721, 0.4385245901639344, 0.430327868852459, 0.4139344262295082, 0.4057377049180328, 0.3975409836065574, 0.39344262295081966, 0.38934426229508196, 0.38524590163934425, 0.3729508196721312, 0.36885245901639346, 0.36475409836065575, 0.35655737704918034, 0.35655737704918034, 0.3483606557377049, 0.3401639344262295, 0.3360655737704918, 0.3319672131147541, 0.32786885245901637, 0.3155737704918033, 0.3073770491803279, 0.30327868852459017, 0.29918032786885246, 0.29098360655737704, 0.28688524590163933, 0.2827868852459016, 0.2786885245901639, 0.26229508196721313, 0.2540983606557377, 0.25, 0.24180327868852458, 0.23770491803278687, 0.2336065573770492, 0.22950819672131148, 0.22540983606557377, 0.21721311475409835, 0.21311475409836064, 0.20901639344262296, 0.20081967213114754, 0.1885245901639344, 0.18442622950819673, 0.18032786885245902, 0.1762295081967213, 0.1721311475409836, 0.1680327868852459, 0.16393442622950818, 0.1557377049180328, 0.15163934426229508, 0.14754098360655737, 0.13934426229508196, 0.13114754098360656, 0.12704918032786885, 0.12295081967213115, 0.11475409836065574, 0.11065573770491803, 0.10655737704918032, 0.10245901639344263, 0.09836065573770492, 0.09016393442622951, 0.0778688524590164, 0.07377049180327869, 0.06967213114754098, 0.06557377049180328, 0.06147540983606557, 0.05327868852459016, 0.045081967213114756, 0.040983606557377046, 0.036885245901639344, 0.03278688524590164, 0.02459016393442623, 0.01639344262295082, 0.012295081967213115, 0.004098360655737705, 0.0], \"xaxis\": \"x3\", \"y\": [0.9348659003831418, 0.9343629343629344, 0.937984496124031, 0.9416342412451362, 0.9453125, 0.9490196078431372, 0.952755905511811, 0.9565217391304348, 0.9603174603174603, 0.9641434262948207, 0.968, 0.9718875502008032, 0.9758064516129032, 0.979757085020243, 0.9796747967479674, 0.9836734693877551, 0.9877049180327869, 0.9876543209876543, 0.987603305785124, 0.991701244813278, 0.9916666666666667, 0.99581589958159, 0.9957983193277311, 0.9957081545064378, 0.9956896551724138, 0.9956709956709957, 0.9956521739130435, 0.9956331877729258, 0.9955947136563876, 0.995575221238938, 0.9955357142857143, 0.9954954954954955, 0.9954545454545455, 0.9954337899543378, 0.9953703703703703, 0.9953271028037384, 0.9952830188679245, 0.9952153110047847, 0.9951690821256038, 0.9951219512195122, 0.9950980392156863, 0.9950738916256158, 0.9950248756218906, 0.995, 0.9949748743718593, 0.9948453608247423, 0.9947368421052631, 0.9947089947089947, 0.9946524064171123, 0.9945945945945946, 0.9945054945054945, 0.994475138121547, 0.9944444444444445, 0.9943820224719101, 0.9943502824858758, 0.9942857142857143, 0.9942196531791907, 0.9941520467836257, 0.9941176470588236, 0.9940828402366864, 0.9940119760479041, 0.9939759036144579, 0.9939393939393939, 0.9938650306748467, 0.9937888198757764, 0.99375, 0.9936708860759493, 0.9936305732484076, 0.9934640522875817, 0.993421052631579, 0.9932885906040269, 0.9932432432432432, 0.9931506849315068, 0.993103448275862, 0.9930555555555556, 0.9929577464788732, 0.9928057553956835, 0.9927536231884058, 0.9926470588235294, 0.9925373134328358, 0.9924812030075187, 0.9924242424242424, 0.9922480620155039, 0.9921875, 0.9921259842519685, 0.992, 0.9919354838709677, 0.9918032786885246, 0.9917355371900827, 0.9916666666666667, 0.9915966386554622, 0.9914529914529915, 0.9913793103448276, 0.991304347826087, 0.9912280701754386, 0.9910714285714286, 0.990990990990991, 0.9908256880733946, 0.9907407407407407, 0.9905660377358491, 0.9901960784313726, 0.99, 0.9897959183673469, 0.9896907216494846, 0.9895833333333334, 0.9894736842105263, 0.9891304347826086, 0.989010989010989, 0.9888888888888889, 0.9886363636363636, 1.0, 1.0, 1.0, 1.0, 1.0, 1.0, 1.0, 1.0, 1.0, 1.0, 1.0, 1.0, 1.0, 1.0, 1.0, 1.0, 1.0, 1.0, 1.0, 1.0, 1.0, 1.0, 1.0, 1.0, 1.0, 1.0, 1.0, 1.0, 1.0, 1.0, 1.0, 1.0, 1.0, 1.0, 1.0, 1.0, 1.0, 1.0, 1.0, 1.0, 1.0, 1.0, 1.0, 1.0, 1.0, 1.0, 1.0, 1.0, 1.0, 1.0, 1.0, 1.0, 1.0, 1.0, 1.0, 1.0, 1.0, 1.0, 1.0, 1.0, 1.0], \"yaxis\": \"y3\"}],\n",
       "                        {\"annotations\": [{\"font\": {\"size\": 16}, \"showarrow\": false, \"text\": \"Metrics\", \"x\": 0.5, \"xanchor\": \"center\", \"xref\": \"paper\", \"y\": 1.0, \"yanchor\": \"bottom\", \"yref\": \"paper\"}, {\"font\": {\"size\": 16}, \"showarrow\": false, \"text\": \"ROC curve (0.997)\", \"x\": 0.5, \"xanchor\": \"center\", \"xref\": \"paper\", \"y\": 0.6111111111111112, \"yanchor\": \"bottom\", \"yref\": \"paper\"}, {\"font\": {\"size\": 16}, \"showarrow\": false, \"text\": \"Precision - Recall curve\", \"x\": 0.5, \"xanchor\": \"center\", \"xref\": \"paper\", \"y\": 0.22222222222222224, \"yanchor\": \"bottom\", \"yref\": \"paper\"}], \"autosize\": false, \"height\": 900, \"margin\": {\"b\": 195}, \"paper_bgcolor\": \"rgba(240,240,240, 0.95)\", \"plot_bgcolor\": \"rgba(240,240,240, 0.95)\", \"showlegend\": false, \"template\": {\"data\": {\"bar\": [{\"error_x\": {\"color\": \"#2a3f5f\"}, \"error_y\": {\"color\": \"#2a3f5f\"}, \"marker\": {\"line\": {\"color\": \"#E5ECF6\", \"width\": 0.5}}, \"type\": \"bar\"}], \"barpolar\": [{\"marker\": {\"line\": {\"color\": \"#E5ECF6\", \"width\": 0.5}}, \"type\": \"barpolar\"}], \"carpet\": [{\"aaxis\": {\"endlinecolor\": \"#2a3f5f\", \"gridcolor\": \"white\", \"linecolor\": \"white\", \"minorgridcolor\": \"white\", \"startlinecolor\": \"#2a3f5f\"}, \"baxis\": {\"endlinecolor\": \"#2a3f5f\", \"gridcolor\": \"white\", \"linecolor\": \"white\", \"minorgridcolor\": \"white\", \"startlinecolor\": \"#2a3f5f\"}, \"type\": \"carpet\"}], \"choropleth\": [{\"colorbar\": {\"outlinewidth\": 0, \"ticks\": \"\"}, \"type\": \"choropleth\"}], \"contour\": [{\"colorbar\": {\"outlinewidth\": 0, \"ticks\": \"\"}, \"colorscale\": [[0.0, \"#0d0887\"], [0.1111111111111111, \"#46039f\"], [0.2222222222222222, \"#7201a8\"], [0.3333333333333333, \"#9c179e\"], [0.4444444444444444, \"#bd3786\"], [0.5555555555555556, \"#d8576b\"], [0.6666666666666666, \"#ed7953\"], [0.7777777777777778, \"#fb9f3a\"], [0.8888888888888888, \"#fdca26\"], [1.0, \"#f0f921\"]], \"type\": \"contour\"}], \"contourcarpet\": [{\"colorbar\": {\"outlinewidth\": 0, \"ticks\": \"\"}, \"type\": \"contourcarpet\"}], \"heatmap\": [{\"colorbar\": {\"outlinewidth\": 0, \"ticks\": \"\"}, \"colorscale\": [[0.0, \"#0d0887\"], [0.1111111111111111, \"#46039f\"], [0.2222222222222222, \"#7201a8\"], [0.3333333333333333, \"#9c179e\"], [0.4444444444444444, \"#bd3786\"], [0.5555555555555556, \"#d8576b\"], [0.6666666666666666, \"#ed7953\"], [0.7777777777777778, \"#fb9f3a\"], [0.8888888888888888, \"#fdca26\"], [1.0, \"#f0f921\"]], \"type\": \"heatmap\"}], \"heatmapgl\": [{\"colorbar\": {\"outlinewidth\": 0, \"ticks\": \"\"}, \"colorscale\": [[0.0, \"#0d0887\"], [0.1111111111111111, \"#46039f\"], [0.2222222222222222, \"#7201a8\"], [0.3333333333333333, \"#9c179e\"], [0.4444444444444444, \"#bd3786\"], [0.5555555555555556, \"#d8576b\"], [0.6666666666666666, \"#ed7953\"], [0.7777777777777778, \"#fb9f3a\"], [0.8888888888888888, \"#fdca26\"], [1.0, \"#f0f921\"]], \"type\": \"heatmapgl\"}], \"histogram\": [{\"marker\": {\"colorbar\": {\"outlinewidth\": 0, \"ticks\": \"\"}}, \"type\": \"histogram\"}], \"histogram2d\": [{\"colorbar\": {\"outlinewidth\": 0, \"ticks\": \"\"}, \"colorscale\": [[0.0, \"#0d0887\"], [0.1111111111111111, \"#46039f\"], [0.2222222222222222, \"#7201a8\"], [0.3333333333333333, \"#9c179e\"], [0.4444444444444444, \"#bd3786\"], [0.5555555555555556, \"#d8576b\"], [0.6666666666666666, \"#ed7953\"], [0.7777777777777778, \"#fb9f3a\"], [0.8888888888888888, \"#fdca26\"], [1.0, \"#f0f921\"]], \"type\": \"histogram2d\"}], \"histogram2dcontour\": [{\"colorbar\": {\"outlinewidth\": 0, \"ticks\": \"\"}, \"colorscale\": [[0.0, \"#0d0887\"], [0.1111111111111111, \"#46039f\"], [0.2222222222222222, \"#7201a8\"], [0.3333333333333333, \"#9c179e\"], [0.4444444444444444, \"#bd3786\"], [0.5555555555555556, \"#d8576b\"], [0.6666666666666666, \"#ed7953\"], [0.7777777777777778, \"#fb9f3a\"], [0.8888888888888888, \"#fdca26\"], [1.0, \"#f0f921\"]], \"type\": \"histogram2dcontour\"}], \"mesh3d\": [{\"colorbar\": {\"outlinewidth\": 0, \"ticks\": \"\"}, \"type\": \"mesh3d\"}], \"parcoords\": [{\"line\": {\"colorbar\": {\"outlinewidth\": 0, \"ticks\": \"\"}}, \"type\": \"parcoords\"}], \"pie\": [{\"automargin\": true, \"type\": \"pie\"}], \"scatter\": [{\"marker\": {\"colorbar\": {\"outlinewidth\": 0, \"ticks\": \"\"}}, \"type\": \"scatter\"}], \"scatter3d\": [{\"line\": {\"colorbar\": {\"outlinewidth\": 0, \"ticks\": \"\"}}, \"marker\": {\"colorbar\": {\"outlinewidth\": 0, \"ticks\": \"\"}}, \"type\": \"scatter3d\"}], \"scattercarpet\": [{\"marker\": {\"colorbar\": {\"outlinewidth\": 0, \"ticks\": \"\"}}, \"type\": \"scattercarpet\"}], \"scattergeo\": [{\"marker\": {\"colorbar\": {\"outlinewidth\": 0, \"ticks\": \"\"}}, \"type\": \"scattergeo\"}], \"scattergl\": [{\"marker\": {\"colorbar\": {\"outlinewidth\": 0, \"ticks\": \"\"}}, \"type\": \"scattergl\"}], \"scattermapbox\": [{\"marker\": {\"colorbar\": {\"outlinewidth\": 0, \"ticks\": \"\"}}, \"type\": \"scattermapbox\"}], \"scatterpolar\": [{\"marker\": {\"colorbar\": {\"outlinewidth\": 0, \"ticks\": \"\"}}, \"type\": \"scatterpolar\"}], \"scatterpolargl\": [{\"marker\": {\"colorbar\": {\"outlinewidth\": 0, \"ticks\": \"\"}}, \"type\": \"scatterpolargl\"}], \"scatterternary\": [{\"marker\": {\"colorbar\": {\"outlinewidth\": 0, \"ticks\": \"\"}}, \"type\": \"scatterternary\"}], \"surface\": [{\"colorbar\": {\"outlinewidth\": 0, \"ticks\": \"\"}, \"colorscale\": [[0.0, \"#0d0887\"], [0.1111111111111111, \"#46039f\"], [0.2222222222222222, \"#7201a8\"], [0.3333333333333333, \"#9c179e\"], [0.4444444444444444, \"#bd3786\"], [0.5555555555555556, \"#d8576b\"], [0.6666666666666666, \"#ed7953\"], [0.7777777777777778, \"#fb9f3a\"], [0.8888888888888888, \"#fdca26\"], [1.0, \"#f0f921\"]], \"type\": \"surface\"}], \"table\": [{\"cells\": {\"fill\": {\"color\": \"#EBF0F8\"}, \"line\": {\"color\": \"white\"}}, \"header\": {\"fill\": {\"color\": \"#C8D4E3\"}, \"line\": {\"color\": \"white\"}}, \"type\": \"table\"}]}, \"layout\": {\"annotationdefaults\": {\"arrowcolor\": \"#2a3f5f\", \"arrowhead\": 0, \"arrowwidth\": 1}, \"coloraxis\": {\"colorbar\": {\"outlinewidth\": 0, \"ticks\": \"\"}}, \"colorscale\": {\"diverging\": [[0, \"#8e0152\"], [0.1, \"#c51b7d\"], [0.2, \"#de77ae\"], [0.3, \"#f1b6da\"], [0.4, \"#fde0ef\"], [0.5, \"#f7f7f7\"], [0.6, \"#e6f5d0\"], [0.7, \"#b8e186\"], [0.8, \"#7fbc41\"], [0.9, \"#4d9221\"], [1, \"#276419\"]], \"sequential\": [[0.0, \"#0d0887\"], [0.1111111111111111, \"#46039f\"], [0.2222222222222222, \"#7201a8\"], [0.3333333333333333, \"#9c179e\"], [0.4444444444444444, \"#bd3786\"], [0.5555555555555556, \"#d8576b\"], [0.6666666666666666, \"#ed7953\"], [0.7777777777777778, \"#fb9f3a\"], [0.8888888888888888, \"#fdca26\"], [1.0, \"#f0f921\"]], \"sequentialminus\": [[0.0, \"#0d0887\"], [0.1111111111111111, \"#46039f\"], [0.2222222222222222, \"#7201a8\"], [0.3333333333333333, \"#9c179e\"], [0.4444444444444444, \"#bd3786\"], [0.5555555555555556, \"#d8576b\"], [0.6666666666666666, \"#ed7953\"], [0.7777777777777778, \"#fb9f3a\"], [0.8888888888888888, \"#fdca26\"], [1.0, \"#f0f921\"]]}, \"colorway\": [\"#636efa\", \"#EF553B\", \"#00cc96\", \"#ab63fa\", \"#FFA15A\", \"#19d3f3\", \"#FF6692\", \"#B6E880\", \"#FF97FF\", \"#FECB52\"], \"font\": {\"color\": \"#2a3f5f\"}, \"geo\": {\"bgcolor\": \"white\", \"lakecolor\": \"white\", \"landcolor\": \"#E5ECF6\", \"showlakes\": true, \"showland\": true, \"subunitcolor\": \"white\"}, \"hoverlabel\": {\"align\": \"left\"}, \"hovermode\": \"closest\", \"mapbox\": {\"style\": \"light\"}, \"paper_bgcolor\": \"white\", \"plot_bgcolor\": \"#E5ECF6\", \"polar\": {\"angularaxis\": {\"gridcolor\": \"white\", \"linecolor\": \"white\", \"ticks\": \"\"}, \"bgcolor\": \"#E5ECF6\", \"radialaxis\": {\"gridcolor\": \"white\", \"linecolor\": \"white\", \"ticks\": \"\"}}, \"scene\": {\"xaxis\": {\"backgroundcolor\": \"#E5ECF6\", \"gridcolor\": \"white\", \"gridwidth\": 2, \"linecolor\": \"white\", \"showbackground\": true, \"ticks\": \"\", \"zerolinecolor\": \"white\"}, \"yaxis\": {\"backgroundcolor\": \"#E5ECF6\", \"gridcolor\": \"white\", \"gridwidth\": 2, \"linecolor\": \"white\", \"showbackground\": true, \"ticks\": \"\", \"zerolinecolor\": \"white\"}, \"zaxis\": {\"backgroundcolor\": \"#E5ECF6\", \"gridcolor\": \"white\", \"gridwidth\": 2, \"linecolor\": \"white\", \"showbackground\": true, \"ticks\": \"\", \"zerolinecolor\": \"white\"}}, \"shapedefaults\": {\"line\": {\"color\": \"#2a3f5f\"}}, \"ternary\": {\"aaxis\": {\"gridcolor\": \"white\", \"linecolor\": \"white\", \"ticks\": \"\"}, \"baxis\": {\"gridcolor\": \"white\", \"linecolor\": \"white\", \"ticks\": \"\"}, \"bgcolor\": \"#E5ECF6\", \"caxis\": {\"gridcolor\": \"white\", \"linecolor\": \"white\", \"ticks\": \"\"}}, \"title\": {\"x\": 0.05}, \"xaxis\": {\"automargin\": true, \"gridcolor\": \"white\", \"linecolor\": \"white\", \"ticks\": \"\", \"title\": {\"standoff\": 15}, \"zerolinecolor\": \"white\", \"zerolinewidth\": 2}, \"yaxis\": {\"automargin\": true, \"gridcolor\": \"white\", \"linecolor\": \"white\", \"ticks\": \"\", \"title\": {\"standoff\": 15}, \"zerolinecolor\": \"white\", \"zerolinewidth\": 2}}}, \"title\": {\"font\": {\"size\": 14}, \"text\": \"<b>Model performance</b><br>gb\"}, \"width\": 450, \"xaxis\": {\"anchor\": \"y\", \"domain\": [0.0, 1.0]}, \"xaxis2\": {\"anchor\": \"y2\", \"domain\": [0.0, 1.0], \"title\": {\"text\": \"false positive rate\"}}, \"xaxis3\": {\"anchor\": \"y3\", \"domain\": [0.0, 1.0], \"range\": [0, 1.05], \"title\": {\"text\": \"recall\"}}, \"yaxis\": {\"anchor\": \"x\", \"domain\": [0.7777777777777778, 1.0]}, \"yaxis2\": {\"anchor\": \"x2\", \"domain\": [0.3888888888888889, 0.6111111111111112], \"title\": {\"text\": \"true positive rate\"}}, \"yaxis3\": {\"anchor\": \"x3\", \"domain\": [0.0, 0.22222222222222224], \"range\": [0, 1.05], \"title\": {\"text\": \"precision\"}}},\n",
       "                        {\"responsive\": true}\n",
       "                    ).then(function(){\n",
       "                            \n",
       "var gd = document.getElementById('ba4abec0-38ba-4a6b-a15b-6ab76f178818');\n",
       "var x = new MutationObserver(function (mutations, observer) {{\n",
       "        var display = window.getComputedStyle(gd).display;\n",
       "        if (!display || display === 'none') {{\n",
       "            console.log([gd, 'removed!']);\n",
       "            Plotly.purge(gd);\n",
       "            observer.disconnect();\n",
       "        }}\n",
       "}});\n",
       "\n",
       "// Listen for the removal of the full notebook cells\n",
       "var notebookContainer = gd.closest('#notebook-container');\n",
       "if (notebookContainer) {{\n",
       "    x.observe(notebookContainer, {childList: true});\n",
       "}}\n",
       "\n",
       "// Listen for the clearing of the current output cell\n",
       "var outputEl = gd.closest('.output');\n",
       "if (outputEl) {{\n",
       "    x.observe(outputEl, {childList: true});\n",
       "}}\n",
       "\n",
       "                        })\n",
       "                };\n",
       "                });\n",
       "            </script>\n",
       "        </div>"
      ]
     },
     "metadata": {},
     "output_type": "display_data"
    }
   ],
   "source": [
    "y_pred = gb.predict(test_r)\n",
    "y_score = gb.predict_proba(test_r)[:,1]\n",
    "\n",
    "model_performance_plot('gb')"
   ]
  },
  {
   "cell_type": "code",
   "execution_count": 61,
   "metadata": {},
   "outputs": [
    {
     "name": "stdout",
     "output_type": "stream",
     "text": [
      "Predictions have finished\n"
     ]
    },
    {
     "name": "stderr",
     "output_type": "stream",
     "text": [
      "/Users/dimple/Documents/Foundations of Business Analytics/final_bana200/lib/python3.7/site-packages/sklearn/linear_model/logistic.py:432: FutureWarning:\n",
      "\n",
      "Default solver will be changed to 'lbfgs' in 0.22. Specify a solver to silence this warning.\n",
      "\n"
     ]
    }
   ],
   "source": [
    "from sklearn.linear_model import LogisticRegression\n",
    "\n",
    "log_reg = LogisticRegression()\n",
    "\n",
    "log_reg.fit(train, target_train)\n",
    "# Get our predictions\n",
    "log_predictions = log_reg.predict(test)\n",
    "print(\"Predictions have finished\")"
   ]
  },
  {
   "cell_type": "code",
   "execution_count": 62,
   "metadata": {},
   "outputs": [
    {
     "name": "stdout",
     "output_type": "stream",
     "text": [
      "0.742914979757085\n",
      "              precision    recall  f1-score   support\n",
      "\n",
      "           0       0.76      0.72      0.74       250\n",
      "           1       0.73      0.77      0.75       244\n",
      "\n",
      "    accuracy                           0.74       494\n",
      "   macro avg       0.74      0.74      0.74       494\n",
      "weighted avg       0.74      0.74      0.74       494\n",
      "\n"
     ]
    }
   ],
   "source": [
    "print(accuracy_score(target_val, log_predictions))\n",
    "print(classification_report(target_val, log_predictions))"
   ]
  },
  {
   "cell_type": "code",
   "execution_count": 63,
   "metadata": {},
   "outputs": [
    {
     "name": "stdout",
     "output_type": "stream",
     "text": [
      "Predictions have finished\n"
     ]
    },
    {
     "name": "stderr",
     "output_type": "stream",
     "text": [
      "/Users/dimple/Documents/Foundations of Business Analytics/final_bana200/lib/python3.7/site-packages/sklearn/linear_model/logistic.py:432: FutureWarning:\n",
      "\n",
      "Default solver will be changed to 'lbfgs' in 0.22. Specify a solver to silence this warning.\n",
      "\n"
     ]
    }
   ],
   "source": [
    "log_reg = LogisticRegression()\n",
    "\n",
    "log_reg.fit(train_r, target_train_r)\n",
    "# Get our predictions\n",
    "log_predictions_r = log_reg.predict(test_r)\n",
    "print(\"Predictions have finished\")"
   ]
  },
  {
   "cell_type": "code",
   "execution_count": 64,
   "metadata": {},
   "outputs": [
    {
     "name": "stdout",
     "output_type": "stream",
     "text": [
      "0.7267206477732794\n",
      "              precision    recall  f1-score   support\n",
      "\n",
      "           0       0.74      0.72      0.73       250\n",
      "           1       0.72      0.74      0.73       244\n",
      "\n",
      "    accuracy                           0.73       494\n",
      "   macro avg       0.73      0.73      0.73       494\n",
      "weighted avg       0.73      0.73      0.73       494\n",
      "\n"
     ]
    }
   ],
   "source": [
    "print(accuracy_score(target_val_r, log_predictions_r))\n",
    "print(classification_report(target_val_r, log_predictions_r))"
   ]
  },
  {
   "cell_type": "code",
   "execution_count": 86,
   "metadata": {},
   "outputs": [
    {
     "data": {
      "application/vnd.plotly.v1+json": {
       "config": {
        "linkText": "Export to plot.ly",
        "plotlyServerURL": "https://plot.ly",
        "showLink": false
       },
       "data": [
        {
         "marker": {
          "color": [
           "gold",
           "lightgreen",
           "lightcoral",
           "lightskyblue"
          ],
          "line": {
           "color": "#000000",
           "width": 1.5
          }
         },
         "opacity": 0.8,
         "orientation": "h",
         "text": [
          0.747,
          0.739,
          0.7541,
          0.7465
         ],
         "textposition": "auto",
         "type": "bar",
         "x": [
          0.7469635627530364,
          0.7389558232931727,
          0.7540983606557377,
          0.7464503042596349
         ],
         "xaxis": "x",
         "y": [
          "Accuracy",
          "Precision",
          "Recall",
          "F1_score"
         ],
         "yaxis": "y"
        },
        {
         "fill": "tozeroy",
         "line": {
          "color": "rgb(22, 96, 167)",
          "width": 2
         },
         "name": "Roc : ",
         "type": "scatter",
         "x": [
          0,
          0.012,
          0.02,
          0.028,
          0.052,
          0.064,
          0.088,
          0.1,
          0.112,
          0.152,
          0.176,
          0.26,
          0.272,
          0.3,
          0.308,
          0.332,
          0.38,
          0.408,
          0.412,
          0.436,
          0.536,
          0.576,
          0.908,
          1
         ],
         "xaxis": "x2",
         "y": [
          0,
          0.13934426229508196,
          0.16393442622950818,
          0.1762295081967213,
          0.3319672131147541,
          0.38934426229508196,
          0.4713114754098361,
          0.5081967213114754,
          0.5819672131147541,
          0.6311475409836066,
          0.7090163934426229,
          0.7540983606557377,
          0.7827868852459017,
          0.7868852459016393,
          0.819672131147541,
          0.8524590163934426,
          0.8852459016393442,
          0.8975409836065574,
          0.8975409836065574,
          0.9221311475409836,
          0.9385245901639344,
          0.9631147540983607,
          1,
          1
         ],
         "yaxis": "y2"
        },
        {
         "line": {
          "color": "black",
          "dash": "dot",
          "width": 1.5
         },
         "type": "scatter",
         "x": [
          0,
          1
         ],
         "xaxis": "x2",
         "y": [
          0,
          1
         ],
         "yaxis": "y2"
        },
        {
         "fill": "tozeroy",
         "line": {
          "color": "lightcoral",
          "width": 2
         },
         "name": "Precision[0.51804671 0.62005277 0.63085399 0.67365269 0.67682927 0.68012422\n 0.68224299 0.69453376 0.71477663 0.72202166 0.71910112 0.73745174\n 0.73895582 0.79723502 0.80208333 0.83529412 0.83221477 0.83941606\n 0.85585586 0.86170213 0.86       0.88888889 0.91891892 1.        ]",
         "type": "scatter",
         "x": [
          1,
          0.9631147540983607,
          0.9385245901639344,
          0.9221311475409836,
          0.9098360655737705,
          0.8975409836065574,
          0.8975409836065574,
          0.8852459016393442,
          0.8524590163934426,
          0.819672131147541,
          0.7868852459016393,
          0.7827868852459017,
          0.7540983606557377,
          0.7090163934426229,
          0.6311475409836066,
          0.5819672131147541,
          0.5081967213114754,
          0.4713114754098361,
          0.38934426229508196,
          0.3319672131147541,
          0.1762295081967213,
          0.16393442622950818,
          0.13934426229508196,
          0
         ],
         "xaxis": "x3",
         "y": [
          0.5180467091295117,
          0.6200527704485488,
          0.6308539944903582,
          0.6736526946107785,
          0.676829268292683,
          0.6801242236024845,
          0.6822429906542056,
          0.6945337620578779,
          0.7147766323024055,
          0.7220216606498195,
          0.7191011235955056,
          0.7374517374517374,
          0.7389558232931727,
          0.7972350230414746,
          0.8020833333333334,
          0.8352941176470589,
          0.8322147651006712,
          0.8394160583941606,
          0.8558558558558559,
          0.8617021276595744,
          0.86,
          0.8888888888888888,
          0.918918918918919,
          1
         ],
         "yaxis": "y3"
        }
       ],
       "layout": {
        "annotations": [
         {
          "font": {
           "size": 16
          },
          "showarrow": false,
          "text": "Metrics",
          "x": 0.5,
          "xanchor": "center",
          "xref": "paper",
          "y": 1,
          "yanchor": "bottom",
          "yref": "paper"
         },
         {
          "font": {
           "size": 16
          },
          "showarrow": false,
          "text": "ROC curve (0.837)",
          "x": 0.5,
          "xanchor": "center",
          "xref": "paper",
          "y": 0.6111111111111112,
          "yanchor": "bottom",
          "yref": "paper"
         },
         {
          "font": {
           "size": 16
          },
          "showarrow": false,
          "text": "Precision - Recall curve",
          "x": 0.5,
          "xanchor": "center",
          "xref": "paper",
          "y": 0.22222222222222224,
          "yanchor": "bottom",
          "yref": "paper"
         }
        ],
        "autosize": false,
        "height": 900,
        "margin": {
         "b": 195
        },
        "paper_bgcolor": "rgba(240,240,240, 0.95)",
        "plot_bgcolor": "rgba(240,240,240, 0.95)",
        "showlegend": false,
        "template": {
         "data": {
          "bar": [
           {
            "error_x": {
             "color": "#2a3f5f"
            },
            "error_y": {
             "color": "#2a3f5f"
            },
            "marker": {
             "line": {
              "color": "#E5ECF6",
              "width": 0.5
             }
            },
            "type": "bar"
           }
          ],
          "barpolar": [
           {
            "marker": {
             "line": {
              "color": "#E5ECF6",
              "width": 0.5
             }
            },
            "type": "barpolar"
           }
          ],
          "carpet": [
           {
            "aaxis": {
             "endlinecolor": "#2a3f5f",
             "gridcolor": "white",
             "linecolor": "white",
             "minorgridcolor": "white",
             "startlinecolor": "#2a3f5f"
            },
            "baxis": {
             "endlinecolor": "#2a3f5f",
             "gridcolor": "white",
             "linecolor": "white",
             "minorgridcolor": "white",
             "startlinecolor": "#2a3f5f"
            },
            "type": "carpet"
           }
          ],
          "choropleth": [
           {
            "colorbar": {
             "outlinewidth": 0,
             "ticks": ""
            },
            "type": "choropleth"
           }
          ],
          "contour": [
           {
            "colorbar": {
             "outlinewidth": 0,
             "ticks": ""
            },
            "colorscale": [
             [
              0,
              "#0d0887"
             ],
             [
              0.1111111111111111,
              "#46039f"
             ],
             [
              0.2222222222222222,
              "#7201a8"
             ],
             [
              0.3333333333333333,
              "#9c179e"
             ],
             [
              0.4444444444444444,
              "#bd3786"
             ],
             [
              0.5555555555555556,
              "#d8576b"
             ],
             [
              0.6666666666666666,
              "#ed7953"
             ],
             [
              0.7777777777777778,
              "#fb9f3a"
             ],
             [
              0.8888888888888888,
              "#fdca26"
             ],
             [
              1,
              "#f0f921"
             ]
            ],
            "type": "contour"
           }
          ],
          "contourcarpet": [
           {
            "colorbar": {
             "outlinewidth": 0,
             "ticks": ""
            },
            "type": "contourcarpet"
           }
          ],
          "heatmap": [
           {
            "colorbar": {
             "outlinewidth": 0,
             "ticks": ""
            },
            "colorscale": [
             [
              0,
              "#0d0887"
             ],
             [
              0.1111111111111111,
              "#46039f"
             ],
             [
              0.2222222222222222,
              "#7201a8"
             ],
             [
              0.3333333333333333,
              "#9c179e"
             ],
             [
              0.4444444444444444,
              "#bd3786"
             ],
             [
              0.5555555555555556,
              "#d8576b"
             ],
             [
              0.6666666666666666,
              "#ed7953"
             ],
             [
              0.7777777777777778,
              "#fb9f3a"
             ],
             [
              0.8888888888888888,
              "#fdca26"
             ],
             [
              1,
              "#f0f921"
             ]
            ],
            "type": "heatmap"
           }
          ],
          "heatmapgl": [
           {
            "colorbar": {
             "outlinewidth": 0,
             "ticks": ""
            },
            "colorscale": [
             [
              0,
              "#0d0887"
             ],
             [
              0.1111111111111111,
              "#46039f"
             ],
             [
              0.2222222222222222,
              "#7201a8"
             ],
             [
              0.3333333333333333,
              "#9c179e"
             ],
             [
              0.4444444444444444,
              "#bd3786"
             ],
             [
              0.5555555555555556,
              "#d8576b"
             ],
             [
              0.6666666666666666,
              "#ed7953"
             ],
             [
              0.7777777777777778,
              "#fb9f3a"
             ],
             [
              0.8888888888888888,
              "#fdca26"
             ],
             [
              1,
              "#f0f921"
             ]
            ],
            "type": "heatmapgl"
           }
          ],
          "histogram": [
           {
            "marker": {
             "colorbar": {
              "outlinewidth": 0,
              "ticks": ""
             }
            },
            "type": "histogram"
           }
          ],
          "histogram2d": [
           {
            "colorbar": {
             "outlinewidth": 0,
             "ticks": ""
            },
            "colorscale": [
             [
              0,
              "#0d0887"
             ],
             [
              0.1111111111111111,
              "#46039f"
             ],
             [
              0.2222222222222222,
              "#7201a8"
             ],
             [
              0.3333333333333333,
              "#9c179e"
             ],
             [
              0.4444444444444444,
              "#bd3786"
             ],
             [
              0.5555555555555556,
              "#d8576b"
             ],
             [
              0.6666666666666666,
              "#ed7953"
             ],
             [
              0.7777777777777778,
              "#fb9f3a"
             ],
             [
              0.8888888888888888,
              "#fdca26"
             ],
             [
              1,
              "#f0f921"
             ]
            ],
            "type": "histogram2d"
           }
          ],
          "histogram2dcontour": [
           {
            "colorbar": {
             "outlinewidth": 0,
             "ticks": ""
            },
            "colorscale": [
             [
              0,
              "#0d0887"
             ],
             [
              0.1111111111111111,
              "#46039f"
             ],
             [
              0.2222222222222222,
              "#7201a8"
             ],
             [
              0.3333333333333333,
              "#9c179e"
             ],
             [
              0.4444444444444444,
              "#bd3786"
             ],
             [
              0.5555555555555556,
              "#d8576b"
             ],
             [
              0.6666666666666666,
              "#ed7953"
             ],
             [
              0.7777777777777778,
              "#fb9f3a"
             ],
             [
              0.8888888888888888,
              "#fdca26"
             ],
             [
              1,
              "#f0f921"
             ]
            ],
            "type": "histogram2dcontour"
           }
          ],
          "mesh3d": [
           {
            "colorbar": {
             "outlinewidth": 0,
             "ticks": ""
            },
            "type": "mesh3d"
           }
          ],
          "parcoords": [
           {
            "line": {
             "colorbar": {
              "outlinewidth": 0,
              "ticks": ""
             }
            },
            "type": "parcoords"
           }
          ],
          "pie": [
           {
            "automargin": true,
            "type": "pie"
           }
          ],
          "scatter": [
           {
            "marker": {
             "colorbar": {
              "outlinewidth": 0,
              "ticks": ""
             }
            },
            "type": "scatter"
           }
          ],
          "scatter3d": [
           {
            "line": {
             "colorbar": {
              "outlinewidth": 0,
              "ticks": ""
             }
            },
            "marker": {
             "colorbar": {
              "outlinewidth": 0,
              "ticks": ""
             }
            },
            "type": "scatter3d"
           }
          ],
          "scattercarpet": [
           {
            "marker": {
             "colorbar": {
              "outlinewidth": 0,
              "ticks": ""
             }
            },
            "type": "scattercarpet"
           }
          ],
          "scattergeo": [
           {
            "marker": {
             "colorbar": {
              "outlinewidth": 0,
              "ticks": ""
             }
            },
            "type": "scattergeo"
           }
          ],
          "scattergl": [
           {
            "marker": {
             "colorbar": {
              "outlinewidth": 0,
              "ticks": ""
             }
            },
            "type": "scattergl"
           }
          ],
          "scattermapbox": [
           {
            "marker": {
             "colorbar": {
              "outlinewidth": 0,
              "ticks": ""
             }
            },
            "type": "scattermapbox"
           }
          ],
          "scatterpolar": [
           {
            "marker": {
             "colorbar": {
              "outlinewidth": 0,
              "ticks": ""
             }
            },
            "type": "scatterpolar"
           }
          ],
          "scatterpolargl": [
           {
            "marker": {
             "colorbar": {
              "outlinewidth": 0,
              "ticks": ""
             }
            },
            "type": "scatterpolargl"
           }
          ],
          "scatterternary": [
           {
            "marker": {
             "colorbar": {
              "outlinewidth": 0,
              "ticks": ""
             }
            },
            "type": "scatterternary"
           }
          ],
          "surface": [
           {
            "colorbar": {
             "outlinewidth": 0,
             "ticks": ""
            },
            "colorscale": [
             [
              0,
              "#0d0887"
             ],
             [
              0.1111111111111111,
              "#46039f"
             ],
             [
              0.2222222222222222,
              "#7201a8"
             ],
             [
              0.3333333333333333,
              "#9c179e"
             ],
             [
              0.4444444444444444,
              "#bd3786"
             ],
             [
              0.5555555555555556,
              "#d8576b"
             ],
             [
              0.6666666666666666,
              "#ed7953"
             ],
             [
              0.7777777777777778,
              "#fb9f3a"
             ],
             [
              0.8888888888888888,
              "#fdca26"
             ],
             [
              1,
              "#f0f921"
             ]
            ],
            "type": "surface"
           }
          ],
          "table": [
           {
            "cells": {
             "fill": {
              "color": "#EBF0F8"
             },
             "line": {
              "color": "white"
             }
            },
            "header": {
             "fill": {
              "color": "#C8D4E3"
             },
             "line": {
              "color": "white"
             }
            },
            "type": "table"
           }
          ]
         },
         "layout": {
          "annotationdefaults": {
           "arrowcolor": "#2a3f5f",
           "arrowhead": 0,
           "arrowwidth": 1
          },
          "coloraxis": {
           "colorbar": {
            "outlinewidth": 0,
            "ticks": ""
           }
          },
          "colorscale": {
           "diverging": [
            [
             0,
             "#8e0152"
            ],
            [
             0.1,
             "#c51b7d"
            ],
            [
             0.2,
             "#de77ae"
            ],
            [
             0.3,
             "#f1b6da"
            ],
            [
             0.4,
             "#fde0ef"
            ],
            [
             0.5,
             "#f7f7f7"
            ],
            [
             0.6,
             "#e6f5d0"
            ],
            [
             0.7,
             "#b8e186"
            ],
            [
             0.8,
             "#7fbc41"
            ],
            [
             0.9,
             "#4d9221"
            ],
            [
             1,
             "#276419"
            ]
           ],
           "sequential": [
            [
             0,
             "#0d0887"
            ],
            [
             0.1111111111111111,
             "#46039f"
            ],
            [
             0.2222222222222222,
             "#7201a8"
            ],
            [
             0.3333333333333333,
             "#9c179e"
            ],
            [
             0.4444444444444444,
             "#bd3786"
            ],
            [
             0.5555555555555556,
             "#d8576b"
            ],
            [
             0.6666666666666666,
             "#ed7953"
            ],
            [
             0.7777777777777778,
             "#fb9f3a"
            ],
            [
             0.8888888888888888,
             "#fdca26"
            ],
            [
             1,
             "#f0f921"
            ]
           ],
           "sequentialminus": [
            [
             0,
             "#0d0887"
            ],
            [
             0.1111111111111111,
             "#46039f"
            ],
            [
             0.2222222222222222,
             "#7201a8"
            ],
            [
             0.3333333333333333,
             "#9c179e"
            ],
            [
             0.4444444444444444,
             "#bd3786"
            ],
            [
             0.5555555555555556,
             "#d8576b"
            ],
            [
             0.6666666666666666,
             "#ed7953"
            ],
            [
             0.7777777777777778,
             "#fb9f3a"
            ],
            [
             0.8888888888888888,
             "#fdca26"
            ],
            [
             1,
             "#f0f921"
            ]
           ]
          },
          "colorway": [
           "#636efa",
           "#EF553B",
           "#00cc96",
           "#ab63fa",
           "#FFA15A",
           "#19d3f3",
           "#FF6692",
           "#B6E880",
           "#FF97FF",
           "#FECB52"
          ],
          "font": {
           "color": "#2a3f5f"
          },
          "geo": {
           "bgcolor": "white",
           "lakecolor": "white",
           "landcolor": "#E5ECF6",
           "showlakes": true,
           "showland": true,
           "subunitcolor": "white"
          },
          "hoverlabel": {
           "align": "left"
          },
          "hovermode": "closest",
          "mapbox": {
           "style": "light"
          },
          "paper_bgcolor": "white",
          "plot_bgcolor": "#E5ECF6",
          "polar": {
           "angularaxis": {
            "gridcolor": "white",
            "linecolor": "white",
            "ticks": ""
           },
           "bgcolor": "#E5ECF6",
           "radialaxis": {
            "gridcolor": "white",
            "linecolor": "white",
            "ticks": ""
           }
          },
          "scene": {
           "xaxis": {
            "backgroundcolor": "#E5ECF6",
            "gridcolor": "white",
            "gridwidth": 2,
            "linecolor": "white",
            "showbackground": true,
            "ticks": "",
            "zerolinecolor": "white"
           },
           "yaxis": {
            "backgroundcolor": "#E5ECF6",
            "gridcolor": "white",
            "gridwidth": 2,
            "linecolor": "white",
            "showbackground": true,
            "ticks": "",
            "zerolinecolor": "white"
           },
           "zaxis": {
            "backgroundcolor": "#E5ECF6",
            "gridcolor": "white",
            "gridwidth": 2,
            "linecolor": "white",
            "showbackground": true,
            "ticks": "",
            "zerolinecolor": "white"
           }
          },
          "shapedefaults": {
           "line": {
            "color": "#2a3f5f"
           }
          },
          "ternary": {
           "aaxis": {
            "gridcolor": "white",
            "linecolor": "white",
            "ticks": ""
           },
           "baxis": {
            "gridcolor": "white",
            "linecolor": "white",
            "ticks": ""
           },
           "bgcolor": "#E5ECF6",
           "caxis": {
            "gridcolor": "white",
            "linecolor": "white",
            "ticks": ""
           }
          },
          "title": {
           "x": 0.05
          },
          "xaxis": {
           "automargin": true,
           "gridcolor": "white",
           "linecolor": "white",
           "ticks": "",
           "title": {
            "standoff": 15
           },
           "zerolinecolor": "white",
           "zerolinewidth": 2
          },
          "yaxis": {
           "automargin": true,
           "gridcolor": "white",
           "linecolor": "white",
           "ticks": "",
           "title": {
            "standoff": 15
           },
           "zerolinecolor": "white",
           "zerolinewidth": 2
          }
         }
        },
        "title": {
         "font": {
          "size": 14
         },
         "text": "<b>Model performance</b><br>log_reg"
        },
        "width": 450,
        "xaxis": {
         "anchor": "y",
         "domain": [
          0,
          1
         ]
        },
        "xaxis2": {
         "anchor": "y2",
         "domain": [
          0,
          1
         ],
         "title": {
          "text": "false positive rate"
         }
        },
        "xaxis3": {
         "anchor": "y3",
         "domain": [
          0,
          1
         ],
         "range": [
          0,
          1.05
         ],
         "title": {
          "text": "recall"
         }
        },
        "yaxis": {
         "anchor": "x",
         "domain": [
          0.7777777777777778,
          1
         ]
        },
        "yaxis2": {
         "anchor": "x2",
         "domain": [
          0.3888888888888889,
          0.6111111111111112
         ],
         "title": {
          "text": "true positive rate"
         }
        },
        "yaxis3": {
         "anchor": "x3",
         "domain": [
          0,
          0.22222222222222224
         ],
         "range": [
          0,
          1.05
         ],
         "title": {
          "text": "precision"
         }
        }
       }
      },
      "text/html": [
       "<div>\n",
       "        \n",
       "        \n",
       "            <div id=\"9f9c6f24-c2f8-44ce-b836-0abfde60f11f\" class=\"plotly-graph-div\" style=\"height:900px; width:450px;\"></div>\n",
       "            <script type=\"text/javascript\">\n",
       "                require([\"plotly\"], function(Plotly) {\n",
       "                    window.PLOTLYENV=window.PLOTLYENV || {};\n",
       "                    \n",
       "                if (document.getElementById(\"9f9c6f24-c2f8-44ce-b836-0abfde60f11f\")) {\n",
       "                    Plotly.newPlot(\n",
       "                        '9f9c6f24-c2f8-44ce-b836-0abfde60f11f',\n",
       "                        [{\"marker\": {\"color\": [\"gold\", \"lightgreen\", \"lightcoral\", \"lightskyblue\"], \"line\": {\"color\": \"#000000\", \"width\": 1.5}}, \"opacity\": 0.8, \"orientation\": \"h\", \"text\": [0.747, 0.739, 0.7541, 0.7465], \"textposition\": \"auto\", \"type\": \"bar\", \"x\": [0.7469635627530364, 0.7389558232931727, 0.7540983606557377, 0.7464503042596349], \"xaxis\": \"x\", \"y\": [\"Accuracy\", \"Precision\", \"Recall\", \"F1_score\"], \"yaxis\": \"y\"}, {\"fill\": \"tozeroy\", \"line\": {\"color\": \"rgb(22, 96, 167)\", \"width\": 2}, \"name\": \"Roc : \", \"type\": \"scatter\", \"x\": [0.0, 0.012, 0.02, 0.028, 0.052, 0.064, 0.088, 0.1, 0.112, 0.152, 0.176, 0.26, 0.272, 0.3, 0.308, 0.332, 0.38, 0.408, 0.412, 0.436, 0.536, 0.576, 0.908, 1.0], \"xaxis\": \"x2\", \"y\": [0.0, 0.13934426229508196, 0.16393442622950818, 0.1762295081967213, 0.3319672131147541, 0.38934426229508196, 0.4713114754098361, 0.5081967213114754, 0.5819672131147541, 0.6311475409836066, 0.7090163934426229, 0.7540983606557377, 0.7827868852459017, 0.7868852459016393, 0.819672131147541, 0.8524590163934426, 0.8852459016393442, 0.8975409836065574, 0.8975409836065574, 0.9221311475409836, 0.9385245901639344, 0.9631147540983607, 1.0, 1.0], \"yaxis\": \"y2\"}, {\"line\": {\"color\": \"black\", \"dash\": \"dot\", \"width\": 1.5}, \"type\": \"scatter\", \"x\": [0, 1], \"xaxis\": \"x2\", \"y\": [0, 1], \"yaxis\": \"y2\"}, {\"fill\": \"tozeroy\", \"line\": {\"color\": \"lightcoral\", \"width\": 2}, \"name\": \"Precision[0.51804671 0.62005277 0.63085399 0.67365269 0.67682927 0.68012422\\n 0.68224299 0.69453376 0.71477663 0.72202166 0.71910112 0.73745174\\n 0.73895582 0.79723502 0.80208333 0.83529412 0.83221477 0.83941606\\n 0.85585586 0.86170213 0.86       0.88888889 0.91891892 1.        ]\", \"type\": \"scatter\", \"x\": [1.0, 0.9631147540983607, 0.9385245901639344, 0.9221311475409836, 0.9098360655737705, 0.8975409836065574, 0.8975409836065574, 0.8852459016393442, 0.8524590163934426, 0.819672131147541, 0.7868852459016393, 0.7827868852459017, 0.7540983606557377, 0.7090163934426229, 0.6311475409836066, 0.5819672131147541, 0.5081967213114754, 0.4713114754098361, 0.38934426229508196, 0.3319672131147541, 0.1762295081967213, 0.16393442622950818, 0.13934426229508196, 0.0], \"xaxis\": \"x3\", \"y\": [0.5180467091295117, 0.6200527704485488, 0.6308539944903582, 0.6736526946107785, 0.676829268292683, 0.6801242236024845, 0.6822429906542056, 0.6945337620578779, 0.7147766323024055, 0.7220216606498195, 0.7191011235955056, 0.7374517374517374, 0.7389558232931727, 0.7972350230414746, 0.8020833333333334, 0.8352941176470589, 0.8322147651006712, 0.8394160583941606, 0.8558558558558559, 0.8617021276595744, 0.86, 0.8888888888888888, 0.918918918918919, 1.0], \"yaxis\": \"y3\"}],\n",
       "                        {\"annotations\": [{\"font\": {\"size\": 16}, \"showarrow\": false, \"text\": \"Metrics\", \"x\": 0.5, \"xanchor\": \"center\", \"xref\": \"paper\", \"y\": 1.0, \"yanchor\": \"bottom\", \"yref\": \"paper\"}, {\"font\": {\"size\": 16}, \"showarrow\": false, \"text\": \"ROC curve (0.837)\", \"x\": 0.5, \"xanchor\": \"center\", \"xref\": \"paper\", \"y\": 0.6111111111111112, \"yanchor\": \"bottom\", \"yref\": \"paper\"}, {\"font\": {\"size\": 16}, \"showarrow\": false, \"text\": \"Precision - Recall curve\", \"x\": 0.5, \"xanchor\": \"center\", \"xref\": \"paper\", \"y\": 0.22222222222222224, \"yanchor\": \"bottom\", \"yref\": \"paper\"}], \"autosize\": false, \"height\": 900, \"margin\": {\"b\": 195}, \"paper_bgcolor\": \"rgba(240,240,240, 0.95)\", \"plot_bgcolor\": \"rgba(240,240,240, 0.95)\", \"showlegend\": false, \"template\": {\"data\": {\"bar\": [{\"error_x\": {\"color\": \"#2a3f5f\"}, \"error_y\": {\"color\": \"#2a3f5f\"}, \"marker\": {\"line\": {\"color\": \"#E5ECF6\", \"width\": 0.5}}, \"type\": \"bar\"}], \"barpolar\": [{\"marker\": {\"line\": {\"color\": \"#E5ECF6\", \"width\": 0.5}}, \"type\": \"barpolar\"}], \"carpet\": [{\"aaxis\": {\"endlinecolor\": \"#2a3f5f\", \"gridcolor\": \"white\", \"linecolor\": \"white\", \"minorgridcolor\": \"white\", \"startlinecolor\": \"#2a3f5f\"}, \"baxis\": {\"endlinecolor\": \"#2a3f5f\", \"gridcolor\": \"white\", \"linecolor\": \"white\", \"minorgridcolor\": \"white\", \"startlinecolor\": \"#2a3f5f\"}, \"type\": \"carpet\"}], \"choropleth\": [{\"colorbar\": {\"outlinewidth\": 0, \"ticks\": \"\"}, \"type\": \"choropleth\"}], \"contour\": [{\"colorbar\": {\"outlinewidth\": 0, \"ticks\": \"\"}, \"colorscale\": [[0.0, \"#0d0887\"], [0.1111111111111111, \"#46039f\"], [0.2222222222222222, \"#7201a8\"], [0.3333333333333333, \"#9c179e\"], [0.4444444444444444, \"#bd3786\"], [0.5555555555555556, \"#d8576b\"], [0.6666666666666666, \"#ed7953\"], [0.7777777777777778, \"#fb9f3a\"], [0.8888888888888888, \"#fdca26\"], [1.0, \"#f0f921\"]], \"type\": \"contour\"}], \"contourcarpet\": [{\"colorbar\": {\"outlinewidth\": 0, \"ticks\": \"\"}, \"type\": \"contourcarpet\"}], \"heatmap\": [{\"colorbar\": {\"outlinewidth\": 0, \"ticks\": \"\"}, \"colorscale\": [[0.0, \"#0d0887\"], [0.1111111111111111, \"#46039f\"], [0.2222222222222222, \"#7201a8\"], [0.3333333333333333, \"#9c179e\"], [0.4444444444444444, \"#bd3786\"], [0.5555555555555556, \"#d8576b\"], [0.6666666666666666, \"#ed7953\"], [0.7777777777777778, \"#fb9f3a\"], [0.8888888888888888, \"#fdca26\"], [1.0, \"#f0f921\"]], \"type\": \"heatmap\"}], \"heatmapgl\": [{\"colorbar\": {\"outlinewidth\": 0, \"ticks\": \"\"}, \"colorscale\": [[0.0, \"#0d0887\"], [0.1111111111111111, \"#46039f\"], [0.2222222222222222, \"#7201a8\"], [0.3333333333333333, \"#9c179e\"], [0.4444444444444444, \"#bd3786\"], [0.5555555555555556, \"#d8576b\"], [0.6666666666666666, \"#ed7953\"], [0.7777777777777778, \"#fb9f3a\"], [0.8888888888888888, \"#fdca26\"], [1.0, \"#f0f921\"]], \"type\": \"heatmapgl\"}], \"histogram\": [{\"marker\": {\"colorbar\": {\"outlinewidth\": 0, \"ticks\": \"\"}}, \"type\": \"histogram\"}], \"histogram2d\": [{\"colorbar\": {\"outlinewidth\": 0, \"ticks\": \"\"}, \"colorscale\": [[0.0, \"#0d0887\"], [0.1111111111111111, \"#46039f\"], [0.2222222222222222, \"#7201a8\"], [0.3333333333333333, \"#9c179e\"], [0.4444444444444444, \"#bd3786\"], [0.5555555555555556, \"#d8576b\"], [0.6666666666666666, \"#ed7953\"], [0.7777777777777778, \"#fb9f3a\"], [0.8888888888888888, \"#fdca26\"], [1.0, \"#f0f921\"]], \"type\": \"histogram2d\"}], \"histogram2dcontour\": [{\"colorbar\": {\"outlinewidth\": 0, \"ticks\": \"\"}, \"colorscale\": [[0.0, \"#0d0887\"], [0.1111111111111111, \"#46039f\"], [0.2222222222222222, \"#7201a8\"], [0.3333333333333333, \"#9c179e\"], [0.4444444444444444, \"#bd3786\"], [0.5555555555555556, \"#d8576b\"], [0.6666666666666666, \"#ed7953\"], [0.7777777777777778, \"#fb9f3a\"], [0.8888888888888888, \"#fdca26\"], [1.0, \"#f0f921\"]], \"type\": \"histogram2dcontour\"}], \"mesh3d\": [{\"colorbar\": {\"outlinewidth\": 0, \"ticks\": \"\"}, \"type\": \"mesh3d\"}], \"parcoords\": [{\"line\": {\"colorbar\": {\"outlinewidth\": 0, \"ticks\": \"\"}}, \"type\": \"parcoords\"}], \"pie\": [{\"automargin\": true, \"type\": \"pie\"}], \"scatter\": [{\"marker\": {\"colorbar\": {\"outlinewidth\": 0, \"ticks\": \"\"}}, \"type\": \"scatter\"}], \"scatter3d\": [{\"line\": {\"colorbar\": {\"outlinewidth\": 0, \"ticks\": \"\"}}, \"marker\": {\"colorbar\": {\"outlinewidth\": 0, \"ticks\": \"\"}}, \"type\": \"scatter3d\"}], \"scattercarpet\": [{\"marker\": {\"colorbar\": {\"outlinewidth\": 0, \"ticks\": \"\"}}, \"type\": \"scattercarpet\"}], \"scattergeo\": [{\"marker\": {\"colorbar\": {\"outlinewidth\": 0, \"ticks\": \"\"}}, \"type\": \"scattergeo\"}], \"scattergl\": [{\"marker\": {\"colorbar\": {\"outlinewidth\": 0, \"ticks\": \"\"}}, \"type\": \"scattergl\"}], \"scattermapbox\": [{\"marker\": {\"colorbar\": {\"outlinewidth\": 0, \"ticks\": \"\"}}, \"type\": \"scattermapbox\"}], \"scatterpolar\": [{\"marker\": {\"colorbar\": {\"outlinewidth\": 0, \"ticks\": \"\"}}, \"type\": \"scatterpolar\"}], \"scatterpolargl\": [{\"marker\": {\"colorbar\": {\"outlinewidth\": 0, \"ticks\": \"\"}}, \"type\": \"scatterpolargl\"}], \"scatterternary\": [{\"marker\": {\"colorbar\": {\"outlinewidth\": 0, \"ticks\": \"\"}}, \"type\": \"scatterternary\"}], \"surface\": [{\"colorbar\": {\"outlinewidth\": 0, \"ticks\": \"\"}, \"colorscale\": [[0.0, \"#0d0887\"], [0.1111111111111111, \"#46039f\"], [0.2222222222222222, \"#7201a8\"], [0.3333333333333333, \"#9c179e\"], [0.4444444444444444, \"#bd3786\"], [0.5555555555555556, \"#d8576b\"], [0.6666666666666666, \"#ed7953\"], [0.7777777777777778, \"#fb9f3a\"], [0.8888888888888888, \"#fdca26\"], [1.0, \"#f0f921\"]], \"type\": \"surface\"}], \"table\": [{\"cells\": {\"fill\": {\"color\": \"#EBF0F8\"}, \"line\": {\"color\": \"white\"}}, \"header\": {\"fill\": {\"color\": \"#C8D4E3\"}, \"line\": {\"color\": \"white\"}}, \"type\": \"table\"}]}, \"layout\": {\"annotationdefaults\": {\"arrowcolor\": \"#2a3f5f\", \"arrowhead\": 0, \"arrowwidth\": 1}, \"coloraxis\": {\"colorbar\": {\"outlinewidth\": 0, \"ticks\": \"\"}}, \"colorscale\": {\"diverging\": [[0, \"#8e0152\"], [0.1, \"#c51b7d\"], [0.2, \"#de77ae\"], [0.3, \"#f1b6da\"], [0.4, \"#fde0ef\"], [0.5, \"#f7f7f7\"], [0.6, \"#e6f5d0\"], [0.7, \"#b8e186\"], [0.8, \"#7fbc41\"], [0.9, \"#4d9221\"], [1, \"#276419\"]], \"sequential\": [[0.0, \"#0d0887\"], [0.1111111111111111, \"#46039f\"], [0.2222222222222222, \"#7201a8\"], [0.3333333333333333, \"#9c179e\"], [0.4444444444444444, \"#bd3786\"], [0.5555555555555556, \"#d8576b\"], [0.6666666666666666, \"#ed7953\"], [0.7777777777777778, \"#fb9f3a\"], [0.8888888888888888, \"#fdca26\"], [1.0, \"#f0f921\"]], \"sequentialminus\": [[0.0, \"#0d0887\"], [0.1111111111111111, \"#46039f\"], [0.2222222222222222, \"#7201a8\"], [0.3333333333333333, \"#9c179e\"], [0.4444444444444444, \"#bd3786\"], [0.5555555555555556, \"#d8576b\"], [0.6666666666666666, \"#ed7953\"], [0.7777777777777778, \"#fb9f3a\"], [0.8888888888888888, \"#fdca26\"], [1.0, \"#f0f921\"]]}, \"colorway\": [\"#636efa\", \"#EF553B\", \"#00cc96\", \"#ab63fa\", \"#FFA15A\", \"#19d3f3\", \"#FF6692\", \"#B6E880\", \"#FF97FF\", \"#FECB52\"], \"font\": {\"color\": \"#2a3f5f\"}, \"geo\": {\"bgcolor\": \"white\", \"lakecolor\": \"white\", \"landcolor\": \"#E5ECF6\", \"showlakes\": true, \"showland\": true, \"subunitcolor\": \"white\"}, \"hoverlabel\": {\"align\": \"left\"}, \"hovermode\": \"closest\", \"mapbox\": {\"style\": \"light\"}, \"paper_bgcolor\": \"white\", \"plot_bgcolor\": \"#E5ECF6\", \"polar\": {\"angularaxis\": {\"gridcolor\": \"white\", \"linecolor\": \"white\", \"ticks\": \"\"}, \"bgcolor\": \"#E5ECF6\", \"radialaxis\": {\"gridcolor\": \"white\", \"linecolor\": \"white\", \"ticks\": \"\"}}, \"scene\": {\"xaxis\": {\"backgroundcolor\": \"#E5ECF6\", \"gridcolor\": \"white\", \"gridwidth\": 2, \"linecolor\": \"white\", \"showbackground\": true, \"ticks\": \"\", \"zerolinecolor\": \"white\"}, \"yaxis\": {\"backgroundcolor\": \"#E5ECF6\", \"gridcolor\": \"white\", \"gridwidth\": 2, \"linecolor\": \"white\", \"showbackground\": true, \"ticks\": \"\", \"zerolinecolor\": \"white\"}, \"zaxis\": {\"backgroundcolor\": \"#E5ECF6\", \"gridcolor\": \"white\", \"gridwidth\": 2, \"linecolor\": \"white\", \"showbackground\": true, \"ticks\": \"\", \"zerolinecolor\": \"white\"}}, \"shapedefaults\": {\"line\": {\"color\": \"#2a3f5f\"}}, \"ternary\": {\"aaxis\": {\"gridcolor\": \"white\", \"linecolor\": \"white\", \"ticks\": \"\"}, \"baxis\": {\"gridcolor\": \"white\", \"linecolor\": \"white\", \"ticks\": \"\"}, \"bgcolor\": \"#E5ECF6\", \"caxis\": {\"gridcolor\": \"white\", \"linecolor\": \"white\", \"ticks\": \"\"}}, \"title\": {\"x\": 0.05}, \"xaxis\": {\"automargin\": true, \"gridcolor\": \"white\", \"linecolor\": \"white\", \"ticks\": \"\", \"title\": {\"standoff\": 15}, \"zerolinecolor\": \"white\", \"zerolinewidth\": 2}, \"yaxis\": {\"automargin\": true, \"gridcolor\": \"white\", \"linecolor\": \"white\", \"ticks\": \"\", \"title\": {\"standoff\": 15}, \"zerolinecolor\": \"white\", \"zerolinewidth\": 2}}}, \"title\": {\"font\": {\"size\": 14}, \"text\": \"<b>Model performance</b><br>log_reg\"}, \"width\": 450, \"xaxis\": {\"anchor\": \"y\", \"domain\": [0.0, 1.0]}, \"xaxis2\": {\"anchor\": \"y2\", \"domain\": [0.0, 1.0], \"title\": {\"text\": \"false positive rate\"}}, \"xaxis3\": {\"anchor\": \"y3\", \"domain\": [0.0, 1.0], \"range\": [0, 1.05], \"title\": {\"text\": \"recall\"}}, \"yaxis\": {\"anchor\": \"x\", \"domain\": [0.7777777777777778, 1.0]}, \"yaxis2\": {\"anchor\": \"x2\", \"domain\": [0.3888888888888889, 0.6111111111111112], \"title\": {\"text\": \"true positive rate\"}}, \"yaxis3\": {\"anchor\": \"x3\", \"domain\": [0.0, 0.22222222222222224], \"range\": [0, 1.05], \"title\": {\"text\": \"precision\"}}},\n",
       "                        {\"responsive\": true}\n",
       "                    ).then(function(){\n",
       "                            \n",
       "var gd = document.getElementById('9f9c6f24-c2f8-44ce-b836-0abfde60f11f');\n",
       "var x = new MutationObserver(function (mutations, observer) {{\n",
       "        var display = window.getComputedStyle(gd).display;\n",
       "        if (!display || display === 'none') {{\n",
       "            console.log([gd, 'removed!']);\n",
       "            Plotly.purge(gd);\n",
       "            observer.disconnect();\n",
       "        }}\n",
       "}});\n",
       "\n",
       "// Listen for the removal of the full notebook cells\n",
       "var notebookContainer = gd.closest('#notebook-container');\n",
       "if (notebookContainer) {{\n",
       "    x.observe(notebookContainer, {childList: true});\n",
       "}}\n",
       "\n",
       "// Listen for the clearing of the current output cell\n",
       "var outputEl = gd.closest('.output');\n",
       "if (outputEl) {{\n",
       "    x.observe(outputEl, {childList: true});\n",
       "}}\n",
       "\n",
       "                        })\n",
       "                };\n",
       "                });\n",
       "            </script>\n",
       "        </div>"
      ]
     },
     "metadata": {},
     "output_type": "display_data"
    }
   ],
   "source": [
    "model_performance_plot('log_reg')"
   ]
  },
  {
   "cell_type": "code",
   "execution_count": 87,
   "metadata": {},
   "outputs": [
    {
     "ename": "AttributeError",
     "evalue": "'LogisticRegression' object has no attribute 'feature_importances_'",
     "output_type": "error",
     "traceback": [
      "\u001b[0;31m---------------------------------------------------------------------------\u001b[0m",
      "\u001b[0;31mAttributeError\u001b[0m                            Traceback (most recent call last)",
      "\u001b[0;32m<ipython-input-87-f4bc332c905b>\u001b[0m in \u001b[0;36m<module>\u001b[0;34m\u001b[0m\n\u001b[0;32m----> 1\u001b[0;31m \u001b[0mplot_feature_importance\u001b[0m\u001b[0;34m(\u001b[0m\u001b[0mlog_reg\u001b[0m\u001b[0;34m)\u001b[0m\u001b[0;34m\u001b[0m\u001b[0;34m\u001b[0m\u001b[0m\n\u001b[0m",
      "\u001b[0;32m<ipython-input-83-8a36c64266d4>\u001b[0m in \u001b[0;36mplot_feature_importance\u001b[0;34m(model)\u001b[0m\n\u001b[1;32m      1\u001b[0m \u001b[0;32mdef\u001b[0m \u001b[0mplot_feature_importance\u001b[0m\u001b[0;34m(\u001b[0m\u001b[0mmodel\u001b[0m\u001b[0;34m)\u001b[0m\u001b[0;34m:\u001b[0m\u001b[0;34m\u001b[0m\u001b[0;34m\u001b[0m\u001b[0m\n\u001b[0;32m----> 2\u001b[0;31m     \u001b[0mtmp\u001b[0m \u001b[0;34m=\u001b[0m \u001b[0mpd\u001b[0m\u001b[0;34m.\u001b[0m\u001b[0mDataFrame\u001b[0m\u001b[0;34m(\u001b[0m\u001b[0;34m{\u001b[0m\u001b[0;34m'Feature'\u001b[0m\u001b[0;34m:\u001b[0m \u001b[0mlist\u001b[0m\u001b[0;34m(\u001b[0m\u001b[0mattrition_final_tree\u001b[0m\u001b[0;34m)\u001b[0m\u001b[0;34m[\u001b[0m\u001b[0;34m:\u001b[0m\u001b[0;36m12\u001b[0m\u001b[0;34m]\u001b[0m\u001b[0;34m,\u001b[0m \u001b[0;34m'Feature importance'\u001b[0m\u001b[0;34m:\u001b[0m \u001b[0mmodel\u001b[0m\u001b[0;34m.\u001b[0m\u001b[0mfeature_importances_\u001b[0m\u001b[0;34m}\u001b[0m\u001b[0;34m)\u001b[0m\u001b[0;34m\u001b[0m\u001b[0;34m\u001b[0m\u001b[0m\n\u001b[0m\u001b[1;32m      3\u001b[0m     \u001b[0mtmp\u001b[0m \u001b[0;34m=\u001b[0m \u001b[0mtmp\u001b[0m\u001b[0;34m.\u001b[0m\u001b[0msort_values\u001b[0m\u001b[0;34m(\u001b[0m\u001b[0mby\u001b[0m\u001b[0;34m=\u001b[0m\u001b[0;34m'Feature importance'\u001b[0m\u001b[0;34m,\u001b[0m\u001b[0mascending\u001b[0m\u001b[0;34m=\u001b[0m\u001b[0;32mFalse\u001b[0m\u001b[0;34m)\u001b[0m\u001b[0;34m.\u001b[0m\u001b[0mhead\u001b[0m\u001b[0;34m(\u001b[0m\u001b[0;36m12\u001b[0m\u001b[0;34m)\u001b[0m\u001b[0;34m\u001b[0m\u001b[0;34m\u001b[0m\u001b[0m\n\u001b[1;32m      4\u001b[0m     \u001b[0mplt\u001b[0m\u001b[0;34m.\u001b[0m\u001b[0mfigure\u001b[0m\u001b[0;34m(\u001b[0m\u001b[0mfigsize\u001b[0m \u001b[0;34m=\u001b[0m \u001b[0;34m(\u001b[0m\u001b[0;36m10\u001b[0m\u001b[0;34m,\u001b[0m\u001b[0;36m12\u001b[0m\u001b[0;34m)\u001b[0m\u001b[0;34m)\u001b[0m\u001b[0;34m\u001b[0m\u001b[0;34m\u001b[0m\u001b[0m\n\u001b[1;32m      5\u001b[0m     \u001b[0mplt\u001b[0m\u001b[0;34m.\u001b[0m\u001b[0mtitle\u001b[0m\u001b[0;34m(\u001b[0m\u001b[0;34m'Top 30 - Features importance - {0}'\u001b[0m\u001b[0;34m.\u001b[0m\u001b[0mformat\u001b[0m\u001b[0;34m(\u001b[0m\u001b[0mmodel\u001b[0m\u001b[0;34m)\u001b[0m\u001b[0;34m,\u001b[0m\u001b[0mfontsize\u001b[0m\u001b[0;34m=\u001b[0m\u001b[0;36m14\u001b[0m\u001b[0;34m)\u001b[0m\u001b[0;34m\u001b[0m\u001b[0;34m\u001b[0m\u001b[0m\n",
      "\u001b[0;31mAttributeError\u001b[0m: 'LogisticRegression' object has no attribute 'feature_importances_'"
     ]
    }
   ],
   "source": [
    "plot_feature_importance(log_reg)\n"
   ]
  },
  {
   "cell_type": "code",
   "execution_count": 65,
   "metadata": {},
   "outputs": [
    {
     "data": {
      "application/vnd.plotly.v1+json": {
       "config": {
        "linkText": "Export to plot.ly",
        "plotlyServerURL": "https://plot.ly",
        "showLink": false
       },
       "data": [
        {
         "marker": {
          "color": [
           "gold",
           "lightgreen",
           "lightcoral",
           "lightskyblue"
          ],
          "line": {
           "color": "#000000",
           "width": 1.5
          }
         },
         "opacity": 0.8,
         "orientation": "h",
         "text": [
          0.747,
          0.739,
          0.7541,
          0.7465
         ],
         "textposition": "auto",
         "type": "bar",
         "x": [
          0.7469635627530364,
          0.7389558232931727,
          0.7540983606557377,
          0.7464503042596349
         ],
         "xaxis": "x",
         "y": [
          "Accuracy",
          "Precision",
          "Recall",
          "F1_score"
         ],
         "yaxis": "y"
        },
        {
         "fill": "tozeroy",
         "line": {
          "color": "rgb(22, 96, 167)",
          "width": 2
         },
         "name": "Roc : ",
         "type": "scatter",
         "x": [
          0,
          0.012,
          0.02,
          0.028,
          0.052,
          0.064,
          0.088,
          0.1,
          0.112,
          0.152,
          0.176,
          0.26,
          0.272,
          0.3,
          0.308,
          0.332,
          0.38,
          0.408,
          0.412,
          0.436,
          0.536,
          0.576,
          0.908,
          1
         ],
         "xaxis": "x2",
         "y": [
          0,
          0.13934426229508196,
          0.16393442622950818,
          0.1762295081967213,
          0.3319672131147541,
          0.38934426229508196,
          0.4713114754098361,
          0.5081967213114754,
          0.5819672131147541,
          0.6311475409836066,
          0.7090163934426229,
          0.7540983606557377,
          0.7827868852459017,
          0.7868852459016393,
          0.819672131147541,
          0.8524590163934426,
          0.8852459016393442,
          0.8975409836065574,
          0.8975409836065574,
          0.9221311475409836,
          0.9385245901639344,
          0.9631147540983607,
          1,
          1
         ],
         "yaxis": "y2"
        },
        {
         "line": {
          "color": "black",
          "dash": "dot",
          "width": 1.5
         },
         "type": "scatter",
         "x": [
          0,
          1
         ],
         "xaxis": "x2",
         "y": [
          0,
          1
         ],
         "yaxis": "y2"
        },
        {
         "fill": "tozeroy",
         "line": {
          "color": "lightcoral",
          "width": 2
         },
         "name": "Precision[0.51804671 0.62005277 0.63085399 0.67365269 0.67682927 0.68012422\n 0.68224299 0.69453376 0.71477663 0.72202166 0.71910112 0.73745174\n 0.73895582 0.79723502 0.80208333 0.83529412 0.83221477 0.83941606\n 0.85585586 0.86170213 0.86       0.88888889 0.91891892 1.        ]",
         "type": "scatter",
         "x": [
          1,
          0.9631147540983607,
          0.9385245901639344,
          0.9221311475409836,
          0.9098360655737705,
          0.8975409836065574,
          0.8975409836065574,
          0.8852459016393442,
          0.8524590163934426,
          0.819672131147541,
          0.7868852459016393,
          0.7827868852459017,
          0.7540983606557377,
          0.7090163934426229,
          0.6311475409836066,
          0.5819672131147541,
          0.5081967213114754,
          0.4713114754098361,
          0.38934426229508196,
          0.3319672131147541,
          0.1762295081967213,
          0.16393442622950818,
          0.13934426229508196,
          0
         ],
         "xaxis": "x3",
         "y": [
          0.5180467091295117,
          0.6200527704485488,
          0.6308539944903582,
          0.6736526946107785,
          0.676829268292683,
          0.6801242236024845,
          0.6822429906542056,
          0.6945337620578779,
          0.7147766323024055,
          0.7220216606498195,
          0.7191011235955056,
          0.7374517374517374,
          0.7389558232931727,
          0.7972350230414746,
          0.8020833333333334,
          0.8352941176470589,
          0.8322147651006712,
          0.8394160583941606,
          0.8558558558558559,
          0.8617021276595744,
          0.86,
          0.8888888888888888,
          0.918918918918919,
          1
         ],
         "yaxis": "y3"
        }
       ],
       "layout": {
        "annotations": [
         {
          "font": {
           "size": 16
          },
          "showarrow": false,
          "text": "Metrics",
          "x": 0.5,
          "xanchor": "center",
          "xref": "paper",
          "y": 1,
          "yanchor": "bottom",
          "yref": "paper"
         },
         {
          "font": {
           "size": 16
          },
          "showarrow": false,
          "text": "ROC curve (0.837)",
          "x": 0.5,
          "xanchor": "center",
          "xref": "paper",
          "y": 0.6111111111111112,
          "yanchor": "bottom",
          "yref": "paper"
         },
         {
          "font": {
           "size": 16
          },
          "showarrow": false,
          "text": "Precision - Recall curve",
          "x": 0.5,
          "xanchor": "center",
          "xref": "paper",
          "y": 0.22222222222222224,
          "yanchor": "bottom",
          "yref": "paper"
         }
        ],
        "autosize": false,
        "height": 900,
        "margin": {
         "b": 195
        },
        "paper_bgcolor": "rgba(240,240,240, 0.95)",
        "plot_bgcolor": "rgba(240,240,240, 0.95)",
        "showlegend": false,
        "template": {
         "data": {
          "bar": [
           {
            "error_x": {
             "color": "#2a3f5f"
            },
            "error_y": {
             "color": "#2a3f5f"
            },
            "marker": {
             "line": {
              "color": "#E5ECF6",
              "width": 0.5
             }
            },
            "type": "bar"
           }
          ],
          "barpolar": [
           {
            "marker": {
             "line": {
              "color": "#E5ECF6",
              "width": 0.5
             }
            },
            "type": "barpolar"
           }
          ],
          "carpet": [
           {
            "aaxis": {
             "endlinecolor": "#2a3f5f",
             "gridcolor": "white",
             "linecolor": "white",
             "minorgridcolor": "white",
             "startlinecolor": "#2a3f5f"
            },
            "baxis": {
             "endlinecolor": "#2a3f5f",
             "gridcolor": "white",
             "linecolor": "white",
             "minorgridcolor": "white",
             "startlinecolor": "#2a3f5f"
            },
            "type": "carpet"
           }
          ],
          "choropleth": [
           {
            "colorbar": {
             "outlinewidth": 0,
             "ticks": ""
            },
            "type": "choropleth"
           }
          ],
          "contour": [
           {
            "colorbar": {
             "outlinewidth": 0,
             "ticks": ""
            },
            "colorscale": [
             [
              0,
              "#0d0887"
             ],
             [
              0.1111111111111111,
              "#46039f"
             ],
             [
              0.2222222222222222,
              "#7201a8"
             ],
             [
              0.3333333333333333,
              "#9c179e"
             ],
             [
              0.4444444444444444,
              "#bd3786"
             ],
             [
              0.5555555555555556,
              "#d8576b"
             ],
             [
              0.6666666666666666,
              "#ed7953"
             ],
             [
              0.7777777777777778,
              "#fb9f3a"
             ],
             [
              0.8888888888888888,
              "#fdca26"
             ],
             [
              1,
              "#f0f921"
             ]
            ],
            "type": "contour"
           }
          ],
          "contourcarpet": [
           {
            "colorbar": {
             "outlinewidth": 0,
             "ticks": ""
            },
            "type": "contourcarpet"
           }
          ],
          "heatmap": [
           {
            "colorbar": {
             "outlinewidth": 0,
             "ticks": ""
            },
            "colorscale": [
             [
              0,
              "#0d0887"
             ],
             [
              0.1111111111111111,
              "#46039f"
             ],
             [
              0.2222222222222222,
              "#7201a8"
             ],
             [
              0.3333333333333333,
              "#9c179e"
             ],
             [
              0.4444444444444444,
              "#bd3786"
             ],
             [
              0.5555555555555556,
              "#d8576b"
             ],
             [
              0.6666666666666666,
              "#ed7953"
             ],
             [
              0.7777777777777778,
              "#fb9f3a"
             ],
             [
              0.8888888888888888,
              "#fdca26"
             ],
             [
              1,
              "#f0f921"
             ]
            ],
            "type": "heatmap"
           }
          ],
          "heatmapgl": [
           {
            "colorbar": {
             "outlinewidth": 0,
             "ticks": ""
            },
            "colorscale": [
             [
              0,
              "#0d0887"
             ],
             [
              0.1111111111111111,
              "#46039f"
             ],
             [
              0.2222222222222222,
              "#7201a8"
             ],
             [
              0.3333333333333333,
              "#9c179e"
             ],
             [
              0.4444444444444444,
              "#bd3786"
             ],
             [
              0.5555555555555556,
              "#d8576b"
             ],
             [
              0.6666666666666666,
              "#ed7953"
             ],
             [
              0.7777777777777778,
              "#fb9f3a"
             ],
             [
              0.8888888888888888,
              "#fdca26"
             ],
             [
              1,
              "#f0f921"
             ]
            ],
            "type": "heatmapgl"
           }
          ],
          "histogram": [
           {
            "marker": {
             "colorbar": {
              "outlinewidth": 0,
              "ticks": ""
             }
            },
            "type": "histogram"
           }
          ],
          "histogram2d": [
           {
            "colorbar": {
             "outlinewidth": 0,
             "ticks": ""
            },
            "colorscale": [
             [
              0,
              "#0d0887"
             ],
             [
              0.1111111111111111,
              "#46039f"
             ],
             [
              0.2222222222222222,
              "#7201a8"
             ],
             [
              0.3333333333333333,
              "#9c179e"
             ],
             [
              0.4444444444444444,
              "#bd3786"
             ],
             [
              0.5555555555555556,
              "#d8576b"
             ],
             [
              0.6666666666666666,
              "#ed7953"
             ],
             [
              0.7777777777777778,
              "#fb9f3a"
             ],
             [
              0.8888888888888888,
              "#fdca26"
             ],
             [
              1,
              "#f0f921"
             ]
            ],
            "type": "histogram2d"
           }
          ],
          "histogram2dcontour": [
           {
            "colorbar": {
             "outlinewidth": 0,
             "ticks": ""
            },
            "colorscale": [
             [
              0,
              "#0d0887"
             ],
             [
              0.1111111111111111,
              "#46039f"
             ],
             [
              0.2222222222222222,
              "#7201a8"
             ],
             [
              0.3333333333333333,
              "#9c179e"
             ],
             [
              0.4444444444444444,
              "#bd3786"
             ],
             [
              0.5555555555555556,
              "#d8576b"
             ],
             [
              0.6666666666666666,
              "#ed7953"
             ],
             [
              0.7777777777777778,
              "#fb9f3a"
             ],
             [
              0.8888888888888888,
              "#fdca26"
             ],
             [
              1,
              "#f0f921"
             ]
            ],
            "type": "histogram2dcontour"
           }
          ],
          "mesh3d": [
           {
            "colorbar": {
             "outlinewidth": 0,
             "ticks": ""
            },
            "type": "mesh3d"
           }
          ],
          "parcoords": [
           {
            "line": {
             "colorbar": {
              "outlinewidth": 0,
              "ticks": ""
             }
            },
            "type": "parcoords"
           }
          ],
          "pie": [
           {
            "automargin": true,
            "type": "pie"
           }
          ],
          "scatter": [
           {
            "marker": {
             "colorbar": {
              "outlinewidth": 0,
              "ticks": ""
             }
            },
            "type": "scatter"
           }
          ],
          "scatter3d": [
           {
            "line": {
             "colorbar": {
              "outlinewidth": 0,
              "ticks": ""
             }
            },
            "marker": {
             "colorbar": {
              "outlinewidth": 0,
              "ticks": ""
             }
            },
            "type": "scatter3d"
           }
          ],
          "scattercarpet": [
           {
            "marker": {
             "colorbar": {
              "outlinewidth": 0,
              "ticks": ""
             }
            },
            "type": "scattercarpet"
           }
          ],
          "scattergeo": [
           {
            "marker": {
             "colorbar": {
              "outlinewidth": 0,
              "ticks": ""
             }
            },
            "type": "scattergeo"
           }
          ],
          "scattergl": [
           {
            "marker": {
             "colorbar": {
              "outlinewidth": 0,
              "ticks": ""
             }
            },
            "type": "scattergl"
           }
          ],
          "scattermapbox": [
           {
            "marker": {
             "colorbar": {
              "outlinewidth": 0,
              "ticks": ""
             }
            },
            "type": "scattermapbox"
           }
          ],
          "scatterpolar": [
           {
            "marker": {
             "colorbar": {
              "outlinewidth": 0,
              "ticks": ""
             }
            },
            "type": "scatterpolar"
           }
          ],
          "scatterpolargl": [
           {
            "marker": {
             "colorbar": {
              "outlinewidth": 0,
              "ticks": ""
             }
            },
            "type": "scatterpolargl"
           }
          ],
          "scatterternary": [
           {
            "marker": {
             "colorbar": {
              "outlinewidth": 0,
              "ticks": ""
             }
            },
            "type": "scatterternary"
           }
          ],
          "surface": [
           {
            "colorbar": {
             "outlinewidth": 0,
             "ticks": ""
            },
            "colorscale": [
             [
              0,
              "#0d0887"
             ],
             [
              0.1111111111111111,
              "#46039f"
             ],
             [
              0.2222222222222222,
              "#7201a8"
             ],
             [
              0.3333333333333333,
              "#9c179e"
             ],
             [
              0.4444444444444444,
              "#bd3786"
             ],
             [
              0.5555555555555556,
              "#d8576b"
             ],
             [
              0.6666666666666666,
              "#ed7953"
             ],
             [
              0.7777777777777778,
              "#fb9f3a"
             ],
             [
              0.8888888888888888,
              "#fdca26"
             ],
             [
              1,
              "#f0f921"
             ]
            ],
            "type": "surface"
           }
          ],
          "table": [
           {
            "cells": {
             "fill": {
              "color": "#EBF0F8"
             },
             "line": {
              "color": "white"
             }
            },
            "header": {
             "fill": {
              "color": "#C8D4E3"
             },
             "line": {
              "color": "white"
             }
            },
            "type": "table"
           }
          ]
         },
         "layout": {
          "annotationdefaults": {
           "arrowcolor": "#2a3f5f",
           "arrowhead": 0,
           "arrowwidth": 1
          },
          "coloraxis": {
           "colorbar": {
            "outlinewidth": 0,
            "ticks": ""
           }
          },
          "colorscale": {
           "diverging": [
            [
             0,
             "#8e0152"
            ],
            [
             0.1,
             "#c51b7d"
            ],
            [
             0.2,
             "#de77ae"
            ],
            [
             0.3,
             "#f1b6da"
            ],
            [
             0.4,
             "#fde0ef"
            ],
            [
             0.5,
             "#f7f7f7"
            ],
            [
             0.6,
             "#e6f5d0"
            ],
            [
             0.7,
             "#b8e186"
            ],
            [
             0.8,
             "#7fbc41"
            ],
            [
             0.9,
             "#4d9221"
            ],
            [
             1,
             "#276419"
            ]
           ],
           "sequential": [
            [
             0,
             "#0d0887"
            ],
            [
             0.1111111111111111,
             "#46039f"
            ],
            [
             0.2222222222222222,
             "#7201a8"
            ],
            [
             0.3333333333333333,
             "#9c179e"
            ],
            [
             0.4444444444444444,
             "#bd3786"
            ],
            [
             0.5555555555555556,
             "#d8576b"
            ],
            [
             0.6666666666666666,
             "#ed7953"
            ],
            [
             0.7777777777777778,
             "#fb9f3a"
            ],
            [
             0.8888888888888888,
             "#fdca26"
            ],
            [
             1,
             "#f0f921"
            ]
           ],
           "sequentialminus": [
            [
             0,
             "#0d0887"
            ],
            [
             0.1111111111111111,
             "#46039f"
            ],
            [
             0.2222222222222222,
             "#7201a8"
            ],
            [
             0.3333333333333333,
             "#9c179e"
            ],
            [
             0.4444444444444444,
             "#bd3786"
            ],
            [
             0.5555555555555556,
             "#d8576b"
            ],
            [
             0.6666666666666666,
             "#ed7953"
            ],
            [
             0.7777777777777778,
             "#fb9f3a"
            ],
            [
             0.8888888888888888,
             "#fdca26"
            ],
            [
             1,
             "#f0f921"
            ]
           ]
          },
          "colorway": [
           "#636efa",
           "#EF553B",
           "#00cc96",
           "#ab63fa",
           "#FFA15A",
           "#19d3f3",
           "#FF6692",
           "#B6E880",
           "#FF97FF",
           "#FECB52"
          ],
          "font": {
           "color": "#2a3f5f"
          },
          "geo": {
           "bgcolor": "white",
           "lakecolor": "white",
           "landcolor": "#E5ECF6",
           "showlakes": true,
           "showland": true,
           "subunitcolor": "white"
          },
          "hoverlabel": {
           "align": "left"
          },
          "hovermode": "closest",
          "mapbox": {
           "style": "light"
          },
          "paper_bgcolor": "white",
          "plot_bgcolor": "#E5ECF6",
          "polar": {
           "angularaxis": {
            "gridcolor": "white",
            "linecolor": "white",
            "ticks": ""
           },
           "bgcolor": "#E5ECF6",
           "radialaxis": {
            "gridcolor": "white",
            "linecolor": "white",
            "ticks": ""
           }
          },
          "scene": {
           "xaxis": {
            "backgroundcolor": "#E5ECF6",
            "gridcolor": "white",
            "gridwidth": 2,
            "linecolor": "white",
            "showbackground": true,
            "ticks": "",
            "zerolinecolor": "white"
           },
           "yaxis": {
            "backgroundcolor": "#E5ECF6",
            "gridcolor": "white",
            "gridwidth": 2,
            "linecolor": "white",
            "showbackground": true,
            "ticks": "",
            "zerolinecolor": "white"
           },
           "zaxis": {
            "backgroundcolor": "#E5ECF6",
            "gridcolor": "white",
            "gridwidth": 2,
            "linecolor": "white",
            "showbackground": true,
            "ticks": "",
            "zerolinecolor": "white"
           }
          },
          "shapedefaults": {
           "line": {
            "color": "#2a3f5f"
           }
          },
          "ternary": {
           "aaxis": {
            "gridcolor": "white",
            "linecolor": "white",
            "ticks": ""
           },
           "baxis": {
            "gridcolor": "white",
            "linecolor": "white",
            "ticks": ""
           },
           "bgcolor": "#E5ECF6",
           "caxis": {
            "gridcolor": "white",
            "linecolor": "white",
            "ticks": ""
           }
          },
          "title": {
           "x": 0.05
          },
          "xaxis": {
           "automargin": true,
           "gridcolor": "white",
           "linecolor": "white",
           "ticks": "",
           "title": {
            "standoff": 15
           },
           "zerolinecolor": "white",
           "zerolinewidth": 2
          },
          "yaxis": {
           "automargin": true,
           "gridcolor": "white",
           "linecolor": "white",
           "ticks": "",
           "title": {
            "standoff": 15
           },
           "zerolinecolor": "white",
           "zerolinewidth": 2
          }
         }
        },
        "title": {
         "font": {
          "size": 14
         },
         "text": "<b>Model performance</b><br>tree_clf"
        },
        "width": 450,
        "xaxis": {
         "anchor": "y",
         "domain": [
          0,
          1
         ]
        },
        "xaxis2": {
         "anchor": "y2",
         "domain": [
          0,
          1
         ],
         "title": {
          "text": "false positive rate"
         }
        },
        "xaxis3": {
         "anchor": "y3",
         "domain": [
          0,
          1
         ],
         "range": [
          0,
          1.05
         ],
         "title": {
          "text": "recall"
         }
        },
        "yaxis": {
         "anchor": "x",
         "domain": [
          0.7777777777777778,
          1
         ]
        },
        "yaxis2": {
         "anchor": "x2",
         "domain": [
          0.3888888888888889,
          0.6111111111111112
         ],
         "title": {
          "text": "true positive rate"
         }
        },
        "yaxis3": {
         "anchor": "x3",
         "domain": [
          0,
          0.22222222222222224
         ],
         "range": [
          0,
          1.05
         ],
         "title": {
          "text": "precision"
         }
        }
       }
      },
      "text/html": [
       "<div>\n",
       "        \n",
       "        \n",
       "            <div id=\"3ec38f69-7a62-4b4a-b7cb-22f8ef9c8901\" class=\"plotly-graph-div\" style=\"height:900px; width:450px;\"></div>\n",
       "            <script type=\"text/javascript\">\n",
       "                require([\"plotly\"], function(Plotly) {\n",
       "                    window.PLOTLYENV=window.PLOTLYENV || {};\n",
       "                    \n",
       "                if (document.getElementById(\"3ec38f69-7a62-4b4a-b7cb-22f8ef9c8901\")) {\n",
       "                    Plotly.newPlot(\n",
       "                        '3ec38f69-7a62-4b4a-b7cb-22f8ef9c8901',\n",
       "                        [{\"marker\": {\"color\": [\"gold\", \"lightgreen\", \"lightcoral\", \"lightskyblue\"], \"line\": {\"color\": \"#000000\", \"width\": 1.5}}, \"opacity\": 0.8, \"orientation\": \"h\", \"text\": [0.747, 0.739, 0.7541, 0.7465], \"textposition\": \"auto\", \"type\": \"bar\", \"x\": [0.7469635627530364, 0.7389558232931727, 0.7540983606557377, 0.7464503042596349], \"xaxis\": \"x\", \"y\": [\"Accuracy\", \"Precision\", \"Recall\", \"F1_score\"], \"yaxis\": \"y\"}, {\"fill\": \"tozeroy\", \"line\": {\"color\": \"rgb(22, 96, 167)\", \"width\": 2}, \"name\": \"Roc : \", \"type\": \"scatter\", \"x\": [0.0, 0.012, 0.02, 0.028, 0.052, 0.064, 0.088, 0.1, 0.112, 0.152, 0.176, 0.26, 0.272, 0.3, 0.308, 0.332, 0.38, 0.408, 0.412, 0.436, 0.536, 0.576, 0.908, 1.0], \"xaxis\": \"x2\", \"y\": [0.0, 0.13934426229508196, 0.16393442622950818, 0.1762295081967213, 0.3319672131147541, 0.38934426229508196, 0.4713114754098361, 0.5081967213114754, 0.5819672131147541, 0.6311475409836066, 0.7090163934426229, 0.7540983606557377, 0.7827868852459017, 0.7868852459016393, 0.819672131147541, 0.8524590163934426, 0.8852459016393442, 0.8975409836065574, 0.8975409836065574, 0.9221311475409836, 0.9385245901639344, 0.9631147540983607, 1.0, 1.0], \"yaxis\": \"y2\"}, {\"line\": {\"color\": \"black\", \"dash\": \"dot\", \"width\": 1.5}, \"type\": \"scatter\", \"x\": [0, 1], \"xaxis\": \"x2\", \"y\": [0, 1], \"yaxis\": \"y2\"}, {\"fill\": \"tozeroy\", \"line\": {\"color\": \"lightcoral\", \"width\": 2}, \"name\": \"Precision[0.51804671 0.62005277 0.63085399 0.67365269 0.67682927 0.68012422\\n 0.68224299 0.69453376 0.71477663 0.72202166 0.71910112 0.73745174\\n 0.73895582 0.79723502 0.80208333 0.83529412 0.83221477 0.83941606\\n 0.85585586 0.86170213 0.86       0.88888889 0.91891892 1.        ]\", \"type\": \"scatter\", \"x\": [1.0, 0.9631147540983607, 0.9385245901639344, 0.9221311475409836, 0.9098360655737705, 0.8975409836065574, 0.8975409836065574, 0.8852459016393442, 0.8524590163934426, 0.819672131147541, 0.7868852459016393, 0.7827868852459017, 0.7540983606557377, 0.7090163934426229, 0.6311475409836066, 0.5819672131147541, 0.5081967213114754, 0.4713114754098361, 0.38934426229508196, 0.3319672131147541, 0.1762295081967213, 0.16393442622950818, 0.13934426229508196, 0.0], \"xaxis\": \"x3\", \"y\": [0.5180467091295117, 0.6200527704485488, 0.6308539944903582, 0.6736526946107785, 0.676829268292683, 0.6801242236024845, 0.6822429906542056, 0.6945337620578779, 0.7147766323024055, 0.7220216606498195, 0.7191011235955056, 0.7374517374517374, 0.7389558232931727, 0.7972350230414746, 0.8020833333333334, 0.8352941176470589, 0.8322147651006712, 0.8394160583941606, 0.8558558558558559, 0.8617021276595744, 0.86, 0.8888888888888888, 0.918918918918919, 1.0], \"yaxis\": \"y3\"}],\n",
       "                        {\"annotations\": [{\"font\": {\"size\": 16}, \"showarrow\": false, \"text\": \"Metrics\", \"x\": 0.5, \"xanchor\": \"center\", \"xref\": \"paper\", \"y\": 1.0, \"yanchor\": \"bottom\", \"yref\": \"paper\"}, {\"font\": {\"size\": 16}, \"showarrow\": false, \"text\": \"ROC curve (0.837)\", \"x\": 0.5, \"xanchor\": \"center\", \"xref\": \"paper\", \"y\": 0.6111111111111112, \"yanchor\": \"bottom\", \"yref\": \"paper\"}, {\"font\": {\"size\": 16}, \"showarrow\": false, \"text\": \"Precision - Recall curve\", \"x\": 0.5, \"xanchor\": \"center\", \"xref\": \"paper\", \"y\": 0.22222222222222224, \"yanchor\": \"bottom\", \"yref\": \"paper\"}], \"autosize\": false, \"height\": 900, \"margin\": {\"b\": 195}, \"paper_bgcolor\": \"rgba(240,240,240, 0.95)\", \"plot_bgcolor\": \"rgba(240,240,240, 0.95)\", \"showlegend\": false, \"template\": {\"data\": {\"bar\": [{\"error_x\": {\"color\": \"#2a3f5f\"}, \"error_y\": {\"color\": \"#2a3f5f\"}, \"marker\": {\"line\": {\"color\": \"#E5ECF6\", \"width\": 0.5}}, \"type\": \"bar\"}], \"barpolar\": [{\"marker\": {\"line\": {\"color\": \"#E5ECF6\", \"width\": 0.5}}, \"type\": \"barpolar\"}], \"carpet\": [{\"aaxis\": {\"endlinecolor\": \"#2a3f5f\", \"gridcolor\": \"white\", \"linecolor\": \"white\", \"minorgridcolor\": \"white\", \"startlinecolor\": \"#2a3f5f\"}, \"baxis\": {\"endlinecolor\": \"#2a3f5f\", \"gridcolor\": \"white\", \"linecolor\": \"white\", \"minorgridcolor\": \"white\", \"startlinecolor\": \"#2a3f5f\"}, \"type\": \"carpet\"}], \"choropleth\": [{\"colorbar\": {\"outlinewidth\": 0, \"ticks\": \"\"}, \"type\": \"choropleth\"}], \"contour\": [{\"colorbar\": {\"outlinewidth\": 0, \"ticks\": \"\"}, \"colorscale\": [[0.0, \"#0d0887\"], [0.1111111111111111, \"#46039f\"], [0.2222222222222222, \"#7201a8\"], [0.3333333333333333, \"#9c179e\"], [0.4444444444444444, \"#bd3786\"], [0.5555555555555556, \"#d8576b\"], [0.6666666666666666, \"#ed7953\"], [0.7777777777777778, \"#fb9f3a\"], [0.8888888888888888, \"#fdca26\"], [1.0, \"#f0f921\"]], \"type\": \"contour\"}], \"contourcarpet\": [{\"colorbar\": {\"outlinewidth\": 0, \"ticks\": \"\"}, \"type\": \"contourcarpet\"}], \"heatmap\": [{\"colorbar\": {\"outlinewidth\": 0, \"ticks\": \"\"}, \"colorscale\": [[0.0, \"#0d0887\"], [0.1111111111111111, \"#46039f\"], [0.2222222222222222, \"#7201a8\"], [0.3333333333333333, \"#9c179e\"], [0.4444444444444444, \"#bd3786\"], [0.5555555555555556, \"#d8576b\"], [0.6666666666666666, \"#ed7953\"], [0.7777777777777778, \"#fb9f3a\"], [0.8888888888888888, \"#fdca26\"], [1.0, \"#f0f921\"]], \"type\": \"heatmap\"}], \"heatmapgl\": [{\"colorbar\": {\"outlinewidth\": 0, \"ticks\": \"\"}, \"colorscale\": [[0.0, \"#0d0887\"], [0.1111111111111111, \"#46039f\"], [0.2222222222222222, \"#7201a8\"], [0.3333333333333333, \"#9c179e\"], [0.4444444444444444, \"#bd3786\"], [0.5555555555555556, \"#d8576b\"], [0.6666666666666666, \"#ed7953\"], [0.7777777777777778, \"#fb9f3a\"], [0.8888888888888888, \"#fdca26\"], [1.0, \"#f0f921\"]], \"type\": \"heatmapgl\"}], \"histogram\": [{\"marker\": {\"colorbar\": {\"outlinewidth\": 0, \"ticks\": \"\"}}, \"type\": \"histogram\"}], \"histogram2d\": [{\"colorbar\": {\"outlinewidth\": 0, \"ticks\": \"\"}, \"colorscale\": [[0.0, \"#0d0887\"], [0.1111111111111111, \"#46039f\"], [0.2222222222222222, \"#7201a8\"], [0.3333333333333333, \"#9c179e\"], [0.4444444444444444, \"#bd3786\"], [0.5555555555555556, \"#d8576b\"], [0.6666666666666666, \"#ed7953\"], [0.7777777777777778, \"#fb9f3a\"], [0.8888888888888888, \"#fdca26\"], [1.0, \"#f0f921\"]], \"type\": \"histogram2d\"}], \"histogram2dcontour\": [{\"colorbar\": {\"outlinewidth\": 0, \"ticks\": \"\"}, \"colorscale\": [[0.0, \"#0d0887\"], [0.1111111111111111, \"#46039f\"], [0.2222222222222222, \"#7201a8\"], [0.3333333333333333, \"#9c179e\"], [0.4444444444444444, \"#bd3786\"], [0.5555555555555556, \"#d8576b\"], [0.6666666666666666, \"#ed7953\"], [0.7777777777777778, \"#fb9f3a\"], [0.8888888888888888, \"#fdca26\"], [1.0, \"#f0f921\"]], \"type\": \"histogram2dcontour\"}], \"mesh3d\": [{\"colorbar\": {\"outlinewidth\": 0, \"ticks\": \"\"}, \"type\": \"mesh3d\"}], \"parcoords\": [{\"line\": {\"colorbar\": {\"outlinewidth\": 0, \"ticks\": \"\"}}, \"type\": \"parcoords\"}], \"pie\": [{\"automargin\": true, \"type\": \"pie\"}], \"scatter\": [{\"marker\": {\"colorbar\": {\"outlinewidth\": 0, \"ticks\": \"\"}}, \"type\": \"scatter\"}], \"scatter3d\": [{\"line\": {\"colorbar\": {\"outlinewidth\": 0, \"ticks\": \"\"}}, \"marker\": {\"colorbar\": {\"outlinewidth\": 0, \"ticks\": \"\"}}, \"type\": \"scatter3d\"}], \"scattercarpet\": [{\"marker\": {\"colorbar\": {\"outlinewidth\": 0, \"ticks\": \"\"}}, \"type\": \"scattercarpet\"}], \"scattergeo\": [{\"marker\": {\"colorbar\": {\"outlinewidth\": 0, \"ticks\": \"\"}}, \"type\": \"scattergeo\"}], \"scattergl\": [{\"marker\": {\"colorbar\": {\"outlinewidth\": 0, \"ticks\": \"\"}}, \"type\": \"scattergl\"}], \"scattermapbox\": [{\"marker\": {\"colorbar\": {\"outlinewidth\": 0, \"ticks\": \"\"}}, \"type\": \"scattermapbox\"}], \"scatterpolar\": [{\"marker\": {\"colorbar\": {\"outlinewidth\": 0, \"ticks\": \"\"}}, \"type\": \"scatterpolar\"}], \"scatterpolargl\": [{\"marker\": {\"colorbar\": {\"outlinewidth\": 0, \"ticks\": \"\"}}, \"type\": \"scatterpolargl\"}], \"scatterternary\": [{\"marker\": {\"colorbar\": {\"outlinewidth\": 0, \"ticks\": \"\"}}, \"type\": \"scatterternary\"}], \"surface\": [{\"colorbar\": {\"outlinewidth\": 0, \"ticks\": \"\"}, \"colorscale\": [[0.0, \"#0d0887\"], [0.1111111111111111, \"#46039f\"], [0.2222222222222222, \"#7201a8\"], [0.3333333333333333, \"#9c179e\"], [0.4444444444444444, \"#bd3786\"], [0.5555555555555556, \"#d8576b\"], [0.6666666666666666, \"#ed7953\"], [0.7777777777777778, \"#fb9f3a\"], [0.8888888888888888, \"#fdca26\"], [1.0, \"#f0f921\"]], \"type\": \"surface\"}], \"table\": [{\"cells\": {\"fill\": {\"color\": \"#EBF0F8\"}, \"line\": {\"color\": \"white\"}}, \"header\": {\"fill\": {\"color\": \"#C8D4E3\"}, \"line\": {\"color\": \"white\"}}, \"type\": \"table\"}]}, \"layout\": {\"annotationdefaults\": {\"arrowcolor\": \"#2a3f5f\", \"arrowhead\": 0, \"arrowwidth\": 1}, \"coloraxis\": {\"colorbar\": {\"outlinewidth\": 0, \"ticks\": \"\"}}, \"colorscale\": {\"diverging\": [[0, \"#8e0152\"], [0.1, \"#c51b7d\"], [0.2, \"#de77ae\"], [0.3, \"#f1b6da\"], [0.4, \"#fde0ef\"], [0.5, \"#f7f7f7\"], [0.6, \"#e6f5d0\"], [0.7, \"#b8e186\"], [0.8, \"#7fbc41\"], [0.9, \"#4d9221\"], [1, \"#276419\"]], \"sequential\": [[0.0, \"#0d0887\"], [0.1111111111111111, \"#46039f\"], [0.2222222222222222, \"#7201a8\"], [0.3333333333333333, \"#9c179e\"], [0.4444444444444444, \"#bd3786\"], [0.5555555555555556, \"#d8576b\"], [0.6666666666666666, \"#ed7953\"], [0.7777777777777778, \"#fb9f3a\"], [0.8888888888888888, \"#fdca26\"], [1.0, \"#f0f921\"]], \"sequentialminus\": [[0.0, \"#0d0887\"], [0.1111111111111111, \"#46039f\"], [0.2222222222222222, \"#7201a8\"], [0.3333333333333333, \"#9c179e\"], [0.4444444444444444, \"#bd3786\"], [0.5555555555555556, \"#d8576b\"], [0.6666666666666666, \"#ed7953\"], [0.7777777777777778, \"#fb9f3a\"], [0.8888888888888888, \"#fdca26\"], [1.0, \"#f0f921\"]]}, \"colorway\": [\"#636efa\", \"#EF553B\", \"#00cc96\", \"#ab63fa\", \"#FFA15A\", \"#19d3f3\", \"#FF6692\", \"#B6E880\", \"#FF97FF\", \"#FECB52\"], \"font\": {\"color\": \"#2a3f5f\"}, \"geo\": {\"bgcolor\": \"white\", \"lakecolor\": \"white\", \"landcolor\": \"#E5ECF6\", \"showlakes\": true, \"showland\": true, \"subunitcolor\": \"white\"}, \"hoverlabel\": {\"align\": \"left\"}, \"hovermode\": \"closest\", \"mapbox\": {\"style\": \"light\"}, \"paper_bgcolor\": \"white\", \"plot_bgcolor\": \"#E5ECF6\", \"polar\": {\"angularaxis\": {\"gridcolor\": \"white\", \"linecolor\": \"white\", \"ticks\": \"\"}, \"bgcolor\": \"#E5ECF6\", \"radialaxis\": {\"gridcolor\": \"white\", \"linecolor\": \"white\", \"ticks\": \"\"}}, \"scene\": {\"xaxis\": {\"backgroundcolor\": \"#E5ECF6\", \"gridcolor\": \"white\", \"gridwidth\": 2, \"linecolor\": \"white\", \"showbackground\": true, \"ticks\": \"\", \"zerolinecolor\": \"white\"}, \"yaxis\": {\"backgroundcolor\": \"#E5ECF6\", \"gridcolor\": \"white\", \"gridwidth\": 2, \"linecolor\": \"white\", \"showbackground\": true, \"ticks\": \"\", \"zerolinecolor\": \"white\"}, \"zaxis\": {\"backgroundcolor\": \"#E5ECF6\", \"gridcolor\": \"white\", \"gridwidth\": 2, \"linecolor\": \"white\", \"showbackground\": true, \"ticks\": \"\", \"zerolinecolor\": \"white\"}}, \"shapedefaults\": {\"line\": {\"color\": \"#2a3f5f\"}}, \"ternary\": {\"aaxis\": {\"gridcolor\": \"white\", \"linecolor\": \"white\", \"ticks\": \"\"}, \"baxis\": {\"gridcolor\": \"white\", \"linecolor\": \"white\", \"ticks\": \"\"}, \"bgcolor\": \"#E5ECF6\", \"caxis\": {\"gridcolor\": \"white\", \"linecolor\": \"white\", \"ticks\": \"\"}}, \"title\": {\"x\": 0.05}, \"xaxis\": {\"automargin\": true, \"gridcolor\": \"white\", \"linecolor\": \"white\", \"ticks\": \"\", \"title\": {\"standoff\": 15}, \"zerolinecolor\": \"white\", \"zerolinewidth\": 2}, \"yaxis\": {\"automargin\": true, \"gridcolor\": \"white\", \"linecolor\": \"white\", \"ticks\": \"\", \"title\": {\"standoff\": 15}, \"zerolinecolor\": \"white\", \"zerolinewidth\": 2}}}, \"title\": {\"font\": {\"size\": 14}, \"text\": \"<b>Model performance</b><br>tree_clf\"}, \"width\": 450, \"xaxis\": {\"anchor\": \"y\", \"domain\": [0.0, 1.0]}, \"xaxis2\": {\"anchor\": \"y2\", \"domain\": [0.0, 1.0], \"title\": {\"text\": \"false positive rate\"}}, \"xaxis3\": {\"anchor\": \"y3\", \"domain\": [0.0, 1.0], \"range\": [0, 1.05], \"title\": {\"text\": \"recall\"}}, \"yaxis\": {\"anchor\": \"x\", \"domain\": [0.7777777777777778, 1.0]}, \"yaxis2\": {\"anchor\": \"x2\", \"domain\": [0.3888888888888889, 0.6111111111111112], \"title\": {\"text\": \"true positive rate\"}}, \"yaxis3\": {\"anchor\": \"x3\", \"domain\": [0.0, 0.22222222222222224], \"range\": [0, 1.05], \"title\": {\"text\": \"precision\"}}},\n",
       "                        {\"responsive\": true}\n",
       "                    ).then(function(){\n",
       "                            \n",
       "var gd = document.getElementById('3ec38f69-7a62-4b4a-b7cb-22f8ef9c8901');\n",
       "var x = new MutationObserver(function (mutations, observer) {{\n",
       "        var display = window.getComputedStyle(gd).display;\n",
       "        if (!display || display === 'none') {{\n",
       "            console.log([gd, 'removed!']);\n",
       "            Plotly.purge(gd);\n",
       "            observer.disconnect();\n",
       "        }}\n",
       "}});\n",
       "\n",
       "// Listen for the removal of the full notebook cells\n",
       "var notebookContainer = gd.closest('#notebook-container');\n",
       "if (notebookContainer) {{\n",
       "    x.observe(notebookContainer, {childList: true});\n",
       "}}\n",
       "\n",
       "// Listen for the clearing of the current output cell\n",
       "var outputEl = gd.closest('.output');\n",
       "if (outputEl) {{\n",
       "    x.observe(outputEl, {childList: true});\n",
       "}}\n",
       "\n",
       "                        })\n",
       "                };\n",
       "                });\n",
       "            </script>\n",
       "        </div>"
      ]
     },
     "metadata": {},
     "output_type": "display_data"
    }
   ],
   "source": [
    "y_pred = tree_clf.predict(test_r)\n",
    "y_score = tree_clf.predict_proba(test_r)[:,1]\n",
    "\n",
    "model_performance_plot('tree_clf')"
   ]
  },
  {
   "cell_type": "code",
   "execution_count": null,
   "metadata": {},
   "outputs": [],
   "source": []
  }
 ],
 "metadata": {
  "kernelspec": {
   "display_name": "final_bana200",
   "language": "python",
   "name": "final_bana200"
  },
  "language_info": {
   "codemirror_mode": {
    "name": "ipython",
    "version": 3
   },
   "file_extension": ".py",
   "mimetype": "text/x-python",
   "name": "python",
   "nbconvert_exporter": "python",
   "pygments_lexer": "ipython3",
   "version": "3.7.4"
  }
 },
 "nbformat": 4,
 "nbformat_minor": 2
}
